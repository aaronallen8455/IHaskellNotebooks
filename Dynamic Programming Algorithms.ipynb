{
 "cells": [
  {
   "cell_type": "markdown",
   "metadata": {},
   "source": [
    "# Dynamic Programming\n",
    "###### (Algorithm Design with Haskell)\n",
    "\n",
    "Optimization problems that can be expressed recursively can often be solved using dynamic programming techniques. If the recursion happens inductively then a thinning algorithm may be preferrable.\n",
    "\n",
    "One such problem is the need to find the least expensive sequence of operations needed to transform one string into another.\n",
    "\n",
    "Here is a recursive definition"
   ]
  },
  {
   "cell_type": "code",
   "execution_count": 12,
   "metadata": {},
   "outputs": [
    {
     "data": {
      "text/plain": [
       "[Insert 'b',Copy 'a',Delete 'b',Copy 'c',Delete 'a']"
      ]
     },
     "metadata": {},
     "output_type": "display_data"
    }
   ],
   "source": [
    ":m Data.List\n",
    ":m Data.Ord\n",
    "\n",
    "data Op\n",
    "  = Copy Char\n",
    "  | Replace Char Char\n",
    "  | Insert Char\n",
    "  | Delete Char\n",
    "  deriving (Show)\n",
    "  \n",
    "ecost :: Op -> Int\n",
    "ecost Copy{} = 0\n",
    "ecost Replace{} = 3\n",
    "ecost Insert{} = 2\n",
    "ecost Delete{} = 2\n",
    "\n",
    "cost :: [Op] -> Int\n",
    "cost = sum . map ecost\n",
    "\n",
    "minWith :: Ord a => (x -> a) -> [x] -> x\n",
    "minWith f = snd . minimumBy (comparing fst) . map (\\x -> (f x, x))\n",
    "\n",
    "mce :: String -> String -> [Op]\n",
    "mce xs = head . foldr nextStep firstStep where\n",
    "  firstStep = tails $ Delete <$> xs\n",
    "  nextStep y row = foldr add [Insert y : head row] es where\n",
    "    es = zip3 row (tail row) xs\n",
    "    add (es1, es2, x) r\n",
    "      | x == y = (Copy x : es2) : r\n",
    "      | otherwise =\n",
    "          minWith cost\n",
    "          [ Insert y : es1\n",
    "          , Delete x : head r\n",
    "          , Replace x y : es2\n",
    "          ] : r\n",
    "          \n",
    "mce \"abca\" \"bac\""
   ]
  },
  {
   "cell_type": "markdown",
   "metadata": {},
   "source": [
    "The key idea is that we build the dependency graph of the recursion row-wise from bottom to top and each row from right to left.\n",
    "\n",
    "Different operations depend on different previous operations, in the current or previous row.\n",
    "\n",
    "This can be improved by caching the cost instead of calculating it from scratch each time.\n",
    "\n",
    "Consider the shuttle-bus problem where a bus picks up some number of passengers who each have a destination along the buses route. The bus is only able to make at most `k` stops so the stops must be optimized to minimize the cost to the passengers which is the distance from the stop that they wanted to get off at."
   ]
  },
  {
   "cell_type": "code",
   "execution_count": 24,
   "metadata": {},
   "outputs": [
    {
     "data": {
      "text/plain": [
       "(7,[2,3,4,8,10])"
      ]
     },
     "metadata": {},
     "output_type": "display_data"
    }
   ],
   "source": [
    "type Stop = Int\n",
    "type Passengers = [(Int, Stop)]\n",
    "\n",
    "pickStop :: [(Int, Stop)] -> (Int, Stop)\n",
    "pickStop ps = minimum $ do\n",
    "  (v, (_, s):u) <- zip (inits ps) (tails ps)\n",
    "  let c = sum $ (\\(n,st) -> n * abs (st - s)) <$> v ++ u\n",
    "  pure (c, s)\n",
    "\n",
    "-- naive recursion. numStops should be 1 less than required.\n",
    "-- This doesn't try stops that are between stops that people are going to. Does this matter?\n",
    "shuttle :: Passengers -> Int -> (Int, [Int])\n",
    "shuttle [] _ = (0, [])\n",
    "shuttle passengers 0 = let (c, cheapest) = pickStop passengers in (c, [cheapest])\n",
    "shuttle passengers numStops = minimumBy (comparing fst) go where\n",
    "  pairs = tail $ zip (inits passengers) (tails passengers)\n",
    "  go = do\n",
    "    (off, on) <- pairs\n",
    "    let (c, cheapest) = pickStop off\n",
    "        (tc, rest) = shuttle on (numStops - 1)\n",
    "    pure $ (c + tc, cheapest : rest)\n",
    "    \n",
    "shuttle [(3,1), (10,2), (5,3), (15,4), (4,5), (10,8), (22,10)] 4"
   ]
  },
  {
   "cell_type": "markdown",
   "metadata": {},
   "source": [
    "Here's the algorithm from the book."
   ]
  },
  {
   "cell_type": "code",
   "execution_count": 33,
   "metadata": {},
   "outputs": [
    {
     "data": {
      "text/plain": [
       "[(0,2),(2,3),(3,4),(4,8),(8,10)]"
      ]
     },
     "metadata": {},
     "output_type": "display_data"
    }
   ],
   "source": [
    "type Leg = (Int, Int)\n",
    "\n",
    "apply :: Int -> (a -> a) -> a -> a\n",
    "apply 0 _ x = x\n",
    "apply n f x = f (apply (n - 1) f x)\n",
    "\n",
    "cost :: Passengers -> [Leg] -> Int\n",
    "cost _ [] = 0\n",
    "cost ps ((x,y):ls) = legCost qs (x, y) + cost rs ls where\n",
    "  (qs, rs) = span ((<= y) . snd) ps\n",
    "  legCost ps (x, y) = sum [c * min (s - x) (y - s) | (c, s) <- ps]\n",
    "\n",
    "schedule :: Int -> Int -> Passengers -> [Leg]\n",
    "schedule n k ps = head (apply k step start) where\n",
    "  start = [[(x,n)] | x <- [0..n-1]] ++ [[]] -- all possible Legs starting at 0 plus the empty list\n",
    "  step t = zipWith entry [0..n-1] (tail $ tails t) ++ [[]]\n",
    "  entry x ts = minWith (cost (cut x ps)) -- only select on list of Legs\n",
    "                 (zipWith (:) [(x,y) | y <- [x+1..n]] ts) -- this is picking all Legs starting at x\n",
    "  cut x = dropWhile ((<= x) . snd)\n",
    "  \n",
    "schedule 10 4 [(3,1), (10,2), (5,3), (15,4), (4,5), (10,8), (22,10)]"
   ]
  },
  {
   "cell_type": "code",
   "execution_count": null,
   "metadata": {},
   "outputs": [],
   "source": []
  }
 ],
 "metadata": {
  "kernelspec": {
   "display_name": "Haskell",
   "language": "haskell",
   "name": "haskell"
  },
  "language_info": {
   "codemirror_mode": "ihaskell",
   "file_extension": ".hs",
   "name": "haskell",
   "pygments_lexer": "Haskell",
   "version": "8.6.3"
  }
 },
 "nbformat": 4,
 "nbformat_minor": 2
}
