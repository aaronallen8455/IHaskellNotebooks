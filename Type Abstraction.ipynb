{
 "cells": [
  {
   "cell_type": "markdown",
   "metadata": {},
   "source": [
    "# Type Abstraction\n",
    "An exploration of various techniques and language extensions pertaining to types\n",
    " - <a href=\"#rankntypes\">RankNTypes</a> (function parameter type abstraction)\n",
    " - <a href=\"#exquant\">Existential Quantification</a> (creating privately scoped fields on a type)\n",
    " - <a href=\"#phantom\">Phantom Types</a> (type parameters that don't appear in constructors but encode some meta-data)\n",
    " - <a href=\"#gadts\">Generalized Algebraic Datatypes (GADTs)</a> (smart constructors that can be pattern matched)\n",
    " - <a href=\"#typecase\">Type Case Pattern</a> (closed type-indexed functions)\n",
    " - <a href=\"#dyn\">Dynamic Types</a> (packaging different types under one roof)\n",
    " - <a href=\"#heter\">Heterogenous Lists</a> (lists containing more than one type)\n",
    " - <a href=\"#multi\">Multiparameter Type-classes and Functional Dependencies</a> (describing relationships between types)\n"
   ]
  },
  {
   "cell_type": "markdown",
   "metadata": {},
   "source": [
    "<a id=\"rankntypes\"></a>\n",
    "## RankNTypes\n",
    "This is a language extension that allows us to write functions whoes parameters embed polymorphism.\n"
   ]
  },
  {
   "cell_type": "code",
   "execution_count": 30,
   "metadata": {},
   "outputs": [
    {
     "data": {
      "text/html": [
       "<style>/* Styles used for the Hoogle display in the pager */\n",
       ".hoogle-doc {\n",
       "display: block;\n",
       "padding-bottom: 1.3em;\n",
       "padding-left: 0.4em;\n",
       "}\n",
       ".hoogle-code {\n",
       "display: block;\n",
       "font-family: monospace;\n",
       "white-space: pre;\n",
       "}\n",
       ".hoogle-text {\n",
       "display: block;\n",
       "}\n",
       ".hoogle-name {\n",
       "color: green;\n",
       "font-weight: bold;\n",
       "}\n",
       ".hoogle-head {\n",
       "font-weight: bold;\n",
       "}\n",
       ".hoogle-sub {\n",
       "display: block;\n",
       "margin-left: 0.4em;\n",
       "}\n",
       ".hoogle-package {\n",
       "font-weight: bold;\n",
       "font-style: italic;\n",
       "}\n",
       ".hoogle-module {\n",
       "font-weight: bold;\n",
       "}\n",
       ".hoogle-class {\n",
       "font-weight: bold;\n",
       "}\n",
       ".get-type {\n",
       "color: green;\n",
       "font-weight: bold;\n",
       "font-family: monospace;\n",
       "display: block;\n",
       "white-space: pre-wrap;\n",
       "}\n",
       ".show-type {\n",
       "color: green;\n",
       "font-weight: bold;\n",
       "font-family: monospace;\n",
       "margin-left: 1em;\n",
       "}\n",
       ".mono {\n",
       "font-family: monospace;\n",
       "display: block;\n",
       "}\n",
       ".err-msg {\n",
       "color: red;\n",
       "font-style: italic;\n",
       "font-family: monospace;\n",
       "white-space: pre;\n",
       "display: block;\n",
       "}\n",
       "#unshowable {\n",
       "color: red;\n",
       "font-weight: bold;\n",
       "}\n",
       ".err-msg.in.collapse {\n",
       "padding-top: 0.7em;\n",
       "}\n",
       ".highlight-code {\n",
       "white-space: pre;\n",
       "font-family: monospace;\n",
       "}\n",
       ".suggestion-warning { \n",
       "font-weight: bold;\n",
       "color: rgb(200, 130, 0);\n",
       "}\n",
       ".suggestion-error { \n",
       "font-weight: bold;\n",
       "color: red;\n",
       "}\n",
       ".suggestion-name {\n",
       "font-weight: bold;\n",
       "}\n",
       "</style><span class='get-type'>tupleF :: forall t b. (t -> b) -> (t, t) -> (b, b)</span>"
      ],
      "text/plain": [
       "tupleF :: forall t b. (t -> b) -> (t, t) -> (b, b)"
      ]
     },
     "metadata": {},
     "output_type": "display_data"
    }
   ],
   "source": [
    "tupleF fn (a, b) = (fn a, fn b)\n",
    "\n",
    ":t tupleF"
   ]
  },
  {
   "cell_type": "markdown",
   "metadata": {},
   "source": [
    "The compiler has decided that the members of this function's tuple argument are of the same type but this not necessarily what we want:"
   ]
  },
  {
   "cell_type": "code",
   "execution_count": 31,
   "metadata": {},
   "outputs": [
    {
     "data": {
      "text/html": [
       "<style>/* Styles used for the Hoogle display in the pager */\n",
       ".hoogle-doc {\n",
       "display: block;\n",
       "padding-bottom: 1.3em;\n",
       "padding-left: 0.4em;\n",
       "}\n",
       ".hoogle-code {\n",
       "display: block;\n",
       "font-family: monospace;\n",
       "white-space: pre;\n",
       "}\n",
       ".hoogle-text {\n",
       "display: block;\n",
       "}\n",
       ".hoogle-name {\n",
       "color: green;\n",
       "font-weight: bold;\n",
       "}\n",
       ".hoogle-head {\n",
       "font-weight: bold;\n",
       "}\n",
       ".hoogle-sub {\n",
       "display: block;\n",
       "margin-left: 0.4em;\n",
       "}\n",
       ".hoogle-package {\n",
       "font-weight: bold;\n",
       "font-style: italic;\n",
       "}\n",
       ".hoogle-module {\n",
       "font-weight: bold;\n",
       "}\n",
       ".hoogle-class {\n",
       "font-weight: bold;\n",
       "}\n",
       ".get-type {\n",
       "color: green;\n",
       "font-weight: bold;\n",
       "font-family: monospace;\n",
       "display: block;\n",
       "white-space: pre-wrap;\n",
       "}\n",
       ".show-type {\n",
       "color: green;\n",
       "font-weight: bold;\n",
       "font-family: monospace;\n",
       "margin-left: 1em;\n",
       "}\n",
       ".mono {\n",
       "font-family: monospace;\n",
       "display: block;\n",
       "}\n",
       ".err-msg {\n",
       "color: red;\n",
       "font-style: italic;\n",
       "font-family: monospace;\n",
       "white-space: pre;\n",
       "display: block;\n",
       "}\n",
       "#unshowable {\n",
       "color: red;\n",
       "font-weight: bold;\n",
       "}\n",
       ".err-msg.in.collapse {\n",
       "padding-top: 0.7em;\n",
       "}\n",
       ".highlight-code {\n",
       "white-space: pre;\n",
       "font-family: monospace;\n",
       "}\n",
       ".suggestion-warning { \n",
       "font-weight: bold;\n",
       "color: rgb(200, 130, 0);\n",
       "}\n",
       ".suggestion-error { \n",
       "font-weight: bold;\n",
       "color: red;\n",
       "}\n",
       ".suggestion-name {\n",
       "font-weight: bold;\n",
       "}\n",
       "</style><span class='err-msg'>&lt;interactive&gt;:1:14: error:<br/>    • No instance for (Num Bool) arising from the literal ‘12’<br/>    • In the expression: 12<br/>      In the second argument of ‘tupleF’, namely ‘(12, True)’<br/>      In the expression: tupleF show (12, True)</span>"
      ],
      "text/plain": [
       "<interactive>:1:14: error:\n",
       "    • No instance for (Num Bool) arising from the literal ‘12’\n",
       "    • In the expression: 12\n",
       "      In the second argument of ‘tupleF’, namely ‘(12, True)’\n",
       "      In the expression: tupleF show (12, True)"
      ]
     },
     "metadata": {},
     "output_type": "display_data"
    }
   ],
   "source": [
    "tupleF show (12, True)"
   ]
  },
  {
   "cell_type": "markdown",
   "metadata": {},
   "source": [
    "We are trying to pass a polymorphic function to `tupleF` but this polymorphism is not being extended to the type of the tuple argument.\n",
    "\n",
    "In this case we want Rank2Types"
   ]
  },
  {
   "cell_type": "code",
   "execution_count": 32,
   "metadata": {},
   "outputs": [
    {
     "data": {
      "text/plain": [
       "(\"12\",\"True\")"
      ]
     },
     "metadata": {},
     "output_type": "display_data"
    }
   ],
   "source": [
    ":ext Rank2Types\n",
    "\n",
    "tupleF' :: (Show a1, Show a2) => (forall a. Show a => a -> b) -> (a1, a2) -> (b, b)\n",
    "tupleF' fn (a, b) = (fn a, fn b)\n",
    "\n",
    "tupleF' show (12, True)"
   ]
  },
  {
   "cell_type": "markdown",
   "metadata": {},
   "source": [
    "ChurchLists are a way to represent a list such that we are only encoding the information necessary to generate that list via a `foldr`. This require the `Rank2Types` extension so that the implementation isn't limited to a `[]`."
   ]
  },
  {
   "cell_type": "code",
   "execution_count": 33,
   "metadata": {},
   "outputs": [
    {
     "data": {
      "text/plain": [
       "[1,2,3,4,5,6,7,8]"
      ]
     },
     "metadata": {},
     "output_type": "display_data"
    }
   ],
   "source": [
    "-- | Laws:\n",
    "--\n",
    "-- > runList xs cons nil == xs\n",
    "-- > runList (fromList xs) f z == foldr f z xs\n",
    "-- > foldr f z (toList xs) == runList xs f z\n",
    "newtype ChurchList a = \n",
    "    ChurchList { runList :: forall r. (a -> r -> r) -> r -> r }\n",
    " \n",
    "-- | Make a 'ChurchList' out of a regular list.\n",
    "fromList :: [a] -> ChurchList a\n",
    "fromList xs = ChurchList $ \\k z -> foldr k z xs\n",
    " \n",
    "-- | Turn a 'ChurchList' into a regular list.\n",
    "toList :: ChurchList a -> [a]\n",
    "toList xs = runList xs (:) []\n",
    " \n",
    "-- | The 'ChurchList' counterpart to '(:)'.  Unlike 'DList', whose\n",
    "-- implementation uses the regular list type, 'ChurchList' abstracts\n",
    "-- over it as well.\n",
    "cons :: a -> ChurchList a -> ChurchList a\n",
    "cons x xs = ChurchList $ \\k z -> k x (runList xs k z)\n",
    " \n",
    "-- | Append two 'ChurchList's.  This runs in O(1) time.  Note that\n",
    "-- there is no need to materialize the lists as @[a]@.\n",
    "append :: ChurchList a -> ChurchList a -> ChurchList a\n",
    "append xs ys = ChurchList $ \\k z -> runList xs k (runList ys k z)\n",
    " \n",
    "-- i.e.,\n",
    " \n",
    "nil = {- fromList [] = ChurchList $ \\k z -> foldr k z []\n",
    "                  = -} ChurchList $ \\k z -> z\n",
    " \n",
    "singleton x = {- cons x nil = ChurchList $ \\k z -> k x (runList nil k z) \n",
    "            = -} ChurchList $ \\k z -> k x z\n",
    " \n",
    "snoc xs x = {- append xs $ singleton x\n",
    "          = ChurchList $ \\k z -> runList xs k (runList (singleton x) k z) \n",
    "          = -} ChurchList $ \\k z -> runList xs k (k x z)\n",
    "          \n",
    "let a = fromList [1,2,3,4]\n",
    "let b = fromList [5,6,7,8]\n",
    "let c = append a b\n",
    "toList c"
   ]
  },
  {
   "cell_type": "markdown",
   "metadata": {},
   "source": [
    "<a id=\"exquant\"></a>\n",
    "## Existential Quantification\n",
    "By default, all parametrically polymorphic functions and types use Universal Quantification. We can demonstrate the difference between Universal and Existential quantification with the following ADT which resembles an OOP object:"
   ]
  },
  {
   "cell_type": "code",
   "execution_count": 34,
   "metadata": {},
   "outputs": [
    {
     "data": {
      "text/plain": [
       "True"
      ]
     },
     "metadata": {},
     "output_type": "display_data"
    },
    {
     "data": {
      "text/plain": [
       "\"5\""
      ]
     },
     "metadata": {},
     "output_type": "display_data"
    },
    {
     "data": {
      "text/plain": [
       "5"
      ]
     },
     "metadata": {},
     "output_type": "display_data"
    }
   ],
   "source": [
    "data ObjU a = \n",
    "       ObjU a        -- object property\n",
    "       (a -> Bool)   -- methods\n",
    "       (a -> String)\n",
    "       \n",
    "objUF1 (ObjU a f _) = f a\n",
    "objUF2 (ObjU a _ f) = f a\n",
    "objUExtract (ObjU a _ _) = a\n",
    "\n",
    "let obj = ObjU 5 (>2) show\n",
    "objUF1 obj\n",
    "objUF2 obj\n",
    "objUExtract obj"
   ]
  },
  {
   "cell_type": "markdown",
   "metadata": {},
   "source": [
    "But what we want is to encapsulate the property so that only the object's own methods can access it i.e. we shouldn't be able to simply extract it with pattern matching. For this we need Existential Quantification."
   ]
  },
  {
   "cell_type": "code",
   "execution_count": 35,
   "metadata": {},
   "outputs": [
    {
     "data": {
      "text/plain": [
       "True"
      ]
     },
     "metadata": {},
     "output_type": "display_data"
    },
    {
     "data": {
      "text/plain": [
       "\"5\""
      ]
     },
     "metadata": {},
     "output_type": "display_data"
    },
    {
     "data": {
      "text/html": [
       "<style>/* Styles used for the Hoogle display in the pager */\n",
       ".hoogle-doc {\n",
       "display: block;\n",
       "padding-bottom: 1.3em;\n",
       "padding-left: 0.4em;\n",
       "}\n",
       ".hoogle-code {\n",
       "display: block;\n",
       "font-family: monospace;\n",
       "white-space: pre;\n",
       "}\n",
       ".hoogle-text {\n",
       "display: block;\n",
       "}\n",
       ".hoogle-name {\n",
       "color: green;\n",
       "font-weight: bold;\n",
       "}\n",
       ".hoogle-head {\n",
       "font-weight: bold;\n",
       "}\n",
       ".hoogle-sub {\n",
       "display: block;\n",
       "margin-left: 0.4em;\n",
       "}\n",
       ".hoogle-package {\n",
       "font-weight: bold;\n",
       "font-style: italic;\n",
       "}\n",
       ".hoogle-module {\n",
       "font-weight: bold;\n",
       "}\n",
       ".hoogle-class {\n",
       "font-weight: bold;\n",
       "}\n",
       ".get-type {\n",
       "color: green;\n",
       "font-weight: bold;\n",
       "font-family: monospace;\n",
       "display: block;\n",
       "white-space: pre-wrap;\n",
       "}\n",
       ".show-type {\n",
       "color: green;\n",
       "font-weight: bold;\n",
       "font-family: monospace;\n",
       "margin-left: 1em;\n",
       "}\n",
       ".mono {\n",
       "font-family: monospace;\n",
       "display: block;\n",
       "}\n",
       ".err-msg {\n",
       "color: red;\n",
       "font-style: italic;\n",
       "font-family: monospace;\n",
       "white-space: pre;\n",
       "display: block;\n",
       "}\n",
       "#unshowable {\n",
       "color: red;\n",
       "font-weight: bold;\n",
       "}\n",
       ".err-msg.in.collapse {\n",
       "padding-top: 0.7em;\n",
       "}\n",
       ".highlight-code {\n",
       "white-space: pre;\n",
       "font-family: monospace;\n",
       "}\n",
       ".suggestion-warning { \n",
       "font-weight: bold;\n",
       "color: rgb(200, 130, 0);\n",
       "}\n",
       ".suggestion-error { \n",
       "font-weight: bold;\n",
       "color: red;\n",
       "}\n",
       ".suggestion-name {\n",
       "font-weight: bold;\n",
       "}\n",
       "</style><span class='err-msg'>&lt;interactive&gt;:1:28: error:<br/>    • Couldn't match expected type ‘p’ with actual type ‘a’<br/>        because type variable ‘a’ would escape its scope<br/>      This (rigid, skolem) type variable is bound by a pattern with constructor: ObjE :: forall a. a -&gt; (a -&gt; Bool) -&gt; (a -&gt; String) -&gt; ObjE, in an equation for ‘objEExtract’ at &lt;interactive&gt;:1:14-23<br/>    • In the expression: a<br/>      In an equation for ‘objEExtract’: objEExtract (ObjE a _ _) = a<br/>    • Relevant bindings include<br/>        a :: a (bound at &lt;interactive&gt;:1:19)<br/>        objEExtract :: ObjE -&gt; p (bound at &lt;interactive&gt;:1:1)</span>"
      ],
      "text/plain": [
       "<interactive>:1:28: error:\n",
       "    • Couldn't match expected type ‘p’ with actual type ‘a’\n",
       "        because type variable ‘a’ would escape its scope\n",
       "      This (rigid, skolem) type variable is bound by a pattern with constructor: ObjE :: forall a. a -> (a -> Bool) -> (a -> String) -> ObjE, in an equation for ‘objEExtract’ at <interactive>:1:14-23\n",
       "    • In the expression: a\n",
       "      In an equation for ‘objEExtract’: objEExtract (ObjE a _ _) = a\n",
       "    • Relevant bindings include\n",
       "        a :: a (bound at <interactive>:1:19)\n",
       "        objEExtract :: ObjE -> p (bound at <interactive>:1:1)"
      ]
     },
     "metadata": {},
     "output_type": "display_data"
    }
   ],
   "source": [
    ":ext ExistentialQuantification\n",
    "\n",
    "data ObjE = forall a. ObjE a (a -> Bool) (a -> String)\n",
    "\n",
    "objEF1 (ObjE a f _) = f a\n",
    "objEF2 (ObjE a _ f) = f a\n",
    "\n",
    "let obj = ObjE 5 (>2) show\n",
    "objEF1 obj\n",
    "objEF2 obj\n",
    "\n",
    "-- this is illegal, cannot infer type\n",
    "objEExtract (ObjE a _ _) = a"
   ]
  },
  {
   "cell_type": "markdown",
   "metadata": {},
   "source": [
    "This lets us implement abstract datatypes by providing functions over a type while hiding the implementation of that type.\n",
    "\n",
    "<table style=\"border-collapse: collapse;border-top: 0.5pt solid ; border-bottom: 0.5pt solid ; \" width=\"\"><colgroup><col align=\"left\"><col align=\"left\"></colgroup><thead><tr><th style=\"border-bottom: 0.5pt solid ; \" valign=\"bottom\" align=\"left\">\n",
    "<p>Universal</p>\n",
    "</th><th style=\"border-bottom: 0.5pt solid ; \" valign=\"bottom\" align=\"left\">\n",
    "<p>Existential</p>\n",
    "</th></tr></thead><tbody><tr><td style=\"\" valign=\"top\" align=\"left\">\n",
    "<p>Type parametrization</p>\n",
    "</td><td style=\"\" valign=\"top\" align=\"left\">\n",
    "<p>Type abstraction</p>\n",
    "</td></tr><tr><td style=\"\" valign=\"top\" align=\"left\">\n",
    "<p>Parametric Polymorphism</p>\n",
    "</td><td style=\"\" valign=\"top\" align=\"left\">\n",
    "<p>Encapsulation</p>\n",
    "</td></tr><tr><td style=\"\" valign=\"top\" align=\"left\">\n",
    "<p>user of data specifies type</p>\n",
    "</td><td style=\"\" valign=\"top\" align=\"left\">\n",
    "<p>implementer of data specifies type</p>\n",
    "</td></tr><tr><td style=\"\" valign=\"top\" align=\"left\">\n",
    "<p>forall = \"for all\"</p>\n",
    "</td><td style=\"\" valign=\"top\" align=\"left\">\n",
    "<p>forall = \"for some\"</p>\n",
    "</td></tr></tbody></table>"
   ]
  },
  {
   "cell_type": "markdown",
   "metadata": {},
   "source": [
    "<a id=\"phantom\"></a>\n",
    "## Phantom Types\n",
    "We have a simple expression language and evaluator:"
   ]
  },
  {
   "cell_type": "code",
   "execution_count": 36,
   "metadata": {},
   "outputs": [],
   "source": [
    "data Expr1 = I1 Int | Add1 Expr1 Expr1\n",
    "          \n",
    "eval1 :: Expr1 -> Int\n",
    "eval1 (I1 v) = v\n",
    "eval1 (Add1 a b) = (eval1 a) + (eval1 b)"
   ]
  },
  {
   "cell_type": "markdown",
   "metadata": {},
   "source": [
    "If we add a second value type, we can no longer define a valid evaluator."
   ]
  },
  {
   "cell_type": "code",
   "execution_count": 37,
   "metadata": {},
   "outputs": [
    {
     "data": {
      "text/html": [
       "<style>/* Styles used for the Hoogle display in the pager */\n",
       ".hoogle-doc {\n",
       "display: block;\n",
       "padding-bottom: 1.3em;\n",
       "padding-left: 0.4em;\n",
       "}\n",
       ".hoogle-code {\n",
       "display: block;\n",
       "font-family: monospace;\n",
       "white-space: pre;\n",
       "}\n",
       ".hoogle-text {\n",
       "display: block;\n",
       "}\n",
       ".hoogle-name {\n",
       "color: green;\n",
       "font-weight: bold;\n",
       "}\n",
       ".hoogle-head {\n",
       "font-weight: bold;\n",
       "}\n",
       ".hoogle-sub {\n",
       "display: block;\n",
       "margin-left: 0.4em;\n",
       "}\n",
       ".hoogle-package {\n",
       "font-weight: bold;\n",
       "font-style: italic;\n",
       "}\n",
       ".hoogle-module {\n",
       "font-weight: bold;\n",
       "}\n",
       ".hoogle-class {\n",
       "font-weight: bold;\n",
       "}\n",
       ".get-type {\n",
       "color: green;\n",
       "font-weight: bold;\n",
       "font-family: monospace;\n",
       "display: block;\n",
       "white-space: pre-wrap;\n",
       "}\n",
       ".show-type {\n",
       "color: green;\n",
       "font-weight: bold;\n",
       "font-family: monospace;\n",
       "margin-left: 1em;\n",
       "}\n",
       ".mono {\n",
       "font-family: monospace;\n",
       "display: block;\n",
       "}\n",
       ".err-msg {\n",
       "color: red;\n",
       "font-style: italic;\n",
       "font-family: monospace;\n",
       "white-space: pre;\n",
       "display: block;\n",
       "}\n",
       "#unshowable {\n",
       "color: red;\n",
       "font-weight: bold;\n",
       "}\n",
       ".err-msg.in.collapse {\n",
       "padding-top: 0.7em;\n",
       "}\n",
       ".highlight-code {\n",
       "white-space: pre;\n",
       "font-family: monospace;\n",
       "}\n",
       ".suggestion-warning { \n",
       "font-weight: bold;\n",
       "color: rgb(200, 130, 0);\n",
       "}\n",
       ".suggestion-error { \n",
       "font-weight: bold;\n",
       "color: red;\n",
       "}\n",
       ".suggestion-name {\n",
       "font-weight: bold;\n",
       "}\n",
       "</style><span class='err-msg'>&lt;interactive&gt;:3:16: error:<br/>    • Couldn't match expected type ‘t’ with actual type ‘Bool’<br/>      ‘t’ is a rigid type variable bound by<br/>        the type signature for:<br/>          eval2 :: forall t. Expr2 -&gt; t<br/>        at &lt;interactive&gt;:2:1-19<br/>    • In the expression: v<br/>      In an equation for ‘eval2’: eval2 (B2 v) = v<br/>    • Relevant bindings include eval2 :: Expr2 -&gt; t (bound at &lt;interactive&gt;:3:1)</span>"
      ],
      "text/plain": [
       "<interactive>:3:16: error:\n",
       "    • Couldn't match expected type ‘t’ with actual type ‘Bool’\n",
       "      ‘t’ is a rigid type variable bound by\n",
       "        the type signature for:\n",
       "          eval2 :: forall t. Expr2 -> t\n",
       "        at <interactive>:2:1-19\n",
       "    • In the expression: v\n",
       "      In an equation for ‘eval2’: eval2 (B2 v) = v\n",
       "    • Relevant bindings include eval2 :: Expr2 -> t (bound at <interactive>:3:1)"
      ]
     },
     "metadata": {},
     "output_type": "display_data"
    }
   ],
   "source": [
    "data Expr2 = I2 Int | B2 Bool | Add2 Expr2 Expr2\n",
    "          \n",
    "eval2 :: Expr2 -> t\n",
    "eval2 (B2 v) = v\n",
    "eval2 (I2 v) = v\n",
    "eval2 (Add2 a b) = (eval2 a) + (eval2 b)"
   ]
  },
  {
   "cell_type": "markdown",
   "metadata": {},
   "source": [
    "And we can also construct bad types"
   ]
  },
  {
   "cell_type": "code",
   "execution_count": 38,
   "metadata": {},
   "outputs": [
    {
     "data": {
      "text/html": [
       "<style>/* Styles used for the Hoogle display in the pager */\n",
       ".hoogle-doc {\n",
       "display: block;\n",
       "padding-bottom: 1.3em;\n",
       "padding-left: 0.4em;\n",
       "}\n",
       ".hoogle-code {\n",
       "display: block;\n",
       "font-family: monospace;\n",
       "white-space: pre;\n",
       "}\n",
       ".hoogle-text {\n",
       "display: block;\n",
       "}\n",
       ".hoogle-name {\n",
       "color: green;\n",
       "font-weight: bold;\n",
       "}\n",
       ".hoogle-head {\n",
       "font-weight: bold;\n",
       "}\n",
       ".hoogle-sub {\n",
       "display: block;\n",
       "margin-left: 0.4em;\n",
       "}\n",
       ".hoogle-package {\n",
       "font-weight: bold;\n",
       "font-style: italic;\n",
       "}\n",
       ".hoogle-module {\n",
       "font-weight: bold;\n",
       "}\n",
       ".hoogle-class {\n",
       "font-weight: bold;\n",
       "}\n",
       ".get-type {\n",
       "color: green;\n",
       "font-weight: bold;\n",
       "font-family: monospace;\n",
       "display: block;\n",
       "white-space: pre-wrap;\n",
       "}\n",
       ".show-type {\n",
       "color: green;\n",
       "font-weight: bold;\n",
       "font-family: monospace;\n",
       "margin-left: 1em;\n",
       "}\n",
       ".mono {\n",
       "font-family: monospace;\n",
       "display: block;\n",
       "}\n",
       ".err-msg {\n",
       "color: red;\n",
       "font-style: italic;\n",
       "font-family: monospace;\n",
       "white-space: pre;\n",
       "display: block;\n",
       "}\n",
       "#unshowable {\n",
       "color: red;\n",
       "font-weight: bold;\n",
       "}\n",
       ".err-msg.in.collapse {\n",
       "padding-top: 0.7em;\n",
       "}\n",
       ".highlight-code {\n",
       "white-space: pre;\n",
       "font-family: monospace;\n",
       "}\n",
       ".suggestion-warning { \n",
       "font-weight: bold;\n",
       "color: rgb(200, 130, 0);\n",
       "}\n",
       ".suggestion-error { \n",
       "font-weight: bold;\n",
       "color: red;\n",
       "}\n",
       ".suggestion-name {\n",
       "font-weight: bold;\n",
       "}\n",
       "</style><span class='err-msg'>&lt;interactive&gt;:1:11: error:<br/>    • Data constructor not in scope: Add2 :: t0 -&gt; t1 -&gt; t<br/>    • Perhaps you meant one of these: ‘IHaskell88.Add1’ (imported from IHaskell88), ‘Add1’ (line 1), ‘Add3’ (line 1)<br/>&lt;interactive&gt;:1:17: error:<br/>    • Data constructor not in scope: I2 :: Integer -&gt; t0<br/>    • Perhaps you meant one of these: ‘IHaskell88.I1’ (imported from IHaskell88), ‘I1’ (line 1), ‘I3’ (line 1)<br/>&lt;interactive&gt;:1:24: error:<br/>    • Data constructor not in scope: B2 :: Bool -&gt; t1<br/>    • Perhaps you meant one of these: ‘B3’ (line 1), ‘B4’ (line 4)</span>"
      ],
      "text/plain": [
       "<interactive>:1:11: error:\n",
       "    • Data constructor not in scope: Add2 :: t0 -> t1 -> t\n",
       "    • Perhaps you meant one of these: ‘Ghci88.Add1’ (imported from Ghci88), ‘Add1’ (line 1), ‘Add3’ (line 1)\n",
       "<interactive>:1:17: error:\n",
       "    • Data constructor not in scope: I2 :: Integer -> t0\n",
       "    • Perhaps you meant one of these: ‘Ghci88.I1’ (imported from Ghci88), ‘I1’ (line 1), ‘I3’ (line 1)\n",
       "<interactive>:1:24: error:\n",
       "    • Data constructor not in scope: B2 :: Bool -> t1\n",
       "    • Perhaps you meant one of these: ‘B3’ (line 1), ‘B4’ (line 4)"
      ]
     },
     "metadata": {},
     "output_type": "display_data"
    }
   ],
   "source": [
    "let bad = Add2 (I2 3) (B2 False)"
   ]
  },
  {
   "cell_type": "markdown",
   "metadata": {},
   "source": [
    "We can solve the second problem by using a Phantom Type."
   ]
  },
  {
   "cell_type": "code",
   "execution_count": 39,
   "metadata": {},
   "outputs": [],
   "source": [
    "data Expr3 t = I3 Int | B3 Bool | Add3 (Expr3 Int) (Expr3 Int)"
   ]
  },
  {
   "cell_type": "markdown",
   "metadata": {},
   "source": [
    "`t` doesn't appear in any constructors, hence 'phantom'.\n",
    "\n",
    "We can use the phantom type to write the following 'smart constructors':"
   ]
  },
  {
   "cell_type": "code",
   "execution_count": 40,
   "metadata": {},
   "outputs": [
    {
     "data": {
      "text/html": [
       "<style>/* Styles used for the Hoogle display in the pager */\n",
       ".hoogle-doc {\n",
       "display: block;\n",
       "padding-bottom: 1.3em;\n",
       "padding-left: 0.4em;\n",
       "}\n",
       ".hoogle-code {\n",
       "display: block;\n",
       "font-family: monospace;\n",
       "white-space: pre;\n",
       "}\n",
       ".hoogle-text {\n",
       "display: block;\n",
       "}\n",
       ".hoogle-name {\n",
       "color: green;\n",
       "font-weight: bold;\n",
       "}\n",
       ".hoogle-head {\n",
       "font-weight: bold;\n",
       "}\n",
       ".hoogle-sub {\n",
       "display: block;\n",
       "margin-left: 0.4em;\n",
       "}\n",
       ".hoogle-package {\n",
       "font-weight: bold;\n",
       "font-style: italic;\n",
       "}\n",
       ".hoogle-module {\n",
       "font-weight: bold;\n",
       "}\n",
       ".hoogle-class {\n",
       "font-weight: bold;\n",
       "}\n",
       ".get-type {\n",
       "color: green;\n",
       "font-weight: bold;\n",
       "font-family: monospace;\n",
       "display: block;\n",
       "white-space: pre-wrap;\n",
       "}\n",
       ".show-type {\n",
       "color: green;\n",
       "font-weight: bold;\n",
       "font-family: monospace;\n",
       "margin-left: 1em;\n",
       "}\n",
       ".mono {\n",
       "font-family: monospace;\n",
       "display: block;\n",
       "}\n",
       ".err-msg {\n",
       "color: red;\n",
       "font-style: italic;\n",
       "font-family: monospace;\n",
       "white-space: pre;\n",
       "display: block;\n",
       "}\n",
       "#unshowable {\n",
       "color: red;\n",
       "font-weight: bold;\n",
       "}\n",
       ".err-msg.in.collapse {\n",
       "padding-top: 0.7em;\n",
       "}\n",
       ".highlight-code {\n",
       "white-space: pre;\n",
       "font-family: monospace;\n",
       "}\n",
       ".suggestion-warning { \n",
       "font-weight: bold;\n",
       "color: rgb(200, 130, 0);\n",
       "}\n",
       ".suggestion-error { \n",
       "font-weight: bold;\n",
       "color: red;\n",
       "}\n",
       ".suggestion-name {\n",
       "font-weight: bold;\n",
       "}\n",
       "</style><span class='err-msg'>&lt;interactive&gt;:1:17: error:<br/>    • Couldn't match type ‘Bool’ with ‘Int’<br/>      Expected type: Expr3 Int<br/>        Actual type: Expr3 Bool<br/>    • In the first argument of ‘add3’, namely ‘(b3 True)’<br/>      In the expression: add3 (b3 True) (i3 3)<br/>      In an equation for ‘bad’: bad = add3 (b3 True) (i3 3)</span>"
      ],
      "text/plain": [
       "<interactive>:1:17: error:\n",
       "    • Couldn't match type ‘Bool’ with ‘Int’\n",
       "      Expected type: Expr3 Int\n",
       "        Actual type: Expr3 Bool\n",
       "    • In the first argument of ‘add3’, namely ‘(b3 True)’\n",
       "      In the expression: add3 (b3 True) (i3 3)\n",
       "      In an equation for ‘bad’: bad = add3 (b3 True) (i3 3)"
      ]
     },
     "metadata": {},
     "output_type": "display_data"
    }
   ],
   "source": [
    "i3 x = I3 x :: Expr3 Int\n",
    "b3 x = B3 x :: Expr3 Bool\n",
    "add3 a b = Add3 a b :: Expr3 Int\n",
    "\n",
    "-- this does not compile\n",
    "let bad = add3 (b3 True) (i3 3)"
   ]
  },
  {
   "cell_type": "markdown",
   "metadata": {},
   "source": [
    "However, our type `Expr3 t` is ambiguous, so we still cannot write an evaluator"
   ]
  },
  {
   "cell_type": "code",
   "execution_count": 41,
   "metadata": {},
   "outputs": [
    {
     "data": {
      "text/html": [
       "<style>/* Styles used for the Hoogle display in the pager */\n",
       ".hoogle-doc {\n",
       "display: block;\n",
       "padding-bottom: 1.3em;\n",
       "padding-left: 0.4em;\n",
       "}\n",
       ".hoogle-code {\n",
       "display: block;\n",
       "font-family: monospace;\n",
       "white-space: pre;\n",
       "}\n",
       ".hoogle-text {\n",
       "display: block;\n",
       "}\n",
       ".hoogle-name {\n",
       "color: green;\n",
       "font-weight: bold;\n",
       "}\n",
       ".hoogle-head {\n",
       "font-weight: bold;\n",
       "}\n",
       ".hoogle-sub {\n",
       "display: block;\n",
       "margin-left: 0.4em;\n",
       "}\n",
       ".hoogle-package {\n",
       "font-weight: bold;\n",
       "font-style: italic;\n",
       "}\n",
       ".hoogle-module {\n",
       "font-weight: bold;\n",
       "}\n",
       ".hoogle-class {\n",
       "font-weight: bold;\n",
       "}\n",
       ".get-type {\n",
       "color: green;\n",
       "font-weight: bold;\n",
       "font-family: monospace;\n",
       "display: block;\n",
       "white-space: pre-wrap;\n",
       "}\n",
       ".show-type {\n",
       "color: green;\n",
       "font-weight: bold;\n",
       "font-family: monospace;\n",
       "margin-left: 1em;\n",
       "}\n",
       ".mono {\n",
       "font-family: monospace;\n",
       "display: block;\n",
       "}\n",
       ".err-msg {\n",
       "color: red;\n",
       "font-style: italic;\n",
       "font-family: monospace;\n",
       "white-space: pre;\n",
       "display: block;\n",
       "}\n",
       "#unshowable {\n",
       "color: red;\n",
       "font-weight: bold;\n",
       "}\n",
       ".err-msg.in.collapse {\n",
       "padding-top: 0.7em;\n",
       "}\n",
       ".highlight-code {\n",
       "white-space: pre;\n",
       "font-family: monospace;\n",
       "}\n",
       ".suggestion-warning { \n",
       "font-weight: bold;\n",
       "color: rgb(200, 130, 0);\n",
       "}\n",
       ".suggestion-error { \n",
       "font-weight: bold;\n",
       "color: red;\n",
       "}\n",
       ".suggestion-name {\n",
       "font-weight: bold;\n",
       "}\n",
       "</style><span class='err-msg'>&lt;interactive&gt;:2:16: error:<br/>    • Couldn't match expected type ‘t’ with actual type ‘Bool’<br/>      ‘t’ is a rigid type variable bound by<br/>        the type signature for:<br/>          eval3 :: forall t. Expr3 t -&gt; t<br/>        at &lt;interactive&gt;:1:1-21<br/>    • In the expression: v<br/>      In an equation for ‘eval3’: eval3 (B3 v) = v<br/>    • Relevant bindings include eval3 :: Expr3 t -&gt; t (bound at &lt;interactive&gt;:2:1)</span>"
      ],
      "text/plain": [
       "<interactive>:2:16: error:\n",
       "    • Couldn't match expected type ‘t’ with actual type ‘Bool’\n",
       "      ‘t’ is a rigid type variable bound by\n",
       "        the type signature for:\n",
       "          eval3 :: forall t. Expr3 t -> t\n",
       "        at <interactive>:1:1-21\n",
       "    • In the expression: v\n",
       "      In an equation for ‘eval3’: eval3 (B3 v) = v\n",
       "    • Relevant bindings include eval3 :: Expr3 t -> t (bound at <interactive>:2:1)"
      ]
     },
     "metadata": {},
     "output_type": "display_data"
    }
   ],
   "source": [
    "eval3 :: Expr3 t -> t\n",
    "eval3 (B3 v) = v\n",
    "eval3 (I3 v) = v\n",
    "eval3 (Add3 a b) = eval3 a + eval3 b"
   ]
  },
  {
   "cell_type": "markdown",
   "metadata": {},
   "source": [
    "<a id=\"gadts\"></a>\n",
    "## Generalized Algebraic Datatypes (GADTs)\n",
    "GADTs bring together phantom types, smart constructors, and refined pattern matching. We can use them to solve our evaluator dilemma."
   ]
  },
  {
   "cell_type": "code",
   "execution_count": 42,
   "metadata": {},
   "outputs": [
    {
     "data": {
      "text/plain": [
       "9"
      ]
     },
     "metadata": {},
     "output_type": "display_data"
    }
   ],
   "source": [
    ":ext GADTs\n",
    "\n",
    "data Expr4 t where -- phantom type\n",
    "  -- built-in smart constructors\n",
    "  I4 :: Int -> Expr4 Int\n",
    "  B4 :: Bool -> Expr4 Bool\n",
    "  Add4 :: Expr4 Int -> Expr4 Int -> Expr4 Int\n",
    "  \n",
    "eval4 :: Expr4 t -> t\n",
    "eval4 (I4 v) = v -- pattern matching on the constructor is no longer ambiguous\n",
    "eval4 (B4 v) = v\n",
    "eval4 (Add4 a b) = eval4 a + eval4 b\n",
    "\n",
    "eval4 $ Add4 (I4 4) (I4 5)"
   ]
  },
  {
   "cell_type": "markdown",
   "metadata": {},
   "source": [
    "<a id=\"typecase\"></a>\n",
    "## Type Case Pattern\n",
    "Let's see another way to leverage GADTs. We'll define a type that unifies `Int`, `Char`, and `[]`."
   ]
  },
  {
   "cell_type": "code",
   "execution_count": 43,
   "metadata": {},
   "outputs": [],
   "source": [
    "data Rep t where\n",
    "  RInt :: Rep Int\n",
    "  RChar :: Rep Char\n",
    "  RList :: Show a => Rep a -> Rep [a] -- 'a' is existentially quantified (not on the left side)"
   ]
  },
  {
   "cell_type": "markdown",
   "metadata": {},
   "source": [
    "We'll write a function that takes a value along with it's type representation."
   ]
  },
  {
   "cell_type": "code",
   "execution_count": 44,
   "metadata": {},
   "outputs": [
    {
     "data": {
      "text/plain": [
       "\"5 :: INT\""
      ]
     },
     "metadata": {},
     "output_type": "display_data"
    },
    {
     "data": {
      "text/plain": [
       "\"'!' :: CHAR\""
      ]
     },
     "metadata": {},
     "output_type": "display_data"
    },
    {
     "data": {
      "text/plain": [
       "\"1 :: INT, 2 :: INT, 3 :: INT, 4 :: INT, The End\""
      ]
     },
     "metadata": {},
     "output_type": "display_data"
    }
   ],
   "source": [
    "showT :: Show t => Rep t -> t -> String\n",
    "\n",
    "showT RInt x = show x ++ \" :: INT\"\n",
    "showT RChar x = show x ++ \" :: CHAR\"\n",
    "showT (RList _) [] = \"The End\"\n",
    "showT (RList rep) (x:xs) = showT rep x ++ \", \" ++ showT (RList rep) xs\n",
    "\n",
    "showT RInt 5\n",
    "showT RChar '!'\n",
    "showT (RList RInt) [1,2,3,4]"
   ]
  },
  {
   "cell_type": "markdown",
   "metadata": {},
   "source": [
    "`showT` is considered a closed type-indexed function because the type index family (`RepT`) is fixed. Contrast this with the standard `show` which is an open type-indexed function because the `Show` type class can be implemented for any types we want."
   ]
  },
  {
   "cell_type": "markdown",
   "metadata": {},
   "source": [
    "<a id=\"dyn\"></a>\n",
    "## Dynamic Types\n",
    "To make a dynamic type, we will package a type with it's representation. For starters, we'll do the packaging with existential quantification."
   ]
  },
  {
   "cell_type": "code",
   "execution_count": 45,
   "metadata": {},
   "outputs": [],
   "source": [
    "data DynamicEQ = forall t. Show t => DynEQ (Rep t) t"
   ]
  },
  {
   "cell_type": "markdown",
   "metadata": {},
   "source": [
    "Even though `DynEQ` dynamic values have opaque type, they are well typed. For example, we can use them to express heterogeneous lists:"
   ]
  },
  {
   "cell_type": "code",
   "execution_count": 46,
   "metadata": {},
   "outputs": [],
   "source": [
    "dynList = [DynEQ RInt 5, DynEQ RChar 'a']"
   ]
  },
  {
   "cell_type": "markdown",
   "metadata": {},
   "source": [
    "GADTs generalize existentials, so we can express the above as a GADT:"
   ]
  },
  {
   "cell_type": "code",
   "execution_count": 47,
   "metadata": {},
   "outputs": [
    {
     "data": {
      "text/plain": [
       "[\"100 :: INT\",\"'b' :: CHAR\"]"
      ]
     },
     "metadata": {},
     "output_type": "display_data"
    }
   ],
   "source": [
    "data Dynamic where \n",
    "  Dyn :: Show t => Rep t -> t -> Dynamic\n",
    "  \n",
    "instance Show Dynamic where\n",
    "  show (Dyn r t) = showT r t\n",
    "  \n",
    "dynList = [Dyn RInt 100, Dyn RChar 'b']\n",
    "map show dynList"
   ]
  },
  {
   "cell_type": "markdown",
   "metadata": {},
   "source": [
    "We can perform type safe casts on dynamic types:"
   ]
  },
  {
   "cell_type": "code",
   "execution_count": 48,
   "metadata": {},
   "outputs": [
    {
     "data": {
      "text/plain": [
       "[Just 100,Nothing]"
      ]
     },
     "metadata": {},
     "output_type": "display_data"
    },
    {
     "data": {
      "text/plain": [
       "[Nothing,Just 'b']"
      ]
     },
     "metadata": {},
     "output_type": "display_data"
    }
   ],
   "source": [
    "toInt :: Dynamic -> Maybe Int\n",
    "toInt (Dyn RInt v) = Just v\n",
    "toInt _ = Nothing\n",
    "\n",
    "toChar :: Dynamic -> Maybe Char\n",
    "toChar (Dyn RChar v) = Just v\n",
    "toChar _ = Nothing\n",
    "\n",
    "map toInt dynList\n",
    "map toChar dynList"
   ]
  },
  {
   "cell_type": "markdown",
   "metadata": {},
   "source": [
    "<a id=\"heter\"></a>\n",
    "## Heterogenous Lists\n",
    "We can define heterogenous lists (lists of varying types) using both existentials and GADTs.\n",
    "\n",
    "With existentials:"
   ]
  },
  {
   "cell_type": "code",
   "execution_count": 49,
   "metadata": {},
   "outputs": [],
   "source": [
    ":ext ExistentialQuantification\n",
    "\n",
    "data LI_Eq1 = forall a. LI_Eq1 a\n",
    "\n",
    "hListEq1 :: [LI_Eq1]\n",
    "hListEq1 = [LI_Eq1 5, LI_Eq1 \"3\"]"
   ]
  },
  {
   "cell_type": "markdown",
   "metadata": {},
   "source": [
    "Because the type of `a` cannot be infered, we can't do anything with this list. We would need to package a `show` function with the type to be able to print it:"
   ]
  },
  {
   "cell_type": "code",
   "execution_count": 50,
   "metadata": {},
   "outputs": [
    {
     "data": {
      "text/plain": [
       "[\"5\",\"\\\"3\\\"\"]"
      ]
     },
     "metadata": {},
     "output_type": "display_data"
    }
   ],
   "source": [
    "data LI_Eq2 = forall a. LI_Eq2 a (a -> String)\n",
    "\n",
    "hListEq2 = [LI_Eq2 5 show, LI_Eq2 \"3\" show]\n",
    "\n",
    "map (\\(LI_Eq2 v f) -> f v) hListEq2"
   ]
  },
  {
   "cell_type": "markdown",
   "metadata": {},
   "source": [
    "We could've also used a constraint to avoid having to package the show function (Bounded Quantification):"
   ]
  },
  {
   "cell_type": "code",
   "execution_count": 51,
   "metadata": {},
   "outputs": [
    {
     "data": {
      "text/plain": [
       "[\"1\",\"Just 9\"]"
      ]
     },
     "metadata": {},
     "output_type": "display_data"
    }
   ],
   "source": [
    "data LI_Eq3 = forall a. Show a => LI_Eq3 a\n",
    "\n",
    "hListEq3 = [LI_Eq3 1, LI_Eq3 (Just 9)]\n",
    "map (\\(LI_Eq3 a) -> show a) hListEq3"
   ]
  },
  {
   "cell_type": "markdown",
   "metadata": {},
   "source": [
    "We can use the same two strategies to express heterogenous lists using GADTs"
   ]
  },
  {
   "cell_type": "code",
   "execution_count": 52,
   "metadata": {},
   "outputs": [],
   "source": [
    "data LI_Gadt1 where\n",
    "  MkShow1 :: a -> (a -> String) -> LI_Gadt1\n",
    "  \n",
    "data LI_Gadt2 where\n",
    "  MkShow2 :: Show a => a -> LI_Gadt2 -- Bounded Quantification"
   ]
  },
  {
   "cell_type": "markdown",
   "metadata": {},
   "source": [
    "<a id=\"multi\"></a>\n",
    "## Multiparameter Type-Classes"
   ]
  },
  {
   "cell_type": "markdown",
   "metadata": {},
   "source": [
    "Regular type classes specify a set of types: `Monad a`, `Ord a` etc. Multiparameter type classes specify a relationship between types by way of functional dependencies. This can be seen with the `Coerce` class:"
   ]
  },
  {
   "cell_type": "code",
   "execution_count": 53,
   "metadata": {},
   "outputs": [
    {
     "data": {
      "text/plain": [
       "\"12\""
      ]
     },
     "metadata": {},
     "output_type": "display_data"
    },
    {
     "data": {
      "text/plain": [
       "[12]"
      ]
     },
     "metadata": {},
     "output_type": "display_data"
    }
   ],
   "source": [
    ":ext MultiParamTypeClasses\n",
    ":ext FlexibleInstances\n",
    "\n",
    "class Coerce1 a b where\n",
    "  coerce1 :: a -> b\n",
    "  \n",
    "instance Coerce1 Int String where\n",
    "  coerce1 = show\n",
    "  \n",
    "instance Coerce1 Int [Int] where\n",
    "  coerce1 = (:[])\n",
    "  \n",
    "coerce1 (12 :: Int) :: String\n",
    "coerce1 (12 :: Int) :: [Int]"
   ]
  },
  {
   "cell_type": "markdown",
   "metadata": {},
   "source": [
    "Type inference suffers with multiparameter types, that's why we had to use annotations so liberally.\n",
    "\n",
    "With the advent of Functional Dependencies, multiparameter type classes became much more practical"
   ]
  },
  {
   "cell_type": "code",
   "execution_count": 57,
   "metadata": {},
   "outputs": [
    {
     "data": {
      "text/plain": [
       "\"5\""
      ]
     },
     "metadata": {},
     "output_type": "display_data"
    }
   ],
   "source": [
    ":ext FunctionalDependencies\n",
    "\n",
    "class Coerce2 a b | b -> a where\n",
    "  coerce2 :: a -> b\n",
    "  \n",
    "instance Coerce2 Int String where\n",
    "  coerce2 = show\n",
    "  \n",
    "coerce2 5 :: String"
   ]
  },
  {
   "cell_type": "markdown",
   "metadata": {},
   "source": [
    "The `b -> a` tells the compiler that there can only be one type of `a` corresponding to a type `b`. If we try to make another instance using the same `b`, we get an error because `String` is already associated with `Int`:"
   ]
  },
  {
   "cell_type": "code",
   "execution_count": 58,
   "metadata": {},
   "outputs": [
    {
     "data": {
      "text/html": [
       "<style>/* Styles used for the Hoogle display in the pager */\n",
       ".hoogle-doc {\n",
       "display: block;\n",
       "padding-bottom: 1.3em;\n",
       "padding-left: 0.4em;\n",
       "}\n",
       ".hoogle-code {\n",
       "display: block;\n",
       "font-family: monospace;\n",
       "white-space: pre;\n",
       "}\n",
       ".hoogle-text {\n",
       "display: block;\n",
       "}\n",
       ".hoogle-name {\n",
       "color: green;\n",
       "font-weight: bold;\n",
       "}\n",
       ".hoogle-head {\n",
       "font-weight: bold;\n",
       "}\n",
       ".hoogle-sub {\n",
       "display: block;\n",
       "margin-left: 0.4em;\n",
       "}\n",
       ".hoogle-package {\n",
       "font-weight: bold;\n",
       "font-style: italic;\n",
       "}\n",
       ".hoogle-module {\n",
       "font-weight: bold;\n",
       "}\n",
       ".hoogle-class {\n",
       "font-weight: bold;\n",
       "}\n",
       ".get-type {\n",
       "color: green;\n",
       "font-weight: bold;\n",
       "font-family: monospace;\n",
       "display: block;\n",
       "white-space: pre-wrap;\n",
       "}\n",
       ".show-type {\n",
       "color: green;\n",
       "font-weight: bold;\n",
       "font-family: monospace;\n",
       "margin-left: 1em;\n",
       "}\n",
       ".mono {\n",
       "font-family: monospace;\n",
       "display: block;\n",
       "}\n",
       ".err-msg {\n",
       "color: red;\n",
       "font-style: italic;\n",
       "font-family: monospace;\n",
       "white-space: pre;\n",
       "display: block;\n",
       "}\n",
       "#unshowable {\n",
       "color: red;\n",
       "font-weight: bold;\n",
       "}\n",
       ".err-msg.in.collapse {\n",
       "padding-top: 0.7em;\n",
       "}\n",
       ".highlight-code {\n",
       "white-space: pre;\n",
       "font-family: monospace;\n",
       "}\n",
       ".suggestion-warning { \n",
       "font-weight: bold;\n",
       "color: rgb(200, 130, 0);\n",
       "}\n",
       ".suggestion-error { \n",
       "font-weight: bold;\n",
       "color: red;\n",
       "}\n",
       ".suggestion-name {\n",
       "font-weight: bold;\n",
       "}\n",
       "</style><span class='err-msg'>&lt;interactive&gt;:1:10: error:<br/>    Functional dependencies conflict between instance declarations:<br/>      instance Coerce2 Float String -- Defined at &lt;interactive&gt;:1:10<br/>      instance [safe] Coerce2 Int String -- Defined at &lt;interactive&gt;:3:10</span>"
      ],
      "text/plain": [
       "<interactive>:1:10: error:\n",
       "    Functional dependencies conflict between instance declarations:\n",
       "      instance Coerce2 Float String -- Defined at <interactive>:1:10\n",
       "      instance [safe] Coerce2 Int String -- Defined at <interactive>:3:10"
      ]
     },
     "metadata": {},
     "output_type": "display_data"
    }
   ],
   "source": [
    "instance Coerce2 Float String where\n",
    "  coerce2 = show"
   ]
  },
  {
   "cell_type": "code",
   "execution_count": null,
   "metadata": {},
   "outputs": [],
   "source": []
  }
 ],
 "metadata": {
  "kernelspec": {
   "display_name": "Haskell",
   "language": "haskell",
   "name": "haskell"
  },
  "language_info": {
   "codemirror_mode": "ihaskell",
   "file_extension": ".hs",
   "name": "haskell",
   "pygments_lexer": "Haskell",
   "version": "8.2.2"
  }
 },
 "nbformat": 4,
 "nbformat_minor": 2
}
