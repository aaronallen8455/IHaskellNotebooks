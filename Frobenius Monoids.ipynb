{
 "cells": [
  {
   "cell_type": "markdown",
   "metadata": {},
   "source": [
    "# Frobenius Monoids\n",
    "###### (Seven Sketches in Compositionality Chapter 6)\n",
    "\n",
    "A category is said to have a frobenius structure if it allows for both monoid and comonoid operations.\n",
    "```\n",
    "mu :: X + X -> X\n",
    "eta :: 0 -> X\n",
    "delta :: X -> X + X\n",
    "epsilon :: X -> 0\n",
    "```\n",
    "The categories of Cospans and Spans are examples."
   ]
  },
  {
   "cell_type": "code",
   "execution_count": 29,
   "metadata": {},
   "outputs": [],
   "source": [
    ":ext ExistentialQuantification\n",
    ":ext TypeFamilies\n",
    "import Data.Bifunctor\n",
    "import Data.Void\n",
    "import Control.Category\n",
    "import Control.Monad\n",
    "import Prelude hiding ((.), id)\n",
    "\n",
    "class Frobenius m where\n",
    "  type Prod m :: * -> * -> *\n",
    "  rmap :: m b c -> m (Prod m a b) (Prod m a c)\n",
    "  lmap :: m a c -> m (Prod m a b) (Prod m c b)\n",
    "  rassoc :: m (Prod m (Prod m a b) c) (Prod m a (Prod m b c))\n",
    "  lassoc :: m (Prod m a (Prod m b c)) (Prod m (Prod m a b) c)\n",
    "  \n",
    "  type Zero m :: *\n",
    "  mu :: m (Prod m x x) x\n",
    "  eta :: m (Zero m) x\n",
    "  delta :: m x (Prod m x x)\n",
    "  epsilon :: m x (Zero m)\n",
    "\n",
    "---\n",
    "\n",
    "data Cospan a b = forall x. Cospan (a -> x) (b -> x)\n",
    "\n",
    "instance Category Cospan where\n",
    "  id = Cospan id id\n",
    "  Cospan f g . Cospan u v = Cospan (Left . u) (Right . g)\n",
    "\n",
    "instance Frobenius Cospan where\n",
    "  type Prod Cospan = Either\n",
    "  rmap (Cospan f g) = Cospan (second f) (second g)\n",
    "  lmap (Cospan f g) = Cospan (first f) (first g)\n",
    "  rassoc = Cospan (either (either Left (Right . Left)) (Right . Right))\n",
    "                  id\n",
    "  lassoc = Cospan id\n",
    "                  (either (either Left (Right . Left)) (Right . Right))\n",
    "                  \n",
    "  type Zero Cospan = Void\n",
    "  \n",
    "  mu = Cospan (either id id) id\n",
    "  eta = Cospan absurd id\n",
    "  delta = Cospan id (either id id)\n",
    "  epsilon = Cospan id absurd\n",
    "  \n",
    "---\n",
    "  \n",
    "data Span a b = forall x. Span (x -> a) (x -> b)\n",
    "\n",
    "instance Category Span where\n",
    "  id = Span id id\n",
    "  Span f g . Span u v = Span (u . fst) (g . snd)\n",
    "  \n",
    "instance Frobenius Span where\n",
    "  type Prod Span = (,)\n",
    "  rmap (Span f g) = Span (second f) (second g)\n",
    "  lmap (Span f g) = Span (first f) (first g)\n",
    "  rassoc = Span (\\(a,(b,c)) -> ((a,b),c)) id\n",
    "  lassoc = Span id (\\(a,(b,c)) -> ((a,b),c))\n",
    "  \n",
    "  type Zero Span = ()\n",
    "  \n",
    "  mu = Span (join (,)) id\n",
    "  eta = Span (const ()) id\n",
    "  delta = Span id (join (,))\n",
    "  epsilon = Span id (const ())"
   ]
  },
  {
   "cell_type": "markdown",
   "metadata": {},
   "source": [
    "A frobenius monoid must satisfy the following identities\n",
    "```\n",
    "frobenius equation\n",
    "A x A ; A x (A x A) ; (A x A) x A ; A x A =\n",
    "A x A ; (A x A) x A ; A x (A x A) ; A x A\n",
    "special\n",
    "mu . delta = id\n",
    "```"
   ]
  },
  {
   "cell_type": "code",
   "execution_count": 33,
   "metadata": {},
   "outputs": [],
   "source": [
    "fro :: (Category m, Frobenius m) => m (Prod m x x) (Prod m x x)\n",
    "fro = lmap mu . lassoc . rmap delta\n",
    "-- how to show these are equal?\n",
    "orf :: (Category m, Frobenius m) => m (Prod m x x) (Prod m x x)\n",
    "orf = rmap mu . rassoc . lmap delta\n",
    "\n",
    "special :: (Category m, Frobenius m) => m x x\n",
    "special = mu . delta"
   ]
  },
  {
   "cell_type": "code",
   "execution_count": null,
   "metadata": {},
   "outputs": [],
   "source": []
  }
 ],
 "metadata": {
  "kernelspec": {
   "display_name": "Haskell",
   "language": "haskell",
   "name": "haskell"
  },
  "language_info": {
   "codemirror_mode": "ihaskell",
   "file_extension": ".hs",
   "name": "haskell",
   "pygments_lexer": "Haskell",
   "version": "8.6.3"
  }
 },
 "nbformat": 4,
 "nbformat_minor": 2
}
