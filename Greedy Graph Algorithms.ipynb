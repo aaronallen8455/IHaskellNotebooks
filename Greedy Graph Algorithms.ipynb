{
 "cells": [
  {
   "cell_type": "markdown",
   "metadata": {},
   "source": [
    "# Greedy Graph Algorithms\n",
    "###### (from Algorithm Design with Haskell)\n",
    "\n",
    "We first look at how to find the minimum spanning tree of a graph. This is a tree made up of the edges in the graph such that all nodes are visited without any cycles.\n",
    "\n",
    "### Kruskal's Algorithm\n",
    "\n",
    "The first algorithm shown will be that of Kruskal. The idea is to mantain a disjoint set of trees along with a list of edges and at each step, insert the edge with the least cost if it an edge between two previously unconnected trees (and thus does not create a cycle)."
   ]
  },
  {
   "cell_type": "code",
   "execution_count": 12,
   "metadata": {},
   "outputs": [],
   "source": [
    "import Data.List\n",
    "\n",
    "type Graph = ([Vertex], [Edge])\n",
    "type Edge = (Vertex, Vertex, Weight)\n",
    "type Vertex = Int\n",
    "type Weight = Int\n",
    "\n",
    "nodes = fst\n",
    "edges = snd\n",
    "source (u, _, _) = u\n",
    "target (_, v, _) = v\n",
    "weight (_, _, w) = w\n",
    "\n",
    "-- A connected, acyclic graph\n",
    "type Tree = Graph\n",
    "type Forest = [Tree]\n",
    "\n",
    "type State = (Forest, [Edge])\n",
    "\n",
    "kruskal :: Graph -> Tree\n",
    "kruskal g = extract (apply (n - 1) gstep (start g))\n",
    "  where\n",
    "    n = length $ nodes g\n",
    "    start g = ([([v], []) | v <- nodes g], sortOn weight $ edges g)\n",
    "    extract ([t], _) = t\n",
    "    \n",
    "apply 0 _ = id\n",
    "apply n f = f . apply (n - 1) f\n",
    "    \n",
    "gstep :: State -> State\n",
    "gstep (ts, e:es) = if t1 /= t2 then (ts', es) else gstep (ts, es)\n",
    "  where t1 = find ts (source e)\n",
    "        t2 = find ts (target e)\n",
    "        ts' = (nodes t1 ++ nodes t2, e : edges t1 ++ edges t2) : rest\n",
    "        rest = [t | t <- ts, t /= t1, t /= t2]\n",
    "        find ts v = head $ filter (any (== v) . nodes) ts"
   ]
  },
  {
   "cell_type": "markdown",
   "metadata": {},
   "source": [
    "This can be improved upon by utilizing a data structure more suited to maintaining a disjoint set:"
   ]
  },
  {
   "cell_type": "code",
   "execution_count": 15,
   "metadata": {},
   "outputs": [],
   "source": [
    "import qualified Data.Array as A\n",
    "\n",
    "data DS =\n",
    "  DS { names :: A.Array Vertex Vertex\n",
    "     , sizes :: A.Array Vertex Int \n",
    "     }\n",
    "     \n",
    "startDS :: Int -> DS\n",
    "startDS n = DS (A.listArray (1, n) [1..n]) (A.listArray (1, n) $ replicate n 1)\n",
    "\n",
    "findDS :: DS -> Vertex -> Vertex\n",
    "findDS ds v = if v == u then v else findDS ds u\n",
    "  where u = names ds A.! v\n",
    "  \n",
    "unionDS :: Vertex -> Vertex -> DS -> DS\n",
    "unionDS n1 n2 ds = DS ns ss\n",
    "  where (ns, ss) =\n",
    "          if s1 < s2\n",
    "          then (names ds A.// [(n1, n2)], sizes ds A.// [(n2, s1 + s2)])\n",
    "          else (names ds A.// [(n2, n1)], sizes ds A.// [(n1, s1 + s2)])\n",
    "        s1 = sizes ds A.! n1\n",
    "        s2 = sizes ds A.! n2\n",
    "        \n",
    "kruskal :: Graph -> Tree\n",
    "kruskal g = extract (apply (n-1) gstep s) where\n",
    "  extract (_, es, _) = (nodes g, es)\n",
    "  s = (startDS n, [], edges g)\n",
    "  n = length $ nodes g\n",
    "  gstep (ds, fs, e:es)\n",
    "    | n1 /= n2 = (unionDS n1 n2 ds, e:fs, es)\n",
    "    | otherwise = gstep (ds, fs, es)\n",
    "    where\n",
    "      n1 = findDS ds $ source e\n",
    "      n2 = findDS ds $ target e"
   ]
  },
  {
   "cell_type": "markdown",
   "metadata": {},
   "source": [
    "### Prim's Algorithm\n",
    "\n",
    "Prim's algorithm differs from Kruskal's in that instead of starting with a forest that flocculates into a single tree, we add edges onto a single tree until all viable edges have been added to the tree.\n",
    "\n",
    "We can optimize this operation by, for each vertex not in the tree, keeping track of the minimal edge that can connect from some vertex in the tree to that vertex. If there is no edge connecting it to the tree, it's parent will be it's self and the weight will be infinity."
   ]
  },
  {
   "cell_type": "code",
   "execution_count": 22,
   "metadata": {},
   "outputs": [],
   "source": [
    "type State = (Links, [Vertex])\n",
    "type Links = A.Array Vertex (Vertex, Weight)\n",
    "\n",
    "parent :: Links -> Vertex -> Vertex\n",
    "parent ls v = fst $ ls A.! v\n",
    "\n",
    "weight :: Links -> Vertex -> Weight\n",
    "weight ls v = snd $ ls A.! v\n",
    "\n",
    "type Weights = A.Array (Vertex, Vertex) Weight\n",
    "-- allow for quick lookup of the weight of a given edge\n",
    "weights :: Graph -> Weights\n",
    "weights g = A.listArray ((1,1),(n,n)) (repeat maxBound)\n",
    "       A.// concat [[((u,v),w), ((v,u), w)] | (u,v,w) <- edges g]\n",
    "  where n = length $ nodes g\n",
    "  \n",
    "prim :: Graph -> Tree\n",
    "prim g = extract (apply (n-1) gstep (start n)) where\n",
    "  n = length $ nodes g\n",
    "  wa = weights g\n",
    "  start :: Int -> State\n",
    "  start n = ( A.array (1, n) ((1, (1, 0)) : [(v, (v, maxBound)) | v <- [2..n]])\n",
    "            , [1..n]\n",
    "            )\n",
    "  extract (ls, _) = (A.indices ls, [ (u, v, w) | (v, (u, w)) <- A.assocs ls, v /= 1])\n",
    "  \n",
    "  gstep :: State -> State\n",
    "  gstep (ls, vs) = (ls', vs') where\n",
    "    (_, v) = minimum [(weight ls v, v) | v <- vs]\n",
    "    vs' = filter (/= v) vs\n",
    "    ls' = A.accum better ls [(u, (v, wa A.! (u, v))) | u <- vs']\n",
    "    better (v1, w1) (v2, w2) = if w1 <= w2 then (v1, w1) else (v2, w2)"
   ]
  },
  {
   "cell_type": "markdown",
   "metadata": {},
   "source": [
    "### Directed Graphs - Dijkstra's Algorithm\n",
    "We now examine graphs that have directed edges (digraphs) and how to find shortest paths. We begin by finding the shortest path spanning tree of a digraph using a version of Dijkstra's algorithm. It uses essentially the same components as Prim's except that we are talking about distances instead of weights."
   ]
  },
  {
   "cell_type": "code",
   "execution_count": 26,
   "metadata": {},
   "outputs": [],
   "source": [
    "weights :: Graph -> Weights\n",
    "weights g = A.listArray ((1,1),(n,n)) (repeat maxBound)\n",
    "       A.// [((u,v), w) | (u,v,w) <- edges g]\n",
    "  where n = length $ nodes g\n",
    "\n",
    "dijkstra :: Graph -> Tree\n",
    "dijkstra g = extract (apply (n-1) gstep start) where\n",
    "  n = length $ nodes g\n",
    "  start = (A.array (1, n) ((1, (1, 0)) : [(v, (v, maxBound)) | v <- [2..n]]), [1..n])\n",
    "  wa = weights g\n",
    "  extract (ls, _) = (A.indices ls, [(u, v, w) | (v, (u, w)) <- A.assocs ls, v /= 1])\n",
    "  \n",
    "  gstep :: State -> State\n",
    "  gstep (ls, vs) = (ls', vs') where\n",
    "    (d, v) = minimum [(weight ls v, v) | v <- vs]\n",
    "    vs' = filter (/= v) vs\n",
    "    ls' = A.accum better ls [ (u, (v, add d $ wa A.! (v, u))) | u <- vs' ]\n",
    "    add d w = if w == maxBound then maxBound else d + w\n",
    "    better (v1, d1) (v2, d2) = if d1 <= d2 then (v1, d1) else (v2, d2)"
   ]
  },
  {
   "cell_type": "markdown",
   "metadata": {},
   "source": [
    "Now a version that stops when the shortest path to particular vertex is found"
   ]
  },
  {
   "cell_type": "code",
   "execution_count": 32,
   "metadata": {},
   "outputs": [],
   "source": [
    "import Data.Either (isLeft)\n",
    "\n",
    "dijkstra :: Graph -> Vertex -> Int\n",
    "dijkstra g goal = extract (until isLeft (gstep =<<) (Right start)) where\n",
    "  n = length $ nodes g\n",
    "  start = (A.array (1, n) ((1, (1, 0)) : [(v, (v, maxBound)) | v <- [2..n]]), [1..n])\n",
    "  wa = weights g\n",
    "  extract (Left r) = r\n",
    "  \n",
    "  gstep :: State -> Either Int State\n",
    "  gstep (ls, vs)\n",
    "    | v == goal = Left $ result\n",
    "    | otherwise = Right (ls', vs')\n",
    "    where\n",
    "    (d, v) = minimum [(weight ls v, v) | v <- vs]\n",
    "    vs' = filter (/= v) vs\n",
    "    ls' = A.accum better ls [ (u, (v, add d $ wa A.! (v, u))) | u <- vs' ]\n",
    "    add d w = if w == maxBound then maxBound else d + w\n",
    "    better (v1, d1) (v2, d2) = if d1 <= d2 then (v1, d1) else (v2, d2)\n",
    "    result = weight ls goal"
   ]
  },
  {
   "cell_type": "code",
   "execution_count": null,
   "metadata": {},
   "outputs": [],
   "source": []
  }
 ],
 "metadata": {
  "kernelspec": {
   "display_name": "Haskell",
   "language": "haskell",
   "name": "haskell"
  },
  "language_info": {
   "codemirror_mode": "ihaskell",
   "file_extension": ".hs",
   "name": "haskell",
   "pygments_lexer": "Haskell",
   "version": "8.6.3"
  }
 },
 "nbformat": 4,
 "nbformat_minor": 2
}
