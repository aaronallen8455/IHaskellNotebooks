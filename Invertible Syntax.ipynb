{
 "cells": [
  {
   "cell_type": "markdown",
   "metadata": {},
   "source": [
    "# Invertible Syntax\n",
    "##### (https://www.informatik.uni-marburg.de/~rendel/unparse/rendel10invertible.pdf)\n",
    "\n",
    "We can write syntax descriptions that can be interpreted as both a Parser and a Printer. In other words, these are types that can interpreted polysemantically.\n",
    "\n",
    "We employ partial isomorphisms to implement the invertible functions that are necessary for writing code that can be abstracted over Parser and Printer functionality."
   ]
  },
  {
   "cell_type": "code",
   "execution_count": 2,
   "metadata": {},
   "outputs": [],
   "source": [
    "data Iso a b = Iso (a -> Maybe b) (b -> Maybe a)\n",
    "\n",
    "inverse :: Iso a b -> Iso b a\n",
    "inverse (Iso f g) = Iso g f\n",
    "\n",
    "apply :: Iso a b -> a -> Maybe b\n",
    "apply (Iso f _) = f\n",
    "\n",
    "unapply :: Iso a b -> b -> Maybe a\n",
    "unapply = apply . inverse"
   ]
  },
  {
   "cell_type": "markdown",
   "metadata": {},
   "source": [
    "This is needed because if we were to write a Functor instance that covers both Parser and Printer, the parser is doable because we first parse the value and then apply a function to it. Unfortunately this won't work for Printer because there is no use in printing a value and then applying a function to it - we would like to apply the function before printing (Printer is a contravariant functor).\n",
    "\n",
    "Since both functions contained in an `Iso` are composable with a compatible `Iso` and we can also devise an identity `Iso`, it is fitting to write a `Category` instance."
   ]
  },
  {
   "cell_type": "code",
   "execution_count": 16,
   "metadata": {},
   "outputs": [],
   "source": [
    "import Prelude hiding ((.))\n",
    "import Control.Category\n",
    "import Control.Monad\n",
    "\n",
    "instance Category Iso where\n",
    "  g . f = Iso (apply f >=> apply g)\n",
    "              (unapply g >=> unapply f)\n",
    "  id = Iso Just Just"
   ]
  },
  {
   "cell_type": "markdown",
   "metadata": {},
   "source": [
    "In order to define our syntax descriptors, we want to be able to use `Functor`, `Applicative`, and `Alternative` syntax which fully capture any type constructors. Before `Iso`s cannot be used with the general interfaces for these, we'll need specialized versions."
   ]
  },
  {
   "cell_type": "code",
   "execution_count": 28,
   "metadata": {},
   "outputs": [],
   "source": [
    "class IsoFunctor f where\n",
    "  (<$$>) :: Iso a b -> f a -> f b\n",
    "  \n",
    "infixr 2 <$$>"
   ]
  },
  {
   "cell_type": "markdown",
   "metadata": {},
   "source": [
    "We'll need to use a trick to provide the `Applicative` interface, otherwise the contravariance of Printer bites us once more (we end up with a function that takes a `b` but has no way of using it to produce the output). Whereas `<*>` supports curried function application, we will define an operator that uses uncurried function application, so instead of having a function of type `(Iso a b -> String) -> (a -> String) -> (b -> String)`, we'll have a function of type `(a -> String) -> (b -> String) -> (a, b) -> String`.\n",
    "\n",
    "Printing with this function means printing the first component of the tuple with the first function and the second with the second function, while parsing means parsing an `a` value, then parsing a `b` value, and returning them as a tuple.\n",
    "\n",
    "Using this, we can support the same `f <$> a <*> b` pattern except that in our version using right associative tupling and application of an uncurried function."
   ]
  },
  {
   "cell_type": "code",
   "execution_count": 10,
   "metadata": {},
   "outputs": [],
   "source": [
    "class ProductFunctor f where\n",
    "  (<**>) :: f a -> f b -> f (a, b)\n",
    "  \n",
    "infixr 2 <**>"
   ]
  },
  {
   "cell_type": "markdown",
   "metadata": {},
   "source": [
    "Supporting sum types is generally accomplished with the `Alternative` typeclass, which can be used for both Parsers and Printers but it has `Applicative` as a superclass constraint, so we must define it without that constraint."
   ]
  },
  {
   "cell_type": "code",
   "execution_count": 11,
   "metadata": {},
   "outputs": [],
   "source": [
    "class Alternative f where\n",
    "  (<|>) :: f a -> f a -> f a\n",
    "  empty :: f a"
   ]
  },
  {
   "cell_type": "markdown",
   "metadata": {},
   "source": [
    "With these in hand, we can define the interface that provides the basic functionality for both Parsers and Printers."
   ]
  },
  {
   "cell_type": "code",
   "execution_count": 41,
   "metadata": {},
   "outputs": [],
   "source": [
    "class (IsoFunctor f, ProductFunctor f, Alternative f)\n",
    "  => Syntax f where\n",
    "  pureS :: Eq a => a -> f a\n",
    "  -- ^ A Parser that produces some value without consuming any input or a Printer that checks if it's argument\n",
    "  -- is equal to `a` and if so, discards it.\n",
    "  token :: f Char\n",
    "  -- ^ A Parser that simply hands you the next character from the input\n",
    "  -- or a Printer that prints a single character."
   ]
  },
  {
   "cell_type": "markdown",
   "metadata": {},
   "source": [
    "Now we can define a function that parse/prints a list of parsable/printables:"
   ]
  },
  {
   "cell_type": "code",
   "execution_count": 42,
   "metadata": {},
   "outputs": [],
   "source": [
    "-- Partial isomorphisms for constructors of the List type\n",
    "nil :: Iso () [a]\n",
    "nil = Iso (const $ Just [])\n",
    "          (\\xs -> case xs of\n",
    "                    [] -> Just ()\n",
    "                    _  -> Nothing\n",
    "          )\n",
    "\n",
    "cons :: Iso (a, [a]) [a]\n",
    "cons = Iso (Just . uncurry (:))\n",
    "           (\\xs -> case xs of\n",
    "                     [] -> Nothing\n",
    "                     (x:xs) -> Just (x, xs)\n",
    "           )\n",
    "           \n",
    "-- Function for parsing/printing a list of things\n",
    "many :: Syntax f => f a -> f [a]\n",
    "many p = cons <$$> p <**> many p\n",
    "     <|> (nil <$$> pureS ())"
   ]
  },
  {
   "cell_type": "markdown",
   "metadata": {},
   "source": [
    "Let's define simple `Parser` and `Printer` types with which we can implement this functionality."
   ]
  },
  {
   "cell_type": "code",
   "execution_count": 59,
   "metadata": {},
   "outputs": [],
   "source": [
    "newtype Parser a = Parser { runParser :: String -> [(a, String)] }\n",
    "newtype Printer a = Printer { runPrinter :: a -> Maybe String }\n",
    "\n",
    "parse :: Parser a -> String -> [a]\n",
    "parse (Parser p) s = [x | (x, \"\") <- p s]\n",
    "\n",
    "-- Parser instances\n",
    "\n",
    "instance IsoFunctor Parser where\n",
    "  Iso f _ <$$> (Parser p) = Parser $ \\s -> [ (x', s')\n",
    "                                           | (x, s') <- p s, Just x' <- [f x]\n",
    "                                           ]\n",
    "                                           \n",
    "instance ProductFunctor Parser where\n",
    "  Parser p1 <**> Parser p2 = Parser $ \\s -> do\n",
    "    (a, s') <- p1 s\n",
    "    (b, s'') <- p2 s'\n",
    "    [((a, b), s'')]\n",
    "    \n",
    "instance Alternative Parser where\n",
    "  empty = Parser $ const []\n",
    "  Parser p1 <|> Parser p2 = Parser $ (++) <$> p1 <*> p2\n",
    "  \n",
    "instance Syntax Parser where\n",
    "  pureS a = Parser $ \\s -> [(a, s)]\n",
    "  token = Parser $ \\s ->\n",
    "    case s of\n",
    "      c:s' -> [(c, s')]\n",
    "      _ -> []\n",
    "      \n",
    "-- Printer instances\n",
    "\n",
    "instance IsoFunctor Printer where\n",
    "  Iso _ g <$$> Printer p = Printer $ p <=< g\n",
    "  \n",
    "instance ProductFunctor Printer where\n",
    "  Printer p1 <**> Printer p2 = Printer $ \\(a, b) -> (++) <$> p1 a <*> p2 b\n",
    "  \n",
    "instance Alternative Printer where\n",
    "  empty = Printer $ const Nothing\n",
    "  Printer p1 <|> Printer p2 = Printer $ \\a ->\n",
    "    p1 a `mplus` p2 a\n",
    "      \n",
    "instance Syntax Printer where\n",
    "  pureS a = Printer $ \\v ->\n",
    "    if a == v then Just \"\" else Nothing\n",
    "  token = Printer $ \\x -> Just [x] "
   ]
  },
  {
   "cell_type": "markdown",
   "metadata": {},
   "source": []
  },
  {
   "cell_type": "code",
   "execution_count": 64,
   "metadata": {},
   "outputs": [],
   "source": []
  },
  {
   "cell_type": "code",
   "execution_count": null,
   "metadata": {},
   "outputs": [],
   "source": []
  }
 ],
 "metadata": {
  "kernelspec": {
   "display_name": "Haskell",
   "language": "haskell",
   "name": "haskell"
  },
  "language_info": {
   "codemirror_mode": "ihaskell",
   "file_extension": ".hs",
   "name": "haskell",
   "pygments_lexer": "Haskell",
   "version": "8.6.3"
  }
 },
 "nbformat": 4,
 "nbformat_minor": 2
}
