{
 "cells": [
  {
   "cell_type": "markdown",
   "metadata": {},
   "source": [
    "# Breadth-First Traversals\n",
    "###### (https://doisinkidney.com/posts/2018-06-03-breadth-first-traversals-in-too-much-detail.html)"
   ]
  },
  {
   "cell_type": "code",
   "execution_count": 7,
   "metadata": {},
   "outputs": [],
   "source": [
    "data Tree a = Node { rootLabel :: a, subForest :: [Tree a] }\n",
    "\n",
    "tree :: Tree Int\n",
    "tree = Node 1 [Node 2 [ Node 3 []\n",
    "                      , Node 4 []\n",
    "                      ]\n",
    "              , Node 5 [Node 6 []]\n",
    "              ]"
   ]
  },
  {
   "cell_type": "markdown",
   "metadata": {},
   "source": [
    "We want to write a traversal in the lensy sense, so our solution should be of type"
   ]
  },
  {
   "cell_type": "code",
   "execution_count": 8,
   "metadata": {},
   "outputs": [],
   "source": [
    ":ext RankNTypes\n",
    "type BFT a b = forall f. Applicative f => (a -> f b) -> Tree a -> f (Tree b)"
   ]
  },
  {
   "cell_type": "markdown",
   "metadata": {},
   "source": [
    "### Breadth-First Enumeration\n",
    "Let's first look at making a list of elements in bread-first order"
   ]
  },
  {
   "cell_type": "code",
   "execution_count": 4,
   "metadata": {},
   "outputs": [
    {
     "data": {
      "text/plain": [
       "[1,2,5,3,4,6]"
      ]
     },
     "metadata": {},
     "output_type": "display_data"
    }
   ],
   "source": [
    "breadthFirstEnumerate :: Tree a -> [a]\n",
    "breadthFirstEnumerate ts = f ts b []\n",
    "  where\n",
    "    f (Node x xs) fw bw = x : fw (xs : bw)\n",
    "    b [] = []\n",
    "    b qs = foldl (foldr f) b qs []\n",
    "    \n",
    "breadthFirstEnumerate tree"
   ]
  },
  {
   "cell_type": "markdown",
   "metadata": {},
   "source": [
    "This works by popping items off the front of a queue and pushing the sub-forest on to the back of the queue. `fw` is the recursive function into which we pass the queue. It looks like we are adding to the front of the queue, but this not the case because it is being consumed in reverse with `foldl`.\n",
    "\n",
    "Let's examine how the two nested folds work:\n",
    "- the `foldl` works chunk-wise through the queue (a chunk being the subforest from a node)\n",
    "- it will eventually produce a function that takes a list, to which we are passing the `[]`\n",
    "- by using `b` as the acc argument, we build up the following composition:\n",
    "  - `foldr f (foldr f (foldr f b chunk1) chunk2) chunk3` etc...\n",
    "- the `foldr` steps through each individual item in the chunk, taking the queue as an argument, appending to it, then passing it to the next inner `foldr`.\n",
    "- because of how `foldl` works, the last chunk in the queue will be operated on by the outer most `foldr`\n",
    "- the outermost `foldr` operation gets passed an empty list (the queue) and does the following:\n",
    "  - appends the root element of the node to the list we are building\n",
    "  - the list is build by appending the subforest to the queue provided as an argument to the next step of the `foldr`.\n",
    "  - for `foldr` step that operates on the last item in the last chunk, the queue is passed to a recursive call to `b`\n",
    "  - otherwise, the queue is either passed to the next step in the `foldr`, or if it's the last item in the chunk, to the next step of the `foldl`, which will be an inner `foldr`.\n",
    "- `b` consumes the queue it is passed whilst building a new one to be eventually passed to a recursive call.\n",
    "- when `b` is finally passed an empty queue, the base case is reached, recursion ceases."
   ]
  },
  {
   "cell_type": "markdown",
   "metadata": {},
   "source": [
    "### Level-First Enumeration\n",
    "As a preamble to the traversal, let's add some structure to the enumeration so that each level is grouped in it's own list.\n",
    "\n",
    "Here is the (implicit) queue version, similiar to the previous enumeration."
   ]
  },
  {
   "cell_type": "code",
   "execution_count": 9,
   "metadata": {},
   "outputs": [
    {
     "data": {
      "text/plain": [
       "[[1],[2,5],[3,4,6]]"
      ]
     },
     "metadata": {},
     "output_type": "display_data"
    }
   ],
   "source": [
    "levels :: Tree a -> [[a]]\n",
    "levels ts = f b ts [] []\n",
    "  where\n",
    "    f k (Node x xs) ls qs = k (x : ls) (xs : qs)\n",
    "    b _ [] = []\n",
    "    b k qs = k : foldl (foldl f) b qs [] []\n",
    "    \n",
    "levels tree"
   ]
  },
  {
   "cell_type": "markdown",
   "metadata": {},
   "source": [
    "let's see what the action of the nested `foldl`s looks like\n",
    "- foldl f (foldl f (foldl f b chunk1) chunk2) chunk3\n",
    "By having the inner fold be a left instead of right, the items in each chunk are processed from last to first so they are appended to the list in the correct order.\n",
    "\n",
    "Note that if the list we are appending to was the acculumator of the left fold, the items would get reversed, but since the list we are appending to is an argument that will be passed to the iteration of the fold dealing with the last item, the items will be appended in the correct order as the list is propogated up through the fold, the first item in the chunk being the last one to get appended to the level list.\n",
    "\n",
    "#### Zippy Style\n",
    "An observation to be made here is that the implicit queue is just using a church encoded tuple to reverse the order of the fold. In otherwords, the result of the fold is a function to which we are passing the two lists. Let's instead pass the tuple of lists in directly and run it in one direction. Now the accumulator of the nested folds is the tuple rather than a recursive function"
   ]
  },
  {
   "cell_type": "code",
   "execution_count": 13,
   "metadata": {},
   "outputs": [
    {
     "data": {
      "text/plain": [
       "[[1],[2,5],[3,4,6]]"
      ]
     },
     "metadata": {},
     "output_type": "display_data"
    }
   ],
   "source": [
    "levels :: Tree a -> [[a]]\n",
    "levels ts = b (f ts ([], []))\n",
    "  where\n",
    "    f (Node x xs) (ls, qs) = (x : ls, xs : qs)\n",
    "    b (_, []) = []\n",
    "    b (k, qs) = k : b (foldr (flip (foldr f)) ([], []) qs)\n",
    "    \n",
    "levels tree"
   ]
  },
  {
   "cell_type": "markdown",
   "metadata": {},
   "source": [
    "We are only folding on the second element of pair, let's fold on this list directly instead of building the intermediate list. In fact, we're running a fold over the whole thing, which we can do straight away."
   ]
  },
  {
   "cell_type": "code",
   "execution_count": 22,
   "metadata": {},
   "outputs": [
    {
     "data": {
      "text/plain": [
       "[[1],[2,5],[3,4,6]]"
      ]
     },
     "metadata": {},
     "output_type": "display_data"
    }
   ],
   "source": [
    "levels :: Show a => Tree a -> [[a]]\n",
    "levels ts = f ts []\n",
    "  where\n",
    "    f (Node x xs) (q:qs) = (x : q) : foldr f qs xs\n",
    "    f (Node x xs) []     = [x]     : foldr f [] xs\n",
    "    \n",
    "levels tree"
   ]
  },
  {
   "cell_type": "markdown",
   "metadata": {},
   "source": [
    "here the resulting list is being built in such a manner that each level starts with the singleton list of the root element of the last node of that level (because of `foldr`) - and that call to `f` is going to produce the queue that gets passed to the last iteration of an outer `foldr`. So the queue is a list of chunks where each chunk is the list of items belonging to each level. At each node, we get the current queue, we pick off the current level from the queue, put the root node on it, then fold over the sub-trees with the tail of the queue as the accumulator so that the roots of the sub-tree nodes will be appended to the list for the next level.\n",
    "\n",
    "Note that because `:` is lazy in it's second argument, each level is created without descending into the next level."
   ]
  },
  {
   "cell_type": "markdown",
   "metadata": {},
   "source": [
    "### Cofree\n",
    "All the function defined so far can be generalized to work with Cofree. Note that the rose tree is recovered by using `[]` as the first type argument to Cofree."
   ]
  },
  {
   "cell_type": "code",
   "execution_count": 8,
   "metadata": {},
   "outputs": [],
   "source": [
    "data Cofree f a = a :< f (Cofree f a)\n",
    "\n",
    "cofreeTree = 1 :< [2 :< [3 :< [], 4 :< []], 5 :< [6 :< []]]"
   ]
  },
  {
   "cell_type": "markdown",
   "metadata": {},
   "source": [
    "### Traversal\n",
    "We know how to visit each element in depth first order, so we can apply the applicative effect to each element. What we still need to figure out is how to reconstruct the tree afterwards.\n",
    "\n",
    "The first thing we'll do is use a trick with `Traversable` where we can fill a container with the contents of a list.\n",
    "```\n",
    "fill [(),(),(),()] [1..] = ([1,2,3,4], [5..])\n",
    "```\n",
    "the result is function is the result of a state computation, first element is the filled container, second is the remaining state.\n",
    "\n",
    "The key to this is a `pop` function that replaces each item in the traversable with a state action that pops off the element from the list state."
   ]
  },
  {
   "cell_type": "code",
   "execution_count": 17,
   "metadata": {},
   "outputs": [],
   "source": [
    "import Control.Monad.State\n",
    "\n",
    "pop :: State [a] a\n",
    "pop = state (\\(x:xs) -> (x, xs))"
   ]
  },
  {
   "cell_type": "markdown",
   "metadata": {},
   "source": [
    "We can then traverse this function over the container"
   ]
  },
  {
   "cell_type": "code",
   "execution_count": 22,
   "metadata": {},
   "outputs": [],
   "source": [
    "fill :: Traversable t => t a -> State [b] (t b)\n",
    "fill = traverse (const pop)"
   ]
  },
  {
   "cell_type": "markdown",
   "metadata": {},
   "source": [
    "### Composing Applicatives\n",
    "Applicatives compose nicely in a variety of ways. Given two applicatives, f and g, we can perform their effects on a list by either layering the effects (using `Compose`) or by running one after the other.\n",
    "\n",
    "In our case we need to compose two applicatives, the one the user wants to run and our internal state. Instead of using `Compose`, we can define our own functions to avoid some additional calls to `pure`."
   ]
  },
  {
   "cell_type": "code",
   "execution_count": 7,
   "metadata": {},
   "outputs": [],
   "source": [
    ":m Control.Applicative\n",
    "\n",
    "map2 :: (Functor f, Functor g) => (a -> b -> c) -> f a -> g b -> f (g c)\n",
    "map2 f fa gb = fmap (\\a -> fmap (\\b -> f a b) gb) fa\n",
    "\n",
    "app2 :: (Applicative f, Applicative g) => (a -> b -> c -> d) -> f a -> g b -> f (g c) -> f (g d)\n",
    "app2 f fa gb = liftA2 (\\a -> liftA2 (f a) gb) fa"
   ]
  },
  {
   "cell_type": "markdown",
   "metadata": {},
   "source": [
    "The outer applicative `f` will be the user's effect, the `g` will be `State`\n",
    "### Take 1: Zippy-style Traversing\n",
    "First we'll try to convert the zippy style implementation to a traversal.\n",
    "\n",
    "Start by using `Cofree` instead of `[]`"
   ]
  },
  {
   "cell_type": "code",
   "execution_count": 10,
   "metadata": {},
   "outputs": [
    {
     "data": {
      "text/plain": [
       "[[1],[2,5],[3,4,6]]"
      ]
     },
     "metadata": {},
     "output_type": "display_data"
    }
   ],
   "source": [
    "levels :: Show a => Cofree [] a -> [[a]]\n",
    "levels ts = f ts []\n",
    "  where\n",
    "    f (x :< xs) (q:qs) = (x : q) : foldr f qs xs\n",
    "    f (x :< xs) []     = [x]     : foldr f [] xs\n",
    "    \n",
    "levels cofreeTree"
   ]
  },
  {
   "cell_type": "markdown",
   "metadata": {},
   "source": [
    "Now pair the root labels with the subforest"
   ]
  },
  {
   "cell_type": "code",
   "execution_count": 14,
   "metadata": {},
   "outputs": [],
   "source": [
    "breadthFirst :: Cofree [] a -> [[(a, [Cofree [] a])]]\n",
    "breadthFirst ts = f ts []\n",
    "  where\n",
    "    f (x :< xs) (q:qs) = ((x, xs) : q) : foldr f qs xs\n",
    "    f (x :< xs) []     = [(x, xs)]     : foldr f [] xs"
   ]
  },
  {
   "cell_type": "markdown",
   "metadata": {},
   "source": [
    "Next we want to call `fill` on the subforests"
   ]
  },
  {
   "cell_type": "code",
   "execution_count": 24,
   "metadata": {},
   "outputs": [],
   "source": [
    "breadthFirst :: Cofree [] a -> [[(a, State [b] [b])]]\n",
    "breadthFirst ts = f ts []\n",
    "  where\n",
    "    f (x :< xs) (q:qs) = ((x, fill xs) : q) : foldr f qs xs\n",
    "    f (x :< xs) []     = [(x, fill xs)]     : foldr f [] xs"
   ]
  },
  {
   "cell_type": "markdown",
   "metadata": {},
   "source": [
    "We can run the applicative effect on the root label"
   ]
  },
  {
   "cell_type": "code",
   "execution_count": 27,
   "metadata": {},
   "outputs": [],
   "source": [
    "breadthFirst :: (a -> f a) -> Cofree [] a -> [[(f a, State [b] [b])]]\n",
    "breadthFirst c ts = f ts []\n",
    "  where\n",
    "    f (x :< xs) (q:qs) = ((c x, fill xs) : q) : foldr f qs xs\n",
    "    f (x :< xs) []     = [(c x, fill xs)]     : foldr f [] xs"
   ]
  },
  {
   "cell_type": "markdown",
   "metadata": {},
   "source": [
    "Now we use the combinators we defined before to combine the two effects"
   ]
  },
  {
   "cell_type": "code",
   "execution_count": 32,
   "metadata": {},
   "outputs": [],
   "source": [
    "breadthFirst :: Applicative f => (a -> f b) -> Cofree [] a -> [f (State [Cofree [] b] [Cofree [] b])]\n",
    "breadthFirst c ts = f ts []\n",
    "  where\n",
    "    f (x :< xs) (q:qs) =\n",
    "      app2 (\\y ys zs -> (y :< ys) : zs) (c x) (fill xs) q : foldr f qs xs\n",
    "    f (x :< xs) [] =\n",
    "      map2 (\\y ys -> [y :< ys]) (c x) (fill xs) : foldr f [] xs"
   ]
  },
  {
   "cell_type": "markdown",
   "metadata": {},
   "source": [
    "This builds a list containing all the level-wise traversals of the tree. To combine them into one, we can use a fold."
   ]
  },
  {
   "cell_type": "code",
   "execution_count": 42,
   "metadata": {},
   "outputs": [
    {
     "data": {
      "text/plain": [
       "1\n",
       "2\n",
       "5\n",
       "3\n",
       "4\n",
       "6"
      ]
     },
     "metadata": {},
     "output_type": "display_data"
    }
   ],
   "source": [
    "breadthFirst :: (Traversable t, Applicative f) => (a -> f b) -> Cofree t a -> f (Cofree t b)\n",
    "breadthFirst c ts =\n",
    "  head <$> foldr (liftA2 evalState) (pure []) (f ts [])\n",
    "  where\n",
    "    f (x :< xs) (q:qs) =\n",
    "      app2 (\\y ys zs -> (y :< ys) : zs) (c x) (fill xs) q : foldr f qs xs\n",
    "    f (x :< xs) [] =\n",
    "      map2 (\\y ys -> [y :< ys]) (c x) (fill xs) : foldr f [] xs\n",
    "      \n",
    "breadthFirst print cofreeTree"
   ]
  },
  {
   "cell_type": "markdown",
   "metadata": {},
   "source": [
    "### Take 2: Queue-based Traversing\n",
    "Now we convert the queue based enumeration to a traversal"
   ]
  },
  {
   "cell_type": "code",
   "execution_count": 47,
   "metadata": {},
   "outputs": [],
   "source": [
    "--levels :: Tree a -> [[a]]\n",
    "--levels ts = f b ts [] []\n",
    "--  where\n",
    "--    f k (Node x xs) ls qs = k (x : ls) (xs : qs)\n",
    "--    b _ [] = []\n",
    "--    b l qs = l : foldl (foldl f) b qs [] []\n",
    "    \n",
    "breadthFirst :: (Traversable t, Applicative f) => (a -> f b) -> Cofree t a -> f (Cofree t b)\n",
    "breadthFirst c ts = head <$> f b ts e []\n",
    "  where\n",
    "    f k (x :< xs) ls qs =\n",
    "      k (app2 (\\y ys zs -> (y :< ys) : zs) (c x) (fill xs) ls) (xs : qs)\n",
    "      \n",
    "    b _ [] = pure []\n",
    "    b l qs =\n",
    "      liftA2 evalState l (foldl (foldl f) b qs e [])\n",
    "    \n",
    "    e = pure $ pure []"
   ]
  },
  {
   "cell_type": "code",
   "execution_count": null,
   "metadata": {},
   "outputs": [],
   "source": []
  }
 ],
 "metadata": {
  "kernelspec": {
   "display_name": "Haskell",
   "language": "haskell",
   "name": "haskell"
  },
  "language_info": {
   "codemirror_mode": "ihaskell",
   "file_extension": ".hs",
   "name": "haskell",
   "pygments_lexer": "Haskell",
   "version": "8.6.3"
  }
 },
 "nbformat": 4,
 "nbformat_minor": 2
}
