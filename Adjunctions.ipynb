{
 "cells": [
  {
   "cell_type": "markdown",
   "metadata": {},
   "source": [
    "# Adjunctions\n",
    "\n",
    "An adjunction is a relationship between two functors such there is a one way morphism between the identity functor and the composition between two functors R (C to D) and L (D to C) and also that the reverse is true\n",
    "\n",
    "`Id(D) -> R . L`    This is called the `unit`\n",
    "\n",
    "`L . R -> Id(C)`    This is called the `counit`\n",
    "\n",
    "Note that this relationship is weaker than a natural isomorphism because the following is not necessarily true:\n",
    "\n",
    "`R . L ~ Id`\n",
    "\n",
    "`Id ~ L . R`\n",
    "\n",
    "L is called the 'Left Adjoint' to the functor R\n",
    "\n",
    "R is the 'Right Adjoint' to the functor L\n",
    "\n",
    "The symbol for this relationship is `L ⊣ R`\n",
    "\n",
    "The symbol for `unit` is `η`\n",
    "\n",
    "The symbol for `counit` is `ε`\n",
    "\n",
    "Given a category `D` and `C`, the Identity functor yields a point `d`. We have:\n",
    "\n",
    "`ηd :: d -> (R ∘ L) d` defining the component of the natural transformation between `Identity` and `R . L`. We pick any point in `D` then use the round-trip functor to get to a point `d'` then shoot an arrow `ηd` from `d` to this target.\n",
    "\n",
    "`εc :: (L ∘ R) c -> c`\n",
    "It tells us that we can pick any object `c` in `C` as our target, and use the round trip functor `L ∘ R` to pick the source `c' = (L ∘ R) c`. Then we shoot the arrow — the morphism `εc` — from the source to the target.\n",
    "\n",
    "## Haskell definition"
   ]
  },
  {
   "cell_type": "code",
   "execution_count": 3,
   "metadata": {},
   "outputs": [],
   "source": [
    ":ext FunctionalDependencies\n",
    "\n",
    "-- Representable is an endofunctor in Hask that is isomorphic to the hom-functor (Reader monad)\n",
    "\n",
    "class Representable f where\n",
    "  tabulate :: (Int -> a) -> f a\n",
    "\n",
    "class (Functor f, Representable u) => Adjunction f u | f -> u, u -> f where\n",
    "  unit :: a -> u (f a)\n",
    "  counit :: f (u a) -> a\n",
    "  -- alternatively, we have\n",
    "  leftAdjunct :: (f a -> b) -> (a -> u b)\n",
    "  rightAdjunct :: (a -> u b) -> (f a -> b)"
   ]
  },
  {
   "cell_type": "markdown",
   "metadata": {},
   "source": [
    "`leftAdjunct` is a natural transformation between the hom-set C(f a, b) and D(a, u b) where f is `L` and u is `R`. `rightAdjunct` is the reverse. Therefore they are invertible natural transformations.\n",
    "\n",
    "The equivalence of the definitions using unit/counit and leftAjunct/rightAdjunct is witnessed by:\n",
    "\n",
    "unit = leftAdjunct id\n",
    "\n",
    "counit = rightAdjunct id\n",
    "\n",
    "leftAdjunct f = fmap f . unit\n",
    "\n",
    "rightAdjunct f = counit . fmap f -- the argument here will be (f a) becomes f (u b) becomes b"
   ]
  },
  {
   "cell_type": "markdown",
   "metadata": {},
   "source": [
    "## How do we know that `R` is a representable functor in Haskell?"
   ]
  },
  {
   "cell_type": "markdown",
   "metadata": {},
   "source": [
    "When the right category `D` is `Set` (Haskell types are the `Set` category) then `R` is the functor from C to Set. We are looking for an object `rep` in `C(rep, -)` that is naturally isomorphic to `R`. This object is the image of `()` in `L`. This yields `C(L (), c)` and `Set((), R c)`. Since `Set((), R c)` simply picks an element in `R c`, it is isomorphic to `R c`. Therefore we have `C(L (), -) ~ R` which means that R is isomorphic to the hom-functor."
   ]
  },
  {
   "cell_type": "markdown",
   "metadata": {},
   "source": [
    "## Product from Adjunction"
   ]
  },
  {
   "cell_type": "code",
   "execution_count": null,
   "metadata": {},
   "outputs": [],
   "source": []
  }
 ],
 "metadata": {
  "kernelspec": {
   "display_name": "Haskell",
   "language": "haskell",
   "name": "haskell"
  },
  "language_info": {
   "codemirror_mode": "ihaskell",
   "file_extension": ".hs",
   "name": "haskell",
   "pygments_lexer": "Haskell",
   "version": "8.2.2"
  }
 },
 "nbformat": 4,
 "nbformat_minor": 2
}
