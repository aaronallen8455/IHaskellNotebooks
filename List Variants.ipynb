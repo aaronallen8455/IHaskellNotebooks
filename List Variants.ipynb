{
 "cells": [
  {
   "cell_type": "markdown",
   "metadata": {},
   "source": [
    "# Data Structures - List Variants\n",
    "###### (from \"Algorithm Design with Haskell\")\n",
    "\n",
    "Lets look at a data structure that optimizes certain operations for which the regular List type performs poorly.\n",
    "\n",
    "### Symmetric List"
   ]
  },
  {
   "cell_type": "code",
   "execution_count": 1,
   "metadata": {},
   "outputs": [],
   "source": [
    "newtype SymList a = SymList { unSymList :: ([a], [a]) } deriving (Show, Eq, Ord)"
   ]
  },
  {
   "cell_type": "markdown",
   "metadata": {},
   "source": [
    "This data strucure respresents a List using the following abstracting function"
   ]
  },
  {
   "cell_type": "code",
   "execution_count": 3,
   "metadata": {},
   "outputs": [],
   "source": [
    "fromSL :: SymList a -> [a]\n",
    "fromSL (SymList (xs, ys)) = xs ++ reverse ys"
   ]
  },
  {
   "cell_type": "markdown",
   "metadata": {},
   "source": [
    "There are several invariants that operations on `SymList` will take advantage of and maintain.\n",
    "\n",
    "`null xs => null ys || single ys`\n",
    "\n",
    "`null ys => null xs || single xs`"
   ]
  },
  {
   "cell_type": "code",
   "execution_count": 8,
   "metadata": {},
   "outputs": [],
   "source": [
    "snocSL :: a -> SymList a -> SymList a\n",
    "snocSL a (SymList (xs, ys))\n",
    "  | null xs = SymList (ys, [a]) -- we know ys is either empty or a singleton.\n",
    "  | otherwise = SymList (xs, a : ys)\n",
    "  \n",
    "consSL :: a -> SymList a -> SymList a\n",
    "consSL a (SymList (xs, ys)) = SymList (a : xs, ys)\n",
    "  \n",
    "lastSL :: SymList a -> a\n",
    "lastSL (SymList (xs, ys))\n",
    "  | null ys = head xs\n",
    "  | otherwise = head ys\n",
    "  \n",
    "headSL :: SymList a -> a\n",
    "headSL (SymList (xs, ys))\n",
    "  | null xs = head ys\n",
    "  | otherwise = head xs\n",
    "  \n",
    "tailSL :: SymList a -> SymList a\n",
    "tailSL (SymList (xs, ys))\n",
    "  | null xs || null ys = emptySL\n",
    "  | length xs > 1 = SymList (tail xs, ys)\n",
    "  | otherwise = SymList (reverse vs, us)\n",
    "  where\n",
    "    (us, vs) = splitAt (length ys `div` 2) ys\n",
    "    \n",
    "initSL :: SymList a -> SymList a\n",
    "initSL (SymList (xs, ys))\n",
    "  | null xs || null ys = emptySL\n",
    "  | length ys > 1 = SymList (xs, tail ys)\n",
    "  | otherwise = SymList (us, reverse vs)\n",
    "  where\n",
    "    (us, vs) = splitAt (length xs `div` 2) xs\n",
    "  \n",
    "emptySL :: SymList a\n",
    "emptySL = SymList ([], [])"
   ]
  },
  {
   "cell_type": "markdown",
   "metadata": {},
   "source": [
    "We can use the symmetric list to define `inits` such that `length . inits` takes linear time. It is an online function meaning it works over infinite lists."
   ]
  },
  {
   "cell_type": "code",
   "execution_count": 13,
   "metadata": {},
   "outputs": [],
   "source": [
    "inits :: [a] -> [[a]]\n",
    "inits = map fromSL . scanl (flip snocSL) emptySL"
   ]
  },
  {
   "cell_type": "markdown",
   "metadata": {},
   "source": [
    "### Random-access Lists\n",
    "We can use a binary tree to build a structure that supports logarithmic operations for cons, snoc, tail, and indexing."
   ]
  },
  {
   "cell_type": "code",
   "execution_count": 17,
   "metadata": {},
   "outputs": [],
   "source": [
    "data Tree a\n",
    "  = Leaf a\n",
    "  | Node Word (Tree a) (Tree a)\n",
    "  deriving (Show, Eq, Ord)\n",
    "  \n",
    "size :: Tree a -> Word\n",
    "size (Leaf _) = 1\n",
    "size (Node l _ _) = l\n",
    "\n",
    "node :: Tree a -> Tree a -> Tree a\n",
    "node t1 t2 = Node (size t1 + size t2) t1 t2"
   ]
  },
  {
   "cell_type": "markdown",
   "metadata": {},
   "source": [
    "The Trees we will work with will always be \"perfect\" meaning that they have sizes of the form 2^p for p >= 0. This will garuanteed by the operations.\n",
    "\n",
    "We will arrange a list of perfect Trees such that the sizes of those trees correspond to a binary number in reverse order. So we represent 6 elements as 011 = [Zero, One (Node 2 ...), One (Node 4 ...].\n",
    "\n",
    "Here is the definition of the random-access list:"
   ]
  },
  {
   "cell_type": "code",
   "execution_count": 37,
   "metadata": {},
   "outputs": [],
   "source": [
    "data Digit a = Zero | One (Tree a)\n",
    "type RAList a = [Digit a]\n",
    "\n",
    "fromRA :: RAList a -> [a]\n",
    "fromRA = concatMap from where\n",
    "  from Zero = []\n",
    "  from (One t) = fromT t\n",
    "  fromT (Leaf a) = [a]\n",
    "  fromT (Node _ t1 t2) = foldr (:) (fromT t2) $ fromT t1\n",
    "  \n",
    "fetchRA :: Word -> RAList a -> a\n",
    "fetchRA k (Zero : xs) = fetchRA k xs\n",
    "fetchRA k (One t : xs)\n",
    "  | k < size t = fetchT k t\n",
    "  | otherwise = fetchRA (k - size t) xs\n",
    "  where\n",
    "    fetchT 0 (Leaf a) = a\n",
    "    fetchT k (Node s l r)\n",
    "      | k < m = fetchT k l\n",
    "      | otherwise = fetchT (k - m) r\n",
    "      where m = s `div` 2\n",
    "      \n",
    "nullRA :: RAList a -> Bool\n",
    "nullRA = null\n",
    "\n",
    "nilRA :: RAList a\n",
    "nilRA = []\n",
    "\n",
    "updateRA :: Word -> a -> RAList a -> RAList a\n",
    "updateRA _ _ [] = []\n",
    "updateRA k x (Zero : xs) = Zero : updateRA k x xs\n",
    "updateRA k x (One t : xs)\n",
    "  | k < size t = One (updateT k x t) : xs\n",
    "  | otherwise = One t : updateRA (k - size t) x xs\n",
    "  where\n",
    "    updateT 0 x (Leaf _) = Leaf x\n",
    "    updateT k x (Node s t1 t2)\n",
    "      | k < m = Node s (updateT k x t1) t2\n",
    "      | otherwise = Node s t1 (updateT (k - m) x t2)\n",
    "      where m = s `div` 2\n",
    "      \n",
    "consRA :: a -> RAList a -> RAList a\n",
    "consRA x xs = consT (Leaf x) xs where\n",
    "  consT t [] = [One t]\n",
    "  consT t (Zero : xs) = One t : xs\n",
    "  consT t1 (One t2 : xs) = Zero : consT (node t1 t2) xs\n",
    "  \n",
    "unconsRA :: RAList a -> (a, RAList a)\n",
    "unconsRA xs = (x, ys) where\n",
    "  (Leaf x, ys) = unconsT xs\n",
    "  unconsT (One t : xs) = if null xs then (t, []) else (t, Zero : xs)\n",
    "  unconsT (Zero : xs) = (t1, One t2 : ys) where (Node _ t1 t2, ys) = unconsT xs \n",
    "  \n",
    "headRA :: RAList a -> a\n",
    "headRA = fst . unconsRA\n",
    "\n",
    "tailRA :: RAList a -> RAList a\n",
    "tailRA = snd . unconsRA"
   ]
  },
  {
   "cell_type": "code",
   "execution_count": null,
   "metadata": {},
   "outputs": [],
   "source": []
  }
 ],
 "metadata": {
  "kernelspec": {
   "display_name": "Haskell",
   "language": "haskell",
   "name": "haskell"
  },
  "language_info": {
   "codemirror_mode": "ihaskell",
   "file_extension": ".hs",
   "name": "haskell",
   "pygments_lexer": "Haskell",
   "version": "8.6.3"
  }
 },
 "nbformat": 4,
 "nbformat_minor": 2
}
