{
 "cells": [
  {
   "cell_type": "markdown",
   "metadata": {},
   "source": [
    "# MonadIOControl\n",
    "###### (https://www.fpcomplete.com/blog/2017/06/tale-of-two-brackets)\n",
    "\n",
    "Let's say we want to implement the error handling family of functions specifically for the `StateT` monad transformer"
   ]
  },
  {
   "cell_type": "code",
   "execution_count": 62,
   "metadata": {},
   "outputs": [],
   "source": [
    ":m Control.Monad.Trans.State\n",
    ":m Control.Exception\n",
    "\n",
    "tryStateT :: Exception e => StateT s IO a -> StateT s IO (Either e a)\n",
    "tryStateT (StateT f) = StateT $ \\s0 -> do\n",
    "  eres <- try $ f s0\n",
    "  case eres of\n",
    "    Left err -> pure (Left err, s0)\n",
    "    Right (a, s1) -> pure (Right a, s1)\n",
    "    \n",
    "catchStateT :: Exception e => StateT s IO a -> (e -> StateT s IO a) -> StateT s IO a\n",
    "catchStateT (StateT f) errHandler = StateT $ \\s0 -> do\n",
    "  catch (f s0) $ \\err ->\n",
    "    runStateT (errHandler err) s0\n",
    "    \n",
    "finallyStateT :: StateT s IO a -> StateT s IO b -> StateT s IO a\n",
    "finallyStateT (StateT f) (StateT final) = StateT $ \\s0 -> mask $ \\restore -> do\n",
    "  (a, s1) <- restore (f s0) `onException` final s0\n",
    "  (_b, s2) <- final s1\n",
    "  pure (a, s2)"
   ]
  },
  {
   "cell_type": "markdown",
   "metadata": {},
   "source": [
    "Note that other possible implementations exist for `finallyStateT` which do not propogate the state fully. The final action could be a plain IO, or the initial state could be used for both the action and the final. Having a plain IO final will have better performance characteristics because it doesn't have to deal with the extra state.\n",
    "\n",
    "Now we can try to generalize this approach for any MonadTransformer. Let's start by factoring out the parts that deal with StateT specifically from the parts that don't"
   ]
  },
  {
   "cell_type": "code",
   "execution_count": 61,
   "metadata": {},
   "outputs": [],
   "source": [
    ":ext RankNTypes\n",
    "\n",
    "type Run s = forall b. StateT s IO b -> IO (b, s)\n",
    "\n",
    "capture :: forall s a. (Run s -> IO a) -> StateT s IO a\n",
    "capture withRun = StateT $ \\s -> do\n",
    "  let run :: Run s\n",
    "      run (StateT f) = f s\n",
    "  a <- withRun run\n",
    "  pure (a, s)\n",
    "  \n",
    "restoreState :: (a, s) -> StateT s IO a\n",
    "restoreState st = StateT $ \\_s -> pure st\n",
    "\n",
    "finallyStateT :: StateT s IO a -> StateT s IO b -> StateT s IO a\n",
    "finallyStateT action final = do\n",
    "  x <- capture $ \\run -> run action `onException` run final\n",
    "  a <- restoreState x\n",
    "  _b <- final\n",
    "  pure a"
   ]
  },
  {
   "cell_type": "markdown",
   "metadata": {},
   "source": [
    "This confused me until I realized that the `a` in `capture` is typically going to be `(a, s)`.\n",
    "\n",
    "Now let's write a type class that generalizes this construction over the IO monad."
   ]
  },
  {
   "cell_type": "code",
   "execution_count": 43,
   "metadata": {},
   "outputs": [],
   "source": [
    ":ext TypeFamilies\n",
    ":m Control.Monad.IO.Class\n",
    "\n",
    "type RunInIO m = forall b. MonadIOControl m => m b -> IO (StM m b)\n",
    "\n",
    "class MonadIO m => MonadIOControl m where\n",
    "  type StM m a :: *\n",
    "  \n",
    "  liftIOWith :: (RunInIO m -> IO a) -> m a\n",
    "  restoreM :: StM m a -> m a "
   ]
  },
  {
   "cell_type": "markdown",
   "metadata": {},
   "source": [
    "`listIOWith` takes a function which tells it how to take some function of the form `RunInIO` (which takes an action and produces the state context in IO) and produce an IO result from it. Given such a function, it produces a stateful computation of the same result type. So by passing the `withRun` argument function a `RunInIO` we get an IO action whose result we need to then represent in our monadic context.\n",
    "\n",
    "Writing an `IO` instance of this class is easy"
   ]
  },
  {
   "cell_type": "code",
   "execution_count": 44,
   "metadata": {},
   "outputs": [],
   "source": [
    "instance MonadIOControl IO where\n",
    "  type StM IO a = a -- there's no additional state\n",
    "  \n",
    "  liftIOWith withRun = withRun id -- no additional context\n",
    "  restoreM = pure"
   ]
  },
  {
   "cell_type": "markdown",
   "metadata": {},
   "source": [
    "Now let's write a `StateT` instance"
   ]
  },
  {
   "cell_type": "code",
   "execution_count": 51,
   "metadata": {},
   "outputs": [],
   "source": [
    "{-\n",
    "instance MonadIOControl (StateT s IO) where\n",
    "  type StM (StateT s IO) a = (a, s)\n",
    "  \n",
    "  liftIOWith withRun = StateT $ \\s -> do \n",
    "    a <- withRun $ \\(StateT f) -> f s\n",
    "    pure (a, s)\n",
    "  restoreM as = StateT $ \\_s -> pure as\n",
    "-}\n",
    "\n",
    "instance MonadIOControl m => MonadIOControl (StateT s m) where\n",
    "  type StM (StateT s m) a = StM m (a, s)\n",
    "  \n",
    "  liftIOWith withRun = StateT $ \\s -> do\n",
    "    a <- liftIOWith $ \\mbToIOStMmb ->\n",
    "      withRun (\\(StateT f) -> mbToIOStMmb $ f s)\n",
    "    pure (a, s)\n",
    "    \n",
    "  restoreM as = StateT $ \\_s -> restoreM as"
   ]
  },
  {
   "cell_type": "markdown",
   "metadata": {},
   "source": [
    "`MonadIOControl` can be generalized to `MonadBaseControl`"
   ]
  },
  {
   "cell_type": "code",
   "execution_count": null,
   "metadata": {},
   "outputs": [],
   "source": []
  },
  {
   "cell_type": "code",
   "execution_count": null,
   "metadata": {},
   "outputs": [],
   "source": []
  }
 ],
 "metadata": {
  "kernelspec": {
   "display_name": "Haskell",
   "language": "haskell",
   "name": "haskell"
  },
  "language_info": {
   "codemirror_mode": "ihaskell",
   "file_extension": ".hs",
   "name": "haskell",
   "pygments_lexer": "Haskell",
   "version": "8.6.3"
  }
 },
 "nbformat": 4,
 "nbformat_minor": 2
}
