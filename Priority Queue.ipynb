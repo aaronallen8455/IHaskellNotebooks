{
 "cells": [
  {
   "cell_type": "markdown",
   "metadata": {},
   "source": [
    "# Priority Queue"
   ]
  },
  {
   "cell_type": "code",
   "execution_count": 43,
   "metadata": {},
   "outputs": [
    {
     "data": {
      "text/plain": [
       "Queue 1 10 Empty Empty"
      ]
     },
     "metadata": {},
     "output_type": "display_data"
    },
    {
     "data": {
      "text/plain": [
       "Queue 1 5 (Queue 1 10 Empty Empty) Empty"
      ]
     },
     "metadata": {},
     "output_type": "display_data"
    },
    {
     "data": {
      "text/plain": [
       "Queue 2 5 (Queue 1 10 Empty Empty) (Queue 1 20 Empty Empty)"
      ]
     },
     "metadata": {},
     "output_type": "display_data"
    },
    {
     "data": {
      "text/plain": [
       "Queue 2 5 (Queue 1 10 Empty Empty) (Queue 1 15 (Queue 1 20 Empty Empty) Empty)"
      ]
     },
     "metadata": {},
     "output_type": "display_data"
    },
    {
     "data": {
      "text/plain": [
       "Queue 2 5 (Queue 2 15 (Queue 1 20 Empty Empty) (Queue 1 25 Empty Empty)) (Queue 1 10 Empty Empty)"
      ]
     },
     "metadata": {},
     "output_type": "display_data"
    },
    {
     "data": {
      "text/plain": [
       "Just 5"
      ]
     },
     "metadata": {},
     "output_type": "display_data"
    },
    {
     "data": {
      "text/plain": [
       "Queue 1 10 (Queue 2 15 (Queue 1 20 Empty Empty) (Queue 1 25 Empty Empty)) Empty"
      ]
     },
     "metadata": {},
     "output_type": "display_data"
    }
   ],
   "source": [
    ":ext GADTs\n",
    ":ext ScopedTypeVariables\n",
    ":ext StandaloneDeriving\n",
    "\n",
    "data Queue a where\n",
    "  Queue :: (Show a, Ord a) => Int -> a -> Queue a -> Queue a -> Queue a \n",
    "  Empty :: (Show a, Ord a) => Queue a \n",
    "deriving instance Show (Queue a)\n",
    "\n",
    "merge :: forall a. Queue a -> Queue a -> Queue a\n",
    "merge Empty q = q\n",
    "merge q Empty = q\n",
    "merge left@(Queue _ lv ll lr) right@(Queue _ rv rl rr)\n",
    "  | lv <= rv = swap lv ll (merge lr right)\n",
    "  | otherwise = swap rv rl (merge rr left)\n",
    "  where\n",
    "    -- this is to preserve the 'leftist' property: the larger subtree must be on the left\n",
    "    swap :: a -> Queue a -> Queue a -> Queue a\n",
    "    swap v l r = Queue rank v left right where\n",
    "      (left, right) | getRank l >= getRank r = (l, r)\n",
    "                    | otherwise = (r, l)\n",
    "      rank = getRank right + 1\n",
    "      \n",
    "getRank :: Queue a -> Int\n",
    "getRank Empty = 0\n",
    "getRank (Queue r _ _ _) = r\n",
    "\n",
    "singleton :: (Show a, Ord a) => a -> Queue a\n",
    "singleton v = Queue 1 v Empty Empty\n",
    "\n",
    "-- inserting is just merging with a singleton\n",
    "insert :: (Show a, Ord a) => a -> Queue a -> Queue a\n",
    "insert a = merge (singleton a)\n",
    "\n",
    "getMin :: Queue a -> Maybe a\n",
    "getMin Empty = Nothing\n",
    "getMin (Queue _ v _ _) = Just v\n",
    "\n",
    "deleteMin :: Queue a -> Queue a\n",
    "deleteMin Empty = Empty\n",
    "deleteMin (Queue _ _ l r) = merge l r\n",
    "\n",
    "\n",
    "-- try it out\n",
    "q1 = singleton 10\n",
    "q1\n",
    "q2 = insert 5 q1\n",
    "q2\n",
    "q3 = insert 20 q2\n",
    "q3\n",
    "q4 = insert 15 q3\n",
    "q4\n",
    "q5 = insert 25 q4\n",
    "q5\n",
    "getMin q5\n",
    "deleteMin q5"
   ]
  },
  {
   "cell_type": "markdown",
   "metadata": {},
   "source": [
    "## Testing with QuickCheck\n",
    "Lets use `QuickCheck` to verify that our `Queue` adheres to the invariants"
   ]
  },
  {
   "cell_type": "code",
   "execution_count": 45,
   "metadata": {},
   "outputs": [],
   "source": [
    ":m Test.QuickCheck"
   ]
  },
  {
   "cell_type": "markdown",
   "metadata": {},
   "source": [
    "`QuickCheck` generates the tests for us. We just need to write `properties` for it to verify.\n",
    "\n",
    "We also need arbitrary instances of `Queue`. For this we'll use the `Arbitrary` class. We'll use the `Gen` monad to make a queue from a list of values."
   ]
  },
  {
   "cell_type": "code",
   "execution_count": 50,
   "metadata": {},
   "outputs": [
    {
     "data": {
      "text/html": [
       "<style>/* Styles used for the Hoogle display in the pager */\n",
       ".hoogle-doc {\n",
       "display: block;\n",
       "padding-bottom: 1.3em;\n",
       "padding-left: 0.4em;\n",
       "}\n",
       ".hoogle-code {\n",
       "display: block;\n",
       "font-family: monospace;\n",
       "white-space: pre;\n",
       "}\n",
       ".hoogle-text {\n",
       "display: block;\n",
       "}\n",
       ".hoogle-name {\n",
       "color: green;\n",
       "font-weight: bold;\n",
       "}\n",
       ".hoogle-head {\n",
       "font-weight: bold;\n",
       "}\n",
       ".hoogle-sub {\n",
       "display: block;\n",
       "margin-left: 0.4em;\n",
       "}\n",
       ".hoogle-package {\n",
       "font-weight: bold;\n",
       "font-style: italic;\n",
       "}\n",
       ".hoogle-module {\n",
       "font-weight: bold;\n",
       "}\n",
       ".hoogle-class {\n",
       "font-weight: bold;\n",
       "}\n",
       ".get-type {\n",
       "color: green;\n",
       "font-weight: bold;\n",
       "font-family: monospace;\n",
       "display: block;\n",
       "white-space: pre-wrap;\n",
       "}\n",
       ".show-type {\n",
       "color: green;\n",
       "font-weight: bold;\n",
       "font-family: monospace;\n",
       "margin-left: 1em;\n",
       "}\n",
       ".mono {\n",
       "font-family: monospace;\n",
       "display: block;\n",
       "}\n",
       ".err-msg {\n",
       "color: red;\n",
       "font-style: italic;\n",
       "font-family: monospace;\n",
       "white-space: pre;\n",
       "display: block;\n",
       "}\n",
       "#unshowable {\n",
       "color: red;\n",
       "font-weight: bold;\n",
       "}\n",
       ".err-msg.in.collapse {\n",
       "padding-top: 0.7em;\n",
       "}\n",
       ".highlight-code {\n",
       "white-space: pre;\n",
       "font-family: monospace;\n",
       "}\n",
       ".suggestion-warning { \n",
       "font-weight: bold;\n",
       "color: rgb(200, 130, 0);\n",
       "}\n",
       ".suggestion-error { \n",
       "font-weight: bold;\n",
       "color: red;\n",
       "}\n",
       ".suggestion-name {\n",
       "font-weight: bold;\n",
       "}\n",
       "</style><span class='get-type'>arbitrary :: forall a. Arbitrary a => Gen a</span>"
      ],
      "text/plain": [
       "arbitrary :: forall a. Arbitrary a => Gen a"
      ]
     },
     "metadata": {},
     "output_type": "display_data"
    },
    {
     "data": {
      "text/html": [
       "<style>/* Styles used for the Hoogle display in the pager */\n",
       ".hoogle-doc {\n",
       "display: block;\n",
       "padding-bottom: 1.3em;\n",
       "padding-left: 0.4em;\n",
       "}\n",
       ".hoogle-code {\n",
       "display: block;\n",
       "font-family: monospace;\n",
       "white-space: pre;\n",
       "}\n",
       ".hoogle-text {\n",
       "display: block;\n",
       "}\n",
       ".hoogle-name {\n",
       "color: green;\n",
       "font-weight: bold;\n",
       "}\n",
       ".hoogle-head {\n",
       "font-weight: bold;\n",
       "}\n",
       ".hoogle-sub {\n",
       "display: block;\n",
       "margin-left: 0.4em;\n",
       "}\n",
       ".hoogle-package {\n",
       "font-weight: bold;\n",
       "font-style: italic;\n",
       "}\n",
       ".hoogle-module {\n",
       "font-weight: bold;\n",
       "}\n",
       ".hoogle-class {\n",
       "font-weight: bold;\n",
       "}\n",
       ".get-type {\n",
       "color: green;\n",
       "font-weight: bold;\n",
       "font-family: monospace;\n",
       "display: block;\n",
       "white-space: pre-wrap;\n",
       "}\n",
       ".show-type {\n",
       "color: green;\n",
       "font-weight: bold;\n",
       "font-family: monospace;\n",
       "margin-left: 1em;\n",
       "}\n",
       ".mono {\n",
       "font-family: monospace;\n",
       "display: block;\n",
       "}\n",
       ".err-msg {\n",
       "color: red;\n",
       "font-style: italic;\n",
       "font-family: monospace;\n",
       "white-space: pre;\n",
       "display: block;\n",
       "}\n",
       "#unshowable {\n",
       "color: red;\n",
       "font-weight: bold;\n",
       "}\n",
       ".err-msg.in.collapse {\n",
       "padding-top: 0.7em;\n",
       "}\n",
       ".highlight-code {\n",
       "white-space: pre;\n",
       "font-family: monospace;\n",
       "}\n",
       ".suggestion-warning { \n",
       "font-weight: bold;\n",
       "color: rgb(200, 130, 0);\n",
       "}\n",
       ".suggestion-error { \n",
       "font-weight: bold;\n",
       "color: red;\n",
       "}\n",
       ".suggestion-name {\n",
       "font-weight: bold;\n",
       "}\n",
       "</style><span class='get-type'>listOf :: forall a. Gen a -> Gen [a]</span>"
      ],
      "text/plain": [
       "listOf :: forall a. Gen a -> Gen [a]"
      ]
     },
     "metadata": {},
     "output_type": "display_data"
    }
   ],
   "source": [
    "qFromList :: (Show a, Ord a) => [a] -> Gen (Queue a)\n",
    "qFromList = return . foldr insert Empty\n",
    "\n",
    "instance (Arbitrary a, Show a, Ord a) => Arbitrary (Queue a) where\n",
    "  arbitrary = listOf arbitrary >>= qFromList\n",
    "  \n",
    ":t arbitrary\n",
    ":t listOf"
   ]
  },
  {
   "cell_type": "markdown",
   "metadata": {},
   "source": [
    "Lets first verify that the 'leftist' property holds. To do this we write a function that takes a tree and verifies that each node follows the rule. We will verify that nodes store their rank in the process."
   ]
  },
  {
   "cell_type": "code",
   "execution_count": 60,
   "metadata": {},
   "outputs": [],
   "source": [
    "verifyLeftist :: Queue a -> Bool\n",
    "verifyLeftist Empty = True\n",
    "verifyLeftist q@(Queue rank _ l r) =\n",
    "  and [ qrank q == rank\n",
    "      , qrank l >= qrank r\n",
    "      , verifyLeftist l\n",
    "      , verifyLeftist r\n",
    "      ]\n",
    " where\n",
    "   qrank Empty = 0\n",
    "   qrank (Queue _ _ l r) = 1 + min (qrank l) (qrank r)"
   ]
  },
  {
   "cell_type": "markdown",
   "metadata": {},
   "source": [
    "We also want to verify the heap ordering property."
   ]
  },
  {
   "cell_type": "code",
   "execution_count": 65,
   "metadata": {},
   "outputs": [],
   "source": [
    ":m Data.Maybe\n",
    "\n",
    "verifyHeap :: Queue a -> Bool\n",
    "verifyHeap Empty = True\n",
    "verifyHeap q@(Queue _ _ l r) =\n",
    "  and [ comp q l\n",
    "      , comp q r\n",
    "      , verifyHeap l\n",
    "      , verifyHeap r ]\n",
    " where\n",
    "   comp root child = fromMaybe True $ (<=) <$> (getMin root) <*> (getMin child)"
   ]
  },
  {
   "cell_type": "markdown",
   "metadata": {},
   "source": [
    "Now we can run `quickCheck` against these functions."
   ]
  },
  {
   "cell_type": "code",
   "execution_count": 66,
   "metadata": {},
   "outputs": [
    {
     "data": {
      "text/plain": [
       "+++ OK, passed 100 tests."
      ]
     },
     "metadata": {},
     "output_type": "display_data"
    },
    {
     "data": {
      "text/plain": [
       "+++ OK, passed 100 tests."
      ]
     },
     "metadata": {},
     "output_type": "display_data"
    }
   ],
   "source": [
    "quickCheck (verifyLeftist :: Queue Int -> Bool)\n",
    "quickCheck (verifyHeap :: Queue Int -> Bool)"
   ]
  },
  {
   "cell_type": "code",
   "execution_count": null,
   "metadata": {},
   "outputs": [],
   "source": []
  }
 ],
 "metadata": {
  "kernelspec": {
   "display_name": "Haskell",
   "language": "haskell",
   "name": "haskell"
  },
  "language_info": {
   "codemirror_mode": "ihaskell",
   "file_extension": ".hs",
   "name": "haskell",
   "pygments_lexer": "Haskell",
   "version": "8.6.3"
  }
 },
 "nbformat": 4,
 "nbformat_minor": 2
}
