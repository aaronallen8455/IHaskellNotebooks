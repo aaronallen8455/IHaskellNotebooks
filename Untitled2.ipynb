{
 "cells": [
  {
   "cell_type": "markdown",
   "metadata": {},
   "source": [
    "# Breadth First Search\n",
    "###### (https://doisinkidney.com/posts/2018-03-17-rose-trees-breadth-first.html)\n",
    "Breadth first searches are traditionally implemented using a data structure resembling a queue. In Haskell we can do this using `Data.Sequence` or two lists. However, both of these are more than we really need."
   ]
  },
  {
   "cell_type": "code",
   "execution_count": 14,
   "metadata": {},
   "outputs": [],
   "source": [
    "data Tree a = Node a (Forest a)\n",
    "type Forest a = [Tree a]\n",
    "\n",
    "exampleTree :: Tree Char\n",
    "exampleTree = Node '1' [t1, t2, t3] where\n",
    "  t1 = Node 'q' [Node 'a' [], Node 's' []]\n",
    "  t2 = Node 'w' [Node 'd' [Node 'z' []]]\n",
    "  t3 = Node 'e' []\n",
    "\n",
    "breadthFirst :: Tree a -> [a]\n",
    "breadthFirst tr = go (singleton tr) where\n",
    "  go q = case pop q of\n",
    "    Nothing -> []\n",
    "    Just (Node x xs, qs) -> x : go (qs `append` xs)\n",
    "    \n",
    "-- singleton, pop, and append are part of some queue API\n",
    "-- could be implemented very naively as\n",
    "type Queue a = [a]\n",
    "singleton :: a -> Queue a\n",
    "singleton = (:[])\n",
    "\n",
    "pop :: Queue a -> Maybe (a, Queue a)\n",
    "pop [] = Nothing\n",
    "pop (x:xs) = Just (x, xs)\n",
    "\n",
    "append = (++)"
   ]
  },
  {
   "cell_type": "markdown",
   "metadata": {},
   "source": [
    "Instead of `pop`, The `go` function can be expressed as a fold.\n",
    "The `append` does not need to stick the items onto the queue immediately, it can batch them, first appending to a structure that is efficient for appends, then converting to a structure that is efficient for folds."
   ]
  },
  {
   "cell_type": "code",
   "execution_count": 16,
   "metadata": {},
   "outputs": [
    {
     "data": {
      "text/plain": [
       "\"1qweasdz\""
      ]
     },
     "metadata": {},
     "output_type": "display_data"
    }
   ],
   "source": [
    ":ext ScopedTypeVariables\n",
    "\n",
    "breadthFirst :: Forest a -> [a]\n",
    "breadthFirst ts = b [ts] where --foldr f b ts [] where\n",
    "  f :: Tree a -> ([Forest a] -> [a]) -> [Forest a] -> [a]\n",
    "  f (Node x xs) fw bw = x : fw (xs : bw) -- will be consumed in the right order due to left fold\n",
    "  \n",
    "  b :: [Forest a] -> [a]\n",
    "  b [] = []\n",
    "  b qs = foldl (foldr f) b qs ([] :: [Forest a]) -- foldr f q1 b $ foldr f q2 b $ foldr f q3 b $ []\n",
    "  \n",
    "breadthFirst [exampleTree]"
   ]
  },
  {
   "cell_type": "markdown",
   "metadata": {},
   "source": [
    "The `b` function does a right fold over a list of `Forest a`s, turning it into a list of `a`s in breadth first order. So it goes left to right, running `foldr f b q` on each forest. The result of this `foldl` is a function that takes a list of Forests which will be the argument to the result of the `foldr` that gets applied to the last Forest in the input list. This list of forests is just an empty list, so it would look like `foldr f b q []`.\n",
    "This `foldr` applies `f x b` to each tree in the forest. This produces a function that takes a `[Forest a]` and chains these functions together."
   ]
  },
  {
   "cell_type": "code",
   "execution_count": null,
   "metadata": {},
   "outputs": [],
   "source": []
  }
 ],
 "metadata": {
  "kernelspec": {
   "display_name": "Haskell",
   "language": "haskell",
   "name": "haskell"
  },
  "language_info": {
   "codemirror_mode": "ihaskell",
   "file_extension": ".hs",
   "name": "haskell",
   "pygments_lexer": "Haskell",
   "version": "8.6.3"
  }
 },
 "nbformat": 4,
 "nbformat_minor": 2
}
