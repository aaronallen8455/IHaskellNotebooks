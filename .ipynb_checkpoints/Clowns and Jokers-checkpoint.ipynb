{
 "cells": [
  {
   "cell_type": "markdown",
   "metadata": {},
   "source": [
    "# Clowns and Jokers\n",
    "###### (http://strictlypositive.org/CJ.pdf)\n",
    "\n",
    "Here we have a simple expression language encoding and its evaluator:"
   ]
  },
  {
   "cell_type": "code",
   "execution_count": 1,
   "metadata": {},
   "outputs": [],
   "source": [
    "data Expr = Val Int | Add Expr Expr\n",
    "\n",
    "eval :: Expr -> Int\n",
    "eval (Val x) = x\n",
    "eval (Add expr1 expr2) = eval expr1 + eval expr2\n",
    "\n",
    "-- note: this is an 'initial' encoding, not a 'final'"
   ]
  },
  {
   "cell_type": "markdown",
   "metadata": {},
   "source": [
    "Instead of this direct traversal, we can encode each step of the traversal explicitly in order to express it as a tail recursive 'eval machine'.\n",
    "\n",
    "We do this by observing that when we encounter an `Add` we will need to 1) store the right expression argument, 2) traverse the left argument, 3) store the `Int` result of that traversal, 4) evaluate the stored expression, 5) add the result with the stored result."
   ]
  },
  {
   "cell_type": "code",
   "execution_count": 2,
   "metadata": {},
   "outputs": [],
   "source": [
    "type Stack = [Either Expr Int]\n",
    "\n",
    "eval :: Expr -> Int\n",
    "eval e = load e []\n",
    "\n",
    "load :: Expr -> Stack -> Int\n",
    "load (Val x) stack = unload x stack\n",
    "load (Add expr1 expr2) stack = load expr1 (Left expr2 : stack)\n",
    "\n",
    "unload :: Int -> Stack -> Int\n",
    "unload x [] = x\n",
    "unload x (Left e : stack) = load e (Right x : stack)\n",
    "unload x (Right y : stack) = unload (x + y) stack"
   ]
  },
  {
   "cell_type": "markdown",
   "metadata": {},
   "source": [
    "Each layer of the `Stack` is a **dissection** of `Expr`'s recursion pattern. There are two ways that the traversal can be frozen midway, whereby we are 'stuck in the middle'.\n",
    "\n",
    "We could be on the *left* with an `Expr` on the right ahead of us. (things on the right are the 'jokers')\n",
    "\n",
    "Or we could be on the *right* with an `Int` cached to the left of us. (things on the left are the 'clowns')\n",
    "\n",
    "We want to be able to calculate the 'machine' associated with *any* fold over finite first-order data.\n",
    "\n",
    "## Polynomial Functors and Bifunctors\n",
    "\n",
    "If we are going to work with data structures in a generic way, we need to represent them in a generic way. We do this with a set of constructors that capture polynomial type constructors. Here is the kit of constructors for a data structure with a single type parameter:"
   ]
  },
  {
   "cell_type": "code",
   "execution_count": 3,
   "metadata": {},
   "outputs": [],
   "source": [
    ":ext TypeOperators\n",
    "\n",
    "data K' a      x = K' a  -- constant\n",
    "data Id        x = Id x  -- identity\n",
    "data (p :+: q) x = L' (p x) | R' (q x)  -- choice\n",
    "data (p :*: q) x = p x :*: q x  -- pairing\n",
    "\n",
    "type One' = K' ()\n",
    "\n",
    "-- These are labeled with the single ' or a single : to distinquish from their bifunctor cousins"
   ]
  },
  {
   "cell_type": "markdown",
   "metadata": {},
   "source": [
    "Here is how we express `Maybe` as a polynomial:"
   ]
  },
  {
   "cell_type": "code",
   "execution_count": 4,
   "metadata": {},
   "outputs": [],
   "source": [
    "type MaybeP = One' :+: Id\n",
    "-- NothingP = L' (K' ())\n",
    "-- JustP x = R' (Id x)"
   ]
  },
  {
   "cell_type": "markdown",
   "metadata": {},
   "source": [
    "This kit approach allows us to establish properties of whole classes of data types at once."
   ]
  },
  {
   "cell_type": "code",
   "execution_count": 5,
   "metadata": {},
   "outputs": [
    {
     "data": {
      "text/html": [
       "<style>/* Styles used for the Hoogle display in the pager */\n",
       ".hoogle-doc {\n",
       "display: block;\n",
       "padding-bottom: 1.3em;\n",
       "padding-left: 0.4em;\n",
       "}\n",
       ".hoogle-code {\n",
       "display: block;\n",
       "font-family: monospace;\n",
       "white-space: pre;\n",
       "}\n",
       ".hoogle-text {\n",
       "display: block;\n",
       "}\n",
       ".hoogle-name {\n",
       "color: green;\n",
       "font-weight: bold;\n",
       "}\n",
       ".hoogle-head {\n",
       "font-weight: bold;\n",
       "}\n",
       ".hoogle-sub {\n",
       "display: block;\n",
       "margin-left: 0.4em;\n",
       "}\n",
       ".hoogle-package {\n",
       "font-weight: bold;\n",
       "font-style: italic;\n",
       "}\n",
       ".hoogle-module {\n",
       "font-weight: bold;\n",
       "}\n",
       ".hoogle-class {\n",
       "font-weight: bold;\n",
       "}\n",
       ".get-type {\n",
       "color: green;\n",
       "font-weight: bold;\n",
       "font-family: monospace;\n",
       "display: block;\n",
       "white-space: pre-wrap;\n",
       "}\n",
       ".show-type {\n",
       "color: green;\n",
       "font-weight: bold;\n",
       "font-family: monospace;\n",
       "margin-left: 1em;\n",
       "}\n",
       ".mono {\n",
       "font-family: monospace;\n",
       "display: block;\n",
       "}\n",
       ".err-msg {\n",
       "color: red;\n",
       "font-style: italic;\n",
       "font-family: monospace;\n",
       "white-space: pre;\n",
       "display: block;\n",
       "}\n",
       "#unshowable {\n",
       "color: red;\n",
       "font-weight: bold;\n",
       "}\n",
       ".err-msg.in.collapse {\n",
       "padding-top: 0.7em;\n",
       "}\n",
       ".highlight-code {\n",
       "white-space: pre;\n",
       "font-family: monospace;\n",
       "}\n",
       ".suggestion-warning { \n",
       "font-weight: bold;\n",
       "color: rgb(200, 130, 0);\n",
       "}\n",
       ".suggestion-error { \n",
       "font-weight: bold;\n",
       "color: red;\n",
       "}\n",
       ".suggestion-name {\n",
       "font-weight: bold;\n",
       "}\n",
       "</style><span class='get-type'>fmap (+3) foo :: (:+:) One' Id Int</span>"
      ],
      "text/plain": [
       "fmap (+3) foo :: (:+:) One' Id Int"
      ]
     },
     "metadata": {},
     "output_type": "display_data"
    },
    {
     "data": {
      "text/html": [
       "<style>/* Styles used for the Hoogle display in the pager */\n",
       ".hoogle-doc {\n",
       "display: block;\n",
       "padding-bottom: 1.3em;\n",
       "padding-left: 0.4em;\n",
       "}\n",
       ".hoogle-code {\n",
       "display: block;\n",
       "font-family: monospace;\n",
       "white-space: pre;\n",
       "}\n",
       ".hoogle-text {\n",
       "display: block;\n",
       "}\n",
       ".hoogle-name {\n",
       "color: green;\n",
       "font-weight: bold;\n",
       "}\n",
       ".hoogle-head {\n",
       "font-weight: bold;\n",
       "}\n",
       ".hoogle-sub {\n",
       "display: block;\n",
       "margin-left: 0.4em;\n",
       "}\n",
       ".hoogle-package {\n",
       "font-weight: bold;\n",
       "font-style: italic;\n",
       "}\n",
       ".hoogle-module {\n",
       "font-weight: bold;\n",
       "}\n",
       ".hoogle-class {\n",
       "font-weight: bold;\n",
       "}\n",
       ".get-type {\n",
       "color: green;\n",
       "font-weight: bold;\n",
       "font-family: monospace;\n",
       "display: block;\n",
       "white-space: pre-wrap;\n",
       "}\n",
       ".show-type {\n",
       "color: green;\n",
       "font-weight: bold;\n",
       "font-family: monospace;\n",
       "margin-left: 1em;\n",
       "}\n",
       ".mono {\n",
       "font-family: monospace;\n",
       "display: block;\n",
       "}\n",
       ".err-msg {\n",
       "color: red;\n",
       "font-style: italic;\n",
       "font-family: monospace;\n",
       "white-space: pre;\n",
       "display: block;\n",
       "}\n",
       "#unshowable {\n",
       "color: red;\n",
       "font-weight: bold;\n",
       "}\n",
       ".err-msg.in.collapse {\n",
       "padding-top: 0.7em;\n",
       "}\n",
       ".highlight-code {\n",
       "white-space: pre;\n",
       "font-family: monospace;\n",
       "}\n",
       ".suggestion-warning { \n",
       "font-weight: bold;\n",
       "color: rgb(200, 130, 0);\n",
       "}\n",
       ".suggestion-error { \n",
       "font-weight: bold;\n",
       "color: red;\n",
       "}\n",
       ".suggestion-name {\n",
       "font-weight: bold;\n",
       "}\n",
       "</style><span class='get-type'>fmap (*3) bar :: (:+:) One' Id Int</span>"
      ],
      "text/plain": [
       "fmap (*3) bar :: (:+:) One' Id Int"
      ]
     },
     "metadata": {},
     "output_type": "display_data"
    }
   ],
   "source": [
    "instance Functor (K' a) where\n",
    "  fmap f (K' a) = K' a\n",
    "  \n",
    "instance Functor Id where\n",
    "  fmap f (Id x) = Id $ f x\n",
    "  \n",
    "instance (Functor p, Functor q) => Functor (p :+: q) where\n",
    "  fmap f (L' p) = L' (fmap f p)\n",
    "  fmap f (R' q) = R' (fmap f q)\n",
    "  \n",
    "instance (Functor p, Functor q) => Functor (p :*: q) where\n",
    "  fmap f (p :*: q) = (fmap f p) :*: (fmap f q)\n",
    "  \n",
    "-- MaybeP is now a functor\n",
    "foo = L' (K' ()) :: MaybeP Int\n",
    "bar = R' (Id 5) :: MaybeP Int\n",
    "\n",
    ":t fmap (+3) foo\n",
    ":t fmap (*3) bar"
   ]
  },
  {
   "cell_type": "markdown",
   "metadata": {},
   "source": [
    "The `Expr` type can also be described as a polynomial:"
   ]
  },
  {
   "cell_type": "code",
   "execution_count": 6,
   "metadata": {},
   "outputs": [
    {
     "data": {
      "text/html": [
       "<style>/* Styles used for the Hoogle display in the pager */\n",
       ".hoogle-doc {\n",
       "display: block;\n",
       "padding-bottom: 1.3em;\n",
       "padding-left: 0.4em;\n",
       "}\n",
       ".hoogle-code {\n",
       "display: block;\n",
       "font-family: monospace;\n",
       "white-space: pre;\n",
       "}\n",
       ".hoogle-text {\n",
       "display: block;\n",
       "}\n",
       ".hoogle-name {\n",
       "color: green;\n",
       "font-weight: bold;\n",
       "}\n",
       ".hoogle-head {\n",
       "font-weight: bold;\n",
       "}\n",
       ".hoogle-sub {\n",
       "display: block;\n",
       "margin-left: 0.4em;\n",
       "}\n",
       ".hoogle-package {\n",
       "font-weight: bold;\n",
       "font-style: italic;\n",
       "}\n",
       ".hoogle-module {\n",
       "font-weight: bold;\n",
       "}\n",
       ".hoogle-class {\n",
       "font-weight: bold;\n",
       "}\n",
       ".get-type {\n",
       "color: green;\n",
       "font-weight: bold;\n",
       "font-family: monospace;\n",
       "display: block;\n",
       "white-space: pre-wrap;\n",
       "}\n",
       ".show-type {\n",
       "color: green;\n",
       "font-weight: bold;\n",
       "font-family: monospace;\n",
       "margin-left: 1em;\n",
       "}\n",
       ".mono {\n",
       "font-family: monospace;\n",
       "display: block;\n",
       "}\n",
       ".err-msg {\n",
       "color: red;\n",
       "font-style: italic;\n",
       "font-family: monospace;\n",
       "white-space: pre;\n",
       "display: block;\n",
       "}\n",
       "#unshowable {\n",
       "color: red;\n",
       "font-weight: bold;\n",
       "}\n",
       ".err-msg.in.collapse {\n",
       "padding-top: 0.7em;\n",
       "}\n",
       ".highlight-code {\n",
       "white-space: pre;\n",
       "font-family: monospace;\n",
       "}\n",
       ".suggestion-warning { \n",
       "font-weight: bold;\n",
       "color: rgb(200, 130, 0);\n",
       "}\n",
       ".suggestion-error { \n",
       "font-weight: bold;\n",
       "color: red;\n",
       "}\n",
       ".suggestion-name {\n",
       "font-weight: bold;\n",
       "}\n",
       "</style><span class='get-type'>ExprP :: * -> *</span>"
      ],
      "text/plain": [
       "ExprP :: * -> *"
      ]
     },
     "metadata": {},
     "output_type": "display_data"
    }
   ],
   "source": [
    "type ExprP = K' Int :+: (Id :*: Id)\n",
    "-- ValP i = L' (K' i)\n",
    "-- AddP e1 e2 = R' (Id e1 :*: id e2)\n",
    "\n",
    ":k ExprP"
   ]
  },
  {
   "cell_type": "markdown",
   "metadata": {},
   "source": [
    "We want to show that `Expr` is isomorphic to `ExprP Expr`. To do this we need the Y combinator in order to tie the recursive knot. (`type Expr = ExprP Expr` would result in an infinite type)"
   ]
  },
  {
   "cell_type": "code",
   "execution_count": 7,
   "metadata": {},
   "outputs": [],
   "source": [
    "newtype Fix f = In { out :: f (Fix f) }"
   ]
  },
  {
   "cell_type": "markdown",
   "metadata": {},
   "source": [
    "Now we can complete our reconstruction of `Expr` using our polynomial kit:"
   ]
  },
  {
   "cell_type": "code",
   "execution_count": 8,
   "metadata": {},
   "outputs": [],
   "source": [
    "type Expr = Fix ExprP\n",
    "-- Val i = In (ValP i)\n",
    "-- Add e1 e2 = In (AddP e1 e2)"
   ]
  },
  {
   "cell_type": "markdown",
   "metadata": {},
   "source": [
    "We can fold over this structure using a catamorphism recursion scheme"
   ]
  },
  {
   "cell_type": "code",
   "execution_count": 9,
   "metadata": {},
   "outputs": [
    {
     "data": {
      "text/plain": [
       "5"
      ]
     },
     "metadata": {},
     "output_type": "display_data"
    },
    {
     "data": {
      "text/plain": [
       "5"
      ]
     },
     "metadata": {},
     "output_type": "display_data"
    }
   ],
   "source": [
    "cata :: Functor f => (f a -> a) -> Fix f -> a\n",
    "cata alg = alg . fmap (cata alg) . out\n",
    "\n",
    "eval :: Fix (ExprP) -> Int\n",
    "eval = cata alg where\n",
    "  alg (L' (K' x)) = x\n",
    "  alg (R' (Id v1 :*: Id v2)) = v1 + v2\n",
    "  \n",
    "foo = In (L' ( K' 5)) :: Fix ExprP\n",
    "eval foo\n",
    "\n",
    "bar = In $ R' $ ( Id $ In $ L' $ K' 2 ) :*: ( Id $ In $ L' $ K' 3 ) :: Fix ExprP\n",
    "eval bar"
   ]
  },
  {
   "cell_type": "markdown",
   "metadata": {},
   "source": [
    "How can we express the catamorphism as a first order tail-recursion, like we did with the original non-polymorphic evaluator? We will do this by dissecting `p` to distinguish the clown elements on the left of a chosen position from the joker elements on the right."
   ]
  },
  {
   "cell_type": "markdown",
   "metadata": {},
   "source": [
    "## Polynomial Bifunctors\n",
    "To do the dissection, we need to be able to handle *two* groups of elements. To do this we use a `Bifunctor`, a `Functor` with two parameters."
   ]
  },
  {
   "cell_type": "code",
   "execution_count": 19,
   "metadata": {},
   "outputs": [],
   "source": [
    ":m Data.Bifunctor\n",
    "\n",
    "data K'' a x y = K'' a\n",
    "data Fst x y = Fst x\n",
    "data Snd x y = Snd y\n",
    "data (p :+:: q) x y = L'' (p x y) | R'' (q x y)\n",
    "data (p :*:: q) x y = p x y :*:: q x y\n",
    "\n",
    "type One'' = K'' ()\n",
    "\n",
    "instance Bifunctor (K'' a) where\n",
    "  bimap f g (K'' a) = K'' a\n",
    "instance Bifunctor Fst where\n",
    "  bimap f g (Fst x) = Fst $ f x\n",
    "instance Bifunctor Snd where\n",
    "  bimap f g (Snd x) = Snd $ g x\n",
    "instance (Bifunctor p, Bifunctor q) => Bifunctor (p :+:: q) where\n",
    "  bimap f g (L'' p) = L'' $ bimap f g p\n",
    "  bimap f g (R'' q) = R'' $ bimap f g q\n",
    "instance (Bifunctor p, Bifunctor q) => Bifunctor (p :*:: q) where\n",
    "  bimap f g (p :*:: q) = bimap f g p :*:: bimap f g q"
   ]
  },
  {
   "cell_type": "markdown",
   "metadata": {},
   "source": [
    "Since we will be constructing types that represent the ways to split a position, we need a way to represent the case when a position cannot be split, this is the empty type `Zero` aka `Void` or the initial object:"
   ]
  },
  {
   "cell_type": "code",
   "execution_count": 32,
   "metadata": {},
   "outputs": [],
   "source": [
    "data Zero\n",
    "\n",
    "-- aka absurd\n",
    "magic :: Zero -> a\n",
    "magic x = x `seq` error \"we never get this far\"\n",
    "\n",
    "type Zero' = K' Zero\n",
    "type Zero'' = K'' Zero"
   ]
  },
  {
   "cell_type": "markdown",
   "metadata": {},
   "source": [
    "We can use `p Zero` to represent a container `p` that has no elements. For example:"
   ]
  },
  {
   "cell_type": "code",
   "execution_count": 23,
   "metadata": {},
   "outputs": [],
   "source": [
    "-- this is the only possible value for this type signature\n",
    "emptyList = [] :: [Zero]"
   ]
  },
  {
   "cell_type": "markdown",
   "metadata": {},
   "source": [
    "Since `Zero` is the initial object of the `Hask` category, it can be embedded in any other instance:"
   ]
  },
  {
   "cell_type": "code",
   "execution_count": 31,
   "metadata": {},
   "outputs": [
    {
     "data": {
      "text/html": [
       "<style>/* Styles used for the Hoogle display in the pager */\n",
       ".hoogle-doc {\n",
       "display: block;\n",
       "padding-bottom: 1.3em;\n",
       "padding-left: 0.4em;\n",
       "}\n",
       ".hoogle-code {\n",
       "display: block;\n",
       "font-family: monospace;\n",
       "white-space: pre;\n",
       "}\n",
       ".hoogle-text {\n",
       "display: block;\n",
       "}\n",
       ".hoogle-name {\n",
       "color: green;\n",
       "font-weight: bold;\n",
       "}\n",
       ".hoogle-head {\n",
       "font-weight: bold;\n",
       "}\n",
       ".hoogle-sub {\n",
       "display: block;\n",
       "margin-left: 0.4em;\n",
       "}\n",
       ".hoogle-package {\n",
       "font-weight: bold;\n",
       "font-style: italic;\n",
       "}\n",
       ".hoogle-module {\n",
       "font-weight: bold;\n",
       "}\n",
       ".hoogle-class {\n",
       "font-weight: bold;\n",
       "}\n",
       ".get-type {\n",
       "color: green;\n",
       "font-weight: bold;\n",
       "font-family: monospace;\n",
       "display: block;\n",
       "white-space: pre-wrap;\n",
       "}\n",
       ".show-type {\n",
       "color: green;\n",
       "font-weight: bold;\n",
       "font-family: monospace;\n",
       "margin-left: 1em;\n",
       "}\n",
       ".mono {\n",
       "font-family: monospace;\n",
       "display: block;\n",
       "}\n",
       ".err-msg {\n",
       "color: red;\n",
       "font-style: italic;\n",
       "font-family: monospace;\n",
       "white-space: pre;\n",
       "display: block;\n",
       "}\n",
       "#unshowable {\n",
       "color: red;\n",
       "font-weight: bold;\n",
       "}\n",
       ".err-msg.in.collapse {\n",
       "padding-top: 0.7em;\n",
       "}\n",
       ".highlight-code {\n",
       "white-space: pre;\n",
       "font-family: monospace;\n",
       "}\n",
       ".suggestion-warning { \n",
       "font-weight: bold;\n",
       "color: rgb(200, 130, 0);\n",
       "}\n",
       ".suggestion-error { \n",
       "font-weight: bold;\n",
       "color: red;\n",
       "}\n",
       ".suggestion-name {\n",
       "font-weight: bold;\n",
       "}\n",
       "</style><span class='get-type'>inflate emptyList :: [Int] :: [Int]</span>"
      ],
      "text/plain": [
       "inflate emptyList :: [Int] :: [Int]"
      ]
     },
     "metadata": {},
     "output_type": "display_data"
    }
   ],
   "source": [
    "--inflate :: Functor p => p Zero -> p x\n",
    "--inflate = fmap magic\n",
    "\n",
    "-- or more efficiently:\n",
    "\n",
    ":m Unsafe.Coerce\n",
    "\n",
    "inflate :: Functor p => p Zero -> p x\n",
    "inflate = unsafeCoerce\n",
    "\n",
    ":t inflate emptyList :: [Int]"
   ]
  },
  {
   "cell_type": "markdown",
   "metadata": {},
   "source": [
    "## Clowns, Jokers, and Dissection\n",
    "There are three operators which take polynomial functors to bifunctors."
   ]
  },
  {
   "cell_type": "code",
   "execution_count": 49,
   "metadata": {},
   "outputs": [],
   "source": [
    "-- All clowns\n",
    "-- lifts p uniformly to the bifunctor which uses its left parameter for the elements of p\n",
    "data Clowns p c j = Clowns (p c)\n",
    "instance Functor f => Bifunctor (Clowns f) where\n",
    "  bimap f g (Clowns pc) = Clowns $ fmap f pc\n",
    "  \n",
    "-- Note that Clowns Id ~ Fst\n",
    "\n",
    "-- All jokers\n",
    "data Jokers p c j = Jokers (p j)\n",
    "instance Functor f => Bifunctor (Jokers f) where\n",
    "  bimap f g (Jokers pj) = Jokers $ fmap g pj\n",
    "\n",
    "-- Jokers Id ~ Snd\n",
    "\n",
    "-- The third is the dissection which chooses a position in p and stores clowns to the left and jokers to the right.\n",
    "-- since the definition of this operation depends on the type of its argument, we will use a type class to define it.\n",
    ":ext FunctionalDependencies\n",
    "-- :ext FlexibleInstances\n",
    "-- :ext UndecidableInstances\n",
    "class (Functor p, Bifunctor p') => Diss p p' | p -> p' where\n",
    "  right :: Either (p j) (p' c j, c) -> Either (j, p' c j) (p c)\n",
    "  \n",
    "-- constants have no positions for elements - 0 ways to dissect it\n",
    "instance Diss (K' a) Zero'' where\n",
    "  right x = case x of\n",
    "    Left (K' a) -> Right (K' a)\n",
    "    Right (K'' z, c) -> magic z\n",
    "\n",
    "-- Id functor has a single position - 1 way to dissect it\n",
    "instance Diss Id One'' where\n",
    "  right x = case x of\n",
    "    Left (Id j) -> Left (j, K'' ())\n",
    "    Right (K'' (), c) -> Right (Id c)\n",
    "\n",
    "-- dissecting p :+: q we get either a dissected p or a dissected q\n",
    "instance (Diss p p', Diss q q') => Diss (p :+: q) (p' :+:: q') where\n",
    "  right x = case x of\n",
    "    Left (L' pj) -> mindp (right (Left pj))\n",
    "    Left (R' qj) -> mindq (right (Left qj))\n",
    "    Right (L'' pd, c) -> mindp (right $ Right (pd, c))\n",
    "    Right (R'' qd, c) -> mindq (right $ Right (qd, c))\n",
    "    where\n",
    "      mindp (Left (j, pd)) = Left (j, L'' pd)\n",
    "      mindp (Right pc) = Right (L' pc)\n",
    "      mindq (Left (j, qd)) = Left (j, R'' qd)\n",
    "      mindq (Right qc) = Right (R' qc)\n",
    "\n",
    "-- Dissect a pair by either dissecting the left component and making right component all jokers or vice versa\n",
    "instance (Diss p p', Diss q q') => Diss (p :*: q) ((p' :*:: Jokers q) :+:: (Clowns p :*:: q')) where\n",
    "  right x = case x of\n",
    "    Left (pj :*: qj) -> mindp (right $ Left pj) qj\n",
    "    Right (L'' (pd :*:: (Jokers qj)), c) -> mindp (right $ Right (pd, c)) qj\n",
    "    Right (R'' (Clowns pc :*:: qd), c) -> mindq pc (right $ Right (qd, c))\n",
    "    where\n",
    "      mindp (Left (j, pd)) qj = Left (j, L'' (pd :*:: Jokers qj))\n",
    "      mindp (Right pc) qj = mindq pc (right $ Left qj)\n",
    "      mindq pc (Left (j, qd)) = Left (j, R'' (Clowns pc :*:: qd))\n",
    "      mindq pc (Right qc) = Right (pc :*: qc)"
   ]
  },
  {
   "cell_type": "markdown",
   "metadata": {},
   "source": [
    "Show that the type of the layers of our stack can be calculated from these instances:"
   ]
  },
  {
   "cell_type": "code",
   "execution_count": null,
   "metadata": {},
   "outputs": [],
   "source": [
    "-- Diss (K' Int :+: (Id :*: Id)) -> Zero'' :+:: (One'' :*:: Jokers Id :+:: Clowns Id :*:: One'')\n",
    "-- simplifies to\n",
    "-- Diss (ExprP Int) Expr -> Expr + Int"
   ]
  }
 ],
 "metadata": {
  "kernelspec": {
   "display_name": "Haskell",
   "language": "haskell",
   "name": "haskell"
  },
  "language_info": {
   "codemirror_mode": "ihaskell",
   "file_extension": ".hs",
   "name": "haskell",
   "pygments_lexer": "Haskell",
   "version": "8.2.2"
  }
 },
 "nbformat": 4,
 "nbformat_minor": 2
}
