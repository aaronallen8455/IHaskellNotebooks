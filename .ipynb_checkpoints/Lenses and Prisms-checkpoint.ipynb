{
 "cells": [
  {
   "cell_type": "markdown",
   "metadata": {},
   "source": [
    "# Lenses and Prisms\n",
    "(https://blog.jle.im/entry/lenses-products-prisms-sums.html)\n",
    "\n",
    "Here is the definition of a `Lens'`"
   ]
  },
  {
   "cell_type": "code",
   "execution_count": 33,
   "metadata": {},
   "outputs": [],
   "source": [
    ":ext ExistentialQuantification\n",
    ":ext RecordWildCards\n",
    "\n",
    "import Data.Bifunctor (first)\n",
    "\n",
    "data Lens' s a = forall q. Lens'\n",
    "  { split :: s -> (a, q)\n",
    "  , unsplit :: (a, q) -> s \n",
    "  }\n",
    "  \n",
    "-- let's use it to implement the lens api\n",
    "view :: Lens' s a -> (s -> a)\n",
    "view Lens'{..} = fst . split\n",
    "\n",
    "set :: Lens' s a -> (s -> a -> s)\n",
    "set Lens'{..} x v = let (_, q) = split x in unsplit (v, q)\n",
    "\n",
    "overL :: Lens' s a -> (a -> a) -> (s -> s)\n",
    "overL Lens'{..} f = unsplit . first f . split"
   ]
  },
  {
   "cell_type": "markdown",
   "metadata": {},
   "source": [
    "A simple product type that we can write a lenses for"
   ]
  },
  {
   "cell_type": "code",
   "execution_count": 30,
   "metadata": {},
   "outputs": [
    {
     "data": {
      "text/plain": [
       "\"Bob\""
      ]
     },
     "metadata": {},
     "output_type": "display_data"
    },
    {
     "data": {
      "text/plain": [
       "P {_pName = \"Terry\", _pAge = 40}"
      ]
     },
     "metadata": {},
     "output_type": "display_data"
    }
   ],
   "source": [
    "data Person = P\n",
    "  { _pName :: String\n",
    "  , _pAge :: Int\n",
    "  } deriving Show\n",
    "  \n",
    "pName = Lens'\n",
    "  { split = \\(P n a) -> (n, a)\n",
    "  , unsplit = uncurry P\n",
    "  }\n",
    "\n",
    "pAge = Lens'\n",
    "  { split = \\(P n a) -> (a, n)\n",
    "  , unsplit = uncurry $ flip P\n",
    "  }\n",
    "  \n",
    "view pName $ P \"Bob\" 40\n",
    "set pName (P \"Bob\" 40) \"Terry\""
   ]
  },
  {
   "cell_type": "markdown",
   "metadata": {},
   "source": [
    "This is to demonstrate that a `Lens` is a witness to one side of a product. If the product is `(a, b)`, we have two lenses."
   ]
  },
  {
   "cell_type": "markdown",
   "metadata": {},
   "source": [
    "Prisms are like Lenses except they represent a Sum rather than a Product"
   ]
  },
  {
   "cell_type": "code",
   "execution_count": 51,
   "metadata": {},
   "outputs": [],
   "source": [
    ":ext LambdaCase\n",
    "\n",
    "import Numeric.Natural\n",
    "\n",
    "data Prism' s a = forall q. Prism'\n",
    "  { match :: s -> Either a q\n",
    "  , inject :: Either a q -> s\n",
    "  }\n",
    "  \n",
    "-- implement the prism api\n",
    "preview :: Prism' s a -> s -> Maybe a\n",
    "preview Prism'{..} x = case match x of\n",
    "  Left a -> Just a\n",
    "  _ -> Nothing\n",
    "  \n",
    "review :: Prism' s a -> (a -> s)\n",
    "review Prism'{..} = inject . Left\n",
    "\n",
    "overP :: Prism' s a -> (a -> a) -> (s -> s)\n",
    "overP Prism'{..} f = inject . first f . match\n",
    "\n",
    "data Shape = Circle Double\n",
    "           | RegPoly Natural Double\n",
    "           \n",
    "circlePrism = Prism'\n",
    "  { match = \\case\n",
    "      Circle r -> Left r\n",
    "      RegPoly s l -> Right (s, l)\n",
    "  , inject = \\case\n",
    "      Left r -> Circle r\n",
    "      Right (s, l) -> RegPoly s l\n",
    "  }\n",
    "  \n",
    "polyPrism = Prism'\n",
    "  { match = \\case\n",
    "      RegPoly s l -> Left (s, l)\n",
    "      Circle r -> Right r\n",
    "  , inject = \\case\n",
    "      Left (s, l) -> RegPoly s l\n",
    "      Right r -> Circle r\n",
    "  }"
   ]
  },
  {
   "cell_type": "code",
   "execution_count": null,
   "metadata": {},
   "outputs": [],
   "source": []
  }
 ],
 "metadata": {
  "kernelspec": {
   "display_name": "Haskell",
   "language": "haskell",
   "name": "haskell"
  },
  "language_info": {
   "codemirror_mode": "ihaskell",
   "file_extension": ".hs",
   "name": "haskell",
   "version": "8.2.2"
  }
 },
 "nbformat": 4,
 "nbformat_minor": 2
}
