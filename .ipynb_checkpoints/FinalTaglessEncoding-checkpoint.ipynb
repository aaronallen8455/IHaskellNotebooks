{
 "cells": [
  {
   "cell_type": "markdown",
   "metadata": {},
   "source": [
    "# Tagless Final Encoding\n",
    "##### (http://okmij.org/ftp/tagless-final/course/lecture.pdf)\n",
    "\n",
    "The tagless final style of encoding allows for greater extensability of an embedded DSL than the initial encoding.\n",
    "\n",
    "Initial encoding uses ADTs to construct a syntax tree:"
   ]
  },
  {
   "cell_type": "code",
   "execution_count": 1,
   "metadata": {},
   "outputs": [
    {
     "data": {
      "text/plain": [
       "7"
      ]
     },
     "metadata": {},
     "output_type": "display_data"
    },
    {
     "data": {
      "text/plain": [
       "\"(3+4)\""
      ]
     },
     "metadata": {},
     "output_type": "display_data"
    }
   ],
   "source": [
    "data Exp = Lit Int\n",
    "         | Add Exp Exp\n",
    "         | Neg Exp\n",
    "         \n",
    "eval :: Exp -> Int\n",
    "eval (Lit x) = x\n",
    "eval (Neg e) = negate $ eval e\n",
    "eval (Add a b) = eval a + eval b\n",
    "\n",
    "eval $ Add (Lit 3) (Lit 4)\n",
    "\n",
    "prettyPrint :: Exp -> String\n",
    "prettyPrint e = case e of\n",
    "  Lit x -> show x\n",
    "  Neg e -> \"(-\" ++ prettyPrint e ++ \")\"\n",
    "  Add a b -> \"(\" ++ prettyPrint a ++ '+' : prettyPrint b ++ \")\"\n",
    "  \n",
    "prettyPrint $ Add (Lit 3) (Lit 4)"
   ]
  },
  {
   "cell_type": "markdown",
   "metadata": {},
   "source": [
    "The same using final encoding:"
   ]
  },
  {
   "cell_type": "code",
   "execution_count": 2,
   "metadata": {},
   "outputs": [
    {
     "data": {
      "text/plain": [
       "7"
      ]
     },
     "metadata": {},
     "output_type": "display_data"
    },
    {
     "data": {
      "text/plain": [
       "\"(3+4)\""
      ]
     },
     "metadata": {},
     "output_type": "display_data"
    }
   ],
   "source": [
    ":ext TypeSynonymInstances\n",
    ":ext FlexibleInstances\n",
    "\n",
    "class ExpSYM repr where\n",
    "  lit :: Int -> repr\n",
    "  add :: repr -> repr -> repr\n",
    "  neg :: repr -> repr\n",
    "  \n",
    "instance ExpSYM Int where\n",
    "  lit x = x\n",
    "  add a b = a + b\n",
    "  neg x = negate x\n",
    "  \n",
    "instance ExpSYM String where\n",
    "  lit = show\n",
    "  add a b = \"(\" ++ a ++ '+' : b ++ \")\"\n",
    "  neg x = \"(-\" ++ x ++ \")\"\n",
    "  \n",
    "eval :: Int -> Int\n",
    "eval = id\n",
    "\n",
    "eval $ add (lit 3) (lit 4)\n",
    "\n",
    "prettyPrint :: String -> String\n",
    "prettyPrint = id\n",
    "\n",
    "prettyPrint $ add (lit 3) (lit 4)"
   ]
  },
  {
   "cell_type": "markdown",
   "metadata": {},
   "source": [
    "We can easily extend the language using the final encoding whereas the initial encoding would require that we modify both the ADT and the evaluator and any code that uses these definitions must be recompiled."
   ]
  },
  {
   "cell_type": "code",
   "execution_count": 3,
   "metadata": {},
   "outputs": [
    {
     "data": {
      "text/plain": [
       "12"
      ]
     },
     "metadata": {},
     "output_type": "display_data"
    },
    {
     "data": {
      "text/plain": [
       "\"(3*4)\""
      ]
     },
     "metadata": {},
     "output_type": "display_data"
    }
   ],
   "source": [
    "class MultSYM repr where\n",
    "  mult :: repr -> repr -> repr\n",
    "  \n",
    "instance MultSYM Int where\n",
    "  mult a b = a * b\n",
    "\n",
    "instance MultSYM String where\n",
    "  mult a b = \"(\" ++ a ++ '*' : b ++ \")\"\n",
    "  \n",
    "eval $ mult (lit 3) (lit 4)\n",
    "prettyPrint $ mult (lit 3) (lit 4)"
   ]
  },
  {
   "cell_type": "markdown",
   "metadata": {},
   "source": [
    "We didn't need to alter any existing code for this to work.\n",
    "\n",
    "### Non-fold Interpreters\n",
    "\n",
    "If we want to \"push negation down\" such that there are no double negatives and negation is only ever applied to literals, it's easy to do with the initial encoding / pattern matching, but how do we do it with final encoding where we are not able to access context directly (we need to see context to identify the double negatives)?"
   ]
  },
  {
   "cell_type": "code",
   "execution_count": 4,
   "metadata": {},
   "outputs": [
    {
     "data": {
      "text/plain": [
       "\"(-(-3))\""
      ]
     },
     "metadata": {},
     "output_type": "display_data"
    },
    {
     "data": {
      "text/plain": [
       "\"3\""
      ]
     },
     "metadata": {},
     "output_type": "display_data"
    }
   ],
   "source": [
    "data Ctx = Pos | Neg\n",
    "\n",
    "instance ExpSYM repr => ExpSYM (Ctx -> repr) where\n",
    "  lit n Pos = lit n\n",
    "  lit n Neg = neg (lit n)\n",
    "  neg e Pos = e Neg\n",
    "  neg e Neg = e Pos\n",
    "  add a b ctx = add (a ctx) (b ctx)\n",
    "  \n",
    "instance MultSYM repr => MultSYM (Ctx -> repr) where\n",
    "  mult a b Neg = mult (a Pos) (b Neg)\n",
    "  mult a b Pos = mult (a Pos) (b Pos)\n",
    "  \n",
    "push_neg :: ExpSYM repr => (Ctx -> repr) -> repr\n",
    "push_neg e = e Pos\n",
    "\n",
    "prettyPrint $ neg (neg (lit 3))\n",
    "prettyPrint . push_neg $ neg (neg (lit 3))"
   ]
  },
  {
   "cell_type": "markdown",
   "metadata": {},
   "source": [
    "Now we want to flatten and straighten out addition. We do so by applying right-association to any nested addition.\n",
    "\n",
    "`Add((Add 2 3) 4)` becomes `Add (2 (Add 3 4))`."
   ]
  },
  {
   "cell_type": "code",
   "execution_count": 5,
   "metadata": {},
   "outputs": [
    {
     "data": {
      "text/plain": [
       "\"((8+(-(1+2)))+(-(-(8+(-(1+2))))))\""
      ]
     },
     "metadata": {},
     "output_type": "display_data"
    },
    {
     "data": {
      "text/plain": [
       "\"(8+((-1)+((-2)+(8+((-1)+(-2))))))\""
      ]
     },
     "metadata": {},
     "output_type": "display_data"
    },
    {
     "data": {
      "text/plain": [
       "10"
      ]
     },
     "metadata": {},
     "output_type": "display_data"
    },
    {
     "data": {
      "text/plain": [
       "10"
      ]
     },
     "metadata": {},
     "output_type": "display_data"
    },
    {
     "data": {
      "text/plain": [
       "11"
      ]
     },
     "metadata": {},
     "output_type": "display_data"
    }
   ],
   "source": [
    "data Ctx2 e = LCA e | NonLCA\n",
    "\n",
    "instance ExpSYM repr => ExpSYM (Ctx2 repr -> repr) where\n",
    "  lit n NonLCA = lit n\n",
    "  lit n (LCA e) = add (lit n) e\n",
    "  neg e NonLCA = neg (e NonLCA)\n",
    "  neg e (LCA e3) =  add (neg (e NonLCA)) e3 -- we assume that push_neg has already been applied (e is a lit)\n",
    "  add a b ctx = a (LCA (b ctx))\n",
    "  \n",
    "instance (MultSYM repr, ExpSYM repr) => MultSYM (Ctx2 repr -> repr) where\n",
    "  mult a b NonLCA = mult (a NonLCA) (b NonLCA)\n",
    "  mult a b (LCA e) = add (mult (a NonLCA) (b NonLCA)) e\n",
    "  \n",
    "flata :: ExpSYM repr => (Ctx2 repr -> repr) -> repr\n",
    "flata e = e NonLCA\n",
    "\n",
    "tf1 = add (lit 8) (neg (add (lit 1) (lit 2)))\n",
    "tf3 = add tf1 (neg (neg tf1))\n",
    "\n",
    "prettyPrint tf3\n",
    "prettyPrint . flata $ push_neg tf3\n",
    "eval tf3\n",
    "eval . flata . push_neg $ tf3\n",
    "\n",
    "eval . flata . push_neg $ add (mult (lit 2) (lit 3)) (lit 5)"
   ]
  },
  {
   "cell_type": "markdown",
   "metadata": {},
   "source": [
    "## Tags\n",
    "Here's an objects language for lambda-calculus with booleans in the intial form."
   ]
  },
  {
   "cell_type": "code",
   "execution_count": 6,
   "metadata": {},
   "outputs": [],
   "source": [
    "\n",
    "data Exp\n",
    "  = V Var\n",
    "  | B Bool\n",
    "  | L Exp\n",
    "  | A Exp Exp\n",
    "\n",
    "data Var = VZ | VS Var\n",
    "\n",
    "-- apply id function to a booleans\n",
    "ti1 = A (L (V VZ)) (B True)"
   ]
  },
  {
   "cell_type": "markdown",
   "metadata": {},
   "source": [
    "A problem when writing an evaluator for this is that `L` evals to a lambda while the other branches are Bool.\n",
    "\n",
    "To fix this, we must have the union of Bool and lambda. The descriminators (UB, UA) are the *tags*."
   ]
  },
  {
   "cell_type": "code",
   "execution_count": 7,
   "metadata": {},
   "outputs": [
    {
     "data": {
      "text/plain": [
       "True"
      ]
     },
     "metadata": {},
     "output_type": "display_data"
    }
   ],
   "source": [
    "data U = UB Bool | UA (U -> U)\n",
    "\n",
    "eval :: [U] -> Exp -> U\n",
    "eval env (V v) = lookp v env\n",
    "eval env (B b) = UB b\n",
    "eval env (L e) = UA $ \\x -> eval (x:env) e\n",
    "eval env (A e1 e2) = case eval env e1 of UA f -> f (eval env e2)\n",
    "\n",
    "lookp :: Var -> [U] -> U\n",
    "lookp VZ (x:_) = x\n",
    "lookp (VS v) (_:xs) = lookp v xs\n",
    "\n",
    "(UB x) = eval [] ti1\n",
    "x"
   ]
  },
  {
   "cell_type": "markdown",
   "metadata": {},
   "source": [
    "This evaluator trips up if we try to use it with invalid expressions such as `A (B True) (B False)` or `A (L (V (VS VZ))) (B True)`. We need to make the language typed in order to catch these problems.\n",
    "\n",
    "We could implement a typecheck function like this:\n",
    "\n",
    "`typecheck :: Exp -> Either ErrorMsg Exp\n",
    "type ErrorMsg = String`\n",
    "\n",
    "Running this typechecker before we do eval ensures that eval returns a valid result since the pattern matches in `A` and `lookp` are effectively exhaustive. Haskell still treats them as pattern matching on tags, however, which inccurs the cost of run-time type tag checking. `typecheck` takes an `Exp` and returns an `Exp` which is the same type, there is no way for Haskell to know that the result `Exp` is typechecked.\n",
    "\n",
    "Thus, the prescence of type tags such as `UA` and `UB` and run-time tag checking are a symptom of the problem of embedding typed object languages."
   ]
  },
  {
   "cell_type": "markdown",
   "metadata": {},
   "source": [
    "## Going tagless\n",
    "In order to make our initial embedding unable to represent invalid types, we use GADTs"
   ]
  },
  {
   "cell_type": "code",
   "execution_count": 16,
   "metadata": {},
   "outputs": [
    {
     "data": {
      "text/plain": [
       "True"
      ]
     },
     "metadata": {},
     "output_type": "display_data"
    }
   ],
   "source": [
    ":ext GADTs\n",
    "\n",
    "data Var env t where\n",
    "  VZ :: Var (t, env) t\n",
    "  VS :: Var env t -> Var (a, env) t\n",
    "\n",
    "data Expr env t where\n",
    "  B :: Bool -> Expr env Bool\n",
    "  V :: Var env t -> Expr env t\n",
    "  L :: Expr (a, env) b -> Expr env (a -> b)\n",
    "  A :: Expr env (a -> b) -> Expr env a -> Expr env b\n",
    "  \n",
    "lookp :: Var env t -> env -> t\n",
    "lookp VZ (a,_) = a\n",
    "lookp (VS v) (_, env) = lookp v env\n",
    "  \n",
    "eval :: env -> Expr env t -> t\n",
    "eval env (B b) = b\n",
    "eval env (V v) = lookp v env\n",
    "eval env (L e) = \\x -> eval (x, env) e\n",
    "eval env (A e1 e2) = eval env e1 (eval env e2)\n",
    "\n",
    "ti1 = A (L (V VZ)) (B True)\n",
    "\n",
    "eval () ti1\n",
    "\n",
    "-- These guys don't compile anymore\n",
    "--ti2 = A (B True) (B True)\n",
    "--eval () ti2\n",
    "\n",
    "--ti3 = A (L (V (VS VZ))) (B True)\n",
    "--eval () ti3"
   ]
  },
  {
   "cell_type": "markdown",
   "metadata": {},
   "source": [
    "## Final Tagless\n",
    "We can write the entire tagless version in 5 lines. The evaluator is part and parcel to the encoding."
   ]
  },
  {
   "cell_type": "code",
   "execution_count": 5,
   "metadata": {},
   "outputs": [
    {
     "data": {
      "text/plain": [
       "True"
      ]
     },
     "metadata": {},
     "output_type": "display_data"
    }
   ],
   "source": [
    "vz (vc, _) = vc\n",
    "vs vp (_, env) = vp env\n",
    "\n",
    "b bv env = bv\n",
    "l e env = \\x -> e (x, env)\n",
    "a e1 e2 env = e1 env $ e2 env\n",
    "\n",
    "tf1 = a (l vz) (b True)\n",
    "tf1 ()"
   ]
  },
  {
   "cell_type": "markdown",
   "metadata": {},
   "source": [
    "In order to allow multiple interpretations of an embedded language term, we employ a type class."
   ]
  },
  {
   "cell_type": "code",
   "execution_count": 33,
   "metadata": {},
   "outputs": [],
   "source": [
    "class Symantics repr where\n",
    "  int :: Int -> repr h Int\n",
    "  add :: repr h Int -> repr h Int -> repr h Int\n",
    "  \n",
    "  z :: repr (a, h) a\n",
    "  s :: repr h a -> repr (any, h) a\n",
    "  lam :: repr (a, h) b -> repr h (a -> b) -- if we know b given a, we can derive a -> b\n",
    "  app :: repr h (a -> b) -> repr h a -> repr h b\n",
    "  \n",
    "td1 :: Symantics repr => repr h Int\n",
    "td1 = add (int 2) (int 3)\n",
    "\n",
    "td2o :: Symantics repr => repr (Int, h) (Int -> Int)\n",
    "td2o = lam (add z (s z))\n",
    "\n",
    "td3 :: Symantics repr => repr h ((Int -> Int) -> Int)\n",
    "td3 = lam (add (app z (int 3)) (int 2))"
   ]
  },
  {
   "cell_type": "markdown",
   "metadata": {},
   "source": [
    "Here is one interpreter, the evaluator"
   ]
  },
  {
   "cell_type": "code",
   "execution_count": 37,
   "metadata": {},
   "outputs": [
    {
     "data": {
      "text/plain": [
       "5"
      ]
     },
     "metadata": {},
     "output_type": "display_data"
    },
    {
     "data": {
      "text/plain": [
       "8"
      ]
     },
     "metadata": {},
     "output_type": "display_data"
    }
   ],
   "source": [
    "-- we use R instead of (->) to disambiguate from other instances that use the same symantic type.\n",
    "newtype R h a = R { unR :: h -> a }\n",
    "\n",
    "instance Symantics R where\n",
    "  int x     = R $ const x\n",
    "  add a b   = R $ \\h -> unR a h + unR b h\n",
    "  \n",
    "  z         = R $ \\(x, _) -> x\n",
    "  s v       = R $ \\(_, h) -> unR v h\n",
    "  lam e     = R $ \\h -> \\x -> unR e (x, h)\n",
    "  app e1 e2 = R $ \\h -> unR e1 h $ unR e2 h\n",
    "  \n",
    "eval e = unR e ()\n",
    "\n",
    "eval td1\n",
    "eval td3 (+3)\n",
    "-- td2o is open, therefore eval td2o is ill-typed"
   ]
  },
  {
   "cell_type": "code",
   "execution_count": null,
   "metadata": {},
   "outputs": [],
   "source": [
    "pg 28"
   ]
  }
 ],
 "metadata": {
  "kernelspec": {
   "display_name": "Haskell",
   "language": "haskell",
   "name": "haskell"
  },
  "language_info": {
   "codemirror_mode": "ihaskell",
   "file_extension": ".hs",
   "name": "haskell",
   "pygments_lexer": "Haskell",
   "version": "8.2.2"
  }
 },
 "nbformat": 4,
 "nbformat_minor": 2
}
