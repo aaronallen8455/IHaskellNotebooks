{
 "cells": [
  {
   "cell_type": "markdown",
   "metadata": {},
   "source": [
    "##### (https://www.schoolofhaskell.com/school/to-infinity-and-beyond/pick-of-the-week/coroutines-for-streaming/part-2-coroutines)\n",
    "### The Coroutine Monad Transformer"
   ]
  },
  {
   "cell_type": "code",
   "execution_count": 110,
   "metadata": {},
   "outputs": [],
   "source": [
    "data Coroutine s m r = Coroutine { resume :: m(CoroutineState s m r) }\n",
    "\n",
    "data CoroutineState s m r\n",
    "  = Run (s (Coroutine s m r))\n",
    "  | Done r"
   ]
  },
  {
   "cell_type": "markdown",
   "metadata": {},
   "source": [
    "This is the free monad transformer in diguise."
   ]
  },
  {
   "cell_type": "code",
   "execution_count": 111,
   "metadata": {},
   "outputs": [],
   "source": [
    "import Control.Monad\n",
    "import Control.Monad.Trans.Class\n",
    "\n",
    "instance (Functor m, Functor s) => Functor (Coroutine s m) where\n",
    "  fmap f = Coroutine . fmap go . resume where\n",
    "    go (Done x) = Done $ f x\n",
    "    go (Run s) = Run $ fmap (fmap f) s\n",
    "    \n",
    "instance (Functor s, Applicative m, Monad m) => Applicative (Coroutine s m) where\n",
    "  pure x = Coroutine . pure $ Done x\n",
    "  a <*> b = ap a b --Coroutine $ go <$> resume a <*> resume b where\n",
    "    --go :: CoroutineState s m (a -> b) -> CoroutineState s m a -> CoroutineState s m b\n",
    "    {- go (Done ab) (Done a) = Done $ ab a\n",
    "    go (Run sab) (Done a) = Run $ fmap (fmap ($ a)) sab\n",
    "    go (Done ab) (Run sa) = Run $ fmap (fmap ab) sa\n",
    "    go (Run sab) (Run sa) = Run $ ap <$> sab <*> sa\n",
    "    go' = ap -}\n",
    "\n",
    "instance (Functor s, Monad m) => Monad (Coroutine s m) where\n",
    "  return x = Coroutine $ return (Done x)\n",
    "  -- Coroutine s m a -> (a -> Coroutine s m b) -> Coroutine s m b\n",
    "  f >>= g = Coroutine $ do\n",
    "    st <- resume f\n",
    "    case st of\n",
    "      Done r -> resume (g r)\n",
    "      Run s -> return . Run $ fmap (>>= g) s\n",
    "      \n",
    "instance Functor s => MonadTrans (Coroutine s) where\n",
    "  lift = Coroutine . (>>= return . Done)\n",
    "  \n",
    "instance Show (Coroutine s m r) where\n",
    "  show _ = \"coroutine\"\n",
    "  \n",
    "suspend :: (Monad m, Functor s) => s (Coroutine s m r) -> Coroutine s m r\n",
    "suspend = Coroutine . return . Run"
   ]
  },
  {
   "cell_type": "markdown",
   "metadata": {},
   "source": [
    "The `s` in this type is called the \"suspension functor.\" When a coroutine suspends itself it presents you with the functor that provides a way to resume it."
   ]
  },
  {
   "cell_type": "code",
   "execution_count": 112,
   "metadata": {},
   "outputs": [
    {
     "data": {
      "text/plain": [
       "1\n",
       "2\n",
       "3"
      ]
     },
     "metadata": {},
     "output_type": "display_data"
    },
    {
     "data": {
      "text/plain": [
       "1"
      ]
     },
     "metadata": {},
     "output_type": "display_data"
    },
    {
     "data": {
      "text/plain": [
       "1\n",
       "2"
      ]
     },
     "metadata": {},
     "output_type": "display_data"
    },
    {
     "data": {
      "text/plain": [
       "1\n",
       "2\n",
       "3"
      ]
     },
     "metadata": {},
     "output_type": "display_data"
    }
   ],
   "source": [
    "newtype PauseF x = PauseF x\n",
    "instance Functor PauseF where\n",
    "  fmap f (PauseF x) = PauseF $ f x\n",
    "\n",
    "type PauseT = Coroutine PauseF\n",
    "\n",
    "pause :: Monad m => PauseT m ()\n",
    "pause = suspend . PauseF $ return ()\n",
    "\n",
    "test :: PauseT IO ()\n",
    "test = do\n",
    "  lift $ putStrLn \"1\"\n",
    "  pause\n",
    "  lift $ putStrLn \"2\"\n",
    "  pause\n",
    "  lift $ putStrLn \"3\"\n",
    "  \n",
    "runN :: Monad m => Int -> PauseT m () -> m ()\n",
    "runN 0 = const $ return ()\n",
    "runN n = go . resume where\n",
    "  go co = do\n",
    "    st <- co\n",
    "    case st of\n",
    "      Done _ -> return ()\n",
    "      Run (PauseF x) -> runN (n-1) x\n",
    "  \n",
    "runAll :: Monad m => PauseT m () -> m ()\n",
    "runAll = go . resume where\n",
    "  --go :: m (CoroutineState PauseF m ()) -> m (CoroutineState PauseF m ())\n",
    "  go co = do\n",
    "    st <- co\n",
    "    case st of\n",
    "      Done _ -> return ()\n",
    "      Run (PauseF x) -> runAll x\n",
    "      \n",
    "runAll test\n",
    "\n",
    "runN 1 test\n",
    "\n",
    "runN 2 test\n",
    "\n",
    "runN 100 test"
   ]
  },
  {
   "cell_type": "markdown",
   "metadata": {},
   "source": [
    "A suspension functor that allows for emitting and inputing a value."
   ]
  },
  {
   "cell_type": "code",
   "execution_count": 113,
   "metadata": {},
   "outputs": [],
   "source": [
    "data Interface i o x = Produced o (i -> x)\n",
    "\n",
    "instance Functor (Interface i o) where\n",
    "  fmap f (Produced o k) = Produced o (f . k)"
   ]
  },
  {
   "cell_type": "markdown",
   "metadata": {},
   "source": [
    "Coroutines are either consuming or producing. When producing it should run until it produces a value and then switch to consuming, waiting for a value to be supplied."
   ]
  },
  {
   "cell_type": "code",
   "execution_count": 119,
   "metadata": {},
   "outputs": [
    {
     "data": {
      "text/plain": [
       "a1\n",
       "hello\n",
       "test\n",
       "\"\""
      ]
     },
     "metadata": {},
     "output_type": "display_data"
    }
   ],
   "source": [
    "type Producing o i = Coroutine (Interface i o)\n",
    "type Consuming r m i o = i -> Producing o i m r\n",
    "\n",
    "yield :: Monad m => o -> Producing o i m i\n",
    "yield x = suspend $ Produced x return\n",
    "\n",
    "\n",
    "--                           o i                      i o\n",
    "($$) :: Monad m => Producing a b m r -> Consuming r m a b -> m r\n",
    "pro $$ co = go $ resume pro where\n",
    "  go mpst = do\n",
    "    pst <- mpst\n",
    "    case pst of\n",
    "      Done x -> return x\n",
    "      Run (Produced x cb1) -> co x $$ cb1\n",
    "      \n",
    "prod :: Producing String String IO String\n",
    "prod = do\n",
    "  lift $ putStrLn \"a1\"\n",
    "  x <- yield \"hello\"\n",
    "  lift $ putStrLn x\n",
    "  pure \"\"\n",
    "  \n",
    "consume :: Consuming String IO String String\n",
    "consume i = do\n",
    "  lift $ putStrLn i\n",
    "  yield \"test\"\n",
    "  pure \"\"\n",
    "  \n",
    "prod $$ consume"
   ]
  },
  {
   "cell_type": "markdown",
   "metadata": {},
   "source": [
    "Specialize `Coroutine` by having `Interface` be built in and defining Producing and Consuming as newtypes."
   ]
  },
  {
   "cell_type": "code",
   "execution_count": 120,
   "metadata": {},
   "outputs": [
    {
     "data": {
      "text/plain": [
       "What's your name?\n",
       "Hello steve!\n",
       "Favorite color?\n",
       "steve is a terrible color. You must repent."
      ]
     },
     "metadata": {},
     "output_type": "display_data"
    }
   ],
   "source": [
    "newtype Producing o i m r = Producing { resume :: m ( ProducerState o i m r ) }\n",
    "\n",
    "data ProducerState o i m r\n",
    "  = Done r\n",
    "  | Produced o (Consuming r m i o)\n",
    "  \n",
    "newtype Consuming r m i o = Consuming { provide :: i -> Producing o i m r }\n",
    "\n",
    "instance Functor m => Functor (Producing o i m) where\n",
    "  fmap f = Producing . fmap (fmap f) . resume\n",
    "\n",
    "instance Functor m => Functor (ProducerState o i m) where\n",
    "  fmap f (Done r) = Done $ f r\n",
    "  fmap f (Produced o c) = Produced o . Consuming $ (fmap f . provide c)\n",
    "  \n",
    "instance Monad m => Applicative (Producing o i m) where\n",
    "  pure = Producing . return . Done\n",
    "  (<*>) = ap\n",
    "  \n",
    "instance Monad m => Monad (Producing o i m) where\n",
    "  return = pure\n",
    "  a >>= rb = Producing $ (resume a) >>= go where\n",
    "    --go :: ProducerState o i m r -> m (ProducerState o i m b)\n",
    "    go (Done r) = resume $ rb r\n",
    "    go (Produced o c) = return $ Produced o (Consuming . fmap (>>= rb) $ provide c)\n",
    "    \n",
    "instance MonadTrans (Producing o i) where\n",
    "  lift = Producing . liftM Done\n",
    "  \n",
    "yield :: Monad m => o -> Producing o i m i\n",
    "yield x = Producing . return $ Produced x (Consuming return)\n",
    "\n",
    "infixl 0 $$\n",
    "($$) :: Monad m => Producing o i m r -> Consuming r m o i -> m r\n",
    "p $$ c = resume p >>= go where\n",
    "  go (Done r) = return r\n",
    "  go (Produced o pc) = provide c o $$ pc\n",
    "  \n",
    "  \n",
    "example1 :: Producing String String IO ()\n",
    "example1 = do\n",
    "  name <- yield \"What's your name?\"\n",
    "  lift $ putStrLn $ \"Hello \" ++ name ++ \"!\"\n",
    "  color <- yield \"Favorite color?\"\n",
    "  lift $ putStrLn $ color ++ \" is a terrible color. You must repent.\"\n",
    "  \n",
    "foreverK :: Monad m => (a -> m a) -> a -> m r\n",
    "foreverK f = go where\n",
    "  go a = f a >>= go\n",
    "  \n",
    "stdOutIn :: Consuming r IO String String\n",
    "stdOutIn = Consuming . foreverK $ \\str -> do\n",
    "  lift $ putStrLn str\n",
    "  yield \"steve\"\n",
    "  --lift getLine >>= yield\n",
    "  \n",
    "stdInOut :: Producing String String IO r\n",
    "stdInOut = provide stdOutIn \"\"\n",
    "  \n",
    "example1 $$ stdOutIn"
   ]
  },
  {
   "cell_type": "markdown",
   "metadata": {},
   "source": [
    "### Proxies\n",
    "\n",
    "What does the type `Producing a b (Producing c d) m` do?\n",
    "It's a computation that can transfer control to one of two interfaces. `yield a` will surrender control to the outer interface and `lift (yield a)` will transfer control to the inner interface.\n",
    "\n",
    "`p :: Producing a b (Producing c d m) r\n",
    "c :: Consuming r (Producing c d m) a b\n",
    "p $$ c :: Producing c d m r`\n",
    "\n",
    "In order to connect a `Producing a b m r` to `Consuming r (Producing c d m) a b` we can use `lift` and `hoist`"
   ]
  },
  {
   "cell_type": "code",
   "execution_count": 135,
   "metadata": {},
   "outputs": [],
   "source": [
    ":ext RankNTypes\n",
    "--Lift a monad morphism from m to n into a monad morphism from (t m) to (t n)\n",
    "--The first argument to hoist must be a monad morphism, even though the type system does not enforce this\n",
    "\n",
    "hoist :: Monad m => (forall a. m a -> n a) -> Producing o i m b -> Producing o i n b\n",
    "hoist f = go where\n",
    "  go p = Producing $ f $ liftM map' (resume p)\n",
    "  map' (Done x) = Done x\n",
    "  map' (Produced o c) = Produced o $ Consuming (go . provide c)\n",
    "  \n",
    "insert0 = lift\n",
    "insert1 = hoist insert0\n",
    "insert2 = hoist insert1"
   ]
  },
  {
   "cell_type": "code",
   "execution_count": 126,
   "metadata": {},
   "outputs": [],
   "source": []
  },
  {
   "cell_type": "code",
   "execution_count": null,
   "metadata": {},
   "outputs": [],
   "source": []
  }
 ],
 "metadata": {
  "kernelspec": {
   "display_name": "Haskell",
   "language": "haskell",
   "name": "haskell"
  },
  "language_info": {
   "codemirror_mode": "ihaskell",
   "file_extension": ".hs",
   "name": "haskell",
   "pygments_lexer": "Haskell",
   "version": "8.2.2"
  }
 },
 "nbformat": 4,
 "nbformat_minor": 2
}
