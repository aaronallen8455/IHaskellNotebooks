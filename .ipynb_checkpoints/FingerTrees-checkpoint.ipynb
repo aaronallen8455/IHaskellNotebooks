{
 "cells": [
  {
   "cell_type": "markdown",
   "metadata": {},
   "source": [
    "# Finger Trees"
   ]
  },
  {
   "cell_type": "code",
   "execution_count": 24,
   "metadata": {},
   "outputs": [
    {
     "data": {
      "text/plain": [
       "Just 'q'"
      ]
     },
     "metadata": {},
     "output_type": "display_data"
    },
    {
     "data": {
      "text/plain": [
       "Just ((0,'m'),PQueue (fromList [Entry 3 'a',Entry 1 'z',Entry 5 't',Entry 3 'x']))"
      ]
     },
     "metadata": {},
     "output_type": "display_data"
    },
    {
     "data": {
      "text/plain": [
       "Prio 0 'm'"
      ]
     },
     "metadata": {},
     "output_type": "display_data"
    }
   ],
   "source": [
    ":ext FlexibleInstances\n",
    ":ext MultiParamTypeClasses\n",
    ":ext DeriveGeneric\n",
    ":ext AutoDeriveTypeable\n",
    "\n",
    ":m Data.FingerTree\n",
    "import Data.Monoid hiding ((<>))\n",
    ":m Data.Semigroup\n",
    "import Prelude hiding (null)\n",
    "\n",
    "-- Indexed array (logarithmic access)\n",
    "\n",
    "newtype Size a = Size { getSize :: a } deriving (Show, Eq)\n",
    "\n",
    "instance Measured (Sum Int) (Size a) where\n",
    "  measure _ = Sum 1\n",
    "  \n",
    "alphabet :: FingerTree (Sum Int) (Size Char)\n",
    "alphabet = fromList . map Size . take 26 $ enumFrom 'a'\n",
    "\n",
    "atIndex :: Int -> FingerTree (Sum Int) (Size a) -> Maybe a\n",
    "atIndex n t =\n",
    "  case viewl . snd $ split (> Sum n) t of\n",
    "    Size c :< _ -> Just c\n",
    "    _ -> Nothing\n",
    "    \n",
    "atIndex 16 alphabet\n",
    "\n",
    "-- Priority Queue\n",
    "\n",
    "data Entry k v = Entry k v deriving Show\n",
    "\n",
    "instance Functor (Entry k) where\n",
    "    fmap f (Entry k v) = Entry k (f v)\n",
    "\n",
    "instance Foldable (Entry k) where\n",
    "    foldMap f (Entry _ v) = f v\n",
    "\n",
    "data Prio k v = NoPrio | Prio k v deriving Show\n",
    "\n",
    "instance Ord k => Semigroup (Prio k v) where\n",
    "  (<>) = unionPrio\n",
    "  \n",
    "instance Ord k => Monoid (Prio k v) where\n",
    "  mempty = NoPrio\n",
    "  mappend = unionPrio\n",
    "  \n",
    "pqUnion :: Ord k => PQueue k v -> PQueue k v -> PQueue k v\n",
    "pqUnion (PQueue xs) (PQueue ys) = PQueue (xs >< ys)\n",
    "  \n",
    "unionPrio :: Ord k => Prio k v -> Prio k v -> Prio k v\n",
    "x `unionPrio` NoPrio      = x\n",
    "NoPrio `unionPrio` y      = y\n",
    "x@(Prio kx _) `unionPrio` y@(Prio ky _)\n",
    "  | kx <= ky            = x\n",
    "  | otherwise           = y\n",
    "  \n",
    "instance Ord k => Measured (Prio k v) (Entry k v) where\n",
    "    measure (Entry k v) = Prio k v\n",
    "  \n",
    "newtype PQueue k v = PQueue (FingerTree (Prio k v) (Entry k v)) deriving Show\n",
    "\n",
    "minViewWithKey :: Ord k => PQueue k v -> Maybe ((k, v), PQueue k v)\n",
    "minViewWithKey (PQueue q)\n",
    "  | null q = Nothing\n",
    "  | otherwise = Just ((k, v), case viewl r of\n",
    "    _ :< r' -> PQueue (l >< r')\n",
    "    _ -> error \"can't happen\")\n",
    "  where\n",
    "    Prio k v = measure q\n",
    "    (l, r) = split (below k) q\n",
    "    \n",
    "below :: Ord k => k -> Prio k v -> Bool\n",
    "below _ NoPrio = False\n",
    "below k (Prio k' _) = k' <= k\n",
    "\n",
    "insert :: Ord k => k -> v -> PQueue k v -> PQueue k v\n",
    "insert k v (PQueue q) = PQueue (Entry k v <| q)\n",
    "\n",
    "pqFromList :: Ord k => [(k, v)] -> PQueue k v\n",
    "pqFromList = foldr (uncurry insert) (PQueue empty)\n",
    "\n",
    "queue = pqFromList [(3, 'a'), (1, 'z'), (5, 't'), (3, 'x'), (0, 'm')]\n",
    "\n",
    "minViewWithKey queue\n",
    "\n",
    "let (PQueue t) = queue\n",
    "measure t"
   ]
  },
  {
   "cell_type": "code",
   "execution_count": null,
   "metadata": {},
   "outputs": [],
   "source": []
  },
  {
   "cell_type": "code",
   "execution_count": null,
   "metadata": {},
   "outputs": [],
   "source": [
    "\n"
   ]
  }
 ],
 "metadata": {
  "kernelspec": {
   "display_name": "Haskell",
   "language": "haskell",
   "name": "haskell"
  },
  "language_info": {
   "codemirror_mode": "ihaskell",
   "file_extension": ".hs",
   "name": "haskell",
   "pygments_lexer": "Haskell",
   "version": "8.2.2"
  }
 },
 "nbformat": 4,
 "nbformat_minor": 2
}
