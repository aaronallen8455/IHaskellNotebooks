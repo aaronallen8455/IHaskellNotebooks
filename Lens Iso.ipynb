{
 "cells": [
  {
   "cell_type": "markdown",
   "metadata": {},
   "source": [
    "# Lens Iso\n",
    "###### (http://www.philipzucker.com/lens-as-a-divisibility-relation-goofin-off-with-the-algebra-of-types/)\n",
    "We can think of types in terms of their cardinalities, meaning polynomials using natural numbers. Types that contain the same number of inhibitants are isomorphic. Therefore, types modulo isomorphisms are equivalent to the natural numbers."
   ]
  },
  {
   "cell_type": "code",
   "execution_count": 9,
   "metadata": {},
   "outputs": [],
   "source": [
    ":ext TypeOperators\n",
    "\n",
    "import qualified Data.Void as V\n",
    "\n",
    "type a .+ b = Either a b\n",
    "type a .* b = (a, b)\n",
    "type b .^ a = a -> b\n",
    "\n",
    "type O = V.Void\n",
    "type I = ()\n",
    "type Succ a = I .+ a \n",
    "type Two = Succ I\n",
    "type Three = Succ Two\n",
    "type Four = Succ Three"
   ]
  },
  {
   "cell_type": "markdown",
   "metadata": {},
   "source": [
    "Polymorphic types are like polynomials where instantiating the type is like solving for a value. The lens library has the `Iso' s a` type which represents all the isomorphisms between some `a` and some `s`. This is the monomorphic version of `Iso s t a b` which is defined as:"
   ]
  },
  {
   "cell_type": "code",
   "execution_count": 5,
   "metadata": {},
   "outputs": [
    {
     "data": {
      "text/plain": [
       "Just ()"
      ]
     },
     "metadata": {},
     "output_type": "display_data"
    },
    {
     "data": {
      "text/plain": [
       "[()]"
      ]
     },
     "metadata": {},
     "output_type": "display_data"
    }
   ],
   "source": [
    ":ext MultiParamTypeClasses\n",
    ":ext RankNTypes\n",
    ":m Data.Functor.Identity\n",
    ":m Data.Functor.Const\n",
    "\n",
    "class Profunctor p where\n",
    "  dimap :: (s -> a) -> (b -> t) -> p a b -> p s t\n",
    "\n",
    "instance Profunctor (->) where\n",
    "  dimap sa bt ab = bt . ab . sa\n",
    "  \n",
    "type Iso s t a b = forall f p. (Functor f, Profunctor p) => p a (f b) -> p s (f t)\n",
    "type Iso' s a = Iso s s a a\n",
    "\n",
    "-- create an iso from the two morphisms. Note that this is (s -> a) and (a -> s) in the monomorphic case.\n",
    "iso :: (s -> a) -> (b -> t) -> Iso s t a b\n",
    "iso sa bt = dimap sa (fmap bt)\n",
    "\n",
    "unIso :: Iso s t a b -> (s -> a, b -> t)\n",
    "unIso pafb'psft = (sa, bt) where\n",
    "  sa s = getConst $ pafb'psft Const s\n",
    "  bt b = runIdentity $ pafb'psft (const $ Identity b) undefined\n",
    "\n",
    "from :: Iso s t a b -> Iso b a t s\n",
    "from pafb'psft ptfs = dimap bt (fmap sa) ptfs where\n",
    "  (sa, bt) = unIso pafb'psft\n",
    "  \n",
    "mbListIso :: Iso' [a] (Maybe a)\n",
    "mbListIso = iso lToMb mbToL where\n",
    "  lToMb [] = Nothing\n",
    "  lToMb (x:_) = Just x\n",
    "  mbToL Nothing = []\n",
    "  mbToL (Just x) = [x]\n",
    "  \n",
    "runIso :: Iso s t a b -> s -> a\n",
    "runIso iso = getConst . iso Const\n",
    "  \n",
    "runIso mbListIso [()]\n",
    "runIso (from mbListIso) (Just ())"
   ]
  },
  {
   "cell_type": "markdown",
   "metadata": {},
   "source": [
    "Now we can start writing some proofs"
   ]
  },
  {
   "cell_type": "code",
   "execution_count": 6,
   "metadata": {},
   "outputs": [],
   "source": [
    "type a ~~ b = Iso' a b\n",
    "\n",
    "refl :: a ~~ a\n",
    "refl = id\n",
    "\n",
    "compose :: (a ~~ b) -> (b ~~ c) -> (a ~~ c)\n",
    "compose = (.)\n",
    "\n",
    "rev :: a ~~ b -> b ~~ a\n",
    "rev = from\n",
    "\n",
    "proof1 :: (I .+ I) ~~ Two\n",
    "proof1 = id"
   ]
  },
  {
   "cell_type": "markdown",
   "metadata": {},
   "source": [
    "Writes proofs for the associativity property of addition and multiplication."
   ]
  },
  {
   "cell_type": "code",
   "execution_count": 7,
   "metadata": {},
   "outputs": [],
   "source": [
    "plusAssoc :: (a .+ (b .+ c)) ~~ ((a .+ b) .+ c)\n",
    "plusAssoc = iso assoc unAssoc where\n",
    "  assoc (Left a) = Left $ Left a\n",
    "  assoc (Right (Left b)) = Left $ Right b\n",
    "  assoc (Right (Right c)) = Right c\n",
    "  unAssoc (Right c) = Right $ Right c\n",
    "  unAssoc (Left (Right b)) = Right $ Left b\n",
    "  unAssoc (Left (Left a)) = Left a\n",
    "  \n",
    "mulAssoc :: (a .* (b .* c)) ~~ ((a .* b) .* c)\n",
    "mulAssoc = iso assoc unAssoc where\n",
    "  assoc (a, (b, c)) = ((a, b), c)\n",
    "  unAssoc ((a, b), c) = (a, (b, c))"
   ]
  },
  {
   "cell_type": "markdown",
   "metadata": {},
   "source": [
    "and the identity property"
   ]
  },
  {
   "cell_type": "code",
   "execution_count": 11,
   "metadata": {},
   "outputs": [],
   "source": [
    "plusId :: (a .+ O) ~~ a\n",
    "plusId = iso to fro where\n",
    "  to (Left a) = a\n",
    "  to (Right x) = V.absurd x\n",
    "  fro a = Left a\n",
    "  \n",
    "mulId :: (a .* I) ~~ a\n",
    "mulId = iso to fro where\n",
    "  to (a, _) = a\n",
    "  fro a = (a, ())"
   ]
  },
  {
   "cell_type": "markdown",
   "metadata": {},
   "source": [
    "commutivity property"
   ]
  },
  {
   "cell_type": "code",
   "execution_count": 12,
   "metadata": {},
   "outputs": [],
   "source": [
    "plusComm :: (a .+ b) ~~ (b .+ a)\n",
    "plusComm = iso to to where\n",
    "  to (Left a) = Right a\n",
    "  to (Right b) = Left b\n",
    "  \n",
    "mulComm :: (a .* b) ~~ (b .* a)\n",
    "mulComm = iso to to where\n",
    "  to (a, b) = (b, a)\n",
    "  to (b, a) = (a, b)"
   ]
  },
  {
   "cell_type": "markdown",
   "metadata": {},
   "source": [
    "distributive property"
   ]
  },
  {
   "cell_type": "code",
   "execution_count": 14,
   "metadata": {},
   "outputs": [],
   "source": [
    "distr :: (a .* (b .+ c)) ~~ ((a .* b) .+ (a.* c))\n",
    "distr = iso to fro where\n",
    "  to (a, Left b) = Left (a, b)\n",
    "  to (a, Right c) = Right (a, c)\n",
    "  fro (Left (a, b)) = (a, Left b)\n",
    "  fro (Right (a, c)) = (a, Right c)\n",
    "  \n",
    "mult0 :: (a .* O) ~~ O\n",
    "mult0 = iso to fro where\n",
    "  to (a, x) = x\n",
    "  fro x = (V.absurd x, x)"
   ]
  },
  {
   "cell_type": "markdown",
   "metadata": {},
   "source": [
    "We have combinators for lifting `Iso`s into Bifunctors"
   ]
  },
  {
   "cell_type": "code",
   "execution_count": 23,
   "metadata": {},
   "outputs": [],
   "source": [
    "lefting :: (a ~~ b) -> ((a .+ c) ~~ (b .+ c))\n",
    "lefting a'b = iso to fro where\n",
    "  (ab, ba) = unIso a'b\n",
    "  to (Left a) = Left $ ab a \n",
    "  to (Right c) = Right c\n",
    "  fro (Left b) = Left $ ba b\n",
    "  fro (Right c) = Right c\n",
    "  \n",
    "righting :: (a ~~ b) -> ((c .+ a) ~~ (c .+ b))\n",
    "righting a'b = iso to fro where\n",
    "  (ab, ba) = unIso a'b\n",
    "  to (Left c) = Left c\n",
    "  to (Right a) = Right $ ab a\n",
    "  fro (Left c) = Left c\n",
    "  fro (Right b) = Right $ ba b"
   ]
  },
  {
   "cell_type": "markdown",
   "metadata": {},
   "source": [
    "Here's a more complicated proof now available to us"
   ]
  },
  {
   "cell_type": "code",
   "execution_count": 31,
   "metadata": {},
   "outputs": [],
   "source": [
    "twoTwoFour :: (Two .+ Two) ~~ Four\n",
    "twoTwoFour = rev plusAssoc\n",
    "\n",
    "-- plusAssoc is\n",
    "-- plusAssoc :: (a .+ (b .+ c)) ~~ ((a .+ b) .+ c)\n",
    "-- by reversing it we get\n",
    "-- ((a .+ b) .+ c) ~~ (a .+ (b .+ c))\n",
    "\n",
    "-- Two is\n",
    "-- I .+ I\n",
    "-- Four is\n",
    "-- I .+ (I .+ (I .+ I))\n",
    "\n",
    "this :: (I .+ I .+ (I .+ I)) ~~ (I .+ (I .+ (I .+ I)))\n",
    "this = rev plusAssoc\n",
    "\n",
    "-- So `a` is I, `b` is I, `c` is I .+ I?"
   ]
  },
  {
   "cell_type": "markdown",
   "metadata": {},
   "source": [
    "Moving on to proofs where we should rely on `. _` to have GHC help us out."
   ]
  },
  {
   "cell_type": "code",
   "execution_count": 38,
   "metadata": {},
   "outputs": [],
   "source": [
    "distl :: ((b .+ c) .* a) ~~ ((b .* a) .+ (c .* a))\n",
    "distl = mulComm . distr . (lefting mulComm) . (righting mulComm)"
   ]
  },
  {
   "cell_type": "code",
   "execution_count": null,
   "metadata": {},
   "outputs": [],
   "source": []
  }
 ],
 "metadata": {
  "kernelspec": {
   "display_name": "Haskell",
   "language": "haskell",
   "name": "haskell"
  },
  "language_info": {
   "codemirror_mode": "ihaskell",
   "file_extension": ".hs",
   "name": "haskell",
   "pygments_lexer": "Haskell",
   "version": "8.6.3"
  }
 },
 "nbformat": 4,
 "nbformat_minor": 2
}
