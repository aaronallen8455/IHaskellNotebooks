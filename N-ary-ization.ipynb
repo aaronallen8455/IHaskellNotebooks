{
 "cells": [
  {
   "cell_type": "markdown",
   "metadata": {},
   "source": [
    "# Working with N-ary-izations\n",
    "###### (posted by masaeedu in #haskell)\n",
    "\n",
    "`Vec`s are n-ary-izations of tuples in the following sense"
   ]
  },
  {
   "cell_type": "code",
   "execution_count": 25,
   "metadata": {},
   "outputs": [],
   "source": [
    ":ext GADTs\n",
    ":ext DataKinds\n",
    ":ext TypeOperators\n",
    ":ext PolyKinds\n",
    ":ext RankNTypes\n",
    "\n",
    "data Nat = Z | S Nat\n",
    "\n",
    "data Nary t i n a where\n",
    "  Unit :: i -> Nary t i 'Z a\n",
    "  Tensor :: a `t` (Nary t i n a) -> Nary t i ('S n) a\n",
    "  \n",
    "type Vec = Nary (,) ()"
   ]
  },
  {
   "cell_type": "markdown",
   "metadata": {},
   "source": [
    "and lists are existentially quantified n-ary-izations"
   ]
  },
  {
   "cell_type": "code",
   "execution_count": 26,
   "metadata": {},
   "outputs": [],
   "source": [
    "data Exists f where Exists :: f a -> Exists f\n",
    "\n",
    "newtype Flip f (a :: k) (b :: k') = Flip { getFlip :: f b a }\n",
    "\n",
    "type List a = Exists (Flip Vec a)"
   ]
  },
  {
   "cell_type": "markdown",
   "metadata": {},
   "source": [
    "But products and units can be represented another way:"
   ]
  },
  {
   "cell_type": "code",
   "execution_count": 28,
   "metadata": {},
   "outputs": [],
   "source": [
    "import Data.Void\n",
    "\n",
    "newtype EProduct a b = EProduct { getEProduct :: forall r. Either (a -> r) (b -> r) -> r }\n",
    "newtype EUnit = EUnit { getEUnit :: forall r. Void -> r }"
   ]
  },
  {
   "cell_type": "markdown",
   "metadata": {},
   "source": [
    "Tuples and units are to `Vec` what `EProduct` and `EUnit` are to `EVec`"
   ]
  },
  {
   "cell_type": "code",
   "execution_count": 29,
   "metadata": {},
   "outputs": [],
   "source": [
    "type EVec = Nary EProduct EUnit"
   ]
  },
  {
   "cell_type": "markdown",
   "metadata": {},
   "source": [
    "and `Vec` is to `List`s what `EVec` is to `EList`s"
   ]
  },
  {
   "cell_type": "code",
   "execution_count": 36,
   "metadata": {},
   "outputs": [],
   "source": [
    "type EList a = Exists (Flip EVec a)"
   ]
  },
  {
   "cell_type": "code",
   "execution_count": 40,
   "metadata": {},
   "outputs": [],
   "source": [
    "a :: List Int\n",
    "a = Exists . Flip $ Tensor (4, Unit ())\n",
    "\n",
    "b :: EList Int\n",
    "b = Exists . Flip $ Tensor (EProduct $ either ($ 4) ($ (Unit (EUnit absurd))))"
   ]
  },
  {
   "cell_type": "code",
   "execution_count": null,
   "metadata": {},
   "outputs": [],
   "source": []
  }
 ],
 "metadata": {
  "kernelspec": {
   "display_name": "Haskell",
   "language": "haskell",
   "name": "haskell"
  },
  "language_info": {
   "codemirror_mode": "ihaskell",
   "file_extension": ".hs",
   "name": "haskell",
   "pygments_lexer": "Haskell",
   "version": "8.6.3"
  }
 },
 "nbformat": 4,
 "nbformat_minor": 2
}
