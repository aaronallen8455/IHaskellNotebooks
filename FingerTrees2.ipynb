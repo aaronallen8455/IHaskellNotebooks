{
 "cells": [
  {
   "cell_type": "markdown",
   "metadata": {},
   "source": [
    "# FingerTrees\n",
    "##### (http://andrew.gibiansky.com/blog/haskell/finger-trees/)\n",
    "\n",
    "Finger trees are based on 2-3 trees which have the following properties\n",
    "* each node has 2 or 3 children\n",
    "* all leaves are at the same depth\n",
    "\n",
    "To get from a 2-3 tree to a FingerTree, pinch the leftmost and rightmost nodes and pull them up and together. The resulting structure has these properties\n",
    "* we pair up the nodes that get pinched together and call this the *spine*\n",
    "* at each position along the spine we have *prefix* on the left and a *suffix* on the right as well as a link further down the spine\n",
    "* at the first position of the spine, the prefix and suffix will contain 2 or 3 values that are trees of depth 0 (leaves), the second position will have trees of depth 1, third position will have depth 2 etc.\n",
    "* the original root of the 2-3 tree now resides at the bottom of the spine\n",
    "\n",
    "Define the 2-3 tree structure that will be used to store things hanging off the spine:"
   ]
  },
  {
   "cell_type": "code",
   "execution_count": 2,
   "metadata": {},
   "outputs": [],
   "source": [
    "data Node a = Branch3 a a a\n",
    "            | Branch2 a a\n",
    "            deriving Show"
   ]
  },
  {
   "cell_type": "markdown",
   "metadata": {},
   "source": [
    "By parameterizing the type constructor this way, we effectively guarantee uniform depth; the depth is represented in the type of the tree:"
   ]
  },
  {
   "cell_type": "code",
   "execution_count": 5,
   "metadata": {},
   "outputs": [
    {
     "data": {
      "text/plain": [
       "Branch2 'n' 'o'"
      ]
     },
     "metadata": {},
     "output_type": "display_data"
    },
    {
     "data": {
      "text/plain": [
       "Branch3 'y' 'e' 's'"
      ]
     },
     "metadata": {},
     "output_type": "display_data"
    },
    {
     "data": {
      "text/plain": [
       "Branch2 (Branch3 'a' 'b' 'c') (Branch2 'd' 'e')"
      ]
     },
     "metadata": {},
     "output_type": "display_data"
    },
    {
     "data": {
      "text/html": [
       "<style>/* Styles used for the Hoogle display in the pager */\n",
       ".hoogle-doc {\n",
       "display: block;\n",
       "padding-bottom: 1.3em;\n",
       "padding-left: 0.4em;\n",
       "}\n",
       ".hoogle-code {\n",
       "display: block;\n",
       "font-family: monospace;\n",
       "white-space: pre;\n",
       "}\n",
       ".hoogle-text {\n",
       "display: block;\n",
       "}\n",
       ".hoogle-name {\n",
       "color: green;\n",
       "font-weight: bold;\n",
       "}\n",
       ".hoogle-head {\n",
       "font-weight: bold;\n",
       "}\n",
       ".hoogle-sub {\n",
       "display: block;\n",
       "margin-left: 0.4em;\n",
       "}\n",
       ".hoogle-package {\n",
       "font-weight: bold;\n",
       "font-style: italic;\n",
       "}\n",
       ".hoogle-module {\n",
       "font-weight: bold;\n",
       "}\n",
       ".hoogle-class {\n",
       "font-weight: bold;\n",
       "}\n",
       ".get-type {\n",
       "color: green;\n",
       "font-weight: bold;\n",
       "font-family: monospace;\n",
       "display: block;\n",
       "white-space: pre-wrap;\n",
       "}\n",
       ".show-type {\n",
       "color: green;\n",
       "font-weight: bold;\n",
       "font-family: monospace;\n",
       "margin-left: 1em;\n",
       "}\n",
       ".mono {\n",
       "font-family: monospace;\n",
       "display: block;\n",
       "}\n",
       ".err-msg {\n",
       "color: red;\n",
       "font-style: italic;\n",
       "font-family: monospace;\n",
       "white-space: pre;\n",
       "display: block;\n",
       "}\n",
       "#unshowable {\n",
       "color: red;\n",
       "font-weight: bold;\n",
       "}\n",
       ".err-msg.in.collapse {\n",
       "padding-top: 0.7em;\n",
       "}\n",
       ".highlight-code {\n",
       "white-space: pre;\n",
       "font-family: monospace;\n",
       "}\n",
       ".suggestion-warning { \n",
       "font-weight: bold;\n",
       "color: rgb(200, 130, 0);\n",
       "}\n",
       ".suggestion-error { \n",
       "font-weight: bold;\n",
       "color: red;\n",
       "}\n",
       ".suggestion-name {\n",
       "font-weight: bold;\n",
       "}\n",
       "</style><span class='get-type'>t :: Node (Node Char)</span>"
      ],
      "text/plain": [
       "t :: Node (Node Char)"
      ]
     },
     "metadata": {},
     "output_type": "display_data"
    }
   ],
   "source": [
    "Branch2 'n' 'o'\n",
    "Branch3 'y' 'e' 's'\n",
    "\n",
    "let t = Branch2 (Branch3 'a' 'b' 'c') (Branch2 'd' 'e')\n",
    "t\n",
    ":t t"
   ]
  },
  {
   "cell_type": "markdown",
   "metadata": {},
   "source": [
    "Implement some utility functions that let us treat `Node` values as a list of 2 or 3 elements. The `OverloadedLists` extension allows us to implement `fromList` and `toList` for different data types and use pattern matching on them as if they were lists:"
   ]
  },
  {
   "cell_type": "code",
   "execution_count": 7,
   "metadata": {},
   "outputs": [],
   "source": [
    ":ext OverloadedLists\n",
    ":ext TypeFamilies\n",
    "\n",
    "import GHC.Exts (IsList(..))\n",
    "\n",
    "instance IsList (Node a) where\n",
    "  type Item (Node a) = a\n",
    "  \n",
    "  toList (Branch2 x y) = [x, y]\n",
    "  toList (Branch3 x y z) = [x, y, z]\n",
    "  \n",
    "  fromList [x, y] = Branch2 x y\n",
    "  fromList [x, y, z] = Branch3 x y z\n",
    "  fromList _ = error \"Must have 2 or 3 elements\""
   ]
  },
  {
   "cell_type": "markdown",
   "metadata": {},
   "source": [
    "Now we need a way to represent the prefix and suffix at each level of the spine. If we are being completely analogous to the 2-3 tree then only the two nodes at the first level of the spine will have 2 or 3 children and itermediate levels will have 1 or 2, the other being the link up the spine. For the sake of uniformity we will just say that each prefix/suffix has between 1 and 4 items. Instead of using a list, we will use a type that restricts to these amounts:"
   ]
  },
  {
   "cell_type": "code",
   "execution_count": 9,
   "metadata": {},
   "outputs": [],
   "source": [
    "data Affix a = One a\n",
    "             | Two a a\n",
    "             | Three a a a\n",
    "             | Four a a a a\n",
    "             deriving Show\n",
    "             \n",
    "-- Treat them as lists to make things easier\n",
    "instance IsList (Affix a) where\n",
    "  type Item (Affix a) = a\n",
    "  \n",
    "  toList (One x) = [x]\n",
    "  toList (Two x y) = [x, y]\n",
    "  toList (Three x y z) = [x, y, z]\n",
    "  toList (Four x y z w) = [x, y, z, w]\n",
    "  \n",
    "  fromList [x] = One x\n",
    "  fromList [x, y] = Two x y\n",
    "  fromList [x, y, z] = Three x y z\n",
    "  fromList [x, y, z, w] = Four x y z w\n",
    "  fromList _ = error \"Must have 1-4 items\"\n",
    "  \n",
    "-- The following could be much more efficient, we use the simplest implementation possible\n",
    "affixPrepend :: a -> Affix a -> Affix a\n",
    "affixPrepend x = fromList . (x :) . toList\n",
    "\n",
    "affixAppend :: a -> Affix a -> Affix a\n",
    "affixAppend x = fromList . (++ [x]) . toList"
   ]
  },
  {
   "cell_type": "markdown",
   "metadata": {},
   "source": [
    "Now we're ready to create the spine data structure, the `FingerTree` itself:"
   ]
  },
  {
   "cell_type": "code",
   "execution_count": 17,
   "metadata": {},
   "outputs": [
    {
     "data": {
      "text/plain": [
       "Deep {prefix = Two 't' 'h', deeper = Deep {prefix = Two (Branch2 'i' 's') (Branch2 'i' 's'), deeper = Empty, suffix = Two (Branch3 'n' 'o' 't') (Branch2 'a' 't')}, suffix = Three 'r' 'e' 'e'}"
      ]
     },
     "metadata": {},
     "output_type": "display_data"
    }
   ],
   "source": [
    "data FingerTree a\n",
    "  = Empty -- we can have empty trees\n",
    "  | Single a -- special singleton case\n",
    "  | Deep \n",
    "    { prefix :: Affix a             -- values to the left\n",
    "    , deeper :: FingerTree (Node a) -- descending a level results in tree with a greater depth\n",
    "    , suffix :: Affix a }           -- values to the right\n",
    "  deriving Show\n",
    "  \n",
    "-- example tree\n",
    "\n",
    "layer3 :: FingerTree a\n",
    "layer3 = Empty\n",
    "\n",
    "layer2 :: FingerTree (Node Char)\n",
    "layer2 = Deep prefix layer3 suffix where\n",
    "  prefix = [['i', 's'], Branch2 'i' 's']\n",
    "  suffix = [Branch3 'n' 'o' 't', Branch2 'a' 't']\n",
    "  \n",
    "layer1 :: FingerTree Char\n",
    "layer1 = Deep prefix layer2 suffix where\n",
    "  prefix = ['t', 'h']\n",
    "  suffix = ['r', 'e', 'e']\n",
    "  \n",
    "exampleTree = layer1\n",
    "\n",
    "exampleTree"
   ]
  },
  {
   "cell_type": "markdown",
   "metadata": {},
   "source": [
    "## Finger Trees as Sequences\n",
    "### Prepend and Append\n",
    "To append an element to a finger tree we want to add it to the prefix. This won't work if the prefix already has 4 elements, so what we do is take the 5 elements and turn three of them into a `Branch3` and append that to the deeper finger tree:"
   ]
  },
  {
   "cell_type": "code",
   "execution_count": 18,
   "metadata": {},
   "outputs": [],
   "source": [
    "infixr 5 <|\n",
    "(<|) :: a -> FingerTree a -> FingerTree a\n",
    "\n",
    "x <| Empty = Single x\n",
    "\n",
    "x <| Single y = Deep [x] Empty [y]\n",
    "\n",
    "x <| Deep [a, b, c, d] deeper suffix = Deep [x, a] (node <| deeper) suffix where\n",
    "  node = Branch3 b c d\n",
    "  \n",
    "x <| tree = tree { prefix = affixPrepend x $ prefix tree }"
   ]
  },
  {
   "cell_type": "markdown",
   "metadata": {},
   "source": [
    "Prepending follows suit:"
   ]
  },
  {
   "cell_type": "code",
   "execution_count": 29,
   "metadata": {},
   "outputs": [],
   "source": [
    "infixl 4 |>\n",
    "(|>) :: FingerTree a -> a -> FingerTree a\n",
    "Empty |> x = Single x\n",
    "Single x |> y = Deep [x] Empty [y]\n",
    "Deep prefix deeper [a, b, c, d] |> x = Deep prefix (deeper |> node) [d, x] where\n",
    "  node = Branch3 a b c\n",
    "tree |> y = tree { suffix = affixAppend y $ suffix tree }"
   ]
  },
  {
   "cell_type": "code",
   "execution_count": 30,
   "metadata": {},
   "outputs": [
    {
     "data": {
      "text/plain": [
       "Deep {prefix = One 't', deeper = Single (Branch3 'x' 'y' 'z'), suffix = Two 'w' 'm'}"
      ]
     },
     "metadata": {},
     "output_type": "display_data"
    }
   ],
   "source": [
    "'t' <| Empty |> 'x' |> 'y' |> 'z' |> 'w' |> 'm'"
   ]
  },
  {
   "cell_type": "markdown",
   "metadata": {},
   "source": [
    "## Views (First and Last)\n",
    "The naive implementation looks like this:"
   ]
  },
  {
   "cell_type": "code",
   "execution_count": 32,
   "metadata": {},
   "outputs": [
    {
     "data": {
      "text/html": [
       "<style>/* Styles used for the Hoogle display in the pager */\n",
       ".hoogle-doc {\n",
       "display: block;\n",
       "padding-bottom: 1.3em;\n",
       "padding-left: 0.4em;\n",
       "}\n",
       ".hoogle-code {\n",
       "display: block;\n",
       "font-family: monospace;\n",
       "white-space: pre;\n",
       "}\n",
       ".hoogle-text {\n",
       "display: block;\n",
       "}\n",
       ".hoogle-name {\n",
       "color: green;\n",
       "font-weight: bold;\n",
       "}\n",
       ".hoogle-head {\n",
       "font-weight: bold;\n",
       "}\n",
       ".hoogle-sub {\n",
       "display: block;\n",
       "margin-left: 0.4em;\n",
       "}\n",
       ".hoogle-package {\n",
       "font-weight: bold;\n",
       "font-style: italic;\n",
       "}\n",
       ".hoogle-module {\n",
       "font-weight: bold;\n",
       "}\n",
       ".hoogle-class {\n",
       "font-weight: bold;\n",
       "}\n",
       ".get-type {\n",
       "color: green;\n",
       "font-weight: bold;\n",
       "font-family: monospace;\n",
       "display: block;\n",
       "white-space: pre-wrap;\n",
       "}\n",
       ".show-type {\n",
       "color: green;\n",
       "font-weight: bold;\n",
       "font-family: monospace;\n",
       "margin-left: 1em;\n",
       "}\n",
       ".mono {\n",
       "font-family: monospace;\n",
       "display: block;\n",
       "}\n",
       ".err-msg {\n",
       "color: red;\n",
       "font-style: italic;\n",
       "font-family: monospace;\n",
       "white-space: pre;\n",
       "display: block;\n",
       "}\n",
       "#unshowable {\n",
       "color: red;\n",
       "font-weight: bold;\n",
       "}\n",
       ".err-msg.in.collapse {\n",
       "padding-top: 0.7em;\n",
       "}\n",
       ".highlight-code {\n",
       "white-space: pre;\n",
       "font-family: monospace;\n",
       "}\n",
       ".suggestion-warning { \n",
       "font-weight: bold;\n",
       "color: rgb(200, 130, 0);\n",
       "}\n",
       ".suggestion-error { \n",
       "font-weight: bold;\n",
       "color: red;\n",
       "}\n",
       ".suggestion-name {\n",
       "font-weight: bold;\n",
       "}\n",
       "</style><span class='err-msg'>Must have 1-4 items<br/>CallStack (from HasCallStack):<br/>  error, called at &lt;interactive&gt;:18:16 in interactive:IHaskell185</span>"
      ],
      "text/plain": [
       "Must have 1-4 items\n",
       "CallStack (from HasCallStack):\n",
       "  error, called at <interactive>:18:16 in interactive:Ghci185"
      ]
     },
     "metadata": {},
     "output_type": "display_data"
    }
   ],
   "source": [
    "data View a = Nil | View a (FingerTree a) deriving Show\n",
    "\n",
    "viewl :: FingerTree a -> View a\n",
    "viewl Empty = Nil\n",
    "viewl (Single x) = View x Empty\n",
    "viewl (Deep prefix deeper suffix) =\n",
    "  View first $ Deep (fromList rest) deeper suffix \n",
    "  where\n",
    "    first:rest = toList prefix\n",
    "    \n",
    "-- here's the problem:\n",
    "let View _ rest = viewl exampleTree\n",
    "viewl rest"
   ]
  },
  {
   "cell_type": "markdown",
   "metadata": {},
   "source": [
    "Instead we must explicitly check the number of elements in the prefix and if there's only one, we need to recursively grab a `Node a` from the deeper tree so we can return the single element and replace it."
   ]
  },
  {
   "cell_type": "code",
   "execution_count": 38,
   "metadata": {},
   "outputs": [
    {
     "data": {
      "text/plain": [
       "View 'h' (Deep {prefix = Two 'i' 's', deeper = Deep {prefix = One (Branch2 'i' 's'), deeper = Empty, suffix = Two (Branch3 'n' 'o' 't') (Branch2 'a' 't')}, suffix = Three 'r' 'e' 'e'})"
      ]
     },
     "metadata": {},
     "output_type": "display_data"
    }
   ],
   "source": [
    "viewl :: FingerTree a -> View a\n",
    "viewl Empty = Nil\n",
    "viewl (Single x) = View x Empty\n",
    "viewl (Deep [x] deeper suffix) = View x rest where\n",
    "  rest =\n",
    "    case viewl deeper of\n",
    "      View node rest' ->\n",
    "        Deep (fromList $ toList node) rest' suffix\n",
    "      Nil -> case suffix of\n",
    "        [x] -> Single x\n",
    "        [x, y] -> Deep [x] Empty [y]\n",
    "        [x, y, z] -> Deep [x, y] Empty [z]\n",
    "        [x, y, z, w] -> Deep [x, y, z] Empty [w]\n",
    "viewl (Deep prefix deeper suffix) = View x $ Deep (fromList rest) deeper suffix\n",
    "  where x : rest = toList prefix\n",
    "  \n",
    "let View _ rest = viewl exampleTree\n",
    "viewl rest"
   ]
  },
  {
   "cell_type": "markdown",
   "metadata": {},
   "source": [
    "Right view is implemented the same way:"
   ]
  },
  {
   "cell_type": "code",
   "execution_count": 39,
   "metadata": {},
   "outputs": [],
   "source": [
    "viewr :: FingerTree a -> View a\n",
    "viewr Empty = Nil\n",
    "viewr (Single x) = View x Empty\n",
    "viewr (Deep prefix deeper [x]) = View x rest where\n",
    "  rest =\n",
    "    case viewr deeper of\n",
    "      View node rest' ->\n",
    "        Deep prefix rest' (fromList $ toList node)\n",
    "      Nil -> case prefix of\n",
    "        [x] -> Single x\n",
    "        [x, y] -> Deep [x] Empty [y]\n",
    "        [x, y, z] -> Deep [x] Empty [y, z]\n",
    "        [x, y, z, w] -> Deep [x] Empty [y, z, w]\n",
    "viewr (Deep prefix deeper suffix) = View x $ Deep prefix deeper (fromList rest)\n",
    "  where x : rest = toList suffix"
   ]
  },
  {
   "cell_type": "markdown",
   "metadata": {},
   "source": [
    "We can now easily convert between FingerTree and List"
   ]
  },
  {
   "cell_type": "code",
   "execution_count": 44,
   "metadata": {},
   "outputs": [
    {
     "data": {
      "text/plain": [
       "Deep {prefix = Two 1 2, deeper = Single (Branch3 3 4 5), suffix = One 6}"
      ]
     },
     "metadata": {},
     "output_type": "display_data"
    }
   ],
   "source": [
    "instance IsList (FingerTree a) where\n",
    "  type Item (FingerTree a) = a\n",
    "  \n",
    "  toList tree = case viewl tree of\n",
    "    Nil -> []\n",
    "    View x xs -> x : toList xs\n",
    "    \n",
    "  fromList = foldr (<|) Empty\n",
    "  \n",
    "[1..6] :: FingerTree Int"
   ]
  },
  {
   "cell_type": "markdown",
   "metadata": {},
   "source": [
    "## Concatenation\n",
    "Here's the naive implementation:"
   ]
  },
  {
   "cell_type": "code",
   "execution_count": 45,
   "metadata": {},
   "outputs": [],
   "source": [
    "(><) :: FingerTree a -> FingerTree a -> FingerTree a\n",
    "left >< Empty = left\n",
    "left >< right =\n",
    "  let View first rest = viewl right in\n",
    "    (left |> first) >< rest"
   ]
  },
  {
   "cell_type": "markdown",
   "metadata": {},
   "source": [
    "We can do better than this O(n) runtime by utilising the structure of the FingerTree. First we need a utility function called `nodes` which converts from a list of items to a list `Node`s of items:"
   ]
  },
  {
   "cell_type": "code",
   "execution_count": 46,
   "metadata": {},
   "outputs": [],
   "source": [
    "nodes :: [a] -> [Node a]\n",
    "nodes xs = case xs of\n",
    "  [] -> error \"empty list\"\n",
    "  [x] -> error \"single element\"\n",
    "  [x, y] -> [Branch2 x y]\n",
    "  [x, y, z] -> [Branch3 x y z]\n",
    "  x : y : r -> Branch2 x y : nodes r"
   ]
  },
  {
   "cell_type": "markdown",
   "metadata": {},
   "source": [
    "If nodes is given a list of n elements it will emit a list of n/2 nodes.\n",
    "\n",
    "Next we'll redefine concatenation using a somewhat strange operator called `concatWithMiddle` which takes two FingerTrees and as well as a list of elements to stick between them:"
   ]
  },
  {
   "cell_type": "code",
   "execution_count": 70,
   "metadata": {},
   "outputs": [
    {
     "data": {
      "text/plain": [
       "Deep {prefix = Two 't' 'h', deeper = Deep {prefix = Two (Branch2 'i' 's') (Branch2 'i' 's'), deeper = Deep {prefix = Two (Branch2 (Branch3 'n' 'o' 't') (Branch2 'a' 't')) (Branch2 (Branch2 'r' 'e') (Branch3 'e' 't' 'h')), deeper = Empty, suffix = One (Branch2 (Branch2 'i' 's') (Branch2 'i' 's'))}, suffix = Two (Branch3 'n' 'o' 't') (Branch2 'a' 't')}, suffix = Three 'r' 'e' 'e'}"
      ]
     },
     "metadata": {},
     "output_type": "display_data"
    }
   ],
   "source": [
    "(><) :: FingerTree a -> FingerTree a -> FingerTree a\n",
    "left >< right = concatWithMiddle left [] right\n",
    "\n",
    "concatWithMiddle :: FingerTree a -> [a] -> FingerTree a -> FingerTree a\n",
    "concatWithMiddle Empty [] right = right\n",
    "concatWithMiddle Empty (x:xs) right = x <| concatWithMiddle Empty xs right\n",
    "concatWithMiddle (Single y) xs right = y <| concatWithMiddle Empty xs right\n",
    "\n",
    "concatWithMiddle left [] Empty = left\n",
    "concatWithMiddle left xs Empty = concatWithMiddle left (init xs) Empty |> last xs\n",
    "concatWithMiddle left xs (Single y) = concatWithMiddle left xs Empty |> y\n",
    "\n",
    "concatWithMiddle left mid right = Deep (prefix left) deeper' (suffix right) where\n",
    "  deeper' = concatWithMiddle (deeper left) mid' (deeper right)\n",
    "  mid' = nodes $ (toList $ suffix left) ++ mid ++ (toList $ prefix right)\n",
    "  \n",
    "exampleTree >< exampleTree"
   ]
  },
  {
   "cell_type": "code",
   "execution_count": null,
   "metadata": {},
   "outputs": [],
   "source": []
  }
 ],
 "metadata": {
  "kernelspec": {
   "display_name": "Haskell",
   "language": "haskell",
   "name": "haskell"
  },
  "language_info": {
   "codemirror_mode": "ihaskell",
   "file_extension": ".hs",
   "name": "haskell",
   "pygments_lexer": "Haskell",
   "version": "8.2.2"
  }
 },
 "nbformat": 4,
 "nbformat_minor": 2
}
