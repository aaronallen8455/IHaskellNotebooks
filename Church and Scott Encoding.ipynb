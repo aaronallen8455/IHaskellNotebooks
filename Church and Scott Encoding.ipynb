{
 "cells": [
  {
   "cell_type": "markdown",
   "metadata": {},
   "source": [
    "# Church and Scott Encoded Lists\n",
    "\n",
    "An operation that handles the cons and nil cases of a list deconstruction completely defines a list. This is the Scott encoding:"
   ]
  },
  {
   "cell_type": "code",
   "execution_count": 88,
   "metadata": {},
   "outputs": [],
   "source": [
    ":ext RankNTypes\n",
    ":m Control.Monad\n",
    "\n",
    "newtype ListS a = ListS { runListS :: forall r. (a -> ListS a -> r) -> r -> r }\n",
    "\n",
    "instance Functor ListS where\n",
    "  fmap f (ListS xs) = ListS $ \\cons nil -> xs (\\a as -> cons (f a) (fmap f as)) nil\n",
    "  \n",
    "instance Applicative ListS where\n",
    "  pure a = ListS $ \\cons _ -> cons a mempty\n",
    "  l1@(ListS f) <*> l2@(ListS a) = ListS $ \\cons nil ->\n",
    "    f (\\x xs -> a (\\y ys -> cons (x y) $ (x <$> ys) <> (xs <*> l2)) nil\n",
    "      )\n",
    "      nil\n",
    "    \n",
    "instance Monad ListS where\n",
    "  (ListS ma) >>= amb = ListS $ \\cons nil ->\n",
    "    ma (\\x xs -> runListS (amb x <> (xs >>= amb)) cons nil\n",
    "       )\n",
    "       nil\n",
    "\n",
    "instance Foldable ListS where\n",
    "  foldr arr r (ListS xs) = xs go r where\n",
    "    go a xs' = arr a $ foldr arr r xs'\n",
    "    \n",
    "instance Semigroup (ListS a) where\n",
    "  (ListS a) <> l2@(ListS b) = ListS $ \\cons nil ->\n",
    "    a (\\x xs -> cons x $ xs <> l2) $ b cons nil\n",
    "    \n",
    "instance Monoid (ListS a) where\n",
    "  mempty = ListS $ \\_ nil -> nil\n",
    "  \n",
    "instance Traversable ListS where\n",
    "  traverse f (ListS xs) = xs go $ pure mempty\n",
    "    where\n",
    "      go a xs' = consS <$> f a <*> traverse f xs'\n",
    "\n",
    "consS :: a -> ListS a -> ListS a\n",
    "consS x xs = ListS $ \\cons _ -> cons x xs\n",
    "\n",
    "unconsS :: ListS a -> (a -> ListS a -> r) -> r -> r\n",
    "unconsS = runListS\n",
    "\n",
    "fromListS :: [a] -> ListS a\n",
    "fromListS xs = ListS $ \\cons nil ->\n",
    "  case xs of\n",
    "    (x : xs') -> cons x $ fromListS xs'\n",
    "    []        -> nil"
   ]
  },
  {
   "cell_type": "markdown",
   "metadata": {},
   "source": [
    "We can also define a list solely in terms of a fold operation. This is the Church list:"
   ]
  },
  {
   "cell_type": "code",
   "execution_count": 84,
   "metadata": {},
   "outputs": [],
   "source": [
    "newtype ListC a = ListC { runListC :: forall r. (a -> r -> r) -> r -> r }\n",
    "\n",
    "instance Functor ListC where\n",
    "  fmap f (ListC xs) = ListC $ \\arr r -> xs (arr . f) r\n",
    "  \n",
    "instance Applicative ListC where\n",
    "  pure a = ListC $ \\arr r -> arr a r\n",
    "  (ListC f) <*> (ListC a) = ListC $ \\brr r ->\n",
    "    f (\\fn r' -> a (\\x r'' -> brr (fn x) r'') r') r\n",
    "    \n",
    "instance Monad ListC where\n",
    "  (ListC ma) >>= amb = ListC $ \\brr r ->\n",
    "    ma (\\a r' -> runListC (amb a) brr r') r\n",
    "    \n",
    "instance Foldable ListC where\n",
    " foldr arr r xs = runListC xs arr r\n",
    " \n",
    "instance Semigroup (ListC a) where\n",
    "  (ListC a) <> (ListC b) = ListC $ \\arr r ->\n",
    "    a arr (b arr r)\n",
    "    \n",
    "instance Monoid (ListC a) where\n",
    "  mempty = ListC $ \\_ r -> r\n",
    "\n",
    "instance Traversable ListC where\n",
    "  traverse f (ListC xs) = xs go $ pure mempty\n",
    "    where\n",
    "      go a r = consC <$> f a <*> r\n",
    "  \n",
    "consC :: a -> ListC a -> ListC a\n",
    "consC a (ListC xs) = ListC $ \\arr r -> arr a $ xs arr r\n",
    "\n",
    "unconsC :: (a -> ListC a -> r) -> r -> ListC a -> r\n",
    "unconsC cons nil (ListC xs) =\n",
    "  case xs go (Nothing, mempty) of\n",
    "    (Just a, xs') -> cons a xs'\n",
    "    (Nothing, _) -> nil\n",
    "  where\n",
    "    go a (Just a', xs') = (Just a, consC a' xs')\n",
    "    go a (Nothing, xs') = (Just a, xs')\n",
    "\n",
    "fromListC :: [a] -> ListC a\n",
    "fromListC xs = ListC $ \\arr r -> foldr arr r xs"
   ]
  },
  {
   "cell_type": "markdown",
   "metadata": {},
   "source": [
    "Lets try it out"
   ]
  },
  {
   "cell_type": "code",
   "execution_count": 86,
   "metadata": {},
   "outputs": [
    {
     "data": {
      "text/plain": [
       "[1,2,3,4,5,2,4,6,8,10,3,6,9,12,15,4,8,12,16,20,5,10,15,20,25]"
      ]
     },
     "metadata": {},
     "output_type": "display_data"
    },
    {
     "data": {
      "text/plain": [
       "[1,1,16,32,81,243]"
      ]
     },
     "metadata": {},
     "output_type": "display_data"
    },
    {
     "data": {
      "text/plain": [
       "[1,2,3,4,5,2,4,6,8,10,3,6,9,12,15,4,8,12,16,20,5,10,15,20,25]"
      ]
     },
     "metadata": {},
     "output_type": "display_data"
    },
    {
     "data": {
      "text/plain": [
       "[1,1,16,32,81,243]"
      ]
     },
     "metadata": {},
     "output_type": "display_data"
    }
   ],
   "source": [
    "\n",
    "listc :: ListC Int\n",
    "listc = foldMap pure [1,2,3,4,5]\n",
    "\n",
    "toList $ (*) <$> listc <*> listc\n",
    "\n",
    "toList $ do\n",
    "  x <- fromListC [1,2,3]\n",
    "  y <- fromListC [4,5]\n",
    "  pure $ x ^ y\n",
    "\n",
    "lists :: ListS Int\n",
    "lists = foldMap pure [1,2,3,4,5]\n",
    "\n",
    "toList $ (*) <$> lists <*> lists\n",
    "toList $ do\n",
    "  x <- fromListS [1,2,3] :: ListS Int\n",
    "  y <- fromListS [4,5]\n",
    "  pure $ x ^ y\n"
   ]
  },
  {
   "cell_type": "code",
   "execution_count": null,
   "metadata": {},
   "outputs": [],
   "source": []
  }
 ],
 "metadata": {
  "kernelspec": {
   "display_name": "Haskell",
   "language": "haskell",
   "name": "haskell"
  },
  "language_info": {
   "codemirror_mode": "ihaskell",
   "file_extension": ".hs",
   "name": "haskell",
   "pygments_lexer": "Haskell",
   "version": "8.6.3"
  }
 },
 "nbformat": 4,
 "nbformat_minor": 2
}
