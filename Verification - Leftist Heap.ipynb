{
 "cells": [
  {
   "cell_type": "markdown",
   "metadata": {},
   "source": [
    "# Verification - Leftist Heap\n",
    "###### (https://dodisturb.me/posts/2019-10-03-Verifying-the-Titular-Properties-of-a-Leftist-Heap.html)\n",
    "\n",
    "A leftist heap is like a regular heap in that it has the heap invariant whereby the two child elements of node have labels that are less than the it's own label.\n",
    "\n",
    "Leftist heaps are implemented as explicit binary trees whereas heaps are implemented with arrays.\n",
    "\n",
    "The additional property of the leftist heap is that the left branch of a node has a size (rank) that is guaranteed to be greater than or equal to the right branch. This yields better asymptotics for merge operations because the left branches don't need to be rebuit, only the smaller right branches.\n",
    "\n",
    "We first define a generic interface for heaps"
   ]
  },
  {
   "cell_type": "code",
   "execution_count": 22,
   "metadata": {},
   "outputs": [],
   "source": [
    ":ext TypeFamilies\n",
    "\n",
    "class Heap heap where\n",
    "  {-# MINIMAL\n",
    "    isEmpty, empty,\n",
    "    (singleton | insert),\n",
    "    (fromList | (singleton, merge)),\n",
    "    (insert | (singleton, merge)),\n",
    "    (merge | (decompose, insert)),\n",
    "    (decompose | (findMax, deleteMax)) #-}\n",
    "    \n",
    "  type Elem heap\n",
    "    \n",
    "  -- Predicates\n",
    "  isEmpty :: heap -> Bool\n",
    "    \n",
    "  -- Access\n",
    "  findMax :: heap -> Maybe (Elem heap)\n",
    "  findMax = fmap fst . decompose\n",
    "    \n",
    "  -- Creation\n",
    "  empty :: heap\n",
    "    \n",
    "  singleton :: Elem heap -> heap\n",
    "  singleton = flip insert empty\n",
    "    \n",
    "  fromList :: [Elem heap] -> heap\n",
    "  fromList xs = -- O(n) for leftist heaps\n",
    "      case go (map singleton xs) of\n",
    "        [heap] -> heap\n",
    "        []     -> empty\n",
    "        _      -> error \"Impossible. Did not converge to a single heap\"\n",
    "      where\n",
    "      go [] = []\n",
    "      go [x] = [x]\n",
    "      go (x : y : rest) = go (merge x y : go rest)\n",
    "      -- ^ this is much faster than the nieve insertion fold implementation. Has linear performance.\n",
    "        \n",
    "  -- Modification\n",
    "  insert :: Elem heap -> heap -> heap\n",
    "  insert x = merge (singleton x)\n",
    "    \n",
    "  merge :: heap -> heap -> heap\n",
    "  merge heap1 heap2 =\n",
    "      case decompose heap1 of\n",
    "        Just (heapMax, heapRest) -> heapRest `merge` insert heapMax heap2\n",
    "        Nothing -> heap2\n",
    "            \n",
    "  decompose :: heap -> Maybe (Elem heap, heap)\n",
    "  decompose heap = (,) <$> findMax heap <*> deleteMax heap\n",
    "    \n",
    "  deleteMax :: heap -> Maybe heap\n",
    "  deleteMax = fmap snd . decompose"
   ]
  },
  {
   "cell_type": "markdown",
   "metadata": {},
   "source": [
    "Here's the simple list based version"
   ]
  },
  {
   "cell_type": "code",
   "execution_count": 23,
   "metadata": {},
   "outputs": [],
   "source": [
    "instance Ord a => Heap [a] where\n",
    "  type Elem [a] = a\n",
    "  \n",
    "  empty = []\n",
    "  \n",
    "  fromList = id\n",
    "  \n",
    "  insert = (:)\n",
    "  \n",
    "  merge = (++)\n",
    "  \n",
    "  decompose [] = Nothing\n",
    "  decompose xs = Just (heapMax, left ++ tail right)\n",
    "    where heapMax = maximum xs\n",
    "          (left, right) = span (/= heapMax) xs"
   ]
  },
  {
   "cell_type": "markdown",
   "metadata": {},
   "source": [
    "A leftist heap is tree and we'll implement it as such"
   ]
  },
  {
   "cell_type": "code",
   "execution_count": 24,
   "metadata": {},
   "outputs": [],
   "source": [
    "data LeftistHeap a = Leaf | Node a Int (LeftistHeap a) (LeftistHeap a)"
   ]
  },
  {
   "cell_type": "markdown",
   "metadata": {},
   "source": [
    "The `Int` paramter is the rank of the node which is the least distance to a `Leaf`. It is one more than the minimum of the children's rank. Because of the leftist property, the  right node will always have the minimal rank.\n",
    "This means that the path from the root to the right most leaf is at most log(N + 1).\n",
    "\n",
    "We make a typeclass for accessing the rank:"
   ]
  },
  {
   "cell_type": "code",
   "execution_count": 25,
   "metadata": {},
   "outputs": [],
   "source": [
    "class HasRank a where\n",
    "  type Rank a\n",
    "  rank :: a -> Rank a\n",
    "  \n",
    "instance HasRank (LeftistHeap a) where\n",
    "  type Rank (LeftistHeap a) = Int\n",
    "  rank Leaf = 0\n",
    "  rank (Node _ r _ _) = r"
   ]
  },
  {
   "cell_type": "markdown",
   "metadata": {},
   "source": [
    "Now we can begin implementing the Heap interface for the leftist heap"
   ]
  },
  {
   "cell_type": "code",
   "execution_count": 26,
   "metadata": {},
   "outputs": [],
   "source": [
    "instance Ord a => Heap (LeftistHeap a) where\n",
    "  type Elem (LeftistHeap a) = a\n",
    "  \n",
    "  isEmpty Leaf = True\n",
    "  isEmpty _ = False\n",
    "  \n",
    "  empty = Leaf\n",
    "  \n",
    "  singleton x = Node x 1 Leaf Leaf\n",
    "  \n",
    "  merge Leaf heap = heap\n",
    "  merge heap Leaf = heap\n",
    "  merge h1@(Node x _ left1 right1)\n",
    "        h2@(Node y _ left2 right2) =\n",
    "    if x > y\n",
    "      then mkNode x left1 (merge right1 h2)\n",
    "      else mkNode y left2 (merge right2 h1)\n",
    "    where\n",
    "      mkNode a heap1 heap2 =\n",
    "        if rank heap1 <= rank heap2\n",
    "          then Node a (rank heap1 + 1) heap2 heap1\n",
    "          else Node a (rank heap2 + 1) heap1 heap2\n",
    "          \n",
    "  insert x Leaf = singleton x\n",
    "  insert x heap = merge (singleton x) heap\n",
    "  \n",
    "  decompose Leaf = Nothing\n",
    "  decompose (Node mx _ l r) = Just (mx, merge l r)"
   ]
  },
  {
   "cell_type": "markdown",
   "metadata": {},
   "source": [
    "### Verify the Leftist Property\n",
    "\n",
    "To begin, we'll need type level natural numbers and a way to assert a `<=` relationship"
   ]
  },
  {
   "cell_type": "code",
   "execution_count": 27,
   "metadata": {},
   "outputs": [],
   "source": [
    ":ext DataKinds\n",
    ":ext GADTs\n",
    ":ext TypeOperators\n",
    "\n",
    ":m Data.Kind\n",
    "\n",
    "data Nat = Z | S Nat deriving (Eq, Show)\n",
    "\n",
    "data (<=) :: Nat -> Nat -> Type where\n",
    "  Base :: 'Z <= 'Z\n",
    "  Single :: a <= b -> a <= 'S b\n",
    "  Both :: a <= b -> 'S a <= 'S b"
   ]
  },
  {
   "cell_type": "markdown",
   "metadata": {},
   "source": [
    "We need to define a singleton to be able to recover values from uninhabitable types (such as `'Z` and `'S _`)"
   ]
  },
  {
   "cell_type": "code",
   "execution_count": 28,
   "metadata": {},
   "outputs": [],
   "source": [
    "data SNat :: Nat -> Type where\n",
    "  SZ :: SNat 'Z\n",
    "  SS :: SNat n -> SNat ('S n)\n",
    "  \n",
    "recover :: n <= m -> (SNat n, SNat m)\n",
    "recover Base = (SZ, SZ)\n",
    "recover (Single p) = let (n, m) = recover p in (n, SS m)\n",
    "recover (Both p) = let (n, m) = recover p in (SS n, SS m)"
   ]
  },
  {
   "cell_type": "markdown",
   "metadata": {},
   "source": [
    "#### Rank encoded leftist heaps\n",
    "\n",
    "We have the pieces necessary to define a leftist heap where the leftist property is verified at the type level."
   ]
  },
  {
   "cell_type": "code",
   "execution_count": 29,
   "metadata": {},
   "outputs": [],
   "source": [
    "newtype Rank n = Rank { unRank :: SNat n }\n",
    "\n",
    "inc :: Rank rank -> Rank ('S rank)\n",
    "inc (Rank snat) = Rank $ SS snat\n",
    "\n",
    "data SafeHeap :: Nat -> Type -> Type where\n",
    "  Leaf' :: SafeHeap 'Z a\n",
    "  Node' :: a -> Rank ('S m)             -- Node' data\n",
    "        -> SafeHeap n a -> SafeHeap m a -- Children\n",
    "        -> m <= n                       -- Leftist invariant\n",
    "        -> SafeHeap ('S m) a\n",
    "        \n",
    "instance HasRank (SafeHeap n a) where\n",
    "  type Rank (SafeHeap n a) = Rank n"
   ]
  },
  {
   "cell_type": "markdown",
   "metadata": {},
   "source": [
    "We are not able to define an instance of `Heap` for this directly because the rank type parameter would result in the type of merge being `merge :: SafeHeap rank a -> SafeHeap rank a -> SafeHeap rank a`. We instead want to be able to merge heaps of different ranks to produce another rank.\n",
    "\n",
    "The answer is to hide the rank parameter using an existential wrapper."
   ]
  },
  {
   "cell_type": "code",
   "execution_count": 30,
   "metadata": {},
   "outputs": [],
   "source": [
    ":ext ExistentialQuantification\n",
    "\n",
    "data SomeSafeHeap a = forall r. SSH (SafeHeap r a)\n",
    "\n",
    "-- Allows us to produce our type level assertion using values\n",
    "lemConnexity :: SNat n -> SNat m -> Either (n <= m) (m <= n)\n",
    "lemConnexity SZ y = Left $ lemZLEQAll y\n",
    "lemConnexity x SZ = Right $ lemZLEQAll x\n",
    "lemConnexity (SS x) (SS y) =\n",
    "  case lemConnexity x y of\n",
    "    Left xLEQy -> Left $ Both xLEQy\n",
    "    Right yLEQx -> Right $ Both yLEQx\n",
    "    \n",
    "lemZLEQAll :: SNat n -> 'Z <= n\n",
    "lemZLEQAll SZ = Base\n",
    "lemZLEQAll (SS n) = Single $ lemZLEQAll n\n",
    "\n",
    "instance Ord a => Heap (SomeSafeHeap a) where\n",
    "  type Elem (SomeSafeHeap a) = a\n",
    "  \n",
    "  singleton x = SSH singleton' where\n",
    "    singleton' = Node' x (Rank $ SS SZ) Leaf' Leaf' Base\n",
    "    \n",
    "  merge (SSH Leaf') heap = heap\n",
    "  merge heap (SSH Leaf') = heap\n",
    "  merge heap1@(SSH (Node' x _ left1 right1 _))\n",
    "        heap2@(SSH (Node' y _ left2 right2 _)) =\n",
    "    if x > y\n",
    "    then mkNode x (SSH left1) $ merge (SSH right1) heap2\n",
    "    else mkNode y (SSH left2) $ merge (SSH right2) heap1\n",
    "    where\n",
    "    mkNode a (SSH h1) (SSH h2) =\n",
    "      case lemConnexity (unRank $ rank h1) (unRank $ rank h2) of\n",
    "        Left r1LEQr2 -> SSH $ Node' a (inc $ rank h1) h2 h1 r1LEQr2\n",
    "        Right r2LEQr1 -> SSH $ Node' a (inc $ rank h2) h1 h2 r2LEQr1"
   ]
  },
  {
   "cell_type": "markdown",
   "metadata": {},
   "source": [
    "We wrote a lemma that tells us which child heap has the lower rank and should therefore be on the right.\n",
    "\n",
    "### Verifying the heap property\n",
    "\n",
    "Now we want to encode both the rank and the label in our leftist heap type."
   ]
  },
  {
   "cell_type": "code",
   "execution_count": 39,
   "metadata": {},
   "outputs": [],
   "source": [
    "import Data.Type.Equality ((:~:)(..))\n",
    "\n",
    "newtype Label n = Label { unLabel :: SNat n }\n",
    "\n",
    "data SaferHeap :: Nat -> Nat -> Type where\n",
    "  Leaf'' :: SaferHeap 'Z 'Z\n",
    "  Node'' :: Label a -> Rank ('S m)         -- Node Data\n",
    "         -> SaferHeap n b -> SaferHeap m c -- Children\n",
    "         -> m <= n                         -- Leftist property\n",
    "         -> b <= a -> c <= a               -- Heap property\n",
    "         -> SaferHeap ('S m) a\n",
    "         \n",
    "instance HasRank (SaferHeap rank label) where\n",
    "  type Rank (SaferHeap rank label) = Rank rank\n",
    "  rank Leaf'' = Rank SZ\n",
    "  rank (Node'' _ r _ _ _ _ _) = r\n",
    "         \n",
    "-- the existential wrapper over which we'll define the Heap instance\n",
    "data SomeSaferHeap = forall rank label. SSH' (SaferHeap rank label)\n",
    "\n",
    "-- we need to be able to convert between SNat and Nat because we don't actually store a Nat anywhere\n",
    "demote :: SNat n -> Nat\n",
    "demote SZ = Z\n",
    "demote (SS n) = S (demote n)\n",
    "\n",
    "-- we'll need an existential wrapper for our Nat singleton\n",
    "data SomeNat = forall n. SomeNat (SNat n)\n",
    "\n",
    "promote :: Nat -> SomeNat\n",
    "promote Z = SomeNat SZ\n",
    "promote (S n) | SomeNat snat <- promote n = SomeNat (SS snat)\n",
    "\n",
    "-- We need an intermediate existential wrapper that allows us to postulate the label but still hides the rank\n",
    "data AlmostSomeSaferHeap a = forall rank. ASSH (SaferHeap rank a)\n",
    "\n",
    "mkNode :: Label c\n",
    "       -> AlmostSomeSaferHeap a -> AlmostSomeSaferHeap b\n",
    "       -> a <= c -> b <= c\n",
    "       -> AlmostSomeSaferHeap c\n",
    "mkNode vc (ASSH hA) (ASSH hB) aLEQc bLEQc\n",
    "  | rA <- rank hA, rB <- rank hB =\n",
    "  case lemConnexity (unRank rA) (unRank rB) of\n",
    "    Left arLEQbr  -> ASSH $ Node'' vc (inc rA) hB hA arLEQbr bLEQc aLEQc\n",
    "    Right brLEQar -> ASSH $ Node'' vc (inc rB) hA hB brLEQar aLEQc bLEQc\n",
    "\n",
    "type family Max n m :: Nat where\n",
    "  Max 'Z m = m\n",
    "  Max n 'Z = n\n",
    "  Max ('S n) ('S m) = 'S (Max n m)\n",
    "  \n",
    "lemMaxOfLEQ :: n <= m -> Max n m :~: m\n",
    "lemMaxOfLEQ Base = Refl\n",
    "lemMaxOfLEQ (Both xLEQy) | Refl <- lemMaxOfLEQ xLEQy = Refl\n",
    "lemMaxOfLEQ (Single xLEQy) =\n",
    "  case fst $ recover xLEQy of\n",
    "    SZ -> Refl\n",
    "    SS _ | Refl <- lemMaxOfLEQ (lemDecLEQ xLEQy) -> Refl\n",
    "    \n",
    "lemDecLEQ :: 'S x <= y -> x <= y\n",
    "--lemDecLEQ (Single a) = Single (LemDecLEQ a)\n",
    "--lemDecLEQ (Both n) = Single n\n",
    "lemDecLEQ sxLEQy = uncurry go (recover sxLEQy) sxLEQy\n",
    "  where\n",
    "  go :: SNat ('S x) -> SNat y -> 'S x <= y -> x <= y\n",
    "  go _ SZ _ = error \"Impossible case.\"\n",
    "  go _ (SS _) (Single leq) = Single (lemDecLEQ leq)\n",
    "  go (SS SZ) y (Both _) = lemZLEQAll y\n",
    "  go (SS (SS _)) (SS _) (Both leq) = Both (lemDecLEQ leq)\n",
    "\n",
    "lemDoubleLEQMax :: n <= l -> m <= l -> Max n m <= l\n",
    "lemDoubleLEQMax nLEQ1 mLEQ1 =\n",
    "  let n = fst $ recover nLEQ1\n",
    "      m = fst $ recover mLEQ1\n",
    "   in case lemMaxSelective n m of\n",
    "        Left Refl -> nLEQ1\n",
    "        Right Refl -> mLEQ1\n",
    "\n",
    "lemMaxSelective :: SNat n -> SNat m -> Either (Max n m :~: n) (Max n m :~: m)\n",
    "lemMaxSelective SZ _ = Right Refl\n",
    "lemMaxSelective _ SZ = Left Refl\n",
    "lemMaxSelective (SS n) (SS m) =\n",
    "  case lemMaxSelective n m of\n",
    "    Left Refl -> Left Refl\n",
    "    Right Refl -> Right Refl\n",
    "\n",
    "lemMaxSym :: SNat n -> SNat m -> Max n m :~: Max m n\n",
    "lemMaxSym SZ _ = Refl\n",
    "lemMaxSym _ SZ = Refl\n",
    "lemMaxSym (SS n) (SS m) | Refl <- lemMaxSym n m = Refl"
   ]
  },
  {
   "cell_type": "code",
   "execution_count": 40,
   "metadata": {},
   "outputs": [],
   "source": [
    "merge' :: AlmostSomeSaferHeap n -> AlmostSomeSaferHeap m -> AlmostSomeSaferHeap (Max n m)\n",
    "merge' (ASSH Leaf'') heap = heap\n",
    "merge' heap (ASSH Leaf'') = heap\n",
    "merge' heap1@(ASSH (Node'' label1 _ left1 right1 _ lLEQ1 rLEQ1))\n",
    "       heap2@(ASSH (Node'' label2 _ left2 right2 _ lLEQ2 rLEQ2)) =\n",
    "  case lemConnexity (unLabel label1) (unLabel label2) of\n",
    "    Left l1LEQl2 | Refl <- lemMaxOfLEQ l1LEQl2 ->\n",
    "      let child1 = ASSH left2\n",
    "          c1LEQp = lLEQ2\n",
    "          child2 = merge' (ASSH right2) heap1\n",
    "          c2LEQp = lemDoubleLEQMax rLEQ2 l1LEQl2\n",
    "       in mkNode label2 child1 child2 c1LEQp c2LEQp\n",
    "    Right l2LEQl1 | Refl <- lemMaxOfLEQ l2LEQl1\n",
    "                  , Refl <- lemMaxSym (unLabel label1) (unLabel label2) ->\n",
    "      let child1 = ASSH left1\n",
    "          c1LEQp = lLEQ1\n",
    "          child2 = merge' (ASSH right1) heap2\n",
    "          c2LEQp = lemDoubleLEQMax rLEQ1 l2LEQl1\n",
    "       in mkNode label1 child1 child2 c1LEQp c2LEQp\n",
    "\n",
    "instance Heap SomeSaferHeap where\n",
    "  type Elem SomeSaferHeap = Nat\n",
    "  \n",
    "  empty = SSH' Leaf''\n",
    "  \n",
    "  singleton x | SomeNat n <- promote x =\n",
    "    let zLTEn = lemZLEQAll n\n",
    "     in SSH' $ Node'' (Label n) (Rank $ SS SZ) Leaf'' Leaf'' Base zLTEn zLTEn\n",
    "     \n",
    "  merge (SSH' Leaf'') heap = heap\n",
    "  merge heap (SSH' Leaf'') = heap\n",
    "  merge (SSH' h1) (SSH' h2) | ASSH m <- merge' (ASSH h1) (ASSH h2) = SSH' m\n",
    "    "
   ]
  },
  {
   "cell_type": "code",
   "execution_count": 35,
   "metadata": {},
   "outputs": [
    {
     "data": {
      "text/plain": [
       "Just (4,[2,3,1])"
      ]
     },
     "metadata": {},
     "output_type": "display_data"
    }
   ],
   "source": [
    "testHeap :: SomeSaferHeap\n",
    "testHeap = fromList [Z, S Z, S (S Z), Z]\n",
    "\n",
    "testListHeap :: [Int]\n",
    "testListHeap = fromList [2 :: Int, 3, 4, 1]\n",
    "decompose testListHeap"
   ]
  },
  {
   "cell_type": "code",
   "execution_count": null,
   "metadata": {},
   "outputs": [],
   "source": []
  },
  {
   "cell_type": "code",
   "execution_count": null,
   "metadata": {},
   "outputs": [],
   "source": []
  }
 ],
 "metadata": {
  "kernelspec": {
   "display_name": "Haskell",
   "language": "haskell",
   "name": "haskell"
  },
  "language_info": {
   "codemirror_mode": "ihaskell",
   "file_extension": ".hs",
   "name": "haskell",
   "pygments_lexer": "Haskell",
   "version": "8.6.3"
  }
 },
 "nbformat": 4,
 "nbformat_minor": 2
}
