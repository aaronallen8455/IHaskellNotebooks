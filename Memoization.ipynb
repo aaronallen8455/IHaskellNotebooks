{
 "cells": [
  {
   "cell_type": "markdown",
   "metadata": {},
   "source": [
    "# Some Memoization Techiques\n",
    "Demonstrating with the coin change problem: how many ways can a given amount be formed from a set of denominations that can be used any number of times."
   ]
  },
  {
   "cell_type": "code",
   "execution_count": 12,
   "metadata": {},
   "outputs": [
    {
     "data": {
      "text/plain": [
       "292"
      ]
     },
     "metadata": {},
     "output_type": "display_data"
    }
   ],
   "source": [
    "makeChange :: [Int] -> Int -> Int\n",
    "makeChange coins total = last memo where\n",
    "  initMemo = 1 : replicate total 0\n",
    "  memo = foldr buildRow initMemo coins\n",
    "  buildRow coin prevRow = newRow where\n",
    "    newRow = zipWith (+) withCoin prevRow\n",
    "    withCoin = replicate coin 0 ++ newRow\n",
    "    \n",
    "makeChange [1,5,10,25,50] 100"
   ]
  },
  {
   "cell_type": "markdown",
   "metadata": {},
   "source": [
    "This solution is interesting due to the use of mutually recursive lists. By having `withCoin` pad a number of 0s equal to the value of the coin onto the front of new row, we are taking the previous row and adding all possible number of times to include the current coin."
   ]
  },
  {
   "cell_type": "code",
   "execution_count": null,
   "metadata": {},
   "outputs": [],
   "source": []
  }
 ],
 "metadata": {
  "kernelspec": {
   "display_name": "Haskell",
   "language": "haskell",
   "name": "haskell"
  },
  "language_info": {
   "codemirror_mode": "ihaskell",
   "file_extension": ".hs",
   "name": "haskell",
   "pygments_lexer": "Haskell",
   "version": "8.6.3"
  }
 },
 "nbformat": 4,
 "nbformat_minor": 2
}
