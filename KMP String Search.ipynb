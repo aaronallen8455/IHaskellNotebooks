{
 "cells": [
  {
   "cell_type": "markdown",
   "metadata": {},
   "source": [
    "# KMP String Search Algorithm"
   ]
  },
  {
   "cell_type": "code",
   "execution_count": 7,
   "metadata": {},
   "outputs": [
    {
     "data": {
      "text/plain": [
       "[7,12]"
      ]
     },
     "metadata": {},
     "output_type": "display_data"
    }
   ],
   "source": [
    "data Tree a = Node (Tree a) a (Tree a)\n",
    "            | Null\n",
    "            \n",
    "matches :: Eq a => [a] -> [a] -> [Int]\n",
    "matches ws = map fst . filter (ok . snd) . scanl step (0, root)\n",
    "  where\n",
    "  ok (Node _ vs _) = null vs\n",
    "  ok _ = False\n",
    "  step (n, t) x = (n + 1, op t x)\n",
    "  op Null x = root\n",
    "  op (Node l [] _) x = op l x\n",
    "  op (Node l (v : vs) r) x | v == x = r\n",
    "                           | otherwise = op l x\n",
    "  root = grep Null ws\n",
    "  grep l [] = Node l [] Null\n",
    "  grep l (v : vs) = Node l (v : vs) (grep (op l v) vs)\n",
    "  \n",
    "matches \"test\" \"ok test test \""
   ]
  },
  {
   "cell_type": "code",
   "execution_count": null,
   "metadata": {},
   "outputs": [],
   "source": []
  }
 ],
 "metadata": {
  "kernelspec": {
   "display_name": "Haskell",
   "language": "haskell",
   "name": "haskell"
  },
  "language_info": {
   "codemirror_mode": "ihaskell",
   "file_extension": ".hs",
   "name": "haskell",
   "pygments_lexer": "Haskell",
   "version": "8.6.3"
  }
 },
 "nbformat": 4,
 "nbformat_minor": 2
}
