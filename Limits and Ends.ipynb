{
 "cells": [
  {
   "cell_type": "markdown",
   "metadata": {},
   "source": [
    "# Limits and Ends\n",
    "##### (https://bartoszmilewski.com/2015/04/15/limits-and-colimits/)\n",
    "##### (https://bartoszmilewski.com/2017/03/29/ends-and-coends/)\n",
    "\n",
    "\n",
    "What are 'limits' and 'ends'? How are they similiar? How are they different?\n",
    "\n",
    "### Limits\n",
    "A limit is a construct wherein objects in a category `I` are mapped to objects in a category `C` via some functor `D`. We also have an object `c` in `C` that all objects in `I` map to via a constant functor `Δc`. If there is a natural transformations from `Δc` to `D` then we have what is called a 'cone' - the components of the natural transformation form the sides of a cone or pyramid shape and the image of `D` forms the base, `c` is the apex. Each morphism in `I` will form the base of a commuting triangle under the image of `D`.\n",
    "\n",
    "Cones themselves form a category relative to a specific functor. Morphisms in this category are completely defined by a morhpism between apexs.\n",
    "\n",
    "The universal construction of cones seeks to determine the cone whose apex is the reciever of a unique factorizing morphism from the apex of every other cone (terminal object in the category of cones). This apex is called the limit of the diagram `D`. The morphism between cones (which is the morphism between the apexs) is the factorizer for it's projections (components of a natural transformation from Δc to D).\n",
    "\n",
    "Therefore, the limit is an object that embodies the whole diagram. In the case of a 2-object category, this will be the product of those two objects without any extraneous information (the universal product).\n",
    "\n",
    "The commutivity condition between the triangles that link two cones should be replaced with a naturality condition. To do this, we define a natural transformation between two functors: the mapping of cones to factorizing morphism from the set `C(c, Lim D)`, and the mapping of `c` to the set of cones `c -> Nat(Δc, D)`. These are both contravariant functors, they are called presheaves because they are contravariant functors from some category to Set. A limit exists if and only if there is a natural isomorphism between these two functors:\n",
    "\n",
    "`C(c, Lim D) ≃ Nat(Δc, D)`\n",
    "\n",
    "The naturality condition for this isomorphism is exactly the commutivity condition for the mapping of cones.\n",
    "\n",
    "#### Examples of Limits\n",
    "\n",
    "Equalizer is a cone built on a two-objects category where you have two parrallel morphisms between the objects, yielding the following morphisms:\n",
    "\n",
    "`p :: c -> a`, `q :: c -> b`, `f :: a -> b`, and `g :: a -> b`\n",
    "\n",
    "As an example, take `a` to be the 2-dimensional plane parameterized by `x` and `y`, `b` to be the real line, `f (x, y) = 2 * y + x`, and `g (x, y) = y - x`. To equalize the equations, `p t = (t, (-2) * t)`."
   ]
  },
  {
   "cell_type": "code",
   "execution_count": 1,
   "metadata": {},
   "outputs": [
    {
     "data": {
      "text/plain": [
       "[-6,-15]"
      ]
     },
     "metadata": {},
     "output_type": "display_data"
    },
    {
     "data": {
      "text/plain": [
       "[-6,-15]"
      ]
     },
     "metadata": {},
     "output_type": "display_data"
    }
   ],
   "source": [
    "p t = (t, (-2) * t)\n",
    "\n",
    "f (x, y) = 2 * y + x\n",
    "g (x, y) = y - x\n",
    "\n",
    "map (f . p) [2,5]\n",
    "map (g . p) [2,5]"
   ]
  },
  {
   "cell_type": "markdown",
   "metadata": {},
   "source": [
    "An even more generalized version of solving an equation is a pullback. It is a cone from a 3 object category with the relation `a -> b <- c` (called a cospan). So we still have two morphisms that we want to equate, but now their domains can be different.\n",
    "\n",
    "### Ends\n",
    "\n",
    "Definition of a profunctor:"
   ]
  },
  {
   "cell_type": "code",
   "execution_count": 2,
   "metadata": {},
   "outputs": [],
   "source": [
    "class Profunctor p where\n",
    "  dimap :: (c -> a) -> (b -> d) -> p a b -> p c d"
   ]
  },
  {
   "cell_type": "markdown",
   "metadata": {},
   "source": [
    "If we have a proof that a is related to b (the existance of a morphism between them) then we also have a proof that c is related to d.\n",
    "\n",
    "For profunctors in one category, `p a a` is called a diagonal element. We can prove that `b` is related to `c` if we have morphisms `b -> a` and `a -> c`.\n",
    "\n",
    "We can define natural transformations between profunctors the normal way but it's often enough to define just the transformation between diagonal elements, this is called a dinatural transformation. `dinatural :: (Profunctor p, Profunctor q, forall a b.) => p a a -> q b b`\n",
    "\n",
    "An end is a generalization of a limit. We have 'wedges' instead of cones. The base of a wedge is formed by the diagonal elements of a profunctor `p`, the apex is an object (a Set) and the sides are a family of functions mapping the apex to the sets in the base: `alpha :: forall a. apex -> p a a`.\n",
    "\n",
    "Unlike with cones, we don't have morphisms connecting the vertices that form the base. Instead, we have morphisms from `p a a` and `p b b` to an `p a b` via some `f :: a -> b` in `C`: `dimap id f (p a a) = p a b` `dimap f id (p b b) = p a b`. This is called the wedge condition.\n",
    "\n",
    "Just like we were able to express the whole set of commutation conditions for a cone with a natural transformation, we can group all the wedge conditions into one dinatural transformation. For this we need the generalization of the constant functor Δc to a constant profunctor that maps all pairs of objects to single object `c`, and all pairs of morphisms to the identity morphism for this object (pairs of objects because the ultimate target is `p a b` through the wedge condition)."
   ]
  },
  {
   "cell_type": "code",
   "execution_count": null,
   "metadata": {},
   "outputs": [],
   "source": []
  }
 ],
 "metadata": {
  "kernelspec": {
   "display_name": "Haskell",
   "language": "haskell",
   "name": "haskell"
  },
  "language_info": {
   "codemirror_mode": "ihaskell",
   "file_extension": ".hs",
   "name": "haskell",
   "pygments_lexer": "Haskell",
   "version": "8.2.2"
  }
 },
 "nbformat": 4,
 "nbformat_minor": 2
}
