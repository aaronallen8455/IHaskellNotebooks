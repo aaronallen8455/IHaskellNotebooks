{
 "cells": [
  {
   "cell_type": "markdown",
   "metadata": {},
   "source": [
    "# All about `foldl` and `foldr`\n",
    "\n",
    "This is how `foldl` and `foldr` are implemented:"
   ]
  },
  {
   "cell_type": "code",
   "execution_count": 1,
   "metadata": {},
   "outputs": [
    {
     "data": {
      "text/plain": [
       "\"tset\""
      ]
     },
     "metadata": {},
     "output_type": "display_data"
    },
    {
     "data": {
      "text/plain": [
       "\"tset\""
      ]
     },
     "metadata": {},
     "output_type": "display_data"
    }
   ],
   "source": [
    "foldr :: (a -> b -> b) -> b -> [a] -> b\n",
    "foldr k z = go where\n",
    "  go [] = z\n",
    "  go (x:xs) = x `k` go xs\n",
    "\n",
    "\n",
    "foldlBasic :: (b -> a -> b) -> b -> [a] -> b\n",
    "foldlBasic k z = go z where\n",
    "  go z [] = z\n",
    "  go z (x:xs) = go (k z x) xs\n",
    "  \n",
    "foldlBasic (flip (:)) \"\" \"test\"\n",
    "\n",
    "-- we use foldr to build up a function to which the initial value is given as the argument\n",
    "foldl :: (b -> a -> b) -> b -> [a] -> b\n",
    "foldl k z xs = foldr f id xs z where\n",
    "  f x acc = \\b -> acc $ k b x\n",
    "\n",
    "foldl (flip (:)) \"\" \"test\""
   ]
  },
  {
   "cell_type": "code",
   "execution_count": null,
   "metadata": {},
   "outputs": [],
   "source": []
  }
 ],
 "metadata": {
  "kernelspec": {
   "display_name": "Haskell",
   "language": "haskell",
   "name": "haskell"
  },
  "language_info": {
   "codemirror_mode": "ihaskell",
   "file_extension": ".hs",
   "name": "haskell",
   "pygments_lexer": "Haskell",
   "version": "8.2.2"
  }
 },
 "nbformat": 4,
 "nbformat_minor": 2
}
