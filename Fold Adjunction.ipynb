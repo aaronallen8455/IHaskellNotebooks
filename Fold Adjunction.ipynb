{
 "cells": [
  {
   "cell_type": "markdown",
   "metadata": {},
   "source": [
    "# The Adjunction of the Fold\n",
    "###### (https://blog.jle.im/entry/foldl-adjunction.html)\n",
    "The `foldl` library allow for the respresentation of folds as a value."
   ]
  },
  {
   "cell_type": "code",
   "execution_count": 15,
   "metadata": {},
   "outputs": [],
   "source": [
    ":ext ExistentialQuantification\n",
    "\n",
    "data Fold a r = forall x. Fold (x -> a -> x) x (x -> r)\n",
    "\n",
    "instance Functor (Fold a) where\n",
    "  fmap f (Fold c x xr) = Fold c x (f . xr)\n",
    "  \n",
    "instance Applicative (Fold a) where\n",
    "  pure r = Fold (\\x a -> x ++ [a]) [] (const r)\n",
    "  (Fold c1 x1 f1) <*> (Fold c2 x2 f2) = Fold (\\(x1, x2) a -> (c1 x1 a, c2 x2 a)) (x1, x2) (\\(x1, x2) -> f1 x1 $ f2 x2)\n",
    "  \n",
    "fold :: Fold a b -> [a] -> b\n",
    "fold (Fold step begin end) as = foldr go end as begin where\n",
    "  go a k x = k $ step x a"
   ]
  },
  {
   "cell_type": "markdown",
   "metadata": {},
   "source": [
    "The `Fold` Functor is representable so we expect it to the right adjoint to some other Functor."
   ]
  },
  {
   "cell_type": "code",
   "execution_count": 16,
   "metadata": {},
   "outputs": [],
   "source": [
    ":ext DeriveFunctor\n",
    "\n",
    "data EnvList a r = EnvList [a] r deriving Functor\n",
    "\n",
    "instance Applicative (EnvList a) where\n",
    "  pure = EnvList []\n",
    "  (EnvList as1 f) <*> (EnvList as2 x) = EnvList (as1 ++ as2) (f x)"
   ]
  },
  {
   "cell_type": "markdown",
   "metadata": {},
   "source": [
    "Show that this forms an adjunction"
   ]
  },
  {
   "cell_type": "code",
   "execution_count": 17,
   "metadata": {},
   "outputs": [],
   "source": [
    ":ext MultiParamTypeClasses\n",
    "\n",
    "-- g is also Representable\n",
    "class (Functor f, Functor g) => Adjunction f g where\n",
    "  leftAdjunct :: (f a -> b) -> (a -> g b)\n",
    "  leftAdjunct fab a = fab <$> unit a\n",
    "  rightAdjunct :: (a -> g b) -> (f a -> b)\n",
    "  rightAdjunct agb fa = counit $ agb <$> fa\n",
    "  unit :: a -> g (f a)\n",
    "  unit = leftAdjunct id\n",
    "  counit :: f (g a) -> a\n",
    "  counit = rightAdjunct id\n",
    "  \n",
    "instance Adjunction (EnvList a) (Fold a) where\n",
    "  leftAdjunct envListToB a = Fold step [] (envListToB . (`EnvList` a)) where\n",
    "    step xs a = xs ++ [a]\n",
    "  rightAdjunct aToFoldB (EnvList xs a) = fold (aToFoldB a) xs"
   ]
  },
  {
   "cell_type": "markdown",
   "metadata": {},
   "source": [
    "Show that the right Kan extension of the Identity Functor over Fold is isomorphic to `EnvList`"
   ]
  },
  {
   "cell_type": "code",
   "execution_count": 18,
   "metadata": {},
   "outputs": [],
   "source": [
    "newtype RightAdj f a = RightAdj { runRightAdj :: forall b. (a -> f b) -> b } deriving Functor\n",
    "\n",
    "type FoldAdj a r = RightAdj (Fold a) r\n",
    "\n",
    "toEnvList :: FoldAdj a r -> EnvList a r\n",
    "toEnvList (RightAdj rToFoldBToB) = rToFoldBToB $ leftAdjunct id\n",
    "\n",
    "fromEnvList :: EnvList a r -> FoldAdj a r\n",
    "fromEnvList envList = RightAdj $ \\rToFoldB -> rightAdjunct rToFoldB envList"
   ]
  },
  {
   "cell_type": "markdown",
   "metadata": {},
   "source": [
    "Show that a Fold of an EnvList is a Monad"
   ]
  },
  {
   "cell_type": "code",
   "execution_count": 19,
   "metadata": {},
   "outputs": [],
   "source": [
    ":ext FlexibleInstances\n",
    ":m Control.Monad\n",
    "\n",
    "newtype Compose f g a = Compose { unCompose :: f (g a) } deriving Functor\n",
    "\n",
    "instance (Applicative f, Applicative g) => Applicative (Compose f g) where\n",
    "  pure = Compose . pure . pure\n",
    "  (Compose fgf) <*> (Compose fga) = Compose $ (<*>) <$> fgf <*> fga\n",
    "\n",
    "instance Monad (Compose (Fold a) (EnvList a)) where\n",
    "  return = pure\n",
    "  c >>= f = Compose . fmap counit . unCompose . fmap unCompose $ f <$> c"
   ]
  },
  {
   "cell_type": "markdown",
   "metadata": {},
   "source": [
    "Show that EnvList of a Fold is a Comonad"
   ]
  },
  {
   "cell_type": "code",
   "execution_count": 23,
   "metadata": {},
   "outputs": [],
   "source": [
    "class Functor w => Comonad w where\n",
    "  extract :: w a -> a\n",
    "  extend :: (w a -> b) -> w a -> w b\n",
    "  extend f = fmap f . duplicate\n",
    "  duplicate :: w a -> w (w a)\n",
    "  duplicate = extend id\n",
    "  \n",
    "instance Comonad (Compose (EnvList a) (Fold a)) where\n",
    "  extract (Compose (EnvList as f)) = fold f as\n",
    "  duplicate = fmap Compose . Compose . fmap unit . unCompose"
   ]
  },
  {
   "cell_type": "code",
   "execution_count": null,
   "metadata": {},
   "outputs": [],
   "source": []
  },
  {
   "cell_type": "code",
   "execution_count": null,
   "metadata": {},
   "outputs": [],
   "source": []
  }
 ],
 "metadata": {
  "kernelspec": {
   "display_name": "Haskell",
   "language": "haskell",
   "name": "haskell"
  },
  "language_info": {
   "codemirror_mode": "ihaskell",
   "file_extension": ".hs",
   "name": "haskell",
   "pygments_lexer": "Haskell",
   "version": "8.6.3"
  }
 },
 "nbformat": 4,
 "nbformat_minor": 2
}
