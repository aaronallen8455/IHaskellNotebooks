{
 "cells": [
  {
   "cell_type": "markdown",
   "metadata": {},
   "source": [
    "# Covarience and Contravarience"
   ]
  },
  {
   "cell_type": "code",
   "execution_count": 4,
   "metadata": {},
   "outputs": [
    {
     "data": {
      "text/plain": [
       "Just \"5\""
      ]
     },
     "metadata": {},
     "output_type": "display_data"
    },
    {
     "data": {
      "text/html": [
       "<style>/* Styles used for the Hoogle display in the pager */\n",
       ".hoogle-doc {\n",
       "display: block;\n",
       "padding-bottom: 1.3em;\n",
       "padding-left: 0.4em;\n",
       "}\n",
       ".hoogle-code {\n",
       "display: block;\n",
       "font-family: monospace;\n",
       "white-space: pre;\n",
       "}\n",
       ".hoogle-text {\n",
       "display: block;\n",
       "}\n",
       ".hoogle-name {\n",
       "color: green;\n",
       "font-weight: bold;\n",
       "}\n",
       ".hoogle-head {\n",
       "font-weight: bold;\n",
       "}\n",
       ".hoogle-sub {\n",
       "display: block;\n",
       "margin-left: 0.4em;\n",
       "}\n",
       ".hoogle-package {\n",
       "font-weight: bold;\n",
       "font-style: italic;\n",
       "}\n",
       ".hoogle-module {\n",
       "font-weight: bold;\n",
       "}\n",
       ".hoogle-class {\n",
       "font-weight: bold;\n",
       "}\n",
       ".get-type {\n",
       "color: green;\n",
       "font-weight: bold;\n",
       "font-family: monospace;\n",
       "display: block;\n",
       "white-space: pre-wrap;\n",
       "}\n",
       ".show-type {\n",
       "color: green;\n",
       "font-weight: bold;\n",
       "font-family: monospace;\n",
       "margin-left: 1em;\n",
       "}\n",
       ".mono {\n",
       "font-family: monospace;\n",
       "display: block;\n",
       "}\n",
       ".err-msg {\n",
       "color: red;\n",
       "font-style: italic;\n",
       "font-family: monospace;\n",
       "white-space: pre;\n",
       "display: block;\n",
       "}\n",
       "#unshowable {\n",
       "color: red;\n",
       "font-weight: bold;\n",
       "}\n",
       ".err-msg.in.collapse {\n",
       "padding-top: 0.7em;\n",
       "}\n",
       ".highlight-code {\n",
       "white-space: pre;\n",
       "font-family: monospace;\n",
       "}\n",
       ".suggestion-warning { \n",
       "font-weight: bold;\n",
       "color: rgb(200, 130, 0);\n",
       "}\n",
       ".suggestion-error { \n",
       "font-weight: bold;\n",
       "color: red;\n",
       "}\n",
       ".suggestion-name {\n",
       "font-weight: bold;\n",
       "}\n",
       "</style><span class='err-msg'>&lt;interactive&gt;:1:20: error:<br/>    • Couldn't match type ‘Int’ with ‘Double’<br/>      Expected type: Maybe Double<br/>        Actual type: Maybe Int<br/>    • In the second argument of ‘fmapMaybe’, namely ‘maybeInt’<br/>      In the expression: fmapMaybe floorInt maybeInt<br/>      In an equation for ‘it’: it = fmapMaybe floorInt maybeInt</span>"
      ],
      "text/plain": [
       "<interactive>:1:20: error:\n",
       "    • Couldn't match type ‘Int’ with ‘Double’\n",
       "      Expected type: Maybe Double\n",
       "        Actual type: Maybe Int\n",
       "    • In the second argument of ‘fmapMaybe’, namely ‘maybeInt’\n",
       "      In the expression: fmapMaybe floorInt maybeInt\n",
       "      In an equation for ‘it’: it = fmapMaybe floorInt maybeInt"
      ]
     },
     "metadata": {},
     "output_type": "display_data"
    }
   ],
   "source": [
    "showInt :: Int -> String\n",
    "showInt = show\n",
    "\n",
    "floorInt :: Double -> Int\n",
    "floorInt = floor\n",
    "\n",
    "maybeInt :: Maybe Int\n",
    "maybeInt = Just 5\n",
    "\n",
    "fmapMaybe :: (a -> b) -> Maybe a -> Maybe b\n",
    "fmapMaybe = fmap\n",
    "\n",
    "fmapMaybe showInt maybeInt\n",
    "\n",
    "fmapMaybe floorInt maybeInt"
   ]
  },
  {
   "cell_type": "markdown",
   "metadata": {},
   "source": [
    "We are not able to do `fmapMaybe floorInt maybeInt` because we need a function that take an `Int` as input but `floorInt` returns an `Int` as output.\n",
    "`Maybe` is covariant on it's argument type; the `Functor` is a covariant function."
   ]
  },
  {
   "cell_type": "markdown",
   "metadata": {},
   "source": [
    "## A non-covariant data type"
   ]
  },
  {
   "cell_type": "code",
   "execution_count": 8,
   "metadata": {},
   "outputs": [
    {
     "data": {
      "text/plain": [
       "\"5\""
      ]
     },
     "metadata": {},
     "output_type": "display_data"
    }
   ],
   "source": [
    "newtype MakeStr a = MakeStr { makeStr :: a -> String }\n",
    "\n",
    "showInt :: MakeStr Int\n",
    "showInt = MakeStr show\n",
    "\n",
    "makeStr showInt 5"
   ]
  },
  {
   "cell_type": "markdown",
   "metadata": {},
   "source": [
    "What if we want to add 3 to the number before making the string?"
   ]
  },
  {
   "cell_type": "code",
   "execution_count": 9,
   "metadata": {},
   "outputs": [
    {
     "data": {
      "text/plain": [
       "\"8\""
      ]
     },
     "metadata": {},
     "output_type": "display_data"
    }
   ],
   "source": [
    "plus3ShowInt :: MakeStr Int\n",
    "plus3ShowInt = MakeStr (show . (+3))\n",
    "\n",
    "makeStr plus3ShowInt 5"
   ]
  },
  {
   "cell_type": "markdown",
   "metadata": {},
   "source": [
    "This approach is 'non-compositional' because we didn't reuse our `showInt` function. We'd ideally like to just apply more functions to this data structure. Let's first write that up without any typeclasses."
   ]
  },
  {
   "cell_type": "code",
   "execution_count": 13,
   "metadata": {},
   "outputs": [
    {
     "data": {
      "text/plain": [
       "\"8\""
      ]
     },
     "metadata": {},
     "output_type": "display_data"
    }
   ],
   "source": [
    "mapMakeStr :: (b -> a) -> MakeStr a -> MakeStr b\n",
    "mapMakeStr f (MakeStr g) = MakeStr (g . f)\n",
    "\n",
    "plus3ShowInt :: MakeStr Int\n",
    "plus3ShowInt = mapMakeStr (+3) showInt\n",
    "\n",
    "makeStr plus3ShowInt 5"
   ]
  },
  {
   "cell_type": "markdown",
   "metadata": {},
   "source": [
    "This type of mapping is exactly what we use `Functor` for, so let's write an instance:"
   ]
  },
  {
   "cell_type": "code",
   "execution_count": 12,
   "metadata": {},
   "outputs": [
    {
     "data": {
      "text/html": [
       "<style>/* Styles used for the Hoogle display in the pager */\n",
       ".hoogle-doc {\n",
       "display: block;\n",
       "padding-bottom: 1.3em;\n",
       "padding-left: 0.4em;\n",
       "}\n",
       ".hoogle-code {\n",
       "display: block;\n",
       "font-family: monospace;\n",
       "white-space: pre;\n",
       "}\n",
       ".hoogle-text {\n",
       "display: block;\n",
       "}\n",
       ".hoogle-name {\n",
       "color: green;\n",
       "font-weight: bold;\n",
       "}\n",
       ".hoogle-head {\n",
       "font-weight: bold;\n",
       "}\n",
       ".hoogle-sub {\n",
       "display: block;\n",
       "margin-left: 0.4em;\n",
       "}\n",
       ".hoogle-package {\n",
       "font-weight: bold;\n",
       "font-style: italic;\n",
       "}\n",
       ".hoogle-module {\n",
       "font-weight: bold;\n",
       "}\n",
       ".hoogle-class {\n",
       "font-weight: bold;\n",
       "}\n",
       ".get-type {\n",
       "color: green;\n",
       "font-weight: bold;\n",
       "font-family: monospace;\n",
       "display: block;\n",
       "white-space: pre-wrap;\n",
       "}\n",
       ".show-type {\n",
       "color: green;\n",
       "font-weight: bold;\n",
       "font-family: monospace;\n",
       "margin-left: 1em;\n",
       "}\n",
       ".mono {\n",
       "font-family: monospace;\n",
       "display: block;\n",
       "}\n",
       ".err-msg {\n",
       "color: red;\n",
       "font-style: italic;\n",
       "font-family: monospace;\n",
       "white-space: pre;\n",
       "display: block;\n",
       "}\n",
       "#unshowable {\n",
       "color: red;\n",
       "font-weight: bold;\n",
       "}\n",
       ".err-msg.in.collapse {\n",
       "padding-top: 0.7em;\n",
       "}\n",
       ".highlight-code {\n",
       "white-space: pre;\n",
       "font-family: monospace;\n",
       "}\n",
       ".suggestion-warning { \n",
       "font-weight: bold;\n",
       "color: rgb(200, 130, 0);\n",
       "}\n",
       ".suggestion-error { \n",
       "font-weight: bold;\n",
       "color: red;\n",
       "}\n",
       ".suggestion-name {\n",
       "font-weight: bold;\n",
       "}\n",
       "</style><span class='err-msg'>&lt;interactive&gt;:2:37: error:<br/>    • Couldn't match type ‘b’ with ‘a’<br/>      ‘b’ is a rigid type variable bound by<br/>        the type signature for:<br/>          fmap :: forall a b. (a -&gt; b) -&gt; MakeStr a -&gt; MakeStr b<br/>        at &lt;interactive&gt;:2:3-6<br/>      ‘a’ is a rigid type variable bound by<br/>        the type signature for:<br/>          fmap :: forall a b. (a -&gt; b) -&gt; MakeStr a -&gt; MakeStr b<br/>        at &lt;interactive&gt;:2:3-6<br/>      Expected type: a -&gt; a<br/>        Actual type: a -&gt; b<br/>    • In the second argument of ‘(.)’, namely ‘f’<br/>      In the first argument of ‘MakeStr’, namely ‘(g . f)’<br/>      In the expression: MakeStr (g . f)<br/>    • Relevant bindings include<br/>        g :: a -&gt; String (bound at &lt;interactive&gt;:2:19)<br/>        f :: a -&gt; b (bound at &lt;interactive&gt;:2:8)<br/>        fmap :: (a -&gt; b) -&gt; MakeStr a -&gt; MakeStr b (bound at &lt;interactive&gt;:2:3)</span>"
      ],
      "text/plain": [
       "<interactive>:2:37: error:\n",
       "    • Couldn't match type ‘b’ with ‘a’\n",
       "      ‘b’ is a rigid type variable bound by\n",
       "        the type signature for:\n",
       "          fmap :: forall a b. (a -> b) -> MakeStr a -> MakeStr b\n",
       "        at <interactive>:2:3-6\n",
       "      ‘a’ is a rigid type variable bound by\n",
       "        the type signature for:\n",
       "          fmap :: forall a b. (a -> b) -> MakeStr a -> MakeStr b\n",
       "        at <interactive>:2:3-6\n",
       "      Expected type: a -> a\n",
       "        Actual type: a -> b\n",
       "    • In the second argument of ‘(.)’, namely ‘f’\n",
       "      In the first argument of ‘MakeStr’, namely ‘(g . f)’\n",
       "      In the expression: MakeStr (g . f)\n",
       "    • Relevant bindings include\n",
       "        g :: a -> String (bound at <interactive>:2:19)\n",
       "        f :: a -> b (bound at <interactive>:2:8)\n",
       "        fmap :: (a -> b) -> MakeStr a -> MakeStr b (bound at <interactive>:2:3)"
      ]
     },
     "metadata": {},
     "output_type": "display_data"
    }
   ],
   "source": [
    "instance Functor MakeStr where\n",
    "  fmap f (MakeStr g) = MakeStr (g . f)"
   ]
  },
  {
   "cell_type": "markdown",
   "metadata": {},
   "source": [
    "To understand why this failed, lets examine the type for `fmap` against our `mapMakeStr` function:\n",
    "\n",
    "`fmap :: (a -> b) -> MakeStr a -> MakeStr b`\n",
    "`mapMakeStr :: (b -> a) -> MakeStr a -> MakeStr b`\n",
    "\n",
    "In `MakeStr a`, `a` is the type of the input of the function (`String` is the return type) and so `map` in this context means that we are transforming that input before it reaches the next operation (which takes an `a`). So we want the input to be a `b` but in order to compose it with `MakeStr a`, we need a function that is `b -> a`.\n",
    "\n",
    "Another way to look at it is that we are wrapping additional functions around the data structure, and not chaining the output of an initial function into a new function which is what `fmap` expects.\n",
    "\n",
    "- Covariance means that both the original and the lifted functions point in the same direction.\n",
    "- Contravarience means that the original and the lifted functions point in opposite directions.\n",
    "\n",
    "This is what it means when we refer to the `Functor` typeclass as a covariant functor."
   ]
  },
  {
   "cell_type": "code",
   "execution_count": 17,
   "metadata": {},
   "outputs": [
    {
     "data": {
      "text/plain": [
       "\"8\""
      ]
     },
     "metadata": {},
     "output_type": "display_data"
    }
   ],
   "source": [
    "import Data.Functor.Contravariant\n",
    "\n",
    "instance Contravariant MakeStr where\n",
    "  contramap f (MakeStr g) = MakeStr (g . f)\n",
    "  \n",
    "plus3ShowInt = contramap (+3) showInt\n",
    "\n",
    "makeStr plus3ShowInt 5"
   ]
  },
  {
   "cell_type": "markdown",
   "metadata": {},
   "source": [
    "## Filtering with `Predicate`"
   ]
  },
  {
   "cell_type": "code",
   "execution_count": 22,
   "metadata": {},
   "outputs": [
    {
     "data": {
      "text/plain": [
       "[3,4,5,7,8,9]"
      ]
     },
     "metadata": {},
     "output_type": "display_data"
    }
   ],
   "source": [
    "greaterThanThree :: Int -> Bool\n",
    "greaterThanThree = (> 3)\n",
    "\n",
    "lengthGTThree :: [a] -> Bool\n",
    "lengthGTThree = greaterThanThree . length\n",
    "\n",
    "englishGTThree :: Int -> Bool\n",
    "englishGTThree = lengthGTThree . english\n",
    "\n",
    "english :: Int -> String\n",
    "english 1 = \"one\"\n",
    "english 2 = \"two\"\n",
    "english 3 = \"three\"\n",
    "english 4 = \"four\"\n",
    "english 5 = \"five\"\n",
    "english 6 = \"six\"\n",
    "english 7 = \"seven\"\n",
    "english 8 = \"eight\"\n",
    "english 9 = \"nine\"\n",
    "english 10 = \"ten\"\n",
    "\n",
    "filter englishGTThree [1..10]"
   ]
  },
  {
   "cell_type": "code",
   "execution_count": 23,
   "metadata": {},
   "outputs": [
    {
     "data": {
      "text/plain": [
       "[3,4,5,7,8,9]"
      ]
     },
     "metadata": {},
     "output_type": "display_data"
    }
   ],
   "source": [
    "import Data.Functor.Contravariant\n",
    "\n",
    "greaterThanThree :: Predicate Int\n",
    "greaterThanThree = Predicate (> 3)\n",
    "\n",
    "lengthGTThree :: Predicate [a]\n",
    "lengthGTThree = contramap length greaterThanThree\n",
    "\n",
    "englishGTThree :: Predicate Int\n",
    "englishGTThree = contramap english lengthGTThree\n",
    "\n",
    "english :: Int -> String\n",
    "english 1 = \"one\"\n",
    "english 2 = \"two\"\n",
    "english 3 = \"three\"\n",
    "english 4 = \"four\"\n",
    "english 5 = \"five\"\n",
    "english 6 = \"six\"\n",
    "english 7 = \"seven\"\n",
    "english 8 = \"eight\"\n",
    "english 9 = \"nine\"\n",
    "english 10 = \"ten\"\n",
    "\n",
    "filter (getPredicate englishGTThree) [1..10]"
   ]
  },
  {
   "cell_type": "markdown",
   "metadata": {},
   "source": [
    "## Bifunctor and Profunctor"
   ]
  },
  {
   "cell_type": "code",
   "execution_count": 26,
   "metadata": {},
   "outputs": [],
   "source": [
    "class Bifunctor p where\n",
    "  bimap :: (a -> b) -> (c -> d) -> p a c -> p b d\n",
    "  \n",
    "class Profunctor p where\n",
    "  dimap :: (b -> a) -> (c -> d) -> p a c -> p b d"
   ]
  },
  {
   "cell_type": "markdown",
   "metadata": {},
   "source": [
    "We can use what we now know to understand the formal definition of these\n",
    "\n",
    "    Bifunctor: Intuitively it is a bifunctor where both the first and second arguments are covariant.\n",
    "\n",
    "    Profunctor: Intuitively it is a bifunctor where the first argument is contravariant and the second argument is covariant.\n",
    "\n",
    "These are both bifunctors since they take two type parameters. They both treat their second parameter in the same way: covariantly. However, the first parameter is treated differently by the two: Bifunctor is covariant, and Profunctor is contravariant."
   ]
  },
  {
   "cell_type": "code",
   "execution_count": 33,
   "metadata": {},
   "outputs": [],
   "source": [
    "instance Bifunctor Either where\n",
    "  bimap f _ (Left a) = Left $ f a\n",
    "  bimap _ g (Right b) = Right $ g b\n",
    "  \n",
    "instance Bifunctor (,) where\n",
    "  bimap f g (a, b) = (f a, g b)\n",
    "  \n",
    "instance Profunctor (->) where\n",
    "  dimap f g x = g . x . f"
   ]
  },
  {
   "cell_type": "markdown",
   "metadata": {},
   "source": [
    "## Bivariant and Invariant\n",
    "\n",
    "Bivariant refers to types that are both Covariant and Contravariant. Invariant refers to types that are neither. Only phantoms (where the type doesn't actually exist) can be Bivariant. example:"
   ]
  },
  {
   "cell_type": "code",
   "execution_count": 35,
   "metadata": {},
   "outputs": [],
   "source": [
    "data Phantom a = Phantom\n",
    "\n",
    "instance Functor Phantom where\n",
    "  fmap f Phantom = Phantom\n",
    "instance Contravariant Phantom where\n",
    "  contramap f Phantom = Phantom"
   ]
  },
  {
   "cell_type": "markdown",
   "metadata": {},
   "source": [
    "Invariance occurs when a type parameter is used in two places and in different positions:"
   ]
  },
  {
   "cell_type": "code",
   "execution_count": 36,
   "metadata": {},
   "outputs": [],
   "source": [
    "data ToFrom a = ToFrom (Int -> a) (a -> Int)"
   ]
  },
  {
   "cell_type": "markdown",
   "metadata": {},
   "source": [
    "or if a type parameter is used in a type that is itself invariant:"
   ]
  },
  {
   "cell_type": "code",
   "execution_count": 37,
   "metadata": {},
   "outputs": [],
   "source": [
    "newtype ToFromWrapper a = ToFromWrapper (ToFrom a)"
   ]
  },
  {
   "cell_type": "markdown",
   "metadata": {},
   "source": [
    "or in special types like references such as `IORef a`"
   ]
  },
  {
   "cell_type": "markdown",
   "metadata": {},
   "source": [
    "## Positive and Negative position"
   ]
  },
  {
   "cell_type": "code",
   "execution_count": 1,
   "metadata": {},
   "outputs": [],
   "source": [
    "data WithInt a = WithInt (a -> Int)\n",
    "data MakeInt a = MakeInt (Int -> a)"
   ]
  },
  {
   "cell_type": "markdown",
   "metadata": {},
   "source": [
    "We know that `WithInt` is Contravariant and MakeInt is Covariant because `a` is being used as an input or output.\n",
    "\n",
    "The compiler can tell us this by trying to derive `Functor`."
   ]
  },
  {
   "cell_type": "code",
   "execution_count": 4,
   "metadata": {},
   "outputs": [
    {
     "data": {
      "text/html": [
       "<style>/* Styles used for the Hoogle display in the pager */\n",
       ".hoogle-doc {\n",
       "display: block;\n",
       "padding-bottom: 1.3em;\n",
       "padding-left: 0.4em;\n",
       "}\n",
       ".hoogle-code {\n",
       "display: block;\n",
       "font-family: monospace;\n",
       "white-space: pre;\n",
       "}\n",
       ".hoogle-text {\n",
       "display: block;\n",
       "}\n",
       ".hoogle-name {\n",
       "color: green;\n",
       "font-weight: bold;\n",
       "}\n",
       ".hoogle-head {\n",
       "font-weight: bold;\n",
       "}\n",
       ".hoogle-sub {\n",
       "display: block;\n",
       "margin-left: 0.4em;\n",
       "}\n",
       ".hoogle-package {\n",
       "font-weight: bold;\n",
       "font-style: italic;\n",
       "}\n",
       ".hoogle-module {\n",
       "font-weight: bold;\n",
       "}\n",
       ".hoogle-class {\n",
       "font-weight: bold;\n",
       "}\n",
       ".get-type {\n",
       "color: green;\n",
       "font-weight: bold;\n",
       "font-family: monospace;\n",
       "display: block;\n",
       "white-space: pre-wrap;\n",
       "}\n",
       ".show-type {\n",
       "color: green;\n",
       "font-weight: bold;\n",
       "font-family: monospace;\n",
       "margin-left: 1em;\n",
       "}\n",
       ".mono {\n",
       "font-family: monospace;\n",
       "display: block;\n",
       "}\n",
       ".err-msg {\n",
       "color: red;\n",
       "font-style: italic;\n",
       "font-family: monospace;\n",
       "white-space: pre;\n",
       "display: block;\n",
       "}\n",
       "#unshowable {\n",
       "color: red;\n",
       "font-weight: bold;\n",
       "}\n",
       ".err-msg.in.collapse {\n",
       "padding-top: 0.7em;\n",
       "}\n",
       ".highlight-code {\n",
       "white-space: pre;\n",
       "font-family: monospace;\n",
       "}\n",
       ".suggestion-warning { \n",
       "font-weight: bold;\n",
       "color: rgb(200, 130, 0);\n",
       "}\n",
       ".suggestion-error { \n",
       "font-weight: bold;\n",
       "color: red;\n",
       "}\n",
       ".suggestion-name {\n",
       "font-weight: bold;\n",
       "}\n",
       "</style><span class='err-msg'>&lt;interactive&gt;:1:49: error:<br/>    • Can't make a derived instance of ‘Functor WithInt’: Constructor ‘WithInt’ must not use the type variable in a function argument<br/>    • In the newtype declaration for ‘WithInt’</span>"
      ],
      "text/plain": [
       "<interactive>:1:49: error:\n",
       "    • Can't make a derived instance of ‘Functor WithInt’: Constructor ‘WithInt’ must not use the type variable in a function argument\n",
       "    • In the newtype declaration for ‘WithInt’"
      ]
     },
     "metadata": {},
     "output_type": "display_data"
    }
   ],
   "source": [
    ":ext DeriveFunctor\n",
    "\n",
    "newtype WithInt a = WithInt (a -> Int) deriving Functor"
   ]
  },
  {
   "cell_type": "markdown",
   "metadata": {},
   "source": [
    "- Positive position is the output / result / range / codomain\n",
    "- Negative position is the input / argument / domain\n",
    "\n",
    "If a type variable is in the positive position, the data type is covariant with that variable. Vice versa for negative / contravariant.\n",
    "\n",
    "But why use the terms positive and negative?"
   ]
  },
  {
   "cell_type": "code",
   "execution_count": 23,
   "metadata": {},
   "outputs": [],
   "source": [
    "type Callback a = a -> IO ()\n",
    "-- newtype CallbackRunner a = CallbackRunner (Callback a -> IO ())\n",
    "newtype CallbackRunner a = CallbackRunner { runCallback :: (a -> IO ()) -> IO () }"
   ]
  },
  {
   "cell_type": "markdown",
   "metadata": {},
   "source": [
    "Is `a` covariant or contravariant? Your instinct may be that `a` is a function parameter therefore it's contravariant.\n",
    "\n",
    "If we're just dealing with `a -> IO ()` then we know that a is contravarient (negative). But what about when we wrap this as the input to another function?"
   ]
  },
  {
   "cell_type": "code",
   "execution_count": 20,
   "metadata": {},
   "outputs": [
    {
     "data": {
      "text/plain": [
       "10"
      ]
     },
     "metadata": {},
     "output_type": "display_data"
    }
   ],
   "source": [
    ":m System.Random\n",
    "\n",
    "supplyRandom :: CallbackRunner Int\n",
    "supplyRandom = CallbackRunner $ \\callback -> do\n",
    "  int <- randomRIO (0, 10)\n",
    "  callback int\n",
    "  \n",
    "runCallback supplyRandom print"
   ]
  },
  {
   "cell_type": "markdown",
   "metadata": {},
   "source": [
    "We can see that `supplyRandom` is actually producing an `Int`, so it's covariant. Let's use the notion of positive and negative positions to better explain whats happening.\n",
    "\n",
    "In `a -> IO ()`, `a` is negative and in `(a -> IO ()) -> IO ()` the `Callback a` is negative, so we follow multiplication rules and say the a negative times a negative is positive. This explains why `a` is covariant and we can derive a `Functor` instance."
   ]
  },
  {
   "cell_type": "code",
   "execution_count": 22,
   "metadata": {},
   "outputs": [],
   "source": [
    "newtype CallbackRunner a = CallbackRunner { runCallback :: (a -> IO ()) -> IO () } deriving Functor"
   ]
  },
  {
   "cell_type": "markdown",
   "metadata": {},
   "source": [
    "Let's try deriving the `Functor` instance manually."
   ]
  },
  {
   "cell_type": "code",
   "execution_count": 29,
   "metadata": {},
   "outputs": [],
   "source": [
    "instance Functor CallbackRunner where\n",
    "  fmap f (CallbackRunner runner) = \n",
    "    CallbackRunner $ \\callback -> \n",
    "      runner $ callback . f"
   ]
  },
  {
   "cell_type": "code",
   "execution_count": 44,
   "metadata": {},
   "outputs": [],
   "source": [
    "newtype E1 a = E1 (a -> ()) -- negative\n",
    "newtype E2 a = E2 (a -> () -> ()) -- negative\n",
    "newtype E3 a = E3 ((a -> ()) -> ()) -- positive\n",
    "newtype E4 a = E4 ((a -> () -> ()) -> ()) -- positive\n",
    "newtype E5 a = E5 ((() -> () -> a) -> ()) -- negative\n",
    "\n",
    "-- trickier:\n",
    "newtype E6 a = E6 ((() -> a -> a) -> ()) -- negative\n",
    "newtype E7 a = E7 ((() -> () -> a) -> a) -- negative\n",
    "newtype E8 a = E8 ((() -> a -> ()) -> a) -- positive\n",
    "newtype E9 a = E9 ((() -> () -> ()) -> ()) -- bivariant"
   ]
  },
  {
   "cell_type": "markdown",
   "metadata": {},
   "source": [
    "## Lifting `IO` to `MonadIO`\n",
    "Let's look at something seemingly unrelated."
   ]
  },
  {
   "cell_type": "code",
   "execution_count": 47,
   "metadata": {},
   "outputs": [
    {
     "data": {
      "text/html": [
       "<style>/* Styles used for the Hoogle display in the pager */\n",
       ".hoogle-doc {\n",
       "display: block;\n",
       "padding-bottom: 1.3em;\n",
       "padding-left: 0.4em;\n",
       "}\n",
       ".hoogle-code {\n",
       "display: block;\n",
       "font-family: monospace;\n",
       "white-space: pre;\n",
       "}\n",
       ".hoogle-text {\n",
       "display: block;\n",
       "}\n",
       ".hoogle-name {\n",
       "color: green;\n",
       "font-weight: bold;\n",
       "}\n",
       ".hoogle-head {\n",
       "font-weight: bold;\n",
       "}\n",
       ".hoogle-sub {\n",
       "display: block;\n",
       "margin-left: 0.4em;\n",
       "}\n",
       ".hoogle-package {\n",
       "font-weight: bold;\n",
       "font-style: italic;\n",
       "}\n",
       ".hoogle-module {\n",
       "font-weight: bold;\n",
       "}\n",
       ".hoogle-class {\n",
       "font-weight: bold;\n",
       "}\n",
       ".get-type {\n",
       "color: green;\n",
       "font-weight: bold;\n",
       "font-family: monospace;\n",
       "display: block;\n",
       "white-space: pre-wrap;\n",
       "}\n",
       ".show-type {\n",
       "color: green;\n",
       "font-weight: bold;\n",
       "font-family: monospace;\n",
       "margin-left: 1em;\n",
       "}\n",
       ".mono {\n",
       "font-family: monospace;\n",
       "display: block;\n",
       "}\n",
       ".err-msg {\n",
       "color: red;\n",
       "font-style: italic;\n",
       "font-family: monospace;\n",
       "white-space: pre;\n",
       "display: block;\n",
       "}\n",
       "#unshowable {\n",
       "color: red;\n",
       "font-weight: bold;\n",
       "}\n",
       ".err-msg.in.collapse {\n",
       "padding-top: 0.7em;\n",
       "}\n",
       ".highlight-code {\n",
       "white-space: pre;\n",
       "font-family: monospace;\n",
       "}\n",
       ".suggestion-warning { \n",
       "font-weight: bold;\n",
       "color: rgb(200, 130, 0);\n",
       "}\n",
       ".suggestion-error { \n",
       "font-weight: bold;\n",
       "color: red;\n",
       "}\n",
       ".suggestion-name {\n",
       "font-weight: bold;\n",
       "}\n",
       "</style><span class='get-type'>openFile :: FilePath -> IOMode -> IO Handle</span>"
      ],
      "text/plain": [
       "openFile :: FilePath -> IOMode -> IO Handle"
      ]
     },
     "metadata": {},
     "output_type": "display_data"
    }
   ],
   "source": [
    "import System.IO\n",
    "\n",
    ":t openFile"
   ]
  },
  {
   "cell_type": "markdown",
   "metadata": {},
   "source": [
    "To use this from a monad transformer, we use the `MonadIO` typeclass constraint and it's `liftIO` function"
   ]
  },
  {
   "cell_type": "code",
   "execution_count": 56,
   "metadata": {},
   "outputs": [],
   "source": [
    "import Control.Monad.IO.Class\n",
    "\n",
    "liftedOpenFile :: MonadIO m => FilePath -> IOMode -> m Handle\n",
    "liftedOpenFile = (liftIO .) . openFile"
   ]
  },
  {
   "cell_type": "markdown",
   "metadata": {},
   "source": [
    "It's better of course to use `withFile` so we don't have to manually close the file"
   ]
  },
  {
   "cell_type": "code",
   "execution_count": 57,
   "metadata": {},
   "outputs": [
    {
     "data": {
      "text/html": [
       "<style>/* Styles used for the Hoogle display in the pager */\n",
       ".hoogle-doc {\n",
       "display: block;\n",
       "padding-bottom: 1.3em;\n",
       "padding-left: 0.4em;\n",
       "}\n",
       ".hoogle-code {\n",
       "display: block;\n",
       "font-family: monospace;\n",
       "white-space: pre;\n",
       "}\n",
       ".hoogle-text {\n",
       "display: block;\n",
       "}\n",
       ".hoogle-name {\n",
       "color: green;\n",
       "font-weight: bold;\n",
       "}\n",
       ".hoogle-head {\n",
       "font-weight: bold;\n",
       "}\n",
       ".hoogle-sub {\n",
       "display: block;\n",
       "margin-left: 0.4em;\n",
       "}\n",
       ".hoogle-package {\n",
       "font-weight: bold;\n",
       "font-style: italic;\n",
       "}\n",
       ".hoogle-module {\n",
       "font-weight: bold;\n",
       "}\n",
       ".hoogle-class {\n",
       "font-weight: bold;\n",
       "}\n",
       ".get-type {\n",
       "color: green;\n",
       "font-weight: bold;\n",
       "font-family: monospace;\n",
       "display: block;\n",
       "white-space: pre-wrap;\n",
       "}\n",
       ".show-type {\n",
       "color: green;\n",
       "font-weight: bold;\n",
       "font-family: monospace;\n",
       "margin-left: 1em;\n",
       "}\n",
       ".mono {\n",
       "font-family: monospace;\n",
       "display: block;\n",
       "}\n",
       ".err-msg {\n",
       "color: red;\n",
       "font-style: italic;\n",
       "font-family: monospace;\n",
       "white-space: pre;\n",
       "display: block;\n",
       "}\n",
       "#unshowable {\n",
       "color: red;\n",
       "font-weight: bold;\n",
       "}\n",
       ".err-msg.in.collapse {\n",
       "padding-top: 0.7em;\n",
       "}\n",
       ".highlight-code {\n",
       "white-space: pre;\n",
       "font-family: monospace;\n",
       "}\n",
       ".suggestion-warning { \n",
       "font-weight: bold;\n",
       "color: rgb(200, 130, 0);\n",
       "}\n",
       ".suggestion-error { \n",
       "font-weight: bold;\n",
       "color: red;\n",
       "}\n",
       ".suggestion-name {\n",
       "font-weight: bold;\n",
       "}\n",
       "</style><span class='get-type'>withFile :: forall r. FilePath -> IOMode -> (Handle -> IO r) -> IO r</span>"
      ],
      "text/plain": [
       "withFile :: forall r. FilePath -> IOMode -> (Handle -> IO r) -> IO r"
      ]
     },
     "metadata": {},
     "output_type": "display_data"
    }
   ],
   "source": [
    ":t withFile"
   ]
  },
  {
   "cell_type": "code",
   "execution_count": 64,
   "metadata": {},
   "outputs": [
    {
     "data": {
      "text/html": [
       "<style>/* Styles used for the Hoogle display in the pager */\n",
       ".hoogle-doc {\n",
       "display: block;\n",
       "padding-bottom: 1.3em;\n",
       "padding-left: 0.4em;\n",
       "}\n",
       ".hoogle-code {\n",
       "display: block;\n",
       "font-family: monospace;\n",
       "white-space: pre;\n",
       "}\n",
       ".hoogle-text {\n",
       "display: block;\n",
       "}\n",
       ".hoogle-name {\n",
       "color: green;\n",
       "font-weight: bold;\n",
       "}\n",
       ".hoogle-head {\n",
       "font-weight: bold;\n",
       "}\n",
       ".hoogle-sub {\n",
       "display: block;\n",
       "margin-left: 0.4em;\n",
       "}\n",
       ".hoogle-package {\n",
       "font-weight: bold;\n",
       "font-style: italic;\n",
       "}\n",
       ".hoogle-module {\n",
       "font-weight: bold;\n",
       "}\n",
       ".hoogle-class {\n",
       "font-weight: bold;\n",
       "}\n",
       ".get-type {\n",
       "color: green;\n",
       "font-weight: bold;\n",
       "font-family: monospace;\n",
       "display: block;\n",
       "white-space: pre-wrap;\n",
       "}\n",
       ".show-type {\n",
       "color: green;\n",
       "font-weight: bold;\n",
       "font-family: monospace;\n",
       "margin-left: 1em;\n",
       "}\n",
       ".mono {\n",
       "font-family: monospace;\n",
       "display: block;\n",
       "}\n",
       ".err-msg {\n",
       "color: red;\n",
       "font-style: italic;\n",
       "font-family: monospace;\n",
       "white-space: pre;\n",
       "display: block;\n",
       "}\n",
       "#unshowable {\n",
       "color: red;\n",
       "font-weight: bold;\n",
       "}\n",
       ".err-msg.in.collapse {\n",
       "padding-top: 0.7em;\n",
       "}\n",
       ".highlight-code {\n",
       "white-space: pre;\n",
       "font-family: monospace;\n",
       "}\n",
       ".suggestion-warning { \n",
       "font-weight: bold;\n",
       "color: rgb(200, 130, 0);\n",
       "}\n",
       ".suggestion-error { \n",
       "font-weight: bold;\n",
       "color: red;\n",
       "}\n",
       ".suggestion-name {\n",
       "font-weight: bold;\n",
       "}\n",
       "</style><span class='err-msg'>&lt;interactive&gt;:2:64: error:<br/>    • Couldn't match type ‘m’ with ‘IO’<br/>      ‘m’ is a rigid type variable bound by<br/>        the type signature for:<br/>          liftedWithFile :: forall (m :: * -&gt; *) r. MonadIO m =&gt; FilePath -&gt; IOMode -&gt; (Handle -&gt; m r) -&gt; m r<br/>        at &lt;interactive&gt;:1:1-75<br/>      Expected type: Handle -&gt; IO r<br/>        Actual type: Handle -&gt; m r<br/>    • In the second argument of ‘(.)’, namely ‘cb’<br/>      In the third argument of ‘withFile’, namely ‘(liftIO . cb)’<br/>      In the first argument of ‘liftIO’, namely ‘(withFile fp mode (liftIO . cb))’<br/>    • Relevant bindings include<br/>        cb :: Handle -&gt; m r (bound at &lt;interactive&gt;:2:24)<br/>        liftedWithFile :: FilePath -&gt; IOMode -&gt; (Handle -&gt; m r) -&gt; m r (bound at &lt;interactive&gt;:2:1)</span>"
      ],
      "text/plain": [
       "<interactive>:2:64: error:\n",
       "    • Couldn't match type ‘m’ with ‘IO’\n",
       "      ‘m’ is a rigid type variable bound by\n",
       "        the type signature for:\n",
       "          liftedWithFile :: forall (m :: * -> *) r. MonadIO m => FilePath -> IOMode -> (Handle -> m r) -> m r\n",
       "        at <interactive>:1:1-75\n",
       "      Expected type: Handle -> IO r\n",
       "        Actual type: Handle -> m r\n",
       "    • In the second argument of ‘(.)’, namely ‘cb’\n",
       "      In the third argument of ‘withFile’, namely ‘(liftIO . cb)’\n",
       "      In the first argument of ‘liftIO’, namely ‘(withFile fp mode (liftIO . cb))’\n",
       "    • Relevant bindings include\n",
       "        cb :: Handle -> m r (bound at <interactive>:2:24)\n",
       "        liftedWithFile :: FilePath -> IOMode -> (Handle -> m r) -> m r (bound at <interactive>:2:1)"
      ]
     },
     "metadata": {},
     "output_type": "display_data"
    }
   ],
   "source": [
    "liftedWithFile :: MonadIO m => FilePath -> IOMode -> (Handle -> m r) -> m r\n",
    "liftedWithFile fp mode cb = liftIO (withFile fp mode (liftIO . cb)) -- can't do it!"
   ]
  },
  {
   "cell_type": "markdown",
   "metadata": {},
   "source": [
    "The reason it can't be done, at least not directly, is that `IO` appears in both negative and positive positions whereas with `openFile` it is only in the positive position."
   ]
  },
  {
   "cell_type": "code",
   "execution_count": null,
   "metadata": {},
   "outputs": [],
   "source": []
  }
 ],
 "metadata": {
  "kernelspec": {
   "display_name": "Haskell",
   "language": "haskell",
   "name": "haskell"
  },
  "language_info": {
   "codemirror_mode": "ihaskell",
   "file_extension": ".hs",
   "name": "haskell",
   "version": "8.2.2"
  }
 },
 "nbformat": 4,
 "nbformat_minor": 2
}
