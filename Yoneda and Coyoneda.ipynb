{
 "cells": [
  {
   "cell_type": "markdown",
   "metadata": {},
   "source": [
    "# Yoneda and Coyenda"
   ]
  },
  {
   "cell_type": "code",
   "execution_count": 54,
   "metadata": {},
   "outputs": [],
   "source": [
    ":ext RankNTypes\n",
    ":m Control.Monad\n",
    ":m Control.Applicative\n",
    "newtype Yoneda f a = Yoneda { runYoneda :: forall b. (a -> b) -> f b }\n",
    "\n",
    "instance Functor (Yoneda f) where\n",
    "  fmap f y = Yoneda $ \\h -> runYoneda y (h . f)\n",
    "  \n",
    "instance Applicative f => Applicative (Yoneda f) where\n",
    "  pure x = Yoneda $ \\h -> pure $ h x\n",
    "--(Yoneda yab) <*> (Yoneda ya) = Yoneda $ \\bc -> bc <$> (yab id <*> ya id)\n",
    "  Yoneda yab <*> Yoneda ya = Yoneda $ \\h -> yab (h .) <*> ya id\n",
    "  \n",
    "instance Monad f => Monad (Yoneda f) where\n",
    "  Yoneda ya >>= ayb = Yoneda $ \\bc -> ya ayb >>= flip runYoneda bc\n",
    "  \n",
    "instance Alternative f => Alternative (Yoneda f) where\n",
    "  empty = Yoneda $ const empty\n",
    "  Yoneda a <|> Yoneda b = Yoneda $ \\h -> a h <|> b h"
   ]
  },
  {
   "cell_type": "markdown",
   "metadata": {},
   "source": [
    "There's a contravariant `Yoneda` and also `Coyoneda`. The definitions looks very similiar, both are GADTs, one has a covariant hom, the other has the contravariant hom."
   ]
  },
  {
   "cell_type": "code",
   "execution_count": 37,
   "metadata": {},
   "outputs": [],
   "source": [
    ":ext GADTs\n",
    "\n",
    "data Coyoneda f a where\n",
    "  Coyoneda :: (b -> a) -> f b -> Coyoneda f a\n",
    "  \n",
    "data Contyo f a where\n",
    "  Contyo :: (a -> b) -> f b -> Contyo f a"
   ]
  },
  {
   "cell_type": "markdown",
   "metadata": {},
   "source": [
    "The `a` in `Contyo` is in a contravariant position. Whereas with the newtype, the `a` was in a covariant position, since the hom is presented as part of a product instead of an argument, it's negative."
   ]
  },
  {
   "cell_type": "code",
   "execution_count": 64,
   "metadata": {},
   "outputs": [],
   "source": [
    ":m Data.Functor.Contravariant\n",
    "\n",
    "instance Contravariant (Contyo f) where\n",
    "  contramap ca (Contyo ab fb) = Contyo (ab . ca) fb\n",
    "\n",
    "instance Functor (Coyoneda f) where\n",
    "  fmap f (Coyoneda ba fb) = Coyoneda (f . ba) fb\n",
    "  \n",
    "instance Applicative f => Applicative (Coyoneda f) where\n",
    "  pure x = Coyoneda (const x) (pure x)\n",
    "  Coyoneda xab fx <*> Coyoneda xa fy = Coyoneda id $ (xab <$> fx) <*> (xa <$> fy)\n",
    "  \n",
    "instance Monad f => Monad (Coyoneda f) where\n",
    "  Coyoneda ba fb >>= ayb = Coyoneda id (do Coyoneda x y <- ayb . ba <$> fb; x <$> y)\n",
    "  \n",
    "instance Alternative f => Alternative (Coyoneda f) where\n",
    "  empty = Coyoneda id empty\n",
    "  Coyoneda ba1 fb1 <|> Coyoneda ba2 fb2 = Coyoneda id $ ba1 <$> fb1 <|> ba2 <$> fb2"
   ]
  },
  {
   "cell_type": "code",
   "execution_count": null,
   "metadata": {},
   "outputs": [],
   "source": []
  }
 ],
 "metadata": {
  "kernelspec": {
   "display_name": "Haskell",
   "language": "haskell",
   "name": "haskell"
  },
  "language_info": {
   "codemirror_mode": "ihaskell",
   "file_extension": ".hs",
   "name": "haskell",
   "pygments_lexer": "Haskell",
   "version": "8.6.3"
  }
 },
 "nbformat": 4,
 "nbformat_minor": 2
}
