{
 "cells": [
  {
   "cell_type": "markdown",
   "metadata": {},
   "source": [
    "# Adjunctions\n",
    "Adjunctions can be defined two different ways:\n",
    "- The existance of a `unit` and `counit` between two functors\n",
    "- The existance of an isomorphism between two hom-sets\n",
    "\n",
    "Let's show that these two identities are equivalent.\n",
    "\n",
    "`unit` and `counit` are defined as\n",
    "\n",
    "η :: I(D) -> R ∘ L\n",
    "\n",
    "ε :: L ∘ R -> I(C)\n",
    "\n",
    "This is saying that there is a one-way natural transformation between the Identity functor and the composition of two functors L and R."
   ]
  },
  {
   "cell_type": "code",
   "execution_count": 10,
   "metadata": {},
   "outputs": [],
   "source": [
    ":ext MultiParamTypeClasses\n",
    ":ext FunctionalDependencies\n",
    "\n",
    "class (Functor f, Functor g) => AdjunctionUC f g | f -> g, g -> f where\n",
    "  unit   :: a -> g(f a)\n",
    "  counit :: f(g a) -> a"
   ]
  },
  {
   "cell_type": "markdown",
   "metadata": {},
   "source": [
    "The other definition involves the following hom-sets:\n",
    "- C (L d, c)\n",
    "- D (d, R c)\n",
    "\n",
    "There is an adjunction if C(L d, c) ≅ D(d, R c)\n",
    "\n",
    "This means we have a natural transformation between the following covariant functors from C to Set\n",
    "\n",
    "c -> C (L d, c)\n",
    "\n",
    "c -> D (d, R c)\n",
    "\n",
    "And a natural transformation between the these two contravariant functors from D to Set\n",
    "\n",
    "d -> C (L d, c)\n",
    "\n",
    "d -> D (d, R c)\n",
    "\n",
    "In Haskell, the polymorphic `leftAdjoint` function represents the first natural transformation and `rightAdjoint` represents the second."
   ]
  },
  {
   "cell_type": "code",
   "execution_count": 11,
   "metadata": {},
   "outputs": [],
   "source": [
    "class (Functor f, Functor g) => AdjunctionHS f g | f -> g, g -> f where\n",
    "  leftAdjoint  :: (f a -> b) -> (a -> g b)\n",
    "  rightAdjoint :: (a -> g b) -> (f a -> b)"
   ]
  },
  {
   "cell_type": "markdown",
   "metadata": {},
   "source": [
    "This is how the two definitions are equivalent:"
   ]
  },
  {
   "cell_type": "code",
   "execution_count": 64,
   "metadata": {},
   "outputs": [],
   "source": [
    "class (Functor f, Functor g) => Adjunction f g | f -> g, g -> f where\n",
    "  unit         :: a -> g(f a)\n",
    "  counit       :: f(g a) -> a\n",
    "  leftAdjoint  :: (f a -> b) -> (a -> g b)\n",
    "  rightAdjoint :: (a -> g b) -> (f a -> b)\n",
    "  \n",
    "  unit           = leftAdjoint id\n",
    "  counit         = rightAdjoint id\n",
    "  leftAdjoint f  = fmap f . unit\n",
    "  rightAdjoint f = counit . fmap f"
   ]
  },
  {
   "cell_type": "markdown",
   "metadata": {},
   "source": [
    "Let's show the adjunction between the Product and Exponential functors:"
   ]
  },
  {
   "cell_type": "code",
   "execution_count": 65,
   "metadata": {},
   "outputs": [],
   "source": [
    "instance Adjunction ((,) e) ((->) e) where\n",
    "  unit a e = (e, a)\n",
    "  counit (e, f) = f e\n",
    "  leftAdjoint f a e      = f (e, a)\n",
    "  rightAdjoint f ~(e, a) = f a e"
   ]
  },
  {
   "cell_type": "code",
   "execution_count": 25,
   "metadata": {},
   "outputs": [],
   "source": []
  },
  {
   "cell_type": "code",
   "execution_count": null,
   "metadata": {},
   "outputs": [],
   "source": []
  }
 ],
 "metadata": {
  "kernelspec": {
   "display_name": "Haskell",
   "language": "haskell",
   "name": "haskell"
  },
  "language_info": {
   "codemirror_mode": "ihaskell",
   "file_extension": ".hs",
   "name": "haskell",
   "pygments_lexer": "Haskell",
   "version": "8.6.3"
  }
 },
 "nbformat": 4,
 "nbformat_minor": 2
}
