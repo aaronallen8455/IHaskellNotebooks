{
 "cells": [
  {
   "cell_type": "markdown",
   "metadata": {},
   "source": [
    "# Coindexed Profuctor Optics\n",
    "###### (https://oleg.fi/gists/posts/2021-01-04-coindexed-optics.html)\n",
    "\n",
    "This lays out the construction of basic profunctor optics, indexed optics, and then co-indexed optics. We'll deal with indices by using n-ary sums and products ala generic-sop."
   ]
  },
  {
   "cell_type": "code",
   "execution_count": 81,
   "metadata": {},
   "outputs": [],
   "source": [
    ":ext GADTs\n",
    ":ext PolyKinds\n",
    ":ext DataKinds\n",
    ":ext TypeOperators\n",
    ":ext DeriveFunctor\n",
    "\n",
    "import Data.Kind\n",
    "\n",
    "newtype I a = I { unI :: a } deriving (Show, Functor)\n",
    "instance Applicative I where\n",
    "  pure a = I a\n",
    "  I f <*> I a = I $ f a\n",
    "\n",
    "data NP :: (k -> Type) -> [k] -> Type where\n",
    "  Nil :: NP f '[]\n",
    "  (:*) :: f x -> NP f xs -> NP f (x ': xs)\n",
    "infixr 4 :*\n",
    "  \n",
    "data NS :: (k -> Type) -> [k] -> Type where\n",
    "  Z :: f x -> NS f (x ': xs)\n",
    "  S :: NS f xs -> NS f (x ': xs)"
   ]
  },
  {
   "cell_type": "markdown",
   "metadata": {},
   "source": [
    "Here we have the type of our optic which keeps indices in a type level lists."
   ]
  },
  {
   "cell_type": "code",
   "execution_count": 73,
   "metadata": {},
   "outputs": [
    {
     "data": {
      "text/plain": [
       "[2,3,4]"
      ]
     },
     "metadata": {},
     "output_type": "display_data"
    }
   ],
   "source": [
    "type Optic p (is :: [Type]) (js :: [Type]) s t a b = p is a b -> p js s t\n",
    "\n",
    "class Profunctor (p :: [Type] -> Type -> Type -> Type) where\n",
    "  dimap :: (x -> a) -> (b -> y) -> p is a b -> p is x y\n",
    "  \n",
    "class Profunctor p => Mapping p where\n",
    "  roam :: ((a -> b) -> s -> t) -> p is a b -> p is s t\n",
    "  \n",
    "mapped :: (Mapping p, Functor f)\n",
    "       => Optic p is is (f a) (f b) a b\n",
    "mapped = roam fmap\n",
    "\n",
    "newtype FunArrow (is :: [Type]) a b =\n",
    "  FunArrow { runFunArrow :: a -> b }\n",
    "  \n",
    "instance Profunctor FunArrow where\n",
    "  dimap f g (FunArrow k) = FunArrow (g . k . f)\n",
    "  \n",
    "instance Mapping FunArrow where\n",
    "  roam f (FunArrow k) = FunArrow $ f k\n",
    "  \n",
    "over :: Optic FunArrow is js s t a b\n",
    "     -> (a -> b)\n",
    "     -> s -> t\n",
    "over o f = runFunArrow . o $ FunArrow f\n",
    "\n",
    "over mapped succ [1,2,3]"
   ]
  },
  {
   "cell_type": "markdown",
   "metadata": {},
   "source": [
    "## Indexed optics"
   ]
  },
  {
   "cell_type": "code",
   "execution_count": 74,
   "metadata": {},
   "outputs": [
    {
     "data": {
      "text/plain": [
       "[1,3,3,5,5]"
      ]
     },
     "metadata": {},
     "output_type": "display_data"
    }
   ],
   "source": [
    ":ext FunctionalDependencies\n",
    "\n",
    "class Functor f => FunctorWithIndex i f | f -> i where\n",
    "  imap :: (i -> a -> b) -> f a -> f b\n",
    "  \n",
    "-- lists are indexed by Nats\n",
    "instance FunctorWithIndex Word [] where\n",
    "  imap f = zipWith f [0..]\n",
    "  \n",
    "class Mapping p => IMapping p where\n",
    "  iroam :: ((i -> a -> b) -> s -> t) -> p (i ': is) a b -> p is s t\n",
    "  \n",
    "imapped :: (FunctorWithIndex i f, IMapping p)\n",
    "        => p (i ': is) a b -> p is (f a) (f b)\n",
    "imapped = iroam imap\n",
    "\n",
    "-- ignore the instance argument for FunArrows\n",
    "instance IMapping FunArrow where\n",
    "  iroam f (FunArrow k) = FunArrow . f $ const k\n",
    "  \n",
    "-- this is an arrow that takes a heterogenous list of indices in addition to it's argument\n",
    "newtype IxFunArrow is a b =\n",
    "  IxFunArrow { runIxFunArrow :: (NP I is, a) -> b }\n",
    "  \n",
    "instance Profunctor IxFunArrow where\n",
    "  dimap f g (IxFunArrow k) = IxFunArrow $ g . k . fmap f\n",
    "  \n",
    "instance Mapping IxFunArrow where\n",
    "  roam f (IxFunArrow k) = IxFunArrow $ \\(i, s) -> f (curry k i) s\n",
    "  \n",
    "instance IMapping IxFunArrow where\n",
    "  iroam f (IxFunArrow k) = IxFunArrow $ \\(is, s) -> f (\\i a -> k (I i :* is, a)) s\n",
    "  \n",
    "-- The indexed over. The general variant takes an optic with any indices list\n",
    "gen_iover :: Optic IxFunArrow is '[] s t a b\n",
    "          -> ((NP I is, a) -> b)\n",
    "          -> s -> t\n",
    "gen_iover o f s = runIxFunArrow (o $ IxFunArrow f) (Nil, s)\n",
    "\n",
    "-- the single index variant\n",
    "iover :: Optic IxFunArrow '[i] '[] s t a b\n",
    "      -> (i -> a -> b)\n",
    "      -> s -> t\n",
    "iover o f s = runIxFunArrow (o $ IxFunArrow (\\(I i :* Nil, a) -> f i a)) (Nil, s)\n",
    "\n",
    "-- double index variant\n",
    "iover2 :: Optic IxFunArrow '[i, j] '[] s t a b\n",
    "       -> (i -> j -> a -> b)\n",
    "       -> s -> t\n",
    "iover2 o f = gen_iover o (\\(I i :* I j :* Nil, a) -> f i j a)\n",
    "\n",
    "iover imapped (\\i -> if odd i then succ else id) [1,2,3,4,5]"
   ]
  },
  {
   "cell_type": "markdown",
   "metadata": {},
   "source": [
    "## Coindexed optics"
   ]
  },
  {
   "cell_type": "code",
   "execution_count": 93,
   "metadata": {},
   "outputs": [
    {
     "data": {
      "text/plain": [
       "[\"foobar\"]"
      ]
     },
     "metadata": {},
     "output_type": "display_data"
    }
   ],
   "source": [
    ":ext RankNTypes\n",
    ":ext EmptyCase\n",
    "import Data.Maybe\n",
    "\n",
    "class Functor f => FunctorWithCoindex j f | f -> j where\n",
    "  jmap :: (a -> Either j b) -> f a -> f b\n",
    "  \n",
    "class (Traversable f, FunctorWithCoindex j f) => TraversableWithCoindex j f | f -> j where\n",
    "  jtraverse :: Applicative m => (a -> m (Either j b)) -> f a -> m (f b)\n",
    "  \n",
    "-- the coindex of a list is ()\n",
    "instance FunctorWithCoindex () [] where\n",
    "  jmap f = mapMaybe (either (\\() -> Nothing) Just . f)\n",
    "  \n",
    "instance TraversableWithCoindex () [] where\n",
    "  jtraverse _ [] = pure []\n",
    "  jtraverse f xs = fmap (jmap id) $ traverse f xs\n",
    "  \n",
    "  \n",
    "class Profunctor p => Traversing p where\n",
    "  wander :: (forall f. Applicative f => (a -> f b) -> s -> f t)\n",
    "         -> p js a b -> p js s t\n",
    "         \n",
    "class Traversing p => JTraversing p where\n",
    "  jwander :: (forall f. Applicative f => (a -> f (Either j b)) -> s -> f t)\n",
    "          -> p (j ': js) a b -> p js s t\n",
    "          \n",
    "traversed :: (Traversable f, Traversing p) => Optic p js js (f a) (f b) a b\n",
    "traversed = wander traverse\n",
    "\n",
    "jtraversed :: (TraversableWithCoindex j f, JTraversing p)\n",
    "           => Optic p (j ': js) js (f a) (f b) a b\n",
    "jtraversed = jwander jtraverse\n",
    "\n",
    "-- define a concrete profunctor to make use of it\n",
    "newtype CoixFunArrow js a b =\n",
    "  CoixFunArrow { runCoixFunArrow :: a -> Either (NS I js) b}\n",
    "  \n",
    "instance Profunctor CoixFunArrow where\n",
    "  dimap f g (CoixFunArrow p) = CoixFunArrow (fmap g . p . f)\n",
    "  \n",
    "instance Traversing CoixFunArrow where\n",
    "  wander f (CoixFunArrow p) = CoixFunArrow $ f p\n",
    "  \n",
    "instance JTraversing CoixFunArrow where\n",
    "  jwander f (CoixFunArrow p) = CoixFunArrow $ f (plumb . p) where\n",
    "    plumb :: Either (NS I (j ': js)) b -> Either (NS I js) (Either j b)\n",
    "    plumb (Right x) = Right (Right x)\n",
    "    plumb (Left (Z (I y))) = Right (Left y)\n",
    "    plumb (Left (S z)) = Left z\n",
    "      \n",
    "nsAbsurd :: NS I '[] -> a\n",
    "nsAbsurd x = case x of {}\n",
    "\n",
    "gen_jover :: Optic CoixFunArrow js '[] s t a b\n",
    "          -> (a -> Either (NS I js) b) -> s -> t\n",
    "gen_jover o f = fmap (either nsAbsurd id) . runCoixFunArrow . o $ CoixFunArrow f\n",
    "\n",
    "jover :: Optic CoixFunArrow '[i] '[] s t a b\n",
    "      -> (a -> Either i b) -> s -> t\n",
    "jover o f = gen_jover o (either (Left . Z . I) Right . f)\n",
    "\n",
    "jover2 :: Optic CoixFunArrow '[i, j] '[] s t a b\n",
    "       -> (a -> Either (Either i j) b)\n",
    "       -> s -> t\n",
    "jover2 o f = gen_jover o (go . f) where\n",
    "  go (Left (Left i)) = Left . Z $ I i\n",
    "  go (Left (Right j)) = Left . S . Z $ I j\n",
    "  go (Right b) = Right b\n",
    "  \n",
    "jover jtraversed (\\s -> if length s > 5 then Right s else Left ()) [\"foobar\", \"xyzzy\"]"
   ]
  },
  {
   "cell_type": "code",
   "execution_count": 60,
   "metadata": {},
   "outputs": [],
   "source": []
  },
  {
   "cell_type": "code",
   "execution_count": null,
   "metadata": {},
   "outputs": [],
   "source": []
  }
 ],
 "metadata": {
  "kernelspec": {
   "display_name": "Haskell",
   "language": "haskell",
   "name": "haskell"
  },
  "language_info": {
   "codemirror_mode": "ihaskell",
   "file_extension": ".hs",
   "name": "haskell",
   "pygments_lexer": "Haskell",
   "version": "8.6.3"
  }
 },
 "nbformat": 4,
 "nbformat_minor": 2
}
