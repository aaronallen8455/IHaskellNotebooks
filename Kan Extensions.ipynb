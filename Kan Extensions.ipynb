{
 "cells": [
  {
   "cell_type": "markdown",
   "metadata": {},
   "source": [
    "# Kan Extensions\n",
    "\n",
    "### Right kan extension"
   ]
  },
  {
   "cell_type": "code",
   "execution_count": 5,
   "metadata": {},
   "outputs": [],
   "source": [
    ":ext RankNTypes\n",
    "\n",
    "newtype Ran k d a = Ran (forall i. (a -> k i) -> d i)"
   ]
  },
  {
   "cell_type": "markdown",
   "metadata": {},
   "source": [
    "`Ran k d a` has access to some `a` value, a morphism `a -> k i` and a natural transformation from `k` to `d`.\n",
    "\n",
    "If we have a `Ran Tree [] String` and we pass it a function `f :: String -> Tree Int` we will get back a `[Int]`.\n",
    "\n",
    "The right kan extension of some functor over the Identity functor is the left adjoint of that functor. This produces a set of polymorphic functions of type `forall i. (a -> k i) -> i`.\n",
    "For example, if we choose the forgetful functor from the monoid category, we calculate that the right adjoint is free monoids, or `[]` in Haskell."
   ]
  },
  {
   "cell_type": "code",
   "execution_count": 7,
   "metadata": {},
   "outputs": [],
   "source": [
    "type Lst a = forall i. Monoid i => (a -> i) -> i\n",
    "\n",
    "-- show that this is isomorphic to []\n",
    "toLst :: [a] -> Lst a\n",
    "toLst xs = \\f -> foldMap f xs\n",
    "\n",
    "fromLst :: Lst a -> [a]\n",
    "fromLst lst = lst pure"
   ]
  },
  {
   "cell_type": "markdown",
   "metadata": {},
   "source": [
    "### Left kan extension"
   ]
  },
  {
   "cell_type": "code",
   "execution_count": 10,
   "metadata": {},
   "outputs": [],
   "source": [
    ":ext ExistentialQuantification\n",
    "\n",
    "data Lan k d a = forall i. Lan (k i -> a) (d i)"
   ]
  },
  {
   "cell_type": "markdown",
   "metadata": {},
   "source": [
    "We can use a `Lan k d a` by having a natural transformation from `d` to `k`. We can then turn the `d i` into a `k i` and feed it to the stored function to get an `a`. Because `i` is existentially quantified, the only way to get a valid argument to the function is by working with `d i`.\n",
    "\n",
    "The left kan extension can be used to calculate the right adjoint of a functor if we use `Identity` as the base functor of the extension. The right adjoint of the product functor should be the exponential:"
   ]
  },
  {
   "cell_type": "code",
   "execution_count": 17,
   "metadata": {},
   "outputs": [],
   "source": [
    ":m Data.Functor.Identity\n",
    "\n",
    "type Exp a b = Lan ((,) a) Identity b\n",
    "\n",
    "-- Show that it's isomorphic to a regular morphism\n",
    "toExp :: (a -> b) -> Exp a b\n",
    "toExp f = Lan (f . fst) (Identity ())\n",
    "\n",
    "fromExp :: Exp a b -> (a -> b)\n",
    "fromExp (Lan kib (Identity d)) = \\a -> kib (a, d)"
   ]
  },
  {
   "cell_type": "code",
   "execution_count": null,
   "metadata": {},
   "outputs": [],
   "source": []
  }
 ],
 "metadata": {
  "kernelspec": {
   "display_name": "Haskell",
   "language": "haskell",
   "name": "haskell"
  },
  "language_info": {
   "codemirror_mode": "ihaskell",
   "file_extension": ".hs",
   "name": "haskell",
   "pygments_lexer": "Haskell",
   "version": "8.2.2"
  }
 },
 "nbformat": 4,
 "nbformat_minor": 2
}
