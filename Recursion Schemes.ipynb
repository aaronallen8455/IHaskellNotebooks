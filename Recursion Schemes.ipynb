{
 "cells": [
  {
   "cell_type": "markdown",
   "metadata": {},
   "source": [
    "# Recursion Schemes"
   ]
  },
  {
   "cell_type": "code",
   "execution_count": 2,
   "metadata": {},
   "outputs": [],
   "source": [
    ":ext DeriveFunctor\n",
    "\n",
    "import Control.Arrow\n",
    "import Data.Monoid\n",
    "\n",
    "newtype Fix f = Fix { unfix :: f (Fix f) }\n",
    "\n",
    "data List a b = End | Cons a b deriving (Show, Functor)"
   ]
  },
  {
   "cell_type": "markdown",
   "metadata": {},
   "source": [
    "## Catamorphism\n",
    "Generic functor crusher"
   ]
  },
  {
   "cell_type": "code",
   "execution_count": 4,
   "metadata": {},
   "outputs": [
    {
     "data": {
      "text/plain": [
       "Product {getProduct = 24}"
      ]
     },
     "metadata": {},
     "output_type": "display_data"
    },
    {
     "data": {
      "text/plain": [
       "Sum {getSum = 9}"
      ]
     },
     "metadata": {},
     "output_type": "display_data"
    }
   ],
   "source": [
    "type Algebra f a = f a -> a\n",
    "\n",
    "cata :: Functor f => Algebra f a -> Fix f -> a\n",
    "cata fn = unfix >>> fmap (cata fn) >>> fn\n",
    "\n",
    "exampleAlg :: Monoid m => Algebra (List m) m\n",
    "exampleAlg End = mempty\n",
    "exampleAlg (Cons a b) = a <> b\n",
    "\n",
    "let exList = Fix $ Cons 4 (Fix $ Cons 3 (Fix $ Cons 2 $ Fix End))\n",
    "cata exampleAlg exList :: Product Int\n",
    "cata exampleAlg exList :: Sum Int"
   ]
  },
  {
   "cell_type": "markdown",
   "metadata": {},
   "source": [
    "## Anamorphism\n",
    "The dual of a catamorphism: a generic un-folder."
   ]
  },
  {
   "cell_type": "code",
   "execution_count": 4,
   "metadata": {},
   "outputs": [
    {
     "data": {
      "text/plain": [
       "Sum {getSum = 15}"
      ]
     },
     "metadata": {},
     "output_type": "display_data"
    }
   ],
   "source": [
    "type Coalgebra f a = a -> f a\n",
    "\n",
    "ana :: Functor f => Coalgebra f a -> a -> Fix f\n",
    "ana fn = Fix <<< fmap (ana fn) <<< fn\n",
    "\n",
    "exampleCoalg :: Coalgebra (List (Sum Int)) (Sum Int)\n",
    "exampleCoalg 0 = End\n",
    "exampleCoalg v = Cons v $ v - 1\n",
    "\n",
    "cata exampleAlg $ ana exampleCoalg 5 :: Sum Int"
   ]
  },
  {
   "cell_type": "markdown",
   "metadata": {},
   "source": [
    "## Paramorphism\n",
    "`cata` destroys info about the data structure that we are transforming. Using Paramorphisms, we retain all info about the original structure."
   ]
  },
  {
   "cell_type": "code",
   "execution_count": 5,
   "metadata": {},
   "outputs": [
    {
     "data": {
      "text/plain": [
       "7"
      ]
     },
     "metadata": {},
     "output_type": "display_data"
    },
    {
     "data": {
      "text/plain": [
       "Sum {getSum = 9}"
      ]
     },
     "metadata": {},
     "output_type": "display_data"
    }
   ],
   "source": [
    "type RAlgebra f a = f (Fix f, a) -> a\n",
    "\n",
    "para :: Functor f => RAlgebra f a -> Fix f -> a\n",
    "para fn = unfix >>> fmap (id &&& para fn) >>> fn\n",
    "\n",
    "exampleRAlg :: RAlgebra (List Int) Int\n",
    "exampleRAlg End = 0\n",
    "exampleRAlg (Cons a (Fix (Cons 3 _), b)) = a + 3 -- start over if previous value was 3\n",
    "exampleRAlg (Cons a (_, b)) = a + b\n",
    "\n",
    "para exampleRAlg exList :: Int\n",
    "cata exampleAlg exList :: Sum Int"
   ]
  },
  {
   "cell_type": "markdown",
   "metadata": {},
   "source": [
    "## Apomorphism\n",
    "The dual of `para`"
   ]
  },
  {
   "cell_type": "code",
   "execution_count": 6,
   "metadata": {},
   "outputs": [
    {
     "data": {
      "text/plain": [
       "Sum {getSum = 30}"
      ]
     },
     "metadata": {},
     "output_type": "display_data"
    },
    {
     "data": {
      "text/plain": [
       "Sum {getSum = 564}"
      ]
     },
     "metadata": {},
     "output_type": "display_data"
    }
   ],
   "source": [
    "type RCoalgebra f a = a -> f (Either (Fix f) a)\n",
    "\n",
    "apo :: Functor f => RCoalgebra f a -> a -> Fix f\n",
    "apo fn = Fix <<< fmap (id ||| apo fn) <<< fn\n",
    "\n",
    "exampleRCoalg :: (Num a, Eq a, Ord a) => RCoalgebra (List a) a\n",
    "exampleRCoalg 5 = Cons 5 (Left $ Fix $ Cons 555 $ Fix End) -- manually create the rest of the list\n",
    "exampleRCoalg n\n",
    "  | n > 10 =  End\n",
    "  | otherwise = Cons n $ Right (n + 2)\n",
    "  \n",
    "cata exampleAlg $ apo exampleRCoalg 2 :: Sum Int\n",
    "cata exampleAlg $ apo exampleRCoalg 1 :: Sum Int"
   ]
  },
  {
   "cell_type": "markdown",
   "metadata": {},
   "source": [
    "## Histomorphism\n",
    "A catamorphism that remembers all previous results"
   ]
  },
  {
   "cell_type": "code",
   "execution_count": 30,
   "metadata": {},
   "outputs": [
    {
     "data": {
      "text/plain": [
       "233"
      ]
     },
     "metadata": {},
     "output_type": "display_data"
    },
    {
     "data": {
      "text/plain": [
       "-1.7641645813307405e-2"
      ]
     },
     "metadata": {},
     "output_type": "display_data"
    },
    {
     "data": {
      "text/plain": [
       "-1.764164581327013e-2"
      ]
     },
     "metadata": {},
     "output_type": "display_data"
    }
   ],
   "source": [
    ":ext ScopedTypeVariables\n",
    "\n",
    "data Attr f a = Attr  -- like the cofree comonad\n",
    "              { attribute :: a\n",
    "              , hole      :: f (Attr f a)\n",
    "              }\n",
    "\n",
    "type CVAlgebra f a = f (Attr f a) -> a\n",
    "\n",
    "--hist :: forall a f. Functor f => CVAlgebra f a -> Fix f -> a\n",
    "hist fn = unfix >>> fmap worker >>> fn\n",
    "  where\n",
    "    --worker :: Fix f -> Attr f a\n",
    "    worker = unfix >>> fmap worker >>> fn &&& id >>> uncurry Attr\n",
    "    \n",
    "data Nat a = Next a | Zero deriving Functor\n",
    "    \n",
    "-- fibonacci sequence\n",
    "exampleCVAlgebra :: CVAlgebra Nat Int\n",
    "exampleCVAlgebra (Zero) = 0\n",
    "exampleCVAlgebra (Next (Attr _ Zero)) = 1\n",
    "exampleCVAlgebra (Next (Attr a (Next (Attr b _)))) = a + b\n",
    "\n",
    "let exNat = foldr (.) id (replicate 13 $ Fix . Next) $ Fix Zero\n",
    "\n",
    "hist exampleCVAlgebra exNat\n",
    "\n",
    "sineHisto :: Double -> Double -> Double -> Int -> Double\n",
    "sineHisto freq sr phase samp = hist alg numSamp\n",
    "  where\n",
    "    numSamp = foldr (.) id (replicate samp $ Fix . Next) $ Fix Zero\n",
    "    b = 2 * pi * freq / sr\n",
    "    twoCos = 2 * cos b\n",
    "    alg :: CVAlgebra Nat Double\n",
    "    alg Zero = sin $ phase * b\n",
    "    alg (Next (Attr _ Zero)) = sin $ (phase + 1) * b\n",
    "    alg (Next (Attr a (Next (Attr b _)))) = twoCos * a - b\n",
    "   \n",
    "sineHisto 1 (2 * pi) 0 666\n",
    "sin 666"
   ]
  },
  {
   "cell_type": "markdown",
   "metadata": {},
   "source": [
    "## Futumorphism\n",
    "The dual of `histo`"
   ]
  },
  {
   "cell_type": "code",
   "execution_count": 8,
   "metadata": {},
   "outputs": [],
   "source": [
    "data CoAttr f a -- like Free monad\n",
    "     = Pure a\n",
    "     | Free (f (CoAttr f a))\n",
    "     \n",
    "type CVCoalgebra f a = a -> f (CoAttr f a)\n",
    "\n",
    "futu :: Functor f => CVCoalgebra f a -> a -> Fix f\n",
    "futu fn = Fix <<< fmap worker <<< fn\n",
    "  where\n",
    "    worker (Pure a) = futu fn a\n",
    "    worker (Free c) = Fix $ fmap worker c"
   ]
  },
  {
   "cell_type": "markdown",
   "metadata": {},
   "source": [
    "## Using the Recursion Schemes Library\n",
    "How to use recursion schemes with simple types such as [a], instead of our `List` type.\n",
    "This involves using the `Base` functor"
   ]
  },
  {
   "cell_type": "code",
   "execution_count": 9,
   "metadata": {},
   "outputs": [],
   "source": [
    ":ext TypeFamilies\n",
    "\n",
    "type family Base t :: * -> *"
   ]
  },
  {
   "cell_type": "markdown",
   "metadata": {},
   "source": [
    "Type families are \"functions on the type level\". For example:"
   ]
  },
  {
   "cell_type": "code",
   "execution_count": 10,
   "metadata": {},
   "outputs": [
    {
     "data": {
      "text/html": [
       "<style>/* Styles used for the Hoogle display in the pager */\n",
       ".hoogle-doc {\n",
       "display: block;\n",
       "padding-bottom: 1.3em;\n",
       "padding-left: 0.4em;\n",
       "}\n",
       ".hoogle-code {\n",
       "display: block;\n",
       "font-family: monospace;\n",
       "white-space: pre;\n",
       "}\n",
       ".hoogle-text {\n",
       "display: block;\n",
       "}\n",
       ".hoogle-name {\n",
       "color: green;\n",
       "font-weight: bold;\n",
       "}\n",
       ".hoogle-head {\n",
       "font-weight: bold;\n",
       "}\n",
       ".hoogle-sub {\n",
       "display: block;\n",
       "margin-left: 0.4em;\n",
       "}\n",
       ".hoogle-package {\n",
       "font-weight: bold;\n",
       "font-style: italic;\n",
       "}\n",
       ".hoogle-module {\n",
       "font-weight: bold;\n",
       "}\n",
       ".hoogle-class {\n",
       "font-weight: bold;\n",
       "}\n",
       ".get-type {\n",
       "color: green;\n",
       "font-weight: bold;\n",
       "font-family: monospace;\n",
       "display: block;\n",
       "white-space: pre-wrap;\n",
       "}\n",
       ".show-type {\n",
       "color: green;\n",
       "font-weight: bold;\n",
       "font-family: monospace;\n",
       "margin-left: 1em;\n",
       "}\n",
       ".mono {\n",
       "font-family: monospace;\n",
       "display: block;\n",
       "}\n",
       ".err-msg {\n",
       "color: red;\n",
       "font-style: italic;\n",
       "font-family: monospace;\n",
       "white-space: pre;\n",
       "display: block;\n",
       "}\n",
       "#unshowable {\n",
       "color: red;\n",
       "font-weight: bold;\n",
       "}\n",
       ".err-msg.in.collapse {\n",
       "padding-top: 0.7em;\n",
       "}\n",
       ".highlight-code {\n",
       "white-space: pre;\n",
       "font-family: monospace;\n",
       "}\n",
       ".suggestion-warning { \n",
       "font-weight: bold;\n",
       "color: rgb(200, 130, 0);\n",
       "}\n",
       ".suggestion-error { \n",
       "font-weight: bold;\n",
       "color: red;\n",
       "}\n",
       ".suggestion-name {\n",
       "font-weight: bold;\n",
       "}\n",
       "</style><span class='get-type'>(4 :: Something Foo) :: Bar</span>"
      ],
      "text/plain": [
       "(4 :: Something Foo) :: Bar"
      ]
     },
     "metadata": {},
     "output_type": "display_data"
    }
   ],
   "source": [
    "type family Something t\n",
    "type Foo = Int\n",
    "type Bar = Float\n",
    "type instance Something Foo = Bar\n",
    ":t (4 :: Something Foo)"
   ]
  },
  {
   "cell_type": "markdown",
   "metadata": {},
   "source": [
    "In the above, wherever we have `Something Foo` then it will be resolved to `Bar`. We have to declare a type instance for Foo like declaring an instance of a typeclass. \n",
    "This provides a powerful facility with which to associate one type with another.\n",
    "\n",
    "Returning to the definition of `Base`, we see that passing in a concrete type results in a type that is parameterized with one additional variable. This is the same kind as our `List` implementation."
   ]
  },
  {
   "cell_type": "code",
   "execution_count": 11,
   "metadata": {},
   "outputs": [],
   "source": [
    "type instance Base [a] = List a"
   ]
  },
  {
   "cell_type": "markdown",
   "metadata": {},
   "source": [
    "Now we can use Base [a] to refer to `List a`"
   ]
  },
  {
   "cell_type": "code",
   "execution_count": 12,
   "metadata": {},
   "outputs": [],
   "source": [
    ":ext FlexibleContexts\n",
    "\n",
    "class (Functor (Base t)) => Recursive t where\n",
    "  project :: t -> Base t t -- takes a type and transforms it into it's Base form\n",
    "  cata' :: (Base t a -> a) -> t -> a\n",
    "  cata' fn = c where c = fn . fmap c . project\n",
    "  {-# MINIMAL project #-}"
   ]
  },
  {
   "cell_type": "markdown",
   "metadata": {},
   "source": [
    "This frees us from having to work with `Fix`. We can instead use regular types."
   ]
  },
  {
   "cell_type": "code",
   "execution_count": 13,
   "metadata": {},
   "outputs": [
    {
     "data": {
      "text/plain": [
       "21"
      ]
     },
     "metadata": {},
     "output_type": "display_data"
    }
   ],
   "source": [
    "instance Recursive [a] where\n",
    "  project (x:xs) = Cons x xs\n",
    "  project [] = End\n",
    "\n",
    "sumList :: Num a => [a] -> a\n",
    "sumList = cata' go\n",
    "  where\n",
    "    go End = 0\n",
    "    go (Cons a acc) = a + acc\n",
    "    \n",
    "sumList [1,2,3,4,5,6]"
   ]
  },
  {
   "cell_type": "markdown",
   "metadata": {},
   "source": [
    "Another useful instance is for `Natural`"
   ]
  },
  {
   "cell_type": "code",
   "execution_count": 14,
   "metadata": {},
   "outputs": [],
   "source": [
    "import Numeric.Natural\n",
    "\n",
    "type instance Base Natural = Maybe\n",
    "\n",
    "instance Recursive Natural where\n",
    "  project 0 = Nothing\n",
    "  project n = Just (n-1)"
   ]
  },
  {
   "cell_type": "markdown",
   "metadata": {},
   "source": [
    "The `recursion-schemes` package has a template haskell splice to generate all this boiler plate for us.\n",
    "Given a type like this:"
   ]
  },
  {
   "cell_type": "code",
   "execution_count": 15,
   "metadata": {},
   "outputs": [],
   "source": [
    "data Tree a\n",
    "   = Node (Tree a) a (Tree a)\n",
    "   | Leaf a"
   ]
  },
  {
   "cell_type": "markdown",
   "metadata": {},
   "source": [
    "we can just do this:"
   ]
  },
  {
   "cell_type": "code",
   "execution_count": 16,
   "metadata": {},
   "outputs": [],
   "source": [
    "--import Data.Functor.Foldable.TH\n",
    "\n",
    "--makeBaseFunctor ''Tree"
   ]
  },
  {
   "cell_type": "markdown",
   "metadata": {},
   "source": [
    "## Corecursive Class\n",
    "reverse the arrows of `Recursive`"
   ]
  },
  {
   "cell_type": "code",
   "execution_count": 17,
   "metadata": {},
   "outputs": [],
   "source": [
    "class Functor (Base t) => Corecursive t where\n",
    "  embed :: Base t t -> t\n",
    "  ana :: (a -> Base t a) -> a -> t\n",
    "  ana fn = c where c = embed . fmap c . fn\n",
    "  {-# MINIMAL embed #-}\n",
    "  \n",
    "instance Corecursive [a] where\n",
    "  embed (Cons x xs) = x:xs\n",
    "  embed End = []"
   ]
  },
  {
   "cell_type": "markdown",
   "metadata": {},
   "source": [
    "`makeBaseFunctor` will also create `Corecursive` instances."
   ]
  }
 ],
 "metadata": {
  "kernelspec": {
   "display_name": "Haskell",
   "language": "haskell",
   "name": "haskell"
  },
  "language_info": {
   "codemirror_mode": "ihaskell",
   "file_extension": ".hs",
   "name": "haskell",
   "version": "8.2.2"
  }
 },
 "nbformat": 4,
 "nbformat_minor": 2
}
