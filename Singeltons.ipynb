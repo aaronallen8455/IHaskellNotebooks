{
 "cells": [
  {
   "cell_type": "markdown",
   "metadata": {},
   "source": [
    "# Singletons - Dependently Typed Programming"
   ]
  },
  {
   "cell_type": "code",
   "execution_count": 2,
   "metadata": {},
   "outputs": [],
   "source": [
    ":ext DataKinds\n",
    ":ext RankNTypes\n",
    ":ext GADTs\n",
    ":ext KindSignatures\n",
    ":ext LambdaCase\n",
    ":ext TypeApplications\n",
    "\n",
    "data DoorState = Open | Closed | Locked\n",
    "  deriving (Show, Eq)\n",
    "\n",
    "data Door (s :: DoorState) = UnsafeMakeDoor { doorMaterial :: String }"
   ]
  },
  {
   "cell_type": "markdown",
   "metadata": {},
   "source": [
    "Here we are using a phantom type to make the state of a door a type level parameter. This allows us to write functions that can only receive or return a door with a specific state.\n",
    "\n",
    "We can do the same thing using a GADT"
   ]
  },
  {
   "cell_type": "code",
   "execution_count": 3,
   "metadata": {},
   "outputs": [],
   "source": [
    "data Door :: DoorState -> * where\n",
    "  UnsafeMakeDoor :: { doorMaterial :: String } -> Door s"
   ]
  },
  {
   "cell_type": "markdown",
   "metadata": {},
   "source": [
    "To be able to inspect the DoorState on the value level or create a door with a state that is unknown until runtime, we need singletons"
   ]
  },
  {
   "cell_type": "code",
   "execution_count": 6,
   "metadata": {},
   "outputs": [],
   "source": [
    "data SingDS :: DoorState -> * where\n",
    "  SOpen :: SingDS 'Open\n",
    "  SClosed :: SingDS 'Closed\n",
    "  SLocked :: SingDS 'Locked\n",
    "  \n",
    "doorState :: SingDS s -> Door s -> DoorState\n",
    "doorState SOpen _ = Open\n",
    "doorState SClosed _ = Closed\n",
    "doorState SLocked _ = Locked"
   ]
  },
  {
   "cell_type": "markdown",
   "metadata": {},
   "source": [
    "By passing in the singleton along with the door, ensuring that the type parameters match, we can effectively pattern match on types.\n",
    "\n",
    "We can use a type class to have the singleton passed implicitly:"
   ]
  },
  {
   "cell_type": "code",
   "execution_count": 11,
   "metadata": {},
   "outputs": [],
   "source": [
    "class SingDSI s where\n",
    "  singDS :: SingDS s\n",
    "  \n",
    "instance SingDSI 'Open where\n",
    "  singDS = SOpen\n",
    "instance SingDSI 'Closed where\n",
    "  singDS = SClosed\n",
    "instance SingDSI 'Locked where\n",
    "  singDS = SLocked\n",
    "  \n",
    "doorState_ :: SingDSI s => Door s -> DoorState\n",
    "doorState_ = doorState singDS"
   ]
  },
  {
   "cell_type": "markdown",
   "metadata": {},
   "source": [
    "The compiler deduces which singleton to pass in based on the type parameter of Door, which is an instance of the class.\n",
    "\n",
    "We have turned a function where the SingDS was passed explicitly into one where it is passed implicitly. To do the reverse (implicit to explicit) we need a utility function:"
   ]
  },
  {
   "cell_type": "code",
   "execution_count": 13,
   "metadata": {},
   "outputs": [],
   "source": [
    "withSingDSI :: SingDS s -> (SingDSI s => r) -> r\n",
    "withSingDSI sng x = case sng of\n",
    "  SOpen -> x\n",
    "  SClosed -> x\n",
    "  SLocked -> x\n",
    "  \n",
    "doorStateExp s d = withSingDSI s (doorState_ d)"
   ]
  },
  {
   "cell_type": "markdown",
   "metadata": {},
   "source": [
    "Using singletons to write a nice door constructor:"
   ]
  },
  {
   "cell_type": "code",
   "execution_count": 15,
   "metadata": {},
   "outputs": [
    {
     "data": {
      "text/html": [
       "<style>/* Styles used for the Hoogle display in the pager */\n",
       ".hoogle-doc {\n",
       "display: block;\n",
       "padding-bottom: 1.3em;\n",
       "padding-left: 0.4em;\n",
       "}\n",
       ".hoogle-code {\n",
       "display: block;\n",
       "font-family: monospace;\n",
       "white-space: pre;\n",
       "}\n",
       ".hoogle-text {\n",
       "display: block;\n",
       "}\n",
       ".hoogle-name {\n",
       "color: green;\n",
       "font-weight: bold;\n",
       "}\n",
       ".hoogle-head {\n",
       "font-weight: bold;\n",
       "}\n",
       ".hoogle-sub {\n",
       "display: block;\n",
       "margin-left: 0.4em;\n",
       "}\n",
       ".hoogle-package {\n",
       "font-weight: bold;\n",
       "font-style: italic;\n",
       "}\n",
       ".hoogle-module {\n",
       "font-weight: bold;\n",
       "}\n",
       ".hoogle-class {\n",
       "font-weight: bold;\n",
       "}\n",
       ".get-type {\n",
       "color: green;\n",
       "font-weight: bold;\n",
       "font-family: monospace;\n",
       "display: block;\n",
       "white-space: pre-wrap;\n",
       "}\n",
       ".show-type {\n",
       "color: green;\n",
       "font-weight: bold;\n",
       "font-family: monospace;\n",
       "margin-left: 1em;\n",
       "}\n",
       ".mono {\n",
       "font-family: monospace;\n",
       "display: block;\n",
       "}\n",
       ".err-msg {\n",
       "color: red;\n",
       "font-style: italic;\n",
       "font-family: monospace;\n",
       "white-space: pre;\n",
       "display: block;\n",
       "}\n",
       "#unshowable {\n",
       "color: red;\n",
       "font-weight: bold;\n",
       "}\n",
       ".err-msg.in.collapse {\n",
       "padding-top: 0.7em;\n",
       "}\n",
       ".highlight-code {\n",
       "white-space: pre;\n",
       "font-family: monospace;\n",
       "}\n",
       ".suggestion-warning { \n",
       "font-weight: bold;\n",
       "color: rgb(200, 130, 0);\n",
       "}\n",
       ".suggestion-error { \n",
       "font-weight: bold;\n",
       "color: red;\n",
       "}\n",
       ".suggestion-name {\n",
       "font-weight: bold;\n",
       "}\n",
       "</style><span class='get-type'>mkDoor SOpen \"Oak\" :: Door 'Open</span>"
      ],
      "text/plain": [
       "mkDoor SOpen \"Oak\" :: Door 'Open"
      ]
     },
     "metadata": {},
     "output_type": "display_data"
    }
   ],
   "source": [
    "mkDoor :: SingDS s -> String -> Door s\n",
    "mkDoor _ = UnsafeMakeDoor\n",
    "\n",
    ":t mkDoor SOpen \"Oak\""
   ]
  },
  {
   "cell_type": "code",
   "execution_count": null,
   "metadata": {},
   "outputs": [],
   "source": []
  }
 ],
 "metadata": {
  "kernelspec": {
   "display_name": "Haskell",
   "language": "haskell",
   "name": "haskell"
  },
  "language_info": {
   "codemirror_mode": "ihaskell",
   "file_extension": ".hs",
   "name": "haskell",
   "pygments_lexer": "Haskell",
   "version": "8.2.2"
  }
 },
 "nbformat": 4,
 "nbformat_minor": 2
}
