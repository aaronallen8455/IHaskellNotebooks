{
 "cells": [
  {
   "cell_type": "markdown",
   "metadata": {},
   "source": [
    "# N-Arity ZipWith\n",
    "###### (https://cs.brynmawr.edu/~rae/papers/2016/thesis/eisenberg-thesis.pdf)\n",
    "###### (https://gist.github.com/Icelandjack/e4c86ba4d6219ad9e44a68f99319b3fa)\n",
    "\n",
    "`Data.List` gives us functions such as `zipWith3`, `zipWith4` etc. where the user must choose the function based on the arity of the argument function. Our goal is to implement a `zipWith` function that defers this decision to the compiler."
   ]
  },
  {
   "cell_type": "code",
   "execution_count": 28,
   "metadata": {},
   "outputs": [],
   "source": [
    ":ext DataKinds\n",
    "\n",
    "data Nat = Zero | Succ Nat"
   ]
  },
  {
   "cell_type": "markdown",
   "metadata": {},
   "source": [
    "First we need a type level function that simply applies the `[]` type constructor to some type."
   ]
  },
  {
   "cell_type": "code",
   "execution_count": 29,
   "metadata": {},
   "outputs": [
    {
     "data": {
      "text/plain": [
       "[1,2,3]"
      ]
     },
     "metadata": {},
     "output_type": "display_data"
    },
    {
     "data": {
      "text/html": [
       "<style>/* Styles used for the Hoogle display in the pager */\n",
       ".hoogle-doc {\n",
       "display: block;\n",
       "padding-bottom: 1.3em;\n",
       "padding-left: 0.4em;\n",
       "}\n",
       ".hoogle-code {\n",
       "display: block;\n",
       "font-family: monospace;\n",
       "white-space: pre;\n",
       "}\n",
       ".hoogle-text {\n",
       "display: block;\n",
       "}\n",
       ".hoogle-name {\n",
       "color: green;\n",
       "font-weight: bold;\n",
       "}\n",
       ".hoogle-head {\n",
       "font-weight: bold;\n",
       "}\n",
       ".hoogle-sub {\n",
       "display: block;\n",
       "margin-left: 0.4em;\n",
       "}\n",
       ".hoogle-package {\n",
       "font-weight: bold;\n",
       "font-style: italic;\n",
       "}\n",
       ".hoogle-module {\n",
       "font-weight: bold;\n",
       "}\n",
       ".hoogle-class {\n",
       "font-weight: bold;\n",
       "}\n",
       ".get-type {\n",
       "color: green;\n",
       "font-weight: bold;\n",
       "font-family: monospace;\n",
       "display: block;\n",
       "white-space: pre-wrap;\n",
       "}\n",
       ".show-type {\n",
       "color: green;\n",
       "font-weight: bold;\n",
       "font-family: monospace;\n",
       "margin-left: 1em;\n",
       "}\n",
       ".mono {\n",
       "font-family: monospace;\n",
       "display: block;\n",
       "}\n",
       ".err-msg {\n",
       "color: red;\n",
       "font-style: italic;\n",
       "font-family: monospace;\n",
       "white-space: pre;\n",
       "display: block;\n",
       "}\n",
       "#unshowable {\n",
       "color: red;\n",
       "font-weight: bold;\n",
       "}\n",
       ".err-msg.in.collapse {\n",
       "padding-top: 0.7em;\n",
       "}\n",
       ".highlight-code {\n",
       "white-space: pre;\n",
       "font-family: monospace;\n",
       "}\n",
       ".suggestion-warning { \n",
       "font-weight: bold;\n",
       "color: rgb(200, 130, 0);\n",
       "}\n",
       ".suggestion-error { \n",
       "font-weight: bold;\n",
       "color: red;\n",
       "}\n",
       ".suggestion-name {\n",
       "font-weight: bold;\n",
       "}\n",
       "</style><span class='err-msg'>&lt;interactive&gt;:1:1: error:<br/>    • Found hole: _ :: [Int] -&gt; [String]<br/>    • In the expression: _ :: Listify ( 'Succ  'Zero) (Int -&gt; String)<br/>      In an equation for ‘it’: it = _ :: Listify ( 'Succ  'Zero) (Int -&gt; String)<br/>    • Relevant bindings include it :: Listify ('Succ 'Zero) (Int -&gt; String) (bound at &lt;interactive&gt;:1:1)</span>"
      ],
      "text/plain": [
       "<interactive>:1:1: error:\n",
       "    • Found hole: _ :: [Int] -> [String]\n",
       "    • In the expression: _ :: Listify ( 'Succ  'Zero) (Int -> String)\n",
       "      In an equation for ‘it’: it = _ :: Listify ( 'Succ  'Zero) (Int -> String)\n",
       "    • Relevant bindings include it :: Listify ('Succ 'Zero) (Int -> String) (bound at <interactive>:1:1)"
      ]
     },
     "metadata": {},
     "output_type": "display_data"
    }
   ],
   "source": [
    ":ext TypeFamilies\n",
    "\n",
    "type family Listify (n :: Nat) arrows where\n",
    "  Listify 'Zero a = [a]\n",
    "  Listify ('Succ n) (a -> b) = [a] -> Listify n b\n",
    "  \n",
    "[1,2,3] :: Listify 'Zero Int\n",
    "_ :: Listify ('Succ 'Zero) (Int -> String)"
   ]
  },
  {
   "cell_type": "markdown",
   "metadata": {},
   "source": [
    "Next we will need some runtime evidence for our choice of the number of arguments"
   ]
  },
  {
   "cell_type": "code",
   "execution_count": 38,
   "metadata": {},
   "outputs": [],
   "source": [
    ":ext GADTs\n",
    ":ext RankNTypes\n",
    "\n",
    "data NumArgs :: Nat -> * -> * where\n",
    "  NAZero :: forall a. NumArgs 'Zero a\n",
    "  NASucc :: forall a b n. NumArgs n b -> NumArgs ('Succ n) (a -> b)"
   ]
  },
  {
   "cell_type": "markdown",
   "metadata": {},
   "source": [
    "We need a GADT here so we can pattern match on the first argument to `NASucc`. This is what allows us to increment the `Nat` type parameter as well as access to the `b` parameter\n",
    "\n",
    "We can now write the runtime workhorse"
   ]
  },
  {
   "cell_type": "code",
   "execution_count": 40,
   "metadata": {},
   "outputs": [],
   "source": [
    "listApply :: NumArgs n a -> [a] -> Listify n a\n",
    "listApply NAZero fs = fs\n",
    "listApply (NASucc na) fs =\n",
    "  \\args -> listApply na (apply fs args) where\n",
    "    apply :: [a -> b] -> [a] -> [b]\n",
    "    apply (f:fs) (x:xs) = f x : apply fs xs\n",
    "    apply _ _ = []"
   ]
  },
  {
   "cell_type": "markdown",
   "metadata": {},
   "source": [
    "The `args` variable is one of the list of values to be zipped over, for instance in `[a] -> [b] -> [c]` it could be the `[a]` or `[b]`. Unless it's the last in the series, the `fs` argument will be a list functions in varies states of partial application. These functions are applied to their corresponding index in the `args` list.\n",
    "\n",
    "To infer arity we need a function that counts the number of arrows in a function type."
   ]
  },
  {
   "cell_type": "code",
   "execution_count": 32,
   "metadata": {},
   "outputs": [
    {
     "data": {
      "text/html": [
       "<style>/* Styles used for the Hoogle display in the pager */\n",
       ".hoogle-doc {\n",
       "display: block;\n",
       "padding-bottom: 1.3em;\n",
       "padding-left: 0.4em;\n",
       "}\n",
       ".hoogle-code {\n",
       "display: block;\n",
       "font-family: monospace;\n",
       "white-space: pre;\n",
       "}\n",
       ".hoogle-text {\n",
       "display: block;\n",
       "}\n",
       ".hoogle-name {\n",
       "color: green;\n",
       "font-weight: bold;\n",
       "}\n",
       ".hoogle-head {\n",
       "font-weight: bold;\n",
       "}\n",
       ".hoogle-sub {\n",
       "display: block;\n",
       "margin-left: 0.4em;\n",
       "}\n",
       ".hoogle-package {\n",
       "font-weight: bold;\n",
       "font-style: italic;\n",
       "}\n",
       ".hoogle-module {\n",
       "font-weight: bold;\n",
       "}\n",
       ".hoogle-class {\n",
       "font-weight: bold;\n",
       "}\n",
       ".get-type {\n",
       "color: green;\n",
       "font-weight: bold;\n",
       "font-family: monospace;\n",
       "display: block;\n",
       "white-space: pre-wrap;\n",
       "}\n",
       ".show-type {\n",
       "color: green;\n",
       "font-weight: bold;\n",
       "font-family: monospace;\n",
       "margin-left: 1em;\n",
       "}\n",
       ".mono {\n",
       "font-family: monospace;\n",
       "display: block;\n",
       "}\n",
       ".err-msg {\n",
       "color: red;\n",
       "font-style: italic;\n",
       "font-family: monospace;\n",
       "white-space: pre;\n",
       "display: block;\n",
       "}\n",
       "#unshowable {\n",
       "color: red;\n",
       "font-weight: bold;\n",
       "}\n",
       ".err-msg.in.collapse {\n",
       "padding-top: 0.7em;\n",
       "}\n",
       ".highlight-code {\n",
       "white-space: pre;\n",
       "font-family: monospace;\n",
       "}\n",
       ".suggestion-warning { \n",
       "font-weight: bold;\n",
       "color: rgb(200, 130, 0);\n",
       "}\n",
       ".suggestion-error { \n",
       "font-weight: bold;\n",
       "color: red;\n",
       "}\n",
       ".suggestion-name {\n",
       "font-weight: bold;\n",
       "}\n",
       "</style><span class='err-msg'>&lt;interactive&gt;:1:1: error:<br/>    • Found hole: _ :: [Int] -&gt; [Int] -&gt; [Int]<br/>    • In the expression: _ :: Listify (CountArgs Two) Two<br/>      In an equation for ‘it’: it = _ :: Listify (CountArgs Two) Two<br/>    • Relevant bindings include it :: Listify (CountArgs Two) Two (bound at &lt;interactive&gt;:1:1)</span>"
      ],
      "text/plain": [
       "<interactive>:1:1: error:\n",
       "    • Found hole: _ :: [Int] -> [Int] -> [Int]\n",
       "    • In the expression: _ :: Listify (CountArgs Two) Two\n",
       "      In an equation for ‘it’: it = _ :: Listify (CountArgs Two) Two\n",
       "    • Relevant bindings include it :: Listify (CountArgs Two) Two (bound at <interactive>:1:1)"
      ]
     },
     "metadata": {},
     "output_type": "display_data"
    }
   ],
   "source": [
    "type family CountArgs (f :: *) :: Nat where\n",
    "  CountArgs (a -> b) = 'Succ (CountArgs b)\n",
    "  CountArgs result = 'Zero\n",
    "  \n",
    "type Two = Int -> Int -> Int\n",
    "_ :: Listify (CountArgs Two) Two"
   ]
  },
  {
   "cell_type": "markdown",
   "metadata": {},
   "source": [
    "We need to connect this type level function with the term level GADT NumArgs. We use a type class to reflect type level decisions on the term level."
   ]
  },
  {
   "cell_type": "code",
   "execution_count": 42,
   "metadata": {},
   "outputs": [],
   "source": [
    ":ext MultiParamTypeClasses\n",
    ":ext FlexibleInstances\n",
    "\n",
    "class CNumArgs (numArgs :: Nat) (arrows :: *) where\n",
    "  getNA :: NumArgs numArgs arrows\n",
    "\n",
    "instance CNumArgs 'Zero a where\n",
    "  getNA = NAZero\n",
    "  \n",
    "instance CNumArgs n b => CNumArgs ('Succ n) (a -> b) where\n",
    "  getNA = NASucc getNA"
   ]
  },
  {
   "cell_type": "markdown",
   "metadata": {},
   "source": [
    "We can now give the final definition of `zipWith`"
   ]
  },
  {
   "cell_type": "code",
   "execution_count": 43,
   "metadata": {},
   "outputs": [
    {
     "data": {
      "text/plain": [
       "[3,5,7]"
      ]
     },
     "metadata": {},
     "output_type": "display_data"
    },
    {
     "data": {
      "text/plain": [
       "[\"\\\"a1d\\\"\",\"\\\"b2e\\\"\",\"\\\"c3f\\\"\"]"
      ]
     },
     "metadata": {},
     "output_type": "display_data"
    }
   ],
   "source": [
    ":ext ScopedTypeVariables\n",
    ":ext FlexibleContexts\n",
    "\n",
    "zipWith :: forall f. CNumArgs (CountArgs f) f => f -> Listify (CountArgs f) f\n",
    "zipWith f = listApply (getNA :: NumArgs (CountArgs f) f) (repeat f)\n",
    "\n",
    "zipWith ((+) :: Int -> Int -> Int) [1,2,3] [2,3,4]\n",
    "zipWith (\\a b c -> show [a,b,c]) \"abc\" \"123\" \"def\""
   ]
  },
  {
   "cell_type": "code",
   "execution_count": null,
   "metadata": {},
   "outputs": [],
   "source": []
  },
  {
   "cell_type": "code",
   "execution_count": null,
   "metadata": {},
   "outputs": [],
   "source": []
  }
 ],
 "metadata": {
  "kernelspec": {
   "display_name": "Haskell",
   "language": "haskell",
   "name": "haskell"
  },
  "language_info": {
   "codemirror_mode": "ihaskell",
   "file_extension": ".hs",
   "name": "haskell",
   "pygments_lexer": "Haskell",
   "version": "8.2.2"
  }
 },
 "nbformat": 4,
 "nbformat_minor": 2
}
