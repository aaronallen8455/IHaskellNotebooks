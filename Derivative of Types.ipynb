{
 "cells": [
  {
   "cell_type": "markdown",
   "metadata": {},
   "source": [
    "# Derivatives of Types\n",
    "###### (http://conal.net/blog/posts/differentiation-of-higher-order-types)\n",
    "The derivative of a type if the type of it's one-hole context. Let's begin with the standard set of Functor combinators"
   ]
  },
  {
   "cell_type": "code",
   "execution_count": 30,
   "metadata": {},
   "outputs": [],
   "source": [
    ":ext TypeOperators\n",
    "\n",
    "data Void a\n",
    "data Unit a = Unit\n",
    "data Const x a = Const x\n",
    "data Id a = Id a\n",
    "data (f :+: g) a = LeftC (f a) | RightC (g a)\n",
    "data (f :*: g) a = f a :*: g a\n",
    "data (f :. g) a = O (f (g a))"
   ]
  },
  {
   "cell_type": "markdown",
   "metadata": {},
   "source": [
    "We use a type class to define the derivates of these functors and how to fill the one-hole context to retrieve the full shape."
   ]
  },
  {
   "cell_type": "code",
   "execution_count": 33,
   "metadata": {},
   "outputs": [],
   "source": [
    ":ext TypeFamilies\n",
    ":ext LambdaCase\n",
    ":ext EmptyCase\n",
    "\n",
    "class OneHole (f :: * -> *) where\n",
    "  type Deriv f :: * -> *\n",
    "  fillHole :: Deriv f a -> a -> f a\n",
    "  \n",
    "instance OneHole Unit where\n",
    "  type Deriv Unit = Void\n",
    "  fillHole = \\case {}\n",
    "  \n",
    "instance OneHole (Const x) where\n",
    "  type Deriv (Const x) = Void\n",
    "  fillHole = \\case {}\n",
    "  \n",
    "instance OneHole Id where\n",
    "  type Deriv Id = Unit\n",
    "  fillHole _ = Id\n",
    "  \n",
    "instance (OneHole f, OneHole g) => OneHole (f :+: g) where\n",
    "  type Deriv (f :+: g) = Deriv f :+: Deriv g\n",
    "  fillHole (LeftC df) = LeftC . fillHole df\n",
    "  fillHole (RightC dg) = RightC . fillHole dg\n",
    "  \n",
    "instance (OneHole f, OneHole g) => OneHole (f :*: g) where\n",
    "  type Deriv (f :*: g) = (Deriv f :*: g) :+: (f :*: Deriv g)\n",
    "  fillHole (LeftC (df :*: g)) a = fillHole df a :*: g\n",
    "  fillHole (RightC (f :*: dg)) a = f :*: fillHole dg a\n",
    "  \n",
    "instance (OneHole f, OneHole g) => OneHole (f :. g) where\n",
    "  type Deriv (f :. g) = (Deriv f :. g) :*: Deriv g\n",
    "  fillHole (O dfg :*: dg) = O . fillHole dfg . fillHole dg"
   ]
  },
  {
   "cell_type": "code",
   "execution_count": null,
   "metadata": {},
   "outputs": [],
   "source": []
  }
 ],
 "metadata": {
  "kernelspec": {
   "display_name": "Haskell",
   "language": "haskell",
   "name": "haskell"
  },
  "language_info": {
   "codemirror_mode": "ihaskell",
   "file_extension": ".hs",
   "name": "haskell",
   "pygments_lexer": "Haskell",
   "version": "8.6.3"
  }
 },
 "nbformat": 4,
 "nbformat_minor": 2
}
