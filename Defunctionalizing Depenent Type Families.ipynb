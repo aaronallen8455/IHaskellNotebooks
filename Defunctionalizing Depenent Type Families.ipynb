{
 "cells": [
  {
   "cell_type": "markdown",
   "id": "directed-poker",
   "metadata": {},
   "source": [
    "# Defunctionalizing Dependent Type Families\n",
    "###### (https://blog.poisson.chat/posts/2021-01-16-dependent-fcfs.html)\n",
    "\n",
    "We can use type families to get an approximation of dependent types: a function `g` or a type family `G` may have a result whose type `F x` depends on a some agrument `x`:"
   ]
  },
  {
   "cell_type": "code",
   "execution_count": 5,
   "id": "smooth-complex",
   "metadata": {},
   "outputs": [],
   "source": [
    ":ext TypeFamilies\n",
    ":ext PolyKinds\n",
    ":ext DataKinds\n",
    "\n",
    "import Data.Proxy\n",
    "import Data.Kind\n",
    "\n",
    "type family F (x :: Type) :: Type\n",
    "\n",
    "g :: Proxy x -> F x\n",
    "g = undefined\n",
    "\n",
    "type family G (x :: Type) :: F x"
   ]
  },
  {
   "cell_type": "markdown",
   "id": "quick-radical",
   "metadata": {},
   "source": [
    "What we'd like to be able to do is a type-level pattern match on GADTs indexed by type families.\n",
    "We run into this issue when trying to defunctionalize a dependent function such as `G`."
   ]
  },
  {
   "cell_type": "code",
   "execution_count": 12,
   "id": "least-scoop",
   "metadata": {},
   "outputs": [],
   "source": [
    "type Exp a = a -> Type\n",
    "\n",
    "data SG (x :: Type) :: Exp (F x)\n",
    "\n",
    "-- an evaluation function mapping expressions to values\n",
    "type family Eval (e :: Exp a) :: a\n",
    "\n",
    "--type instance Eval (SG x) = G x"
   ]
  },
  {
   "cell_type": "markdown",
   "id": "specific-candidate",
   "metadata": {},
   "source": [
    "Eval has two arguments, the type `a`, which is implicit, and the expression `e` of type `Exp a`. Here `a` is inferred to be `F x`, but that has a type family which is not allowed.\n",
    "\n",
    "A similar value level encoding does compile."
   ]
  },
  {
   "cell_type": "code",
   "execution_count": 16,
   "id": "characteristic-hospital",
   "metadata": {},
   "outputs": [],
   "source": [
    ":ext GADTs\n",
    "\n",
    "data Exp1 (a :: Type) where\n",
    "  SG1 :: Proxy x -> Exp1 (F x)\n",
    "\n",
    "eval :: Exp1 a -> a\n",
    "eval (SG1 x) = g x"
   ]
  },
  {
   "cell_type": "markdown",
   "id": "usual-system",
   "metadata": {},
   "source": [
    "To get around this, we can encode type equality as a type"
   ]
  },
  {
   "cell_type": "code",
   "execution_count": 24,
   "id": "blank-wichita",
   "metadata": {},
   "outputs": [],
   "source": [
    ":ext TypeOperators\n",
    ":ext UndecidableInstances\n",
    "\n",
    "data a :=: b where\n",
    "  Refl :: a :=: a\n",
    "  \n",
    "type family Rewrite (e :: a :=: b) (x :: a) :: b\n",
    "type instance Rewrite Refl x = x\n",
    "\n",
    "data SG2_ (x :: Type) (e :: F x :=: y) :: Exp y\n",
    "type SG2 x = SG2_ x Refl\n",
    "\n",
    "-- now we can define Eval on SG2_\n",
    "type instance Eval (SG2_ x e) = Rewrite e (G x)"
   ]
  },
  {
   "cell_type": "code",
   "execution_count": null,
   "id": "specific-pound",
   "metadata": {},
   "outputs": [],
   "source": []
  }
 ],
 "metadata": {
  "kernelspec": {
   "display_name": "Haskell",
   "language": "haskell",
   "name": "haskell"
  },
  "language_info": {
   "codemirror_mode": "ihaskell",
   "file_extension": ".hs",
   "mimetype": "text/x-haskell",
   "name": "haskell",
   "pygments_lexer": "Haskell",
   "version": "8.8.4"
  }
 },
 "nbformat": 4,
 "nbformat_minor": 5
}
