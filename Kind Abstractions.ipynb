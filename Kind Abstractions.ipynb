{
 "cells": [
  {
   "cell_type": "markdown",
   "metadata": {},
   "source": [
    "# Patterns of Kind Abstraction\n",
    "Explanations of some of the ways we can achieve abstraction through type level programming.\n",
    "\n",
    "- Funtional dependencies\n",
    "- Associated types\n",
    "- Type families\n",
    "\n",
    "Let's define some types that facilitate the implementation of generic folding functions. We are using the 'Sum of Products' style here (as opposed to the 'Oragami' or 'Scrap Your Boilerplate' styles)."
   ]
  },
  {
   "cell_type": "code",
   "execution_count": 8,
   "metadata": {},
   "outputs": [
    {
     "data": {
      "text/plain": [
       "3"
      ]
     },
     "metadata": {},
     "output_type": "display_data"
    }
   ],
   "source": [
    "data List' a\n",
    "  = Nil' | Cons' a (List' a)\n",
    "  deriving (Show)\n",
    "\n",
    "-- abstract representation types (could also represent a tree, for example)\n",
    "data U = U                 \n",
    "  deriving (Show)\n",
    "\n",
    "data Choice a b = L a | R b   \n",
    "  deriving (Show)\n",
    "\n",
    "data Combo a b = Combo a b     \n",
    "  deriving (Show)\n",
    "\n",
    "type RList a = Choice U (Combo a (List' a))\n",
    "\n",
    "-- converting between the two\n",
    "fromL :: List' a -> RList a\n",
    "fromL Nil'          = L U\n",
    "fromL (Cons' x xs)  = R (Combo x xs)\n",
    "\n",
    "toL :: RList a -> List' a\n",
    "toL (L U)              = Nil'\n",
    "toL (R (Combo x xs))   = (Cons' x xs)\n",
    "\n",
    "-- a type for grouping converters together\n",
    "data EP d r = EP {from :: (d -> r),\n",
    "                 to :: (r -> d)}\n",
    "\n",
    "-- in order to write generic functions, we first need to group our three representation types under one type.\n",
    "-- We'll do this with a gadt\n",
    ":ext GADTs\n",
    "data TypeRep t where\n",
    "  RUnit   :: TypeRep U\n",
    "  RChoice :: TypeRep a -> TypeRep b \n",
    "                 -> TypeRep(Choice a b)\n",
    "  RCombo  :: TypeRep a -> TypeRep b \n",
    "             -> TypeRep (Combo a b)\n",
    "  RInt  :: TypeRep Int\n",
    "  RType :: EP d r -> TypeRep r -> TypeRep d\n",
    "  \n",
    "-- we need a representation of RList made from TypeRep constructors:\n",
    "rList :: TypeRep a -> TypeRep (List' a)\n",
    "rList tr = RType (EP fromL toL) \n",
    "                 (RChoice RUnit  \n",
    "                            (RCombo tr (rList tr)))\n",
    "                            \n",
    "-- now we define a generic function\n",
    "gSize :: TypeRep a -> a -> Int\n",
    "\n",
    "gSize RUnit  U  = 0\n",
    "\n",
    "gSize (RChoice trA trB) (L a) \n",
    "  = gSize trA a\n",
    "  \n",
    "gSize (RChoice trA trB) (R b) \n",
    "  = gSize trB b\n",
    "  \n",
    "gSize (RCombo  trA trB) (Combo a b)\n",
    "  = (gSize trA a) + (gSize trB b)\n",
    "  \n",
    "gSize RInt  _ = 1 \n",
    "\n",
    "gSize (RType ep tr) t           \n",
    "  = gSize tr (from ep t)\n",
    "  \n",
    "let aList = Cons' 1 (Cons' 3 (Cons' 7 Nil'))\n",
    "gSize (rList RInt) aList"
   ]
  },
  {
   "cell_type": "markdown",
   "metadata": {},
   "source": [
    "## Functional Dependencies\n",
    "Instead of the `EP` container we used above, we could have used a multi-paramter type class with functional dependencies."
   ]
  },
  {
   "cell_type": "code",
   "execution_count": 13,
   "metadata": {},
   "outputs": [
    {
     "data": {
      "text/plain": [
       "R (Combo \"1\" Nil')"
      ]
     },
     "metadata": {},
     "output_type": "display_data"
    }
   ],
   "source": [
    ":ext FunctionalDependencies\n",
    ":ext FlexibleInstances\n",
    "\n",
    "class GenericFD d r | d -> r where\n",
    "  from :: d -> r\n",
    "  to   :: r -> d\n",
    "  \n",
    "instance GenericFD (List' a) (RList a) where\n",
    "  from Nil'            = L U\n",
    "  from (Cons' x xs)    = R (Combo x xs)\n",
    "  to (L U)             = Nil'\n",
    "  to (R (Combo x xs))  = (Cons' x xs)\n",
    "\n",
    "\n",
    "from (Cons' \"1\" Nil')"
   ]
  },
  {
   "cell_type": "markdown",
   "metadata": {},
   "source": [
    "## Associated Type Synonyms\n",
    "To get from functional dependencies to Associated types, we first observe that `GenericFD d r` doesn't actually need two parameters since `r` is uniquely determined by `d`."
   ]
  },
  {
   "cell_type": "code",
   "execution_count": 14,
   "metadata": {},
   "outputs": [],
   "source": [
    ":ext TypeFamilies\n",
    "\n",
    "class GenericA d where\n",
    "  type Rep d :: *\n",
    "  \n",
    "  fromA :: d -> Rep d\n",
    "  toA   :: Rep d -> d"
   ]
  },
  {
   "cell_type": "markdown",
   "metadata": {},
   "source": [
    "`Rep` is a type function (or 'type family', or 'associated type'). In contrast to functional dependencies, associated type synonyms make the type function explicit.\n",
    "\n",
    "The generic functions `fromA` and `toA` are indexed against types that are themselves indexed by types! In this way, associated type synonyms extend type-classes by allowing for type-indexed behavior.\n",
    "\n",
    "The type-class instance needs to specify a value for the type function `Rep`, that is, the instance mixes type functions with type-class functions."
   ]
  },
  {
   "cell_type": "code",
   "execution_count": 16,
   "metadata": {},
   "outputs": [
    {
     "data": {
      "text/plain": [
       "R (Combo 4 (Cons' 3 Nil'))"
      ]
     },
     "metadata": {},
     "output_type": "display_data"
    }
   ],
   "source": [
    "instance GenericA (List' a) where\n",
    "  type Rep (List' a) = RList a\n",
    "  \n",
    "  fromA Nil' = L U\n",
    "  fromA (Cons' x xs) = R (Combo x xs)\n",
    "  toA (L U) = Nil'\n",
    "  toA (R (Combo x xs)) = Cons' x xs\n",
    "  \n",
    "fromA (Cons' 4 (Cons' 3 Nil'))"
   ]
  },
  {
   "cell_type": "markdown",
   "metadata": {},
   "source": [
    "Here are the benefits of Associated types over Functional dependencies:\n",
    "\n",
    "- The type functions are explicit, contrary to the implicit relations of FD\n",
    "- Type functions allow us to reduce the number of parameters to a type class\n",
    "- Type functions are more idiomatically functional than relational-style FD"
   ]
  },
  {
   "cell_type": "markdown",
   "metadata": {},
   "source": [
    "## Type (synonym) Families\n",
    "Associated types were subsumed by Type Families. Whereas Associated types are a special kind of type family where we attach a type function to a class, we can instead have top-level type families that are not associated with a class."
   ]
  },
  {
   "cell_type": "code",
   "execution_count": 18,
   "metadata": {},
   "outputs": [],
   "source": [
    "type family RepF d\n",
    "type instance RepF (List' a) = RList a"
   ]
  },
  {
   "cell_type": "markdown",
   "metadata": {},
   "source": [
    "A type family represents a set of types, and each instance represents a set member."
   ]
  },
  {
   "cell_type": "code",
   "execution_count": 19,
   "metadata": {},
   "outputs": [
    {
     "data": {
      "text/plain": [
       "R (Combo 4 (Cons' 2 Nil'))"
      ]
     },
     "metadata": {},
     "output_type": "display_data"
    }
   ],
   "source": [
    "class GenericF d where\n",
    "  fromF :: d -> RepF d\n",
    "  toF   :: RepF d -> d\n",
    "  \n",
    "instance GenericF (List' a) where\n",
    "  fromF (Nil') = L U\n",
    "  fromF (Cons' x xs) = R (Combo x xs)\n",
    "  toF (L U) = Nil'\n",
    "  toF (R (Combo x xs)) = Cons' x xs\n",
    "  \n",
    "fromF $ Cons' 4 $ Cons' 2 Nil'"
   ]
  },
  {
   "cell_type": "markdown",
   "metadata": {},
   "source": [
    "With associated types, we need to align the type function parameters with those of the type-class. Top-level type families don't have that restriction and are therefore more general than associated types. The fundamental difference between top­level and associated type families is in the scope of the type function."
   ]
  },
  {
   "cell_type": "code",
   "execution_count": null,
   "metadata": {},
   "outputs": [],
   "source": []
  }
 ],
 "metadata": {
  "kernelspec": {
   "display_name": "Haskell",
   "language": "haskell",
   "name": "haskell"
  },
  "language_info": {
   "codemirror_mode": "ihaskell",
   "file_extension": ".hs",
   "name": "haskell",
   "version": "8.2.2"
  }
 },
 "nbformat": 4,
 "nbformat_minor": 2
}
