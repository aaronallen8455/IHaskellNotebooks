{
 "cells": [
  {
   "cell_type": "markdown",
   "metadata": {},
   "source": [
    "# Lenses and Prisms\n",
    "(https://blog.jle.im/entry/lenses-products-prisms-sums.html)\n",
    "\n",
    "Here is the definition of a `Lens'`"
   ]
  },
  {
   "cell_type": "code",
   "execution_count": 6,
   "metadata": {},
   "outputs": [],
   "source": [
    ":ext ExistentialQuantification\n",
    ":ext RecordWildCards\n",
    "\n",
    "import Data.Bifunctor (first)\n",
    "\n",
    "data Lens' s a = forall q. Lens'\n",
    "  { split :: s -> (a, q)\n",
    "  , unsplit :: (a, q) -> s \n",
    "  }\n",
    "  \n",
    "-- let's use it to implement the lens api\n",
    "view :: Lens' s a -> (s -> a)\n",
    "view Lens'{..} = fst . split\n",
    "\n",
    "set :: Lens' s a -> (s -> a -> s)\n",
    "set Lens'{..} x v = let (_, q) = split x in unsplit (v, q)\n",
    "\n",
    "overL :: Lens' s a -> (a -> a) -> (s -> s)\n",
    "overL Lens'{..} f = unsplit . first f . split"
   ]
  },
  {
   "cell_type": "markdown",
   "metadata": {},
   "source": [
    "A simple product type that we can write a lenses for"
   ]
  },
  {
   "cell_type": "code",
   "execution_count": 30,
   "metadata": {},
   "outputs": [
    {
     "data": {
      "text/plain": [
       "\"Bob\""
      ]
     },
     "metadata": {},
     "output_type": "display_data"
    },
    {
     "data": {
      "text/plain": [
       "P {_pName = \"Terry\", _pAge = 40}"
      ]
     },
     "metadata": {},
     "output_type": "display_data"
    }
   ],
   "source": [
    "data Person = P\n",
    "  { _pName :: String\n",
    "  , _pAge :: Int\n",
    "  } deriving Show\n",
    "  \n",
    "pName = Lens'\n",
    "  { split = \\(P n a) -> (n, a)\n",
    "  , unsplit = uncurry P\n",
    "  }\n",
    "\n",
    "pAge = Lens'\n",
    "  { split = \\(P n a) -> (a, n)\n",
    "  , unsplit = uncurry $ flip P\n",
    "  }\n",
    "  \n",
    "view pName $ P \"Bob\" 40\n",
    "set pName (P \"Bob\" 40) \"Terry\""
   ]
  },
  {
   "cell_type": "markdown",
   "metadata": {},
   "source": [
    "This is to demonstrate that a `Lens` is a witness to one side of a product. If the product is `(a, b)`, then we have two lenses."
   ]
  },
  {
   "cell_type": "markdown",
   "metadata": {},
   "source": [
    "Prisms are like Lenses except they represent a Sum rather than a Product"
   ]
  },
  {
   "cell_type": "code",
   "execution_count": 8,
   "metadata": {},
   "outputs": [
    {
     "data": {
      "text/plain": [
       "Just 30.0"
      ]
     },
     "metadata": {},
     "output_type": "display_data"
    }
   ],
   "source": [
    ":ext LambdaCase\n",
    "\n",
    "import Numeric.Natural\n",
    "\n",
    "data Prism' s a = forall q. Prism'\n",
    "  { match :: s -> Either a q\n",
    "  , inject :: Either a q -> s\n",
    "  }\n",
    "  \n",
    "-- implement the prism api\n",
    "preview :: Prism' s a -> s -> Maybe a\n",
    "preview Prism'{..} x = case match x of\n",
    "  Left a -> Just a\n",
    "  _ -> Nothing\n",
    "  \n",
    "review :: Prism' s a -> (a -> s)\n",
    "review Prism'{..} = inject . Left\n",
    "\n",
    "overP :: Prism' s a -> (a -> a) -> (s -> s)\n",
    "overP Prism'{..} f = inject . first f . match\n",
    "\n",
    "data Shape = Circle Double\n",
    "           | RegPoly Natural Double\n",
    "           \n",
    "_Circle = Prism'\n",
    "  { match = \\case\n",
    "      Circle r -> Left r\n",
    "      RegPoly s l -> Right (s, l)\n",
    "  , inject = \\case\n",
    "      Left r -> Circle r\n",
    "      Right (s, l) -> RegPoly s l\n",
    "  }\n",
    "  \n",
    "_Prism = Prism'\n",
    "  { match = \\case\n",
    "      RegPoly s l -> Left (s, l)\n",
    "      Circle r -> Right r\n",
    "  , inject = \\case\n",
    "      Left (s, l) -> RegPoly s l\n",
    "      Right r -> Circle r\n",
    "  }\n",
    "  \n",
    "preview _Circle $ Circle 30"
   ]
  },
  {
   "cell_type": "markdown",
   "metadata": {},
   "source": [
    "## Creating Lenses in the Style of the Lens Library\n",
    "In the book \"Haskell Cookbook\" there is chapter on lenses that seems to be more in line with the `Lens` package itself. Is the difference that this is more general than the tuple based reprsentation above?"
   ]
  },
  {
   "cell_type": "code",
   "execution_count": 1,
   "metadata": {},
   "outputs": [],
   "source": [
    "-- a simple type to test on\n",
    "data Point = Point Double Double deriving Show"
   ]
  },
  {
   "cell_type": "markdown",
   "metadata": {},
   "source": [
    "Now we define the types for our getter and setter functions. Getter takes a structure `s` and returns a property of it `a`.\n",
    "\n",
    "Setter takes a structure `s` and a replacement property `b` and returns a `t` which is a modified structure containing property `b`."
   ]
  },
  {
   "cell_type": "code",
   "execution_count": 2,
   "metadata": {},
   "outputs": [],
   "source": [
    "type Getter s a = s -> a\n",
    "type Setter s b t = s -> b -> t"
   ]
  },
  {
   "cell_type": "markdown",
   "metadata": {},
   "source": [
    "Now we want to combine `Getter` and `Setter` into a single unified type"
   ]
  },
  {
   "cell_type": "code",
   "execution_count": 9,
   "metadata": {},
   "outputs": [],
   "source": [
    ":ext RankNTypes\n",
    "\n",
    "type Lens s t a b = forall f. Functor f => (a -> f b) -> s -> f t"
   ]
  },
  {
   "cell_type": "markdown",
   "metadata": {},
   "source": [
    "This is a Rank 2 type because it's for all functors `f` and `f` is not found on the left side.\n",
    "\n",
    "This type signature is difficult to understand. Let's see how we construct a member."
   ]
  },
  {
   "cell_type": "code",
   "execution_count": 29,
   "metadata": {},
   "outputs": [],
   "source": [
    "lens :: Getter s a -> Setter s b t -> Lens s t a b\n",
    "lens getter setter f s = fmap (setter s) . f $ getter s"
   ]
  },
  {
   "cell_type": "markdown",
   "metadata": {},
   "source": [
    "We just need a function `f` which is of type `a -> f b` meaning it takes some component `a` of `s`, morphs it to a `b` inside of some functor `f`.\n",
    "\n",
    "Then fmapping our partially applied Setter gives us `f t`\n",
    "\n",
    "Now we will define lenses for our `Point` type. Since we are not changing the data structure at all, we will use a simplified definition of `Lens`."
   ]
  },
  {
   "cell_type": "code",
   "execution_count": 17,
   "metadata": {},
   "outputs": [],
   "source": [
    "type Lens' s a = Lens s s a a\n",
    "\n",
    "x :: Lens' Point Double\n",
    "x = lens getter setter where\n",
    "  getter (Point xv _) = xv\n",
    "  setter (Point _ yv) xv = Point xv yv\n",
    "  \n",
    "y :: Lens' Point Double\n",
    "y = lens getter setter where\n",
    "  getter (Point _ yv) = yv\n",
    "  setter (Point xv _) yv = Point xv yv"
   ]
  },
  {
   "cell_type": "markdown",
   "metadata": {},
   "source": [
    "So to use these lenses we would need to have an `a -> f b` as well as the `Point`. But what should the `f` be? Let's define a const functor for this purpose"
   ]
  },
  {
   "cell_type": "code",
   "execution_count": 50,
   "metadata": {},
   "outputs": [
    {
     "data": {
      "text/html": [
       "<style>/* Styles used for the Hoogle display in the pager */\n",
       ".hoogle-doc {\n",
       "display: block;\n",
       "padding-bottom: 1.3em;\n",
       "padding-left: 0.4em;\n",
       "}\n",
       ".hoogle-code {\n",
       "display: block;\n",
       "font-family: monospace;\n",
       "white-space: pre;\n",
       "}\n",
       ".hoogle-text {\n",
       "display: block;\n",
       "}\n",
       ".hoogle-name {\n",
       "color: green;\n",
       "font-weight: bold;\n",
       "}\n",
       ".hoogle-head {\n",
       "font-weight: bold;\n",
       "}\n",
       ".hoogle-sub {\n",
       "display: block;\n",
       "margin-left: 0.4em;\n",
       "}\n",
       ".hoogle-package {\n",
       "font-weight: bold;\n",
       "font-style: italic;\n",
       "}\n",
       ".hoogle-module {\n",
       "font-weight: bold;\n",
       "}\n",
       ".hoogle-class {\n",
       "font-weight: bold;\n",
       "}\n",
       ".get-type {\n",
       "color: green;\n",
       "font-weight: bold;\n",
       "font-family: monospace;\n",
       "display: block;\n",
       "white-space: pre-wrap;\n",
       "}\n",
       ".show-type {\n",
       "color: green;\n",
       "font-weight: bold;\n",
       "font-family: monospace;\n",
       "margin-left: 1em;\n",
       "}\n",
       ".mono {\n",
       "font-family: monospace;\n",
       "display: block;\n",
       "}\n",
       ".err-msg {\n",
       "color: red;\n",
       "font-style: italic;\n",
       "font-family: monospace;\n",
       "white-space: pre;\n",
       "display: block;\n",
       "}\n",
       "#unshowable {\n",
       "color: red;\n",
       "font-weight: bold;\n",
       "}\n",
       ".err-msg.in.collapse {\n",
       "padding-top: 0.7em;\n",
       "}\n",
       ".highlight-code {\n",
       "white-space: pre;\n",
       "font-family: monospace;\n",
       "}\n",
       ".suggestion-warning { \n",
       "font-weight: bold;\n",
       "color: rgb(200, 130, 0);\n",
       "}\n",
       ".suggestion-error { \n",
       "font-weight: bold;\n",
       "color: red;\n",
       "}\n",
       ".suggestion-name {\n",
       "font-weight: bold;\n",
       "}\n",
       "</style><span class='get-type'>Access :: forall a s. a -> Access a s</span>"
      ],
      "text/plain": [
       "Access :: forall a s. a -> Access a s"
      ]
     },
     "metadata": {},
     "output_type": "display_data"
    }
   ],
   "source": [
    ":ext DeriveFunctor\n",
    ":ext StandaloneDeriving\n",
    "\n",
    "newtype Access a s = Access { access :: a } deriving Show\n",
    "deriving instance Functor (Access a)\n",
    "\n",
    ":t Access"
   ]
  },
  {
   "cell_type": "markdown",
   "metadata": {},
   "source": [
    "This provides us with the type of the first argument to a Lens (`a -> f b`). Let's now write a function that gets a field given a lens and a data structure. Notice that since `Access a s` is functorial in `s`, fmapping on it does nothing to the contained `a` because `s` is used as a phantom type. This means that the `fmap (Setter s)` that gets applied will have no effect which is exactly what we want for our `view` function."
   ]
  },
  {
   "cell_type": "code",
   "execution_count": 51,
   "metadata": {},
   "outputs": [
    {
     "data": {
      "text/plain": [
       "2.0"
      ]
     },
     "metadata": {},
     "output_type": "display_data"
    },
    {
     "data": {
      "text/plain": [
       "Access {access = 2}"
      ]
     },
     "metadata": {},
     "output_type": "display_data"
    },
    {
     "data": {
      "text/plain": [
       "Access {access = 2}"
      ]
     },
     "metadata": {},
     "output_type": "display_data"
    }
   ],
   "source": [
    "view :: Lens' s a -> s -> a\n",
    "view l = access . l Access\n",
    "\n",
    "let pt = Point 2 3\n",
    "view x pt\n",
    "\n",
    "fmap (7:) $ Access 2\n",
    "fmap (+4) $ Access 2"
   ]
  },
  {
   "cell_type": "markdown",
   "metadata": {},
   "source": [
    "The way this works is that, having been supplied with `a -> f b`, the `Lens'` then consumes the `Point`. It first invokes the getter on the point which produces the value `2.0`. This gets fed into `Access`, so we now have `(Access 2.0)` of type `Access Double Point`. Then `Setter s` is fmapped in, which does not affect the `a` that `Access` is holding since the functor instance is over `Access a`, the `s` in `Access a s` is effectively a phantom type. Fmapping over `Access a s` does nothing, this is why we call it a Const Functor.\n",
    "\n",
    "Similiarly, let's define a generic function for setting a field using an Identity functor."
   ]
  },
  {
   "cell_type": "code",
   "execution_count": 47,
   "metadata": {},
   "outputs": [
    {
     "data": {
      "text/plain": [
       "Point 5.0 3.0"
      ]
     },
     "metadata": {},
     "output_type": "display_data"
    }
   ],
   "source": [
    "newtype Binder a = Binder { bound :: a } deriving Functor\n",
    "\n",
    "set :: Lens' s a -> a -> s -> s\n",
    "set l d = bound . l (const (Binder d))\n",
    "\n",
    "set x 5 pt"
   ]
  },
  {
   "cell_type": "markdown",
   "metadata": {},
   "source": [
    "It makes sense that we have `const (Binder d)` for `f` instead of just `Binder` (like in `view`) because the result from the `getter` within the lens is discarded and `f` passes along the `Binder d` which then has the `setter` applied to it via fmap. This time,`Binder` is not a Const Functor, the setter function is applied to it's contents, which is the `Point`."
   ]
  },
  {
   "cell_type": "markdown",
   "metadata": {},
   "source": [
    "## Creating Prisms in the Style of Control.Lens.Prism"
   ]
  },
  {
   "cell_type": "code",
   "execution_count": 6,
   "metadata": {},
   "outputs": [],
   "source": [
    "-- a sum type we will write prisms for\n",
    "data Tree a = Leaf a | Branch (Tree a) a (Tree a)"
   ]
  },
  {
   "cell_type": "markdown",
   "metadata": {},
   "source": [
    "Now we need the machinery for the `Prism` type"
   ]
  },
  {
   "cell_type": "code",
   "execution_count": 16,
   "metadata": {},
   "outputs": [],
   "source": [
    ":ext RankNTypes\n",
    ":ext KindSignatures\n",
    "\n",
    ":m Data.Either\n",
    "\n",
    "class Profunctor p where\n",
    "  dimap :: (c -> a) -> (b -> d) -> p a b -> p c d\n",
    "  dimap f g = lmap f . rmap g\n",
    "  \n",
    "  lmap :: (c -> a) -> p a b -> p c b\n",
    "  lmap f = dimap f id\n",
    "  \n",
    "  rmap :: (b -> d) -> p a b -> p a d\n",
    "  rmap g = dimap id g\n",
    "\n",
    "class Profunctor p => Choice (p :: * -> * -> *) where\n",
    "  left' :: p a b -> p (Either a c) (Either b c)\n",
    "  right' :: p a b -> p (Either c a) (Either c b)  \n",
    "\n",
    "type Prism s t a b = forall p f. (Choice p, Applicative f) => p a (f b) -> p s (f t)\n",
    "\n",
    "-- less general prism which does not modify the underlying data type\n",
    "type Prism' s a = Prism s s a a\n",
    "\n",
    "-- functions for getting or setting a component within a sum type\n",
    "type PSetter b t = b -> t\n",
    "type PGetter s t a = s -> Either t a -- for Prism' this can be Maybe instead of Either\n",
    "\n",
    "prism :: PSetter b t -> PGetter s t a -> Prism s t a b\n",
    "prism setter getter = dimap getter (either pure (fmap setter)) . right'\n",
    "-- note: getter is applied contravariantly here"
   ]
  },
  {
   "cell_type": "markdown",
   "metadata": {},
   "source": [
    "The `prism` function is used to construct a `Prism`. It works as follows:\n",
    "- right' from the `Choice` instance transforms the components of the profuctor into `Either`s\n",
    "- dimap first maps the getter onto the first component of the `Profunctor`, which is contravariant. So mapping `s -> Either t a` onto `p (Either t a) _` produces `p s _`.\n",
    "- dimap then maps `either pure (fmap setter)` onto the second component of the `Profunctor`. This consumes the `Either c (f b)` to produce an `f t` by relying on the `Applicative` instance of `f` to generate a useable type in the case that `Left c` is encountered or to fmap the setter over `f b` in the `Right` case. \n",
    "\n",
    "We can also define `prism'`, which uses `Maybe` instead of `Either` to produce a `Prism'`"
   ]
  },
  {
   "cell_type": "code",
   "execution_count": 18,
   "metadata": {},
   "outputs": [],
   "source": [
    "prism' :: (a -> s) -> (s -> Maybe a) -> Prism' s a\n",
    "prism' setter getter = prism setter (\\s -> maybe (Left s) Right $ getter s)"
   ]
  },
  {
   "cell_type": "markdown",
   "metadata": {},
   "source": [
    "Here we are providing a wrapper function around the getter which performs the transformation from `Maybe a` to `Either s a`.\n",
    "\n",
    "Let's write some getters and setters for our `Tree` type:\n",
    "\n",
    "TODO: Need an example that's a plain sum, not a sum that contains products."
   ]
  },
  {
   "cell_type": "code",
   "execution_count": 33,
   "metadata": {},
   "outputs": [],
   "source": [
    "getLeaf :: Tree a -> Maybe a\n",
    "getLeaf (Leaf a) = Just a\n",
    "getLeaf _ = Nothing\n",
    "\n",
    "setLeaf :: a -> Tree a\n",
    "setLeaf a = Leaf a\n",
    "\n",
    "getValue :: Tree a -> Maybe a\n",
    "getValue (Leaf a) = Just a\n",
    "getValue (Branch _ a _) = Just a\n",
    "\n",
    "setValue :: a -> Tree a\n",
    "setValue a = Leaf a\n",
    "\n",
    "getLeft :: Tree a -> Maybe (Tree a)\n",
    "getLeft (Leaf _) = Nothing\n",
    "getLeft (Branch l _ _) = Just l\n",
    "\n",
    "setLeft :: Tree a -> Tree a\n",
    "setLeft l = l--Branch l a r\n",
    "\n",
    "getRight :: Tree a -> Maybe (Tree a)\n",
    "getRight (Leaf _) = Nothing\n",
    "getRight (Branch l a r) = Just r\n",
    "\n",
    "setRight :: Tree a -> Tree a\n",
    "setRight r = r--Branch l a r\n",
    "\n",
    "treeValuePrism :: Prism' (Tree a) a\n",
    "treeValuePrism = prism' setValue getValue"
   ]
  },
  {
   "cell_type": "code",
   "execution_count": null,
   "metadata": {},
   "outputs": [],
   "source": []
  }
 ],
 "metadata": {
  "kernelspec": {
   "display_name": "Haskell",
   "language": "haskell",
   "name": "haskell"
  },
  "language_info": {
   "codemirror_mode": "ihaskell",
   "file_extension": ".hs",
   "name": "haskell",
   "pygments_lexer": "Haskell",
   "version": "8.6.3"
  }
 },
 "nbformat": 4,
 "nbformat_minor": 2
}
