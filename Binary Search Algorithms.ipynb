{
 "cells": [
  {
   "cell_type": "markdown",
   "metadata": {},
   "source": [
    "# Binary Search Algorithms\n",
    "###### as presented in \"Algorithm Design with Haskell\"\n",
    "\n",
    "Binary search is a kind of divide and conquer algorithm where each recursive step is half the size of it's caller.\n",
    "\n",
    "Given a monotonic function, say we want to find an input that produces a certain value."
   ]
  },
  {
   "cell_type": "code",
   "execution_count": 2,
   "metadata": {},
   "outputs": [],
   "source": [
    "search :: (Int -> Int) -> Int -> [Int]\n",
    "search f t = [ x | x <- [0..t], t == f x ]"
   ]
  },
  {
   "cell_type": "markdown",
   "metadata": {},
   "source": [
    "This spec uses linear search to find the answer but it's far better to do a binary search"
   ]
  },
  {
   "cell_type": "code",
   "execution_count": 3,
   "metadata": {},
   "outputs": [],
   "source": [
    "search :: (Int -> Int) -> Int -> [Int]\n",
    "search f t = seek (0, t)\n",
    "  where\n",
    "    seek (a, b) | a > b = []\n",
    "                | t < fm = seek (a, m - 1)\n",
    "                | t == fm = [m]\n",
    "                | otherwise = seek (a, m + 1)\n",
    "                where\n",
    "                  m = (a + b) `div` 2\n",
    "                  fm = f m"
   ]
  },
  {
   "cell_type": "markdown",
   "metadata": {},
   "source": [
    "The main problem here is that we are searching over far to great a bounds. For some functions, this could produce values that overflow `Int` and produce incorrect results. Not to mention the expense of calculation. There are also worst case three comparisons performed at each step, which we will also improve upon.\n",
    "\n",
    "Rather than searching over the full [0..t] range, we can find a bounded range (a, b) such that `f a < t <= f b`. Then we can search for t in the range `[a+1 .. b]`"
   ]
  },
  {
   "cell_type": "code",
   "execution_count": 15,
   "metadata": {},
   "outputs": [],
   "source": [
    "bound :: (Int -> Int) -> Int -> (Int, Int)\n",
    "bound f t = if t <= f 0\n",
    "            then (-1, 0)\n",
    "            else (b `div` 2, b)\n",
    "  where\n",
    "    b = until done (* 2) 1\n",
    "    done x = t <= f x\n",
    "    \n",
    "search :: (Int -> Int) -> Int -> [Int]\n",
    "search f t\n",
    "  | f x == t = [x]\n",
    "  | otherwise = []\n",
    "  where\n",
    "    x = smallest (bound f t) f t\n",
    "    \n",
    "smallest (a, b) f t\n",
    "  | a + 1 == b = b\n",
    "  | t <= f m = smallest (a, m) f t\n",
    "  | otherwise = smallest (m, b) f t\n",
    "  where m = (a + b) `div` 2"
   ]
  },
  {
   "cell_type": "markdown",
   "metadata": {},
   "source": [
    "### Two-dimensional Search\n",
    "\n",
    "Now instead of searching a simple range, we will search a grid. Given a monotonic function which takes two arguments, find all inputs that generate a result equal to a given value."
   ]
  },
  {
   "cell_type": "code",
   "execution_count": 10,
   "metadata": {},
   "outputs": [],
   "source": [
    "search :: (Int -> Int -> Int) -> Int -> [(Int, Int)]\n",
    "search f t = [ (x, y) | x <- [0..t], y <- [0..t], f x y == t ]"
   ]
  },
  {
   "cell_type": "markdown",
   "metadata": {},
   "source": [
    "This starts at the bottom left corner of the grid and does a linear search of both axis.\n",
    "\n",
    "Instead we will start in the top left corner and do what is known as saddle back search."
   ]
  },
  {
   "cell_type": "code",
   "execution_count": 18,
   "metadata": {},
   "outputs": [],
   "source": [
    ":ext BangPatterns\n",
    "\n",
    "search :: (Int -> Int -> Int) -> Int -> [(Int, Int)]\n",
    "search f t = searchIn (0, p)\n",
    "  where\n",
    "  searchIn (!x, !y)\n",
    "    | x > q || y < 0 = []\n",
    "    | z < t = searchIn (x + 1, y)\n",
    "    | z == t = (x, y) : searchIn (x + 1, y - 1)\n",
    "    | otherwise = searchIn (x, y - 1)\n",
    "    where z = f x y\n",
    "  p = smallest (-1, t) (\\y -> f 0 y) t\n",
    "  q = smallest (-1, t) (\\x -> f x 0) t"
   ]
  },
  {
   "cell_type": "markdown",
   "metadata": {},
   "source": [
    "We can also use a divide conquer approach where we first test the center element (like the fulcrum when doing binary search) and eliminate some quandrants based on that."
   ]
  },
  {
   "cell_type": "code",
   "execution_count": null,
   "metadata": {},
   "outputs": [],
   "source": []
  }
 ],
 "metadata": {
  "kernelspec": {
   "display_name": "Haskell",
   "language": "haskell",
   "name": "haskell"
  },
  "language_info": {
   "codemirror_mode": "ihaskell",
   "file_extension": ".hs",
   "name": "haskell",
   "pygments_lexer": "Haskell",
   "version": "8.6.3"
  }
 },
 "nbformat": 4,
 "nbformat_minor": 2
}
