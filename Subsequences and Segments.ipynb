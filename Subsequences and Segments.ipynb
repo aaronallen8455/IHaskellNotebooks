{
 "cells": [
  {
   "cell_type": "markdown",
   "id": "intellectual-cemetery",
   "metadata": {},
   "source": [
    "# Subsequences and Segments\n",
    "###### (Algorithm Design with Haskell)\n",
    "\n",
    "Subsequences are a subset of the elements in a list and segments are a contiguous subset of the elements of a list. The goal is to solve several problems involving these concepts using thinning algorithms, which are like greedy algorithms except they admit more than one candidate at each step.\n",
    "\n",
    "### The longest upsequence\n",
    "Given a sequence of elements of an ordered type, find the longest subsequence in which the elements are strictly increasing."
   ]
  },
  {
   "cell_type": "code",
   "execution_count": 4,
   "id": "looking-harmony",
   "metadata": {},
   "outputs": [],
   "source": [
    "subseq :: [a] -> [[a]]\n",
    "subseq = foldr go [[]] where\n",
    "  go x xss = xss ++ map (x:) xss\n",
    "  \n",
    "up :: Ord a => [a] -> Bool\n",
    "up xs = and $ zipWith (<) xs (tail xs)"
   ]
  },
  {
   "cell_type": "markdown",
   "id": "grateful-transport",
   "metadata": {},
   "source": [
    "The naive implementation takes exponential time because there is an exponential number of subsequences to check. (a list of n items has 2^n subsequences and n^2 + n / 2 segments)\n",
    "\n",
    "Our aim is to produce a linearithmic algorithm.\n",
    "\n",
    "The starting point is the following refinement definition\n",
    "\n",
    "`lus <- MaxWith length . filter up . subseqs`\n",
    "\n",
    "The first step is to try to fuse filter and subseqs\n",
    "\n",
    "```\n",
    "lus <- MaxWith length . foldr step [[]] where\n",
    "  step x xss = xss ++ map (x:) (filter (ok x) xss)\n",
    "  ok x xs = null xs || x < head xs\n",
    "```\n",
    "\n",
    "This way only up sequences are kept at each step.\n",
    "\n",
    "The next step is to see if a greedy solution is possible. It is not because there could be a better solution that arises from not just taking the next least item and discarding others. `ab` is the lus of `xab` but `uvwxab` has `uvwx` as the lus, so x should not be discarded. Nor is a greedy solution possible when traversing the list from left to right.\n",
    "\n",
    "Since there is no greedy solution, we want to introduce a thinning step.\n",
    "\n",
    "```\n",
    "lus <- MaxWith length . ThinBy thin . foldr step [[]]\n",
    "```\n",
    "\n",
    "Where it must be that `thin xs ys => length xs >= length ys`\n",
    "\n",
    "A candidate is clearly better than another if it is no shorter and it's first element, if it exists, is larger. We also want to be sure to keep the empty list as a candidate."
   ]
  },
  {
   "cell_type": "code",
   "execution_count": 5,
   "id": "complete-chinese",
   "metadata": {},
   "outputs": [],
   "source": [
    "thin :: Ord a => [a] -> [a] -> Bool\n",
    "thin [] [] = True\n",
    "thin [] _ = False\n",
    "thin _ [] = False\n",
    "thin (x:xs) (y:ys) = x >= y && length xs >= length ys"
   ]
  },
  {
   "cell_type": "markdown",
   "id": "immune-pension",
   "metadata": {},
   "source": [
    "Now we want to fuse `ThinBy thin` with `foldr step [[]]`\n",
    "\n",
    "After some swizzling, we end us with this refinement\n",
    "\n",
    "```\n",
    "tstep x xss = thinBy thin (step x xss)\n",
    "foldr tstep [[]] <- ThinBy thin . foldr step [[]]\n",
    "lus <- MaxWith lenght . foldr tstep [[]]\n",
    "```\n",
    "\n",
    "The thinning process is made more efficient by keeping the candidates in increasing order of length using `mergeBy`."
   ]
  },
  {
   "cell_type": "code",
   "execution_count": 11,
   "id": "looking-bundle",
   "metadata": {},
   "outputs": [],
   "source": [
    "thinBy :: (a -> a -> Bool) -> [a] -> [a]\n",
    "thinBy f = foldr go [] where\n",
    "  go x (y:xs) | f x y = x : xs\n",
    "              | f y x = y : xs\n",
    "              | otherwise = x : y : xs     \n",
    "  go x [] = [x]\n",
    "  \n",
    "mergeBy :: (a -> a -> Bool) -> [a] -> [a] -> [a]\n",
    "mergeBy _ xs [] = xs\n",
    "mergeBy _ [] ys = ys\n",
    "mergeBy f (x:xs) (y:ys)\n",
    "  | f x y = x : mergeBy f xs (y:ys)\n",
    "  | otherwise = y : mergeBy f (x:xs) ys\n",
    "  \n",
    "lus = last . foldr tstep [[]]\n",
    "tstep x xss = thinBy thin $ mergeBy cmp xss yss where\n",
    "  yss = map (x:) (filter (ok x) xss)\n",
    "  cmp xs ys = length xs >= length ys\n",
    "  ok x [] = True\n",
    "  ok x (y:_) = x < y"
   ]
  },
  {
   "cell_type": "markdown",
   "id": "sought-projector",
   "metadata": {},
   "source": [
    "Ignoring length calculation, this takes `O(nr)` steps where n is the length of the input and r is the length of the longest up sequence. At most r + 1 upsequences are kept in play at each stage and these can be updated in O(r) steps.\n",
    "\n",
    "The path to further optimisation is to observe that the action of `tstep` is always finding a position in the list of candidates where `x` is less than the head of one candidate and <= the head of the next candidate, then we remove the 2nd candidate, replacing it with the `x:` the first candidate. If there is no such position, then x:xs is added to the end of the list.\n",
    "\n",
    "To do this efficiently, we must be able to search for the position in the list where this condition occurrs. This involves using a binary search tree for the candidates rather than a list - not shown here."
   ]
  },
  {
   "cell_type": "code",
   "execution_count": 12,
   "id": "satisfied-approval",
   "metadata": {},
   "outputs": [],
   "source": [
    "tstep x ([]:xss) = [] : search x [] xss where\n",
    "  search x xs [] = [x:xs]\n",
    "  search x xs (ys:xss)\n",
    "    | head ys > x = ys : search x ys xss\n",
    "    | otherwise = (x:xs):xss"
   ]
  },
  {
   "cell_type": "markdown",
   "id": "liable-procurement",
   "metadata": {},
   "source": [
    "This version finds the insertion point by linear search.\n",
    "\n",
    "### The longest common subsequence\n",
    "\n",
    "Given two input sequences, find the longest sequence that is a subsequence of both inputs.\n",
    "\n",
    "Our initial refinement is\n",
    "```\n",
    "lcs <- MaxWith length . filter (sub xs) . subseq\n",
    "```"
   ]
  },
  {
   "cell_type": "code",
   "execution_count": 17,
   "id": "direct-antenna",
   "metadata": {},
   "outputs": [],
   "source": [
    "sub :: Eq a => [a] -> [a] -> Bool\n",
    "sub _ [] = True\n",
    "sub (x:xs) (y:ys) | x == y = sub xs ys\n",
    "                  | otherwise = sub (x:xs) ys\n",
    "sub [] _ = False"
   ]
  },
  {
   "cell_type": "markdown",
   "id": "classical-joyce",
   "metadata": {},
   "source": [
    "First we look to fuse `filter (sub xs)` with `subseq`. The result is that we filter at each step to maintain a smaller pool of candidates rather than filtering at the end over a huge set."
   ]
  },
  {
   "cell_type": "code",
   "execution_count": 18,
   "id": "final-bathroom",
   "metadata": {},
   "outputs": [],
   "source": [
    "step :: Eq a => [a] -> a -> [[a]] -> [[a]]\n",
    "step xs y yss = yss ++ filter (sub xs) (map (y:) yss)"
   ]
  },
  {
   "cell_type": "markdown",
   "id": "varied-equipment",
   "metadata": {},
   "source": [
    "We now decide whether a greedy approach is possible. It is not because we are not able to discard all candidates except one at each step - the optimal solution may appear to be suboptimal until the very end.\n",
    "\n",
    "Therefore we introduce a thinning step.\n",
    "\n",
    "```\n",
    "lcs <- MinWith length . ThinBy thin . foldr step [[]]\n",
    "```\n",
    "\n",
    "A candidate is strictly better than another if the length is at least as large and the starting position in `xs` is greater."
   ]
  },
  {
   "cell_type": "code",
   "execution_count": 40,
   "id": "micro-williams",
   "metadata": {},
   "outputs": [],
   "source": [
    "position :: Eq a => [a] -> [a] -> Int\n",
    "position xs ys = help (length xs) (reverse xs) (reverse ys) where\n",
    "  help i _ [] = i\n",
    "  help _ [] _ = -1\n",
    "  help i (x:xs) (y:ys) = help (pred $! i) xs $ if x == y then ys else y:ys\n",
    "  \n",
    "thin :: Eq a => [a] -> [a] -> [a] -> Bool\n",
    "thin xs ys zs = length ys >= length zs && position xs ys >= position xs zs"
   ]
  },
  {
   "cell_type": "markdown",
   "id": "aggressive-lotus",
   "metadata": {},
   "source": [
    "Our next objective is to fuse `thinBy thin` with `foldr step [[]]`."
   ]
  },
  {
   "cell_type": "code",
   "execution_count": 45,
   "id": "emerging-tourism",
   "metadata": {},
   "outputs": [],
   "source": [
    "tstep :: Eq a => [a] -> a -> [[a]] -> [[a]]\n",
    "tstep xs y yss = thinBy (thin xs) $ mergeBy cmp zss yss\n",
    " where\n",
    " zss = dropWhile negpos $ map (y:) yss\n",
    " negpos ys = position xs ys < 0\n",
    " cmp ys zs = position xs ys <= position xs zs"
   ]
  },
  {
   "cell_type": "markdown",
   "id": "beginning-flour",
   "metadata": {},
   "source": [
    "We keep the candidates in order of increasing position and therefore decreasing length.\n",
    "\n",
    "The next optimisation is to cache the position, length, and leading portion of each candidate"
   ]
  },
  {
   "cell_type": "code",
   "execution_count": 50,
   "id": "significant-round",
   "metadata": {},
   "outputs": [
    {
     "data": {
      "text/plain": [
       "\"def\""
      ]
     },
     "metadata": {},
     "output_type": "display_data"
    }
   ],
   "source": [
    "ext (_, _, _, x) = x\n",
    "psn (x, _, _, _) = x\n",
    "lng (_, x, _, _) = x\n",
    "\n",
    "cons x (p,k,ws,us) = (p - 1 - length as, k + 1, tail bs, x : us) where\n",
    " (as, bs) = span (/= x) ws\n",
    " \n",
    "lcs :: Eq a => [a] -> [a] -> [a]\n",
    "lcs xs = ext . head . foldr tstep start where\n",
    "  start = [(length xs, 0, reverse xs, [])]\n",
    "  tstep y yss = thinBy thin $ mergeBy cmp zss yss where\n",
    "    zss = dropWhile ((< 0) . psn) $ map (cons y) yss\n",
    "  thin a b = lng a >= lng b && psn a >= psn b\n",
    "  cmp a b = psn a <= psn b\n",
    "  \n",
    "lcs \"abcdef\" \"1dbbe32f\""
   ]
  },
  {
   "cell_type": "markdown",
   "id": "removable-respondent",
   "metadata": {},
   "source": [
    "This algorithm takes O(mn) where m and n are the lengths of the input lists.\n",
    "\n",
    "### A short segment with maximum sum\n",
    "\n",
    "Given a list of positive and negative integers, find a segment with maximum sum that is no longer than a specified length.\n",
    "\n",
    "```\n",
    "mss b <- MaxWith sum . filter (short b) . segments \n",
    "```"
   ]
  },
  {
   "cell_type": "code",
   "execution_count": 55,
   "id": "flush-aruba",
   "metadata": {},
   "outputs": [],
   "source": [
    "import Data.List\n",
    "\n",
    "short :: Int -> [a] -> Bool\n",
    "short x = (<= x) . length\n",
    "\n",
    "segments :: [a] -> [[a]]\n",
    "segments = concatMap inits . tails"
   ]
  },
  {
   "cell_type": "markdown",
   "id": "heavy-macedonia",
   "metadata": {},
   "source": [
    "We can reason about the spec equationally as follows\n",
    "```\n",
    "  MaxWith sum . filter (short b) . segments\n",
    "= {definition of segments}\n",
    "  MaxWith sum . filter (short b) . concatMap inits . tails\n",
    "= {since filter p . concat = concat . map (filter p)}\n",
    "  MaxWith sum . concatMap (filter (short b) . inits) . tails\n",
    "= {distributive law}\n",
    "  MaxWith sum . map (MaxWith sum . filter (short b) . inits) . tails\n",
    "-> {with msp b <- MaxWith sum . filter (short b) . inits}\n",
    "  MaxWith sum . map (msp b) . tails\n",
    "```\n",
    "The form of `mss` suggests an appeal to the Scan Lemma, which is an important tool when dealing problems involving segments.\n",
    "```\n",
    "map (foldr op e) . tails = scanr op e\n",
    "```\n",
    "If we can express `msp` as an instance of `foldr` then we can apply the Scan Lemma. There is no obvious solution to this so instead proceed with the usual thinning strategy and try to fuse `filter (short b)` with `inits`.\n",
    "\n",
    "```\n",
    "msp b <- MaxWith sum . foldr op [[]] where\n",
    "  op x xss = [] : take b (map (x:) xss)\n",
    "```\n",
    "Next we introduce thinning\n",
    "```\n",
    "msp b <- MaxWith sum . ThinBy thin . foldr op [[]]\n",
    "```"
   ]
  },
  {
   "cell_type": "code",
   "execution_count": 58,
   "id": "dynamic-mirror",
   "metadata": {},
   "outputs": [],
   "source": [
    "thin :: (Num a, Ord a) => [a] -> [a] -> Bool\n",
    "thin xs ys = sum xs >= sum ys && length xs <= length ys"
   ]
  },
  {
   "cell_type": "markdown",
   "id": "demographic-issue",
   "metadata": {},
   "source": [
    "The next step is to use fusion again to thin at each step rather than once at the end."
   ]
  },
  {
   "cell_type": "code",
   "execution_count": 71,
   "id": "executed-warren",
   "metadata": {},
   "outputs": [],
   "source": [
    "msp :: (Num a, Ord a) => Int -> [a] -> [a]\n",
    "msp b = last . foldr (op b) [[]]\n",
    "op b x xss = [] : thin (map (x:) (cut xss)) where\n",
    "  thin = dropWhile ((<= 0) . sum)\n",
    "  cut xss' = if length (last xss') == b then init xss' else xss'"
   ]
  },
  {
   "cell_type": "markdown",
   "id": "celtic-skill",
   "metadata": {},
   "source": [
    "We cut from the end of the list to keep the prefixes short and thin from the front to remove non-maximal sums."
   ]
  },
  {
   "cell_type": "code",
   "execution_count": 89,
   "id": "changed-president",
   "metadata": {},
   "outputs": [
    {
     "data": {
      "text/plain": [
       "[2,3]"
      ]
     },
     "metadata": {},
     "output_type": "display_data"
    }
   ],
   "source": [
    "import Data.Ord\n",
    "\n",
    "maxWith :: Ord b => (a -> b) -> [a] -> a\n",
    "maxWith = maximumBy . comparing\n",
    "\n",
    "mss :: (Num a, Ord a) => Int -> [a] -> [a]\n",
    "mss b = maxWith sum . map last . scanr (op b) [[]]\n",
    "\n",
    "mss 2 [1,2,3]"
   ]
  },
  {
   "cell_type": "markdown",
   "id": "maritime-provincial",
   "metadata": {},
   "source": [
    "Further optimisation comes from the fact that are candidates share suffixes and as a result `op` is inefficient due to `map`ping. Instead we can represent the candidates as the differences - repeated suffixes are elided\n",
    "\n",
    "We can define a function that goes from this compact representation to the normal one:\n",
    "```\n",
    "abs :: [[a]] -> [[a]]\n",
    "abs = scanl (++) []\n",
    "```\n",
    "To effect this change we need a function, `opR`, so that\n",
    "```\n",
    "abst (opR b x xss) = op b x (abst xss)\n",
    "```\n",
    "Then by the fusion law of `foldr`, we have\n",
    "```\n",
    "abst . foldr (opR b) [] = foldr (op b) [[]]\n",
    "```\n",
    "Here we are applying the fusion law in the fission direction to split the fold on the right into two functions.\n",
    "To define `opR` we need `cutR` and `thinR`"
   ]
  },
  {
   "cell_type": "code",
   "execution_count": 94,
   "id": "hindu-latvia",
   "metadata": {},
   "outputs": [
    {
     "data": {
      "text/plain": [
       "[2,-1,3]"
      ]
     },
     "metadata": {},
     "output_type": "display_data"
    }
   ],
   "source": [
    "cutR :: Int -> [[a]] -> [[a]]\n",
    "cutR b xss = if length (concat xss) == b then init xss else xss\n",
    "\n",
    "thinR :: (Ord a, Num a) => a -> [[a]] -> [[a]]\n",
    "thinR x xss = add [x] xss where\n",
    "  add xs xss\n",
    "    | sum xs > 0 = xs : xss\n",
    "    | xs':xss' <- xss\n",
    "    = add (xs ++ xs') xss'\n",
    "    | otherwise = []\n",
    "    \n",
    "opR :: (Ord a, Num a) => Int -> a -> [[a]] -> [[a]]\n",
    "opR b x = thinR x . cutR b\n",
    "\n",
    "mss :: (Ord a, Num a) => Int -> [a] -> [a]\n",
    "mss b = maxWith sum . map concat . scanr (opR b) []\n",
    "\n",
    "mss 3 [1,2,-1,3]"
   ]
  },
  {
   "cell_type": "markdown",
   "id": "stable-thriller",
   "metadata": {},
   "source": [
    "The final step would be to make sure all the `++`, length, concat, init, and sum operations are efficient, which involves tupling and concatenation via function composition. This is straight forward if not tedious."
   ]
  },
  {
   "cell_type": "code",
   "execution_count": null,
   "id": "signed-consciousness",
   "metadata": {},
   "outputs": [],
   "source": []
  }
 ],
 "metadata": {
  "kernelspec": {
   "display_name": "Haskell",
   "language": "haskell",
   "name": "haskell"
  },
  "language_info": {
   "codemirror_mode": "ihaskell",
   "file_extension": ".hs",
   "mimetype": "text/x-haskell",
   "name": "haskell",
   "pygments_lexer": "Haskell",
   "version": "8.8.4"
  }
 },
 "nbformat": 4,
 "nbformat_minor": 5
}
