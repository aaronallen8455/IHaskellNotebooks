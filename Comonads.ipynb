{
 "cells": [
  {
   "cell_type": "markdown",
   "metadata": {},
   "source": [
    "# Comonad and Comonad Transformers\n",
    "Comonads are the categorical dual of monads. Whereas monads provide a computational context where we cannot 'see' into the container and only put things into it, a comonad explicity allows us to view it's contents but a way to put items into it is not provided."
   ]
  },
  {
   "cell_type": "code",
   "execution_count": 73,
   "metadata": {},
   "outputs": [],
   "source": [
    "-- side by side comparison of Monad definition and it's exact dual, Comonad\n",
    "class (Functor m, Applicative m) => Monad m where\n",
    "  return :: a -> m a\n",
    "  (>>=) :: m a -> (a -> m b) -> m b\n",
    "  bind :: (a -> m b) -> (m a -> m b) -- (=<<)\n",
    "  join :: m (m a) -> m a\n",
    "  \n",
    "class Functor w => Comonad w where\n",
    "  extract :: w a -> a\n",
    "  extend :: (w a -> b) -> (w a -> w b) -- cobind\n",
    "  duplicate :: w a -> w (w a)"
   ]
  },
  {
   "cell_type": "markdown",
   "metadata": {},
   "source": [
    "## Examples of Comonads\n",
    "Let's see some practical instances of Comonad to understand how they are useful.\n",
    "### Store - the dual of State"
   ]
  },
  {
   "cell_type": "code",
   "execution_count": 77,
   "metadata": {},
   "outputs": [],
   "source": [
    "data Store s a = Store (s -> a) s\n",
    "\n",
    "instance Functor (Store s) where\n",
    "  fmap f (Store g s) = Store (f . g) s\n",
    "  \n",
    "instance Comonad (Store s) where\n",
    "  extract (Store accessor key) = accessor key\n",
    "  extend f s = f <$> duplicate s\n",
    "  duplicate (Store f s) = Store (Store f) s"
   ]
  },
  {
   "cell_type": "markdown",
   "metadata": {},
   "source": [
    "Calling duplicate gives us a store of stores. What this means is that when we pass any key to the accessor function, we get back a store whose focus is that key.\n",
    "\n",
    "Here are the utility functions for working with `Store`"
   ]
  },
  {
   "cell_type": "code",
   "execution_count": 78,
   "metadata": {},
   "outputs": [],
   "source": [
    "-- | get the 'key' that this store is focused on\n",
    "pos :: Store s a -> s\n",
    "pos (Store f s) = s\n",
    "\n",
    "-- | replace the focused key\n",
    "seek :: s -> Store s a -> Store s a\n",
    "seek s' (Store f s) = Store f s'\n",
    "\n",
    "-- | modify the key\n",
    "seeks :: (s -> s) -> Store s a -> Store s a\n",
    "seeks f (Store g s) = Store g $ f s\n",
    "\n",
    "-- | Peek at what the value would be for a different focus (key)\n",
    "peek :: s -> Store s a -> a\n",
    "peek s (Store f _) = f s\n",
    "\n",
    "peeks :: (s -> s) -> Store s a -> a\n",
    "peeks f (Store g s) = g $ f s\n",
    "\n",
    "-- | Applies a functor-valued function to the stored value, and then uses the\n",
    "--   new accessor to read the resulting focus.\n",
    "experiment :: Functor f => (s -> f s) -> Store s a -> f a\n",
    "experiment f (Store g s) = g <$> f s"
   ]
  },
  {
   "cell_type": "markdown",
   "metadata": {},
   "source": [
    "Let's test it out with a simple store that is a mapping from an `Int` to another `Int`."
   ]
  },
  {
   "cell_type": "code",
   "execution_count": 79,
   "metadata": {},
   "outputs": [
    {
     "data": {
      "text/plain": [
       "6"
      ]
     },
     "metadata": {},
     "output_type": "display_data"
    },
    {
     "data": {
      "text/plain": [
       "9"
      ]
     },
     "metadata": {},
     "output_type": "display_data"
    },
    {
     "data": {
      "text/plain": [
       "Just 26"
      ]
     },
     "metadata": {},
     "output_type": "display_data"
    },
    {
     "data": {
      "text/plain": [
       "Nothing"
      ]
     },
     "metadata": {},
     "output_type": "display_data"
    },
    {
     "data": {
      "text/plain": [
       "6"
      ]
     },
     "metadata": {},
     "output_type": "display_data"
    },
    {
     "data": {
      "text/plain": [
       "3"
      ]
     },
     "metadata": {},
     "output_type": "display_data"
    },
    {
     "data": {
      "text/plain": [
       "3"
      ]
     },
     "metadata": {},
     "output_type": "display_data"
    }
   ],
   "source": [
    "addOne :: Store Int Int\n",
    "addOne = Store (+1) 5\n",
    "extract addOne\n",
    "peek 8 addOne\n",
    "let f x = if x > 0 then Just (x^2) else Nothing\n",
    "experiment f addOne\n",
    "addOne' = seek (-2) addOne\n",
    "experiment f addOne'\n",
    "\n",
    "test = extend extract addOne -- id\n",
    "extract test\n",
    "test2 = extend (peek 2) addOne\n",
    "extract test2\n",
    "peek 8 test2"
   ]
  },
  {
   "cell_type": "markdown",
   "metadata": {},
   "source": [
    "### Stream\n",
    "A stream can be defined using `Store`"
   ]
  },
  {
   "cell_type": "code",
   "execution_count": 90,
   "metadata": {},
   "outputs": [
    {
     "data": {
      "text/plain": [
       "1"
      ]
     },
     "metadata": {},
     "output_type": "display_data"
    },
    {
     "data": {
      "text/plain": [
       "8"
      ]
     },
     "metadata": {},
     "output_type": "display_data"
    }
   ],
   "source": [
    "stream :: Store Int Int\n",
    "stream = Store ([1,4,2,6,8] !!) 0\n",
    "extract stream\n",
    "extract $ seeks (+4) stream\n"
   ]
  },
  {
   "cell_type": "markdown",
   "metadata": {},
   "source": [
    "## Comonad Transformers\n",
    "Whereas Monad Transformers \"wrap around\" a core Monad (such as `IO`), Comonad Transformers embed a Comonad inside an outer Comonad."
   ]
  },
  {
   "cell_type": "code",
   "execution_count": 102,
   "metadata": {},
   "outputs": [
    {
     "data": {
      "text/plain": [
       "5"
      ]
     },
     "metadata": {},
     "output_type": "display_data"
    },
    {
     "data": {
      "text/plain": [
       "7"
      ]
     },
     "metadata": {},
     "output_type": "display_data"
    }
   ],
   "source": [
    "class MonadTrans t where\n",
    "  lift :: Monad m => m a -> t m a -- do something in the core monad then lift the result into the outer monad\n",
    "  \n",
    "class ComonadTrans t where\n",
    "  lower :: Comonad w => t w a -> w a\n",
    "\n",
    "-- Define a transformer for Store\n",
    "data StoreT s w a = StoreT (w (s -> a)) s\n",
    "\n",
    "instance Functor w => Functor (StoreT s w) where\n",
    "  fmap f (StoreT wf s) = StoreT (fmap (f .) wf) s\n",
    "  \n",
    "instance Comonad w => Comonad (StoreT s w) where\n",
    "  extract (StoreT wf s) = extract wf s\n",
    "  \n",
    "  -- extend :: Comonad w => (w a -> b) -> w a -> w b\n",
    "  extend f (StoreT wf s) = StoreT (extend g wf) s where\n",
    "      -- g :: Comonad w => w (s -> a) -> s -> b\n",
    "      g wf' s' = f $ StoreT wf' s'\n",
    "\n",
    "  duplicate (StoreT wf s) = StoreT (extend StoreT wf) s\n",
    "  \n",
    "instance ComonadTrans (StoreT s) where\n",
    "  lower (StoreT wf s) = fmap ($ s) wf\n",
    "  \n",
    "inner = Store (\\s -> (\\s' -> s + s')) 3\n",
    "test :: StoreT Int (Store Int) Int\n",
    "test = StoreT inner 2\n",
    "extract test\n",
    "extract $ seek 5 $ lower test"
   ]
  },
  {
   "cell_type": "markdown",
   "metadata": {},
   "source": [
    "## ListZipper and ListZipperT\n",
    "Zippers in general are an example of comonads. We focus on a part while also having full access to the whole."
   ]
  },
  {
   "cell_type": "code",
   "execution_count": 182,
   "metadata": {},
   "outputs": [],
   "source": [
    ":ext MultiParamTypeClasses\n",
    ":ext RecordWildCards\n",
    ":ext InstanceSigs\n",
    ":ext ScopedTypeVariables\n",
    ":ext TypeSynonymInstances\n",
    ":ext FlexibleInstances\n",
    "\n",
    "class Indexable m i where\n",
    "  (!) :: m a -> i -> a\n",
    "\n",
    "data ListZipper a = ListZipper { list :: [a], index :: Int } deriving Show\n",
    "\n",
    "shift :: Int -> ListZipper a -> ListZipper a\n",
    "shift i ListZipper{..} = ListZipper list index' where\n",
    "  index' = (index + i) `mod` (length list)\n",
    "\n",
    "instance Indexable ListZipper Int where\n",
    "  ListZipper{..} ! i = list !! i' where\n",
    "    i' = (index + i) `mod` length list\n",
    "    \n",
    "instance Functor ListZipper where\n",
    "  fmap f z@ListZipper{..} = z { list = fmap f list }\n",
    "  \n",
    "instance Comonad ListZipper where\n",
    "  extract z = z ! (0 :: Int)\n",
    "  -- run f on each cell, making it the focused cell\n",
    "  extend f z = z { list = list' } where\n",
    "    n = length . list $ z\n",
    "    range = take n [0..]\n",
    "    list' = map (f . flip shift z) range\n",
    "  duplicate = extend id\n",
    "  \n",
    "-- Now a transformer version of the above\n",
    "\n",
    "newtype ListZipperT w a = ListZipperT {\n",
    "    runZipperT :: w (ListZipper a)\n",
    "  }\n",
    "  \n",
    "shiftT :: Functor w => Int -> ListZipperT w a -> ListZipperT w a\n",
    "shiftT i = ListZipperT . fmap (shift i) . runZipperT\n",
    "\n",
    "instance Comonad w => Indexable (ListZipperT w) Int where\n",
    "  z ! i = xs !! i' where\n",
    "    ListZipper xs ind = extract . runZipperT $ z\n",
    "    i' = (ind + i) `mod` length xs\n",
    "  \n",
    "instance Functor w => Functor (ListZipperT w) where\n",
    "  fmap f = ListZipperT . (fmap . fmap) f . runZipperT\n",
    "  \n",
    "instance Comonad w => Comonad (ListZipperT w) where\n",
    "  extract = extract . extract . runZipperT\n",
    "  \n",
    "  extend :: forall a b. (ListZipperT w a -> b) -> ListZipperT w a -> ListZipperT w b\n",
    "  extend f = ListZipperT . extend go . runZipperT where\n",
    "    f' :: w (ListZipper a) -> b\n",
    "    f' = f . ListZipperT\n",
    "    \n",
    "    go :: w (ListZipper a) -> ListZipper b\n",
    "    go wz = ListZipper ys i where\n",
    "      ListZipper xs i = extract wz\n",
    "      \n",
    "      n = length xs\n",
    "      range = take n [0..]\n",
    "      \n",
    "      shifted_wzs :: [w (ListZipper a)]\n",
    "      shifted_wzs = map (\\j -> fmap (shift j) wz) range -- shift each ListZipper that is contained in wz\n",
    "      \n",
    "      ys :: [b]\n",
    "      ys = map f' shifted_wzs\n",
    "      \n",
    "  duplicate = extend id\n",
    "  \n",
    "instance ComonadTrans ListZipperT where\n",
    "  -- produce a comonad of the focused elements in each ListZipper from a comonad of ListZippers\n",
    "  lower = fmap extract . runZipperT\n",
    "  \n",
    "-- A 2D universe for cellular automata\n",
    "\n",
    "type ZZ a = ListZipperT ListZipper a\n",
    "\n",
    "instance Show a => Show (ZZ a) where\n",
    "  show = show . runZipperT\n",
    "  \n",
    "instance Indexable (ListZipperT ListZipper) (Int, Int) where\n",
    "  z ! (x, y) = extract . extract . shift y . runZipperT $ shiftT x z\n",
    "  \n",
    "fromList :: [[a]] -> ZZ a\n",
    "fromList ys = ListZipperT (ListZipper xs 0) where\n",
    "  xs = map (flip ListZipper 0) ys\n",
    "\n",
    "toList :: ZZ a -> [[a]]\n",
    "toList = list . fmap list . runZipperT\n",
    "\n",
    "-- we can do horizontal and vertical indexing seperately without using the Indexable instance\n",
    "index_horizontally :: Comonad w => Int -> ListZipperT w a -> a\n",
    "index_horizontally i = (! i) . extract . runZipperT\n",
    "\n",
    "index_vertically :: ComonadTrans t => Int -> t ListZipper a -> a\n",
    "index_vertically i = (! i) . lower"
   ]
  },
  {
   "cell_type": "markdown",
   "metadata": {},
   "source": [
    "## Conway's Game of Life"
   ]
  },
  {
   "cell_type": "code",
   "execution_count": 187,
   "metadata": {},
   "outputs": [],
   "source": [
    "conway :: ZZ Char -> Char\n",
    "conway zz = case count of\n",
    "  2 -> extract zz\n",
    "  3 -> '#'\n",
    "  _ -> ' '\n",
    "  where\n",
    "  indices :: [(Int, Int)]\n",
    "  indices = [(x, y) | x <- [-1..1], y <- [-1..1], (x, y) /= (0, 0)]\n",
    "  \n",
    "  vals = map (zz !) indices\n",
    "  count = length $ filter (/= ' ') vals\n",
    "  \n",
    "life_step :: ZZ Char -> ZZ Char\n",
    "life_step = extend conway\n",
    "\n",
    "life_animation = iterate life_step"
   ]
  },
  {
   "cell_type": "code",
   "execution_count": null,
   "metadata": {},
   "outputs": [],
   "source": []
  }
 ],
 "metadata": {
  "kernelspec": {
   "display_name": "Haskell",
   "language": "haskell",
   "name": "haskell"
  },
  "language_info": {
   "codemirror_mode": "ihaskell",
   "file_extension": ".hs",
   "name": "haskell",
   "pygments_lexer": "Haskell",
   "version": "8.2.2"
  }
 },
 "nbformat": 4,
 "nbformat_minor": 2
}
