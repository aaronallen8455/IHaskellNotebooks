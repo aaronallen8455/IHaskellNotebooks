{
 "cells": [
  {
   "cell_type": "markdown",
   "metadata": {},
   "source": [
    "# Polyvariadic Functions\n",
    "Let's make a function that builds a list, taking an arbitrary number of arguments."
   ]
  },
  {
   "cell_type": "code",
   "execution_count": 38,
   "metadata": {},
   "outputs": [
    {
     "data": {
      "text/plain": [
       "[1,2,3]"
      ]
     },
     "metadata": {},
     "output_type": "display_data"
    },
    {
     "data": {
      "text/plain": [
       "[False,True,True]"
      ]
     },
     "metadata": {},
     "output_type": "display_data"
    }
   ],
   "source": [
    ":ext FunctionalDependencies\n",
    ":ext MultiParamTypeClasses\n",
    ":ext FlexibleInstances\n",
    ":ext RankNTypes\n",
    ":ext FlexibleContexts\n",
    "\n",
    "import Data.Functor\n",
    "\n",
    "-- there can only be one type a corresponding to a type b\n",
    "class BuildList a r | r -> a where\n",
    "  build' :: [a] -> a -> r\n",
    "  \n",
    "instance BuildList a [a] where\n",
    "  build' xs x = reverse $ x : xs\n",
    "  \n",
    "instance BuildList a r => BuildList a (a -> r) where\n",
    "  build' xs x y = build' (x:xs) y\n",
    "  \n",
    "polyList :: forall a r. BuildList a r => a -> r\n",
    "polyList = build' []\n",
    "\n",
    "polyList 1 2 3 :: [Int]\n",
    "polyList False True True :: [Bool]\n"
   ]
  },
  {
   "cell_type": "code",
   "execution_count": 36,
   "metadata": {},
   "outputs": [],
   "source": [
    "-- :ext TypeFamilies\n",
    ":ext UndecidableInstances\n",
    ":ext InstanceSigs\n",
    "\n",
    "class Variadic a r t | t -> r where\n",
    "  liftVariadic :: ([a] -> r) -> t\n",
    "\n",
    "instance Variadic a r r where\n",
    "  liftVariadic f = f []\n",
    "\n",
    "instance (a ~ a', Variadic a r t) => Variadic a r (a' -> t) where\n",
    "  liftVariadic :: ([a] -> r) -> a -> t\n",
    "  liftVariadic f h = liftVariadic (f . (h:))\n",
    "\n",
    "polyAdd :: Variadic Int Int t => t\n",
    "polyAdd = liftVariadic (sum :: [Int] -> Int)\n",
    "\n",
    "polyWords :: Variadic String String t => t\n",
    "polyWords = liftVariadic unwords\n",
    "\n",
    "polyList :: Variadic a [a] t => t\n",
    "polyList = liftVariadic id"
   ]
  },
  {
   "cell_type": "code",
   "execution_count": 28,
   "metadata": {},
   "outputs": [
    {
     "data": {
      "text/plain": [
       "14"
      ]
     },
     "metadata": {},
     "output_type": "display_data"
    },
    {
     "data": {
      "text/plain": [
       "7"
      ]
     },
     "metadata": {},
     "output_type": "display_data"
    },
    {
     "data": {
      "text/plain": [
       "\"test task\""
      ]
     },
     "metadata": {},
     "output_type": "display_data"
    }
   ],
   "source": [
    "-- build' [1] [2] [3] :: [[Int]]\n",
    "\n",
    "polyAdd 2 3 4 5 :: Int\n",
    "\n",
    "sum . (4:) . (3:) $ []\n",
    "\n",
    "polyWords \"test\" \"task\" :: String"
   ]
  },
  {
   "cell_type": "markdown",
   "metadata": {},
   "source": [
    "String templating example"
   ]
  },
  {
   "cell_type": "code",
   "execution_count": 108,
   "metadata": {},
   "outputs": [
    {
     "data": {
      "text/plain": [
       "\"template test we three test\""
      ]
     },
     "metadata": {},
     "output_type": "display_data"
    },
    {
     "data": {
      "text/plain": [
       "\"Hello Bob, we see that you like computers. Shop our selection of computers today!\""
      ]
     },
     "metadata": {},
     "output_type": "display_data"
    }
   ],
   "source": [
    ":ext MultiParamTypeClasses\n",
    ":ext FunctionalDependencies\n",
    ":ext FlexibleInstances\n",
    ":ext FlexibleContexts\n",
    ":ext UndecidableInstances\n",
    ":ext InstanceSigs\n",
    "\n",
    "import qualified Data.Map as M\n",
    "import Data.Char (isDigit)\n",
    "\n",
    "class Interpolate a r t | t -> r where\n",
    "  interpolate' :: ([a] -> r) -> t\n",
    "  \n",
    "instance Interpolate a r r where\n",
    "  interpolate' f = f []\n",
    "  \n",
    "instance (a ~ a', Interpolate a r t) => Interpolate a r (a' -> t) where\n",
    "  interpolate' f a = interpolate' (f . (a:))\n",
    "\n",
    "interpolate :: (Interpolate String String t) => String -> t\n",
    "interpolate template = interpolate' go where --interpolate' id where\n",
    "  go xs = replace template where\n",
    "    dict = M.fromList $ zip (map show [1..]) xs \n",
    "    \n",
    "    replace [] = []\n",
    "    replace ('$' : xs)\n",
    "      | Just w <- M.lookup key dict = w ++ replace ws'\n",
    "      | otherwise = replace ws'\n",
    "      where\n",
    "        (key, ws') = span isDigit xs\n",
    "    replace (x:xs) = x : replace xs\n",
    "    \n",
    "\n",
    "interpolate \"template $1 $2 $3 $1\" \"test\" \"we\" \"three\" :: String\n",
    "interpolate \"Hello $1, we see that you like $2s. Shop our selection of $2s today!\" \"Bob\" \"computer\" :: String"
   ]
  },
  {
   "cell_type": "code",
   "execution_count": 17,
   "metadata": {},
   "outputs": [
    {
     "data": {
      "text/plain": [
       "\"template test we three test\""
      ]
     },
     "metadata": {},
     "output_type": "display_data"
    },
    {
     "data": {
      "text/plain": [
       "\"Hello Bob, we see that you like computers. Shop our selection of computers today! Save $4! 3.23\""
      ]
     },
     "metadata": {},
     "output_type": "display_data"
    }
   ],
   "source": [
    ":ext MultiParamTypeClasses\n",
    ":ext FunctionalDependencies\n",
    ":ext FlexibleInstances\n",
    ":ext FlexibleContexts\n",
    ":ext UndecidableInstances\n",
    ":ext InstanceSigs\n",
    "\n",
    "import qualified Data.Map as M\n",
    "import Data.Char (isDigit)\n",
    "\n",
    "class Interpolate t where\n",
    "  interpolate' :: ([String] -> String) -> t\n",
    "  \n",
    "instance Interpolate String where\n",
    "  interpolate' f = f []\n",
    "  \n",
    "instance (Interpolate t) => Interpolate (Integer -> t) where\n",
    "  interpolate' f a = interpolate' (f . (show a :))\n",
    "  \n",
    "instance (Interpolate t) => Interpolate (Double -> t) where\n",
    "  interpolate' f a = interpolate' (f . (show a :))\n",
    "  \n",
    "instance (Interpolate t) => Interpolate (String -> t) where\n",
    "  interpolate' f a = interpolate' (f . (a:))\n",
    "\n",
    "\n",
    "\n",
    "interpolate :: (Interpolate t) => String -> t\n",
    "interpolate template = interpolate' go where --interpolate' id where\n",
    "  go xs = replace template where\n",
    "    dict = M.fromList $ zip (map show [1..]) xs \n",
    "    \n",
    "    replace [] = []\n",
    "    replace ('$' : '$' : xs) = '$' : replace xs\n",
    "    replace ('$' : xs)\n",
    "      | Just w <- M.lookup key dict = w ++ replace ws'\n",
    "      | otherwise = replace ws'\n",
    "      where\n",
    "        (key, ws') = span isDigit xs\n",
    "    replace (x:xs) = x : replace xs\n",
    "    \n",
    "\n",
    "interpolate \"template $1 $2 $3 $1\" \"test\" \"we\" \"three\" :: String\n",
    "interpolate \"Hello $1, we see that you like $2s. Shop our selection of $2s today! Save $$4! $3\" \"Bob\" \"computer\" 3.23 :: String"
   ]
  },
  {
   "cell_type": "code",
   "execution_count": null,
   "metadata": {},
   "outputs": [],
   "source": []
  }
 ],
 "metadata": {
  "kernelspec": {
   "display_name": "Haskell",
   "language": "haskell",
   "name": "haskell"
  },
  "language_info": {
   "codemirror_mode": "ihaskell",
   "file_extension": ".hs",
   "name": "haskell",
   "pygments_lexer": "Haskell",
   "version": "8.2.2"
  }
 },
 "nbformat": 4,
 "nbformat_minor": 2
}
