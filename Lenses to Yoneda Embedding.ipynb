{
 "cells": [
  {
   "cell_type": "markdown",
   "metadata": {},
   "source": [
    "# From Lenses to Yoneda Embedding\n",
    "###### (https://bartoszmilewski.com/2015/07/13/from-lenses-to-yoneda-embedding/)\n",
    "### Plain functions\n",
    "The most basic formulation of a lense is just a pair of functions"
   ]
  },
  {
   "cell_type": "code",
   "execution_count": 2,
   "metadata": {},
   "outputs": [],
   "source": [
    "type Get s a = s -> a\n",
    "type Set s a = s -> a -> s"
   ]
  },
  {
   "cell_type": "markdown",
   "metadata": {},
   "source": [
    "We can define of polymorphic set that can change the type of the focused element, resulting in a new type for the containing object"
   ]
  },
  {
   "cell_type": "code",
   "execution_count": 4,
   "metadata": {},
   "outputs": [],
   "source": [
    "type Set s t b = s -> b -> t"
   ]
  },
  {
   "cell_type": "markdown",
   "metadata": {},
   "source": [
    "The lens must obey the following laws:\n",
    "```\n",
    "get . set s = id\n",
    "get (set s a) = s\n",
    "set (set s a) b = set s b\n",
    "```"
   ]
  },
  {
   "cell_type": "markdown",
   "metadata": {},
   "source": [
    "### Algebraic formulation\n",
    "We can write the pair of functions as a single function by pulling the s:"
   ]
  },
  {
   "cell_type": "code",
   "execution_count": 5,
   "metadata": {},
   "outputs": [],
   "source": [
    "type Combined s t a b = s -> (a, b -> t)"
   ]
  },
  {
   "cell_type": "markdown",
   "metadata": {},
   "source": [
    "Going back to the monomorphic formulation, we write it using an ADT"
   ]
  },
  {
   "cell_type": "code",
   "execution_count": 18,
   "metadata": {},
   "outputs": [],
   "source": [
    "data Store a s = Store a (a -> s)\n",
    "type Lens s a = s -> Store a s\n",
    "\n",
    "instance Functor (Store a) where\n",
    "  fmap f (Store a s) = Store a (f . s)"
   ]
  },
  {
   "cell_type": "markdown",
   "metadata": {},
   "source": [
    "We can further represent this a coalgebra"
   ]
  },
  {
   "cell_type": "code",
   "execution_count": 13,
   "metadata": {},
   "outputs": [],
   "source": [
    "type Coalgebra w s = s -> w s\n",
    "type Lens s a = Coalg (Store s) s"
   ]
  },
  {
   "cell_type": "markdown",
   "metadata": {},
   "source": [
    "It's important to note that `Store` is a `Comonad`"
   ]
  },
  {
   "cell_type": "code",
   "execution_count": 14,
   "metadata": {},
   "outputs": [],
   "source": [
    "class Comonad w where\n",
    "  extract :: w a -> a\n",
    "  duplicate :: w a -> w (w a)\n",
    "  \n",
    "instance Comonad (Store a) where\n",
    "  extract (Store a f) = f a\n",
    "  duplicate (Store a f) = Store a (\\b -> Store b f)"
   ]
  },
  {
   "cell_type": "markdown",
   "metadata": {},
   "source": [
    "Let's examine the compatibility of these two types, the Comonad and the Coalgebra"
   ]
  },
  {
   "cell_type": "code",
   "execution_count": 15,
   "metadata": {},
   "outputs": [],
   "source": [
    "coalg :: Coalgebra (Store a) (a, b)\n",
    "coalg (a, b) = Store a (\\a' -> (a', b))"
   ]
  },
  {
   "cell_type": "markdown",
   "metadata": {},
   "source": [
    "Since they go in different directions, they should cancel each other out"
   ]
  },
  {
   "cell_type": "code",
   "execution_count": 16,
   "metadata": {},
   "outputs": [
    {
     "data": {
      "text/plain": [
       "True"
      ]
     },
     "metadata": {},
     "output_type": "display_data"
    }
   ],
   "source": [
    "let tuple = (1, 2)\n",
    "extract (coalg tuple) == tuple"
   ]
  },
  {
   "cell_type": "markdown",
   "metadata": {},
   "source": [
    "Duplicating coalgebra should be the same applying coalgebra twice"
   ]
  },
  {
   "cell_type": "code",
   "execution_count": 20,
   "metadata": {},
   "outputs": [
    {
     "data": {
      "text/plain": [
       "True"
      ]
     },
     "metadata": {},
     "output_type": "display_data"
    }
   ],
   "source": [
    "(extract . extract) (duplicate (coalg tuple)) == (extract . extract) (fmap coalg (coalg tuple))"
   ]
  },
  {
   "cell_type": "markdown",
   "metadata": {},
   "source": [
    "If these two conditions are satisfied, we call `coalg` a comonad coalgebra.\n",
    "When applied to the `Store` comonad, these two conditions are equalivalent to the lens laws from earlier.\n",
    "\n",
    "composing `extract` with `coalg` is the same as doing `set s (get s)`\n",
    "\n",
    "For the other two laws, let's look at what happens when we `fmap` `coalg` onto `coalg`\n",
    "```\n",
    "\\s -> Store (get s) ((\\s' -> Store (get s') (set s')) . set s)\n",
    "```\n",
    "compared to what happens with `duplicate . coalg`\n",
    "```\n",
    "\\s -> Store (get s) (\\y -> Store y (set s))\n",
    "```\n",
    "So we want the second component from the `Store`s to be the same. The first one takes the result of `set s` and passes it to the function, giving us\n",
    "```\n",
    "Store (get (set s a)) (set (set s a))\n",
    "```\n",
    "compare to `Store y (set s)`, this gives us the `get (set s a) = a` and `set (set s a) b = set s b` laws.\n",
    "\n",
    "\n",
    "The Algebraic structure can be modified to have the polymorphic lens behaviour by using the indexed version of `Store` (called `Context` in lens library) and the indexed version of Comonad"
   ]
  },
  {
   "cell_type": "code",
   "execution_count": 24,
   "metadata": {},
   "outputs": [],
   "source": [
    "data IStore a b t = IStore a (b -> t)\n",
    "\n",
    "class IxFunctor f where\n",
    "  imap :: (s -> t) -> f a b s -> f a b t\n",
    "  \n",
    "instance IxFunctor IStore where\n",
    "  imap f (IStore a h) = IStore a (f . h)\n",
    "  \n",
    "class IxComonad w where\n",
    "  iextract :: w a a t -> t\n",
    "  iduplicate :: w a b t -> w a j (w j b t)\n",
    "  \n",
    "instance IxComonad IStore where\n",
    "  iextract (IStore a at) = at a\n",
    "  iduplicate (IStore a bt) = IStore a (\\j -> IStore j bt)\n",
    "  \n",
    "type ICoalg w s t a b = s -> w a b t"
   ]
  },
  {
   "cell_type": "markdown",
   "metadata": {},
   "source": [
    "### Parametric functions\n",
    "This standard representation of lenses are awkward to use because they don't compose well. Van Laarhoven discovered the following formulation"
   ]
  },
  {
   "cell_type": "code",
   "execution_count": 29,
   "metadata": {},
   "outputs": [],
   "source": [
    ":ext RankNTypes\n",
    "type Lens s t a b = forall f. Functor f => (a -> f b) -> (s -> f t)"
   ]
  },
  {
   "cell_type": "markdown",
   "metadata": {},
   "source": [
    "It's a polymorphic function that is polymorphic over a functor type. To see how it's equivalent to the get/set one, start by pulling the `s` out of the forall quantifier"
   ]
  },
  {
   "cell_type": "code",
   "execution_count": 30,
   "metadata": {},
   "outputs": [],
   "source": [
    "type Lens s t a b = s -> (forall f. Functor f => (a -> f b) -> f t)"
   ]
  },
  {
   "cell_type": "markdown",
   "metadata": {},
   "source": [
    "This states that you can provide an s and a function that converts `a` to `b` under any functor and get back a `t` in that functor. Since the function must be polymorphic for any such functor, the only thing we can do with that functor is to use it's `fmap` implementation.\n",
    "\n",
    "the `(a -> f b) -> f t` part implies that we have access to some `a` value in order to get the `f b` and also some function of type `b -> t` to fmap in and produce the final result. These two things are just the contents of the `IStore`, meaning it's equivalent to\n",
    "```\n",
    "\\s -> IStore a b t\n",
    "```\n",
    "The choice of functors, `Const` for getting and `Identity` for setting, is how we recover the get/set from the Van Laarhoven construction.\n",
    "\n",
    "The beauty of the Van Laarhoven representation is that it composes very nicely; It's a function that takes a function and returns a function - the returned function of one lens becomes the input function of the next so that they nest inside one another. `Lens s t a b` nests into `Lens x y s t`, etc.\n",
    "\n",
    "### Categorical picture\n",
    "There's a way to derive Van Laarhoven lenses using the Yoneda embedding, which embeds any category in the category of functors from that category to Set.\n",
    "```\n",
    "forall x. a -> C(a, x)\n",
    "```\n",
    "This is mapping from objects in `C` to functors which themselves are objects in the functor category.\n",
    "\n",
    "So given an object `a` in category `C`, we have a functor from `C` to Set, specifically the hom-sets where `a` is the source object.\n",
    "\n",
    "Since we have a mapping between objects in two different categories (`C` and the category of Functors) we should check if this mapping is itself a Functor, i.e. what is it's action on morphisms. A morphism in C is just an element of `C(a, b)` while a morhism in `[C, Set]` is a natural transformation, so we are looking for a mapping from morphisms to natural transformations. For this, we can use the Yoneda lemma\n",
    "```\n",
    "[C, Set](C(a, -), F) = F a\n",
    "```\n",
    "replacing the generic F with `C(b, -)`, we get\n",
    "```\n",
    "[C, Set](C(a, -), C(b, -)) = C(b, a)\n",
    "```\n",
    "The morphism C(b, a) is reverse because this is a contravariant functor.\n",
    "\n",
    "We can look at this result as saying that in order to have a natural transformation between the two hom-functors `C(a, -)` and `C(b, -)`, we must have access to a morphism from `C(b, a)` that we can pre-compose with the `C(a, x)` morphism from the first hom-set, thus producing a `C(b, x)`. Any category can be embedded in the category of Functors in this way, and the underlying mapping is a fully faithful Functor from `C` to `[C, Set]`.\n",
    "\n",
    "An interesting effect of this is that a Functor category can itself be embedded in the category of functors from that functor category to Set.\n",
    "\n",
    "We can show this by fixing a Functor `R` in the hom-set to some arbitrary functor `f` which is a set of natural transformations between two functors, `Nat(R, f)`. We know that this mapping is itself a functor, this time a functor from a functor category to Set.\n",
    "```\n",
    "Nat(Nat(R, f), Nat(S, f)) = Nat(S, R)\n",
    "```\n",
    "Theory: This recursive application of the yoneda embedding is reminiscent of the nesting that we saw with Van Laarhoven lenses.\n",
    "\n",
    "The outer natural transformation above is interesting in that it is a family of natural transformations paramterized by functors, whereas a normal natural transformation is a family of morphisms parameterized by objects.\n",
    "\n",
    "We gain some intuition, we can translate these natural transformations to Haskell representations.\n",
    "```\n",
    "forall x. R x -> f x\n",
    "forall y. S y -> f y\n",
    "```\n",
    "These are families of functions (morphisms) paramterized by a type (object). The outer natural transformation is paramterized by a Functor:\n",
    "```\n",
    "forall f. Functor f => (forall x. R x -> f x) -> (forall y. S y -> f y)\n",
    "```\n",
    "We can already see a similarity to Van Laarhoven lenses: the quantification over a functor.\n",
    "\n",
    "The right hand side of this yoneda embedding is a natural transformation `forall z. S z -> R z`. The next step is to determine which functors to use for S and R - let's have R be `IStore a b` and S be `IStore s t`. Let's look at the first part of the left side:\n",
    "```\n",
    "forall x. IStore a b x -> f x\n",
    "```\n",
    "a function from a IStore is equivalent to a function from it's two component parts:\n",
    "```\n",
    "forall x. a -> (b -> x) -> f x\n",
    "```\n",
    "we can pull the a out of the forall quantifier to get\n",
    "```\n",
    "a -> (forall x. (b -> x) -> f x)\n",
    "```\n",
    "The thing in the parenthesis is a natural transformation from a hom-functor to some other functor, so let's use the yoneda lemma to see that `(b -> x) -> f x` is equivalent to `f b`.\n",
    "```\n",
    "a -> f b\n",
    "```\n",
    "That's the first part of the Van Laarhoven! Similarly, the right part can be translated from\n",
    "```\n",
    "forall y. IStore s t y -> f y\n",
    "```\n",
    "to\n",
    "```\n",
    "s -> f t\n",
    "```\n",
    "taken together we have\n",
    "```\n",
    "forall f. Functor f => (a -> f b) -> (s -> f t) = forall z. IStore s t z -> IStore a b z\n",
    "```\n",
    "now let's apply these same methods to the right hand side:\n",
    "```\n",
    "forall z. s -> (t -> z) -> IStore a b z\n",
    "\n",
    "s -> (forall z. (t -> z) -> IStore a b z)\n",
    "\n",
    "s -> IStore a b t\n",
    "```\n",
    "Thus we have arrived at the standard representation of a lens."
   ]
  },
  {
   "cell_type": "code",
   "execution_count": null,
   "metadata": {},
   "outputs": [],
   "source": []
  }
 ],
 "metadata": {
  "kernelspec": {
   "display_name": "Haskell",
   "language": "haskell",
   "name": "haskell"
  },
  "language_info": {
   "codemirror_mode": "ihaskell",
   "file_extension": ".hs",
   "name": "haskell",
   "pygments_lexer": "Haskell",
   "version": "8.6.3"
  }
 },
 "nbformat": 4,
 "nbformat_minor": 2
}
