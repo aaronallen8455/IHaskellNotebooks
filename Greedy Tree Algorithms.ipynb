{
 "cells": [
  {
   "cell_type": "markdown",
   "metadata": {},
   "source": [
    "# Greedy Algorithms on Trees\n",
    "###### (Algorithm Design with Haskell)\n",
    "\n",
    "Given a binary tree, we have a linear time alorithm for producing a tree a minimum height. This is using the bottom-up method."
   ]
  },
  {
   "cell_type": "code",
   "execution_count": 5,
   "metadata": {},
   "outputs": [],
   "source": [
    "data Tree a = Leaf a | Node (Tree a) (Tree a) deriving Show\n",
    "\n",
    "mkTree :: [a] -> Tree a\n",
    "mkTree = unwrap . until single (pairWith Node) . map Leaf where\n",
    "  single [_] = True\n",
    "  single _ = False\n",
    "  \n",
    "  pairWith f (x:y:xs) = f x y : pairWith f xs\n",
    "  pairWith _ xs = xs\n",
    "  \n",
    "  unwrap [x] = x"
   ]
  },
  {
   "cell_type": "markdown",
   "metadata": {},
   "source": [
    "Now we want to produce a tree of natural numbers with minimum cost where cost is defined as"
   ]
  },
  {
   "cell_type": "code",
   "execution_count": 6,
   "metadata": {},
   "outputs": [],
   "source": [
    "cost :: Tree Int -> Int\n",
    "cost (Leaf x) = x\n",
    "cost (Node t1 t2) = 1 + max (cost t1) (cost t2)"
   ]
  },
  {
   "cell_type": "markdown",
   "metadata": {},
   "source": [
    "The fringe of the tree should be the input list. We can use a greedy algorithm to do this. We start with a specification which is defined using a refinement MinWith rather than an equality\n",
    "```\n",
    "mct :: [Int] -> Tree Int\n",
    "mct xs <- MinWith cost (mkTrees xs)\n",
    "```"
   ]
  },
  {
   "cell_type": "markdown",
   "metadata": {},
   "source": [
    "`mkTrees` can be defined in several different ways - it returns all possible ways to form a tree with the given fringe."
   ]
  },
  {
   "cell_type": "code",
   "execution_count": 11,
   "metadata": {},
   "outputs": [],
   "source": [
    "mkTrees :: [a] -> [Tree a]\n",
    "mkTrees [x] = [Leaf x]\n",
    "mkTrees (x:xs) = concatMap (extend x) $ mkTrees xs\n",
    "\n",
    "extend :: a -> Tree a -> [Tree a]\n",
    "extend x (Leaf y) = [Node (Leaf x) (Leaf y)]\n",
    "extend x (Node t1 t2) =\n",
    "  Node (Leaf x) (Node t1 t2)\n",
    "  : [ Node t t2\n",
    "    | t <- extend x t1\n",
    "    ]"
   ]
  },
  {
   "cell_type": "markdown",
   "metadata": {},
   "source": [
    "We can also use a specialized fold function which works over non-empty lists to define `mkTrees` as"
   ]
  },
  {
   "cell_type": "code",
   "execution_count": 21,
   "metadata": {},
   "outputs": [],
   "source": [
    "foldrn :: (a -> b -> b) -> (a -> b) -> [a] -> b\n",
    "foldrn f g [x] = g x\n",
    "foldrn f g (x : xs) = f x $ foldrn f g xs\n",
    "\n",
    "mkTrees :: [a] -> [Tree a]\n",
    "mkTrees = foldrn (concatMap . extend) (pure . Leaf)"
   ]
  },
  {
   "cell_type": "markdown",
   "metadata": {},
   "source": [
    "A second inductive approach to building trees is by starting with a forest and rolling it up"
   ]
  },
  {
   "cell_type": "code",
   "execution_count": 22,
   "metadata": {},
   "outputs": [],
   "source": [
    "rollup :: [Tree a] -> Tree a\n",
    "rollup = foldl1 Node\n",
    "\n",
    "-- and it's dual\n",
    "spine :: Tree a -> [Tree a]\n",
    "spine (Leaf x) = [Leaf x]\n",
    "spine (Node u v) = spine u ++ [v]\n",
    "\n",
    "mkTrees :: [a] -> [Tree a]\n",
    "mkTrees = map rollup . mkForests\n",
    "\n",
    "mkForests :: [a] -> [[Tree a]]\n",
    "mkForests = foldrn (concatMap . extend) (pure . pure . Leaf) where\n",
    "  extend x ts = [Leaf x : rollup us : vs\n",
    "                | k <- [1..length ts], let (us, vs) = splitAt k ts\n",
    "                ]"
   ]
  },
  {
   "cell_type": "markdown",
   "metadata": {},
   "source": [
    "Returning to the version of `mkTrees` that is expressed as an instance of `foldrn`, we can use the fusion law of `foldrn` to fuse the two components. The law states that\n",
    "```\n",
    "foldrn f2 g2 xs <- M (foldrn f1 g1 xs)\n",
    "```\n",
    "for all finite, nonempty lists xs, provided\n",
    "```\n",
    "g2 x <- M (g1 x)\n",
    "f2 x (M (foldrn f1 g1 xs)) <- M (f1 x (foldrn f1 g1 xs))\n",
    "```\n",
    "For our purposes, `M = MinWith cost`, `f1 = concatMap extend`, `g1 = pure . Leaf`.\n",
    "\n",
    "Since `Leaf x = MinWith cost [Leaf x]`, we have that `g2 = Leaf`.\n",
    "\n",
    "For the second fusion condition we need a function `gstep` that satisfies\n",
    "```\n",
    "gstep x (MinWith cost (foldrn (concatMap extend) (pure . Leaf))\n",
    "  <- MinWith cost (concatMap (extend x) (mkTrees xs))\n",
    "```\n",
    "This condition is satisfied if we can show that the monotonicity condition holds\n",
    "```\n",
    "cost t <= cost t' => cost (gstep x t) <= cost (gstep x t')\n",
    "```\n",
    "but this function doesn't exist. The way forward is to change our cost function so that it uses lexical ordering."
   ]
  },
  {
   "cell_type": "code",
   "execution_count": 23,
   "metadata": {},
   "outputs": [],
   "source": [
    "lcost :: Tree Int -> [Int]\n",
    "lcost = reverse . scanl1 op . map cost . spine\n",
    "  where\n",
    "    op x y = 1 + (max x y)"
   ]
  },
  {
   "cell_type": "markdown",
   "metadata": {},
   "source": [
    "With this, we can specify a gstep that can satisfy the monotonicty condition\n",
    "```\n",
    "gstep x ts <- MinWith lcost (extend x ts)\n",
    "```"
   ]
  },
  {
   "cell_type": "code",
   "execution_count": 26,
   "metadata": {},
   "outputs": [],
   "source": [
    "gstep :: Int -> Tree Int -> Tree Int\n",
    "gstep x = rollup . add x . spine\n",
    "\n",
    "add :: Int -> [Tree Int] -> [Tree Int]\n",
    "add x ts = Leaf x : join x ts\n",
    "  where\n",
    "    join x [u] = [u]\n",
    "    join x (u:v:ts)\n",
    "      | x `max` cost u < cost v\n",
    "      = u:v:ts\n",
    "      | otherwise\n",
    "      = join x (Node u v : ts)"
   ]
  },
  {
   "cell_type": "markdown",
   "metadata": {},
   "source": [
    "However instead of building the spine at each step and then rolling it up, we can roll up the forest at the end of the computation. For this we need `hstep` and `g` for which\n",
    "```\n",
    "foldrn gstep Leaf = rollup . foldrn hstep g\n",
    "```\n",
    "We arrive at these definition by applying to the fusion law of `foldrn`, this time in the fission direction."
   ]
  },
  {
   "cell_type": "code",
   "execution_count": 27,
   "metadata": {},
   "outputs": [],
   "source": [
    "g :: a -> [Tree a]\n",
    "g = pure . Leaf\n",
    "\n",
    "hstep = add"
   ]
  },
  {
   "cell_type": "markdown",
   "metadata": {},
   "source": [
    "We can now produce the final algorithm, which uses tupling to avoid repeated calls to `cost`"
   ]
  },
  {
   "cell_type": "code",
   "execution_count": 35,
   "metadata": {},
   "outputs": [],
   "source": [
    "type Pair = (Tree Int, Int)\n",
    "\n",
    "join :: Int -> [Pair] -> [Pair]\n",
    "join x [u] = [u]\n",
    "join x (u:v:ts)\n",
    "  | x `max` snd u < snd v\n",
    "  = u:v:ts\n",
    "  | otherwise\n",
    "  = join x (node u v : ts)\n",
    "\n",
    "hstep :: Int -> [Pair] -> [Pair]\n",
    "hstep x ts = leaf x : join x ts\n",
    "\n",
    "leaf :: Int -> Pair\n",
    "leaf x = (Leaf x, x)\n",
    "\n",
    "node :: Pair -> Pair -> Pair\n",
    "node (t1, c1) (t2, c2) = (Node t1 t2, 1 + max c1 c2)\n",
    "\n",
    "mct :: [Int] -> Tree Int\n",
    "mct = rollup . map fst . foldrn hstep (pure . leaf)"
   ]
  },
  {
   "cell_type": "code",
   "execution_count": null,
   "metadata": {},
   "outputs": [],
   "source": []
  }
 ],
 "metadata": {
  "kernelspec": {
   "display_name": "Haskell",
   "language": "haskell",
   "name": "haskell"
  },
  "language_info": {
   "codemirror_mode": "ihaskell",
   "file_extension": ".hs",
   "name": "haskell",
   "pygments_lexer": "Haskell",
   "version": "8.6.3"
  }
 },
 "nbformat": 4,
 "nbformat_minor": 2
}
