{
 "cells": [
  {
   "cell_type": "code",
   "execution_count": 12,
   "metadata": {},
   "outputs": [
    {
     "data": {
      "text/plain": [
       "5"
      ]
     },
     "metadata": {},
     "output_type": "display_data"
    }
   ],
   "source": [
    ":ext TypeFamilies\n",
    ":ext DeriveFunctor\n",
    "\n",
    "class Functor f => Representable f where\n",
    "  type Rep f :: *\n",
    "  tabulate :: (Rep f -> a) -> f a\n",
    "  index :: f a -> (Rep f -> a)\n",
    "  \n",
    "instance Representable ((->) e) where\n",
    "  type Rep ((->) e) = e\n",
    "  tabulate = id\n",
    "  index = id\n",
    "  \n",
    "data Bin a = Bin a a deriving Functor\n",
    "\n",
    "instance Representable Bin where\n",
    "  type Rep Bin = Bool\n",
    "  tabulate f = Bin (f False) (f True)\n",
    "  index (Bin a _) False = a\n",
    "  index (Bin _ b) True = b\n",
    "  \n",
    "index (Bin 4 5) True\n",
    "  \n",
    "-- NOT instance Representable (Either a)"
   ]
  },
  {
   "cell_type": "code",
   "execution_count": null,
   "metadata": {},
   "outputs": [],
   "source": []
  }
 ],
 "metadata": {
  "kernelspec": {
   "display_name": "Haskell",
   "language": "haskell",
   "name": "haskell"
  },
  "language_info": {
   "codemirror_mode": "ihaskell",
   "file_extension": ".hs",
   "name": "haskell",
   "pygments_lexer": "Haskell",
   "version": "8.6.3"
  }
 },
 "nbformat": 4,
 "nbformat_minor": 2
}
