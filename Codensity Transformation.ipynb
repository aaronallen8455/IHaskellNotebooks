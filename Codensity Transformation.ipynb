{
 "cells": [
  {
   "cell_type": "markdown",
   "metadata": {},
   "source": [
    "# Codensity Transformation\n",
    "###### (https://www.janis-voigtlaender.eu/papers/AsymptoticImprovementOfComputationsOverFreeMonads.pdf)\n",
    "\n",
    "The codensity monad the right kan extension of a functor over itself:"
   ]
  },
  {
   "cell_type": "code",
   "execution_count": 80,
   "metadata": {},
   "outputs": [],
   "source": [
    ":ext RankNTypes\n",
    ":ext DeriveFunctor\n",
    "newtype Codensity f a = Codensity { runCodensity :: forall b. (a -> f b) -> f b } deriving Functor"
   ]
  },
  {
   "cell_type": "markdown",
   "metadata": {},
   "source": [
    "This is useful for optimizing the binding operation of a Monad in a similiar fashion to how Difference Lists optimize the repeated concatenation of Lists."
   ]
  },
  {
   "cell_type": "code",
   "execution_count": 32,
   "metadata": {},
   "outputs": [],
   "source": [
    "newtype DList a = DList { runDList :: [a] -> [a] }\n",
    "\n",
    "fromList :: [a] -> DList a\n",
    "fromList = DList . (++)\n",
    "\n",
    "toList :: DList a -> [a]\n",
    "toList = ($ []) . runDList\n",
    "\n",
    "instance Semigroup (DList a) where\n",
    "  DList a <> DList b = DList (a . b)\n",
    "  \n",
    "-- (((x ++ x) ++ x) ++ x) ++ x is bad!\n",
    "-- x ++ (x ++ (x ++ (x ++ x))) is good!"
   ]
  },
  {
   "cell_type": "markdown",
   "metadata": {},
   "source": [
    "To see how the optimization works we can look at how Monad can be implemented for a Binary Tree. Know that `subst`, an implementation of monadic bind, replaces the leaves of the tree by grafting in a new tree produced from the contained value - classic algebraic monad."
   ]
  },
  {
   "cell_type": "code",
   "execution_count": 23,
   "metadata": {},
   "outputs": [],
   "source": [
    ":ext DeriveFunctor\n",
    "data Tree a = Leaf a | Node (Tree a) (Tree a) deriving (Eq, Show, Functor)\n",
    "\n",
    "subst :: Tree a -> (a -> Tree b) -> Tree b\n",
    "subst (Leaf a) f = f a\n",
    "subst (Node a b) f = Node (subst a f) (subst b f)\n",
    "\n",
    "instance Applicative Tree where\n",
    "  pure a = Leaf a\n",
    "  Leaf f <*> Leaf a = Leaf $ f a\n",
    "  Node fa fb <*> Leaf a = Node (fa <*> Leaf a) (fb <*> Leaf a)\n",
    "  Leaf f <*> Node a b = Node (f <$> a) (f <$> b)\n",
    "  Node fa fb <*> Node a b = Node (fa <*> Node a b) (fb <*> Node a b)\n",
    "  \n",
    "instance Monad Tree where\n",
    "  (>>=) = subst"
   ]
  },
  {
   "cell_type": "markdown",
   "metadata": {},
   "source": [
    "Now given a function such as"
   ]
  },
  {
   "cell_type": "code",
   "execution_count": 26,
   "metadata": {},
   "outputs": [],
   "source": [
    "fullTree :: Int -> Tree Int\n",
    "fullTree 1 = Leaf 1\n",
    "fullTree n = do\n",
    "  i <- fullTree (n - 1)\n",
    "  Node (Leaf $ n - 1 - i) (Leaf $ i + 1)"
   ]
  },
  {
   "cell_type": "markdown",
   "metadata": {},
   "source": [
    "Under the Monad instance the second equation unfolds to"
   ]
  },
  {
   "cell_type": "code",
   "execution_count": 31,
   "metadata": {},
   "outputs": [],
   "source": [
    "fullTree' n = subst (fullTree' $ n - 1) (\\i -> Node (Leaf $ n - 1 - i) (Leaf $ i + 1))"
   ]
  },
  {
   "cell_type": "markdown",
   "metadata": {},
   "source": [
    "And so `fullTree 4` ends up looking like `subst (subst (subst (subst (Leaf 1) ..) ..) ..) ..`\n",
    "\n",
    "Recall that `subst` calls itself recursively until it reaches the leaves and so the execution flow here will be that each `subst` traverses the entire structure produced by the `subst` inside of it - so the prefix fragments of the overall tree structure will be traversed again and again. The generalized runtime complexity of this is 2^n which is to be expected since that is the order of the binary tree structure.\n",
    "\n",
    "However, if we instead write a function that only traces a linear path through the tree, we get quadratic complexity"
   ]
  },
  {
   "cell_type": "code",
   "execution_count": 35,
   "metadata": {},
   "outputs": [
    {
     "data": {
      "text/plain": [
       "2"
      ]
     },
     "metadata": {},
     "output_type": "display_data"
    }
   ],
   "source": [
    "zigZag :: Tree Int -> Int\n",
    "zigZag = zig where\n",
    "  zig (Leaf n) = n\n",
    "  zig (Node t _) = zag t\n",
    "  zag (Leaf n) = n\n",
    "  zag (Node _ t) = zig t\n",
    "  \n",
    "zigZag (fullTree 4)"
   ]
  },
  {
   "cell_type": "code",
   "execution_count": 48,
   "metadata": {},
   "outputs": [
    {
     "data": {
      "text/plain": [
       "Node (Node (Node (Leaf 1) (Leaf 3)) (Node (Leaf 2) (Leaf 2))) (Node (Node (Leaf 3) (Leaf 1)) (Node (Leaf 0) (Leaf 4)))"
      ]
     },
     "metadata": {},
     "output_type": "display_data"
    }
   ],
   "source": [
    "fullTree 4"
   ]
  },
  {
   "cell_type": "markdown",
   "metadata": {},
   "source": [
    "Like how DList abstracts over the end of the list, we can make a representation of Tree that abstracts over the leaves."
   ]
  },
  {
   "cell_type": "code",
   "execution_count": 69,
   "metadata": {},
   "outputs": [
    {
     "data": {
      "text/plain": [
       "2"
      ]
     },
     "metadata": {},
     "output_type": "display_data"
    }
   ],
   "source": [
    "import Control.Monad (ap)\n",
    "\n",
    "newtype CTree a = CTree { runCTree :: forall b. (a -> Tree b) -> Tree b } deriving Functor\n",
    "\n",
    "rep :: Tree a -> CTree a\n",
    "rep t = CTree (subst t)\n",
    "\n",
    "abst :: CTree a -> Tree a\n",
    "abst (CTree f) = f Leaf\n",
    "\n",
    "instance Applicative CTree where\n",
    " pure a = CTree $ \\h -> h a\n",
    " (<*>) = ap\n",
    "\n",
    "instance Monad CTree where\n",
    "  CTree p >>= f = CTree $ \\h -> p $ \\a -> runCTree (f a) h\n",
    "  \n",
    "-- Allow abstracting over the two Tree representations\n",
    "class Monad t => TreeLike t where\n",
    "  node :: t a -> t a -> t a\n",
    "  \n",
    "instance TreeLike Tree where\n",
    "  node = Node\n",
    "  \n",
    "instance TreeLike CTree where\n",
    "  node (CTree a) (CTree b) = CTree $ \\h -> Node (a h) (b h)\n",
    "  \n",
    "leaf :: TreeLike t => a -> t a\n",
    "leaf = pure\n",
    "\n",
    "fullTree' :: TreeLike t => Int -> t Int\n",
    "fullTree' 1 = leaf 1\n",
    "fullTree' n = do\n",
    "  i <- fullTree' (n - 1)\n",
    "  node (leaf $ n - 1 - i) (leaf $ i + 1)\n",
    "  \n",
    "-- We use this function to switch to the asymptotically more efficient version\n",
    "improve :: (forall t. TreeLike t => t a) -> Tree a\n",
    "improve = abst\n",
    "\n",
    "zigZag (improve (fullTree' 4))"
   ]
  },
  {
   "cell_type": "markdown",
   "metadata": {},
   "source": [
    "`zigZag (improve (fullTree' 4))` has linear execution time rather than quadratic. This is because instead of consuming a tree and rebuilding a bigger tree at each step, we are instead building up a function to a tree from a given input which we then call with `1` when the base case is reached.\n",
    "\n",
    "Now we can introduce the more general version of this method using the FreeMonad"
   ]
  },
  {
   "cell_type": "code",
   "execution_count": 76,
   "metadata": {},
   "outputs": [],
   "source": [
    "data Free f a = Return a | Wrap (f (Free f a)) deriving Functor\n",
    "\n",
    "instance Functor f => Applicative (Free f) where\n",
    "  pure = Return\n",
    "  (<*>) = ap\n",
    "\n",
    "instance Functor f => Monad (Free f) where\n",
    "  Return a >>= f = f a\n",
    "  Wrap fa >>= f = Wrap $ (>>= f) <$> fa"
   ]
  },
  {
   "cell_type": "markdown",
   "metadata": {},
   "source": [
    "What was abstraction over the leaves in the previous section is now abstraction over the Return value of the Free monad."
   ]
  },
  {
   "cell_type": "code",
   "execution_count": 91,
   "metadata": {},
   "outputs": [],
   "source": [
    ":ext MultiParamTypeClasses\n",
    ":ext FlexibleInstances\n",
    "\n",
    "rep :: Monad m => m a -> Codensity m a\n",
    "rep m = Codensity (m >>=)\n",
    "\n",
    "abst :: Monad m => Codensity m a -> m a\n",
    "abst = (`runCodensity` pure)\n",
    "\n",
    "instance Applicative (Codensity f) where\n",
    "  pure a = Codensity $ \\h -> h a\n",
    "  (<*>) = ap\n",
    "  \n",
    "instance Monad (Codensity f) where\n",
    "  Codensity p >>= f = Codensity $ \\h -> p $ \\a -> runCodensity (f a) h\n",
    "  \n",
    "-- We need support for constructing the non-return values in both `Free f` and `Codensity (Free f)`\n",
    "class (Functor f, Monad m) => FreeLike f m where\n",
    "  wrap :: f (m a) -> m a\n",
    "  \n",
    "instance Functor f => FreeLike f (Free f) where\n",
    "  wrap = Wrap\n",
    "\n",
    "instance FreeLike f m => FreeLike f (Codensity m) where\n",
    "  wrap t = Codensity $ \\h -> wrap $ fmap (($ h) . runCodensity) t\n",
    "  \n",
    "-- Our new magic function\n",
    "improve :: Functor f => (forall m. FreeLike f m => m a) -> Free f a\n",
    "improve = abst"
   ]
  },
  {
   "cell_type": "markdown",
   "metadata": {},
   "source": [
    "Now we can more generally represent our Tree example above as `CTree = Codensity (Free Pair)` and `FreeLike Pair = TreeLike`."
   ]
  },
  {
   "cell_type": "code",
   "execution_count": null,
   "metadata": {},
   "outputs": [],
   "source": []
  }
 ],
 "metadata": {
  "kernelspec": {
   "display_name": "Haskell",
   "language": "haskell",
   "name": "haskell"
  },
  "language_info": {
   "codemirror_mode": "ihaskell",
   "file_extension": ".hs",
   "name": "haskell",
   "pygments_lexer": "Haskell",
   "version": "8.6.3"
  }
 },
 "nbformat": 4,
 "nbformat_minor": 2
}
